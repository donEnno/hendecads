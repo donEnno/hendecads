{
 "cells": [
  {
   "cell_type": "code",
   "execution_count": 2,
   "metadata": {},
   "outputs": [],
   "source": [
    "import numpy as np\n",
    "import pandas as pd \n",
    "\n",
    "import re\n",
    "\n",
    "import matplotlib.pyplot as plt\n",
    "from matplotlib.patches import Patch\n",
    "\n",
    "import seaborn as sns"
   ]
  },
  {
   "cell_type": "code",
   "execution_count": 3,
   "metadata": {},
   "outputs": [
    {
     "data": {
      "text/html": [
       "<div>\n",
       "<style scoped>\n",
       "    .dataframe tbody tr th:only-of-type {\n",
       "        vertical-align: middle;\n",
       "    }\n",
       "\n",
       "    .dataframe tbody tr th {\n",
       "        vertical-align: top;\n",
       "    }\n",
       "\n",
       "    .dataframe thead th {\n",
       "        text-align: right;\n",
       "    }\n",
       "</style>\n",
       "<table border=\"1\" class=\"dataframe\">\n",
       "  <thead>\n",
       "    <tr style=\"text-align: right;\">\n",
       "      <th></th>\n",
       "      <th>Unnamed: 0</th>\n",
       "      <th>id</th>\n",
       "      <th>seq</th>\n",
       "      <th>stretch_ix</th>\n",
       "      <th>stretch_seq</th>\n",
       "      <th>avg_cc</th>\n",
       "      <th>group_id</th>\n",
       "    </tr>\n",
       "  </thead>\n",
       "  <tbody>\n",
       "    <tr>\n",
       "      <th>0</th>\n",
       "      <td>0</td>\n",
       "      <td>MCD6041253.1</td>\n",
       "      <td>Mrlvyvavaailcsfsttslagaektakragkfvektatragkfve...</td>\n",
       "      <td>[1, 71]</td>\n",
       "      <td>rlvyvavaailcsfsttslagaektakragkfvektatragkfver...</td>\n",
       "      <td>0.001041</td>\n",
       "      <td>unassigned</td>\n",
       "    </tr>\n",
       "    <tr>\n",
       "      <th>1</th>\n",
       "      <td>1</td>\n",
       "      <td>MCD7737945.1</td>\n",
       "      <td>MQGRVFFREAAALILAAALSMAGLPASAAANSGIEAAALRTeeete...</td>\n",
       "      <td>[41, 238]</td>\n",
       "      <td>eeetepstkeavqetavetdtgekpesgedgqeesaesteeeqeed...</td>\n",
       "      <td>0.000364</td>\n",
       "      <td>unassigned</td>\n",
       "    </tr>\n",
       "    <tr>\n",
       "      <th>2</th>\n",
       "      <td>2</td>\n",
       "      <td>MYF28459.1</td>\n",
       "      <td>Merlqtdllkeihalrgemhaefasvrqemhagfasirqemhaeta...</td>\n",
       "      <td>[1, 73]</td>\n",
       "      <td>erlqtdllkeihalrgemhaefasvrqemhagfasirqemhaetas...</td>\n",
       "      <td>0.001002</td>\n",
       "      <td>unassigned</td>\n",
       "    </tr>\n",
       "    <tr>\n",
       "      <th>3</th>\n",
       "      <td>3</td>\n",
       "      <td>WP_168920948.1</td>\n",
       "      <td>MSDVFLTASYADREKVKTLGARWNPAEKRWYVPSGRDLSPFAAWLP...</td>\n",
       "      <td>[437, 540]</td>\n",
       "      <td>aqslvveikhaasqqlllarhvvparmaevtaegrqalrtakaqsq...</td>\n",
       "      <td>0.000689</td>\n",
       "      <td>group_42</td>\n",
       "    </tr>\n",
       "    <tr>\n",
       "      <th>4</th>\n",
       "      <td>4</td>\n",
       "      <td>WP_026306873.1</td>\n",
       "      <td>MLLRRIARPLLSAAFIAEGIDILQNPGPLADRLSPALDFTRRRSQH...</td>\n",
       "      <td>[172, 342]</td>\n",
       "      <td>slgwrgrraardakdhaealaataaaiaatarergtnlvdtarert...</td>\n",
       "      <td>0.000424</td>\n",
       "      <td>group_38</td>\n",
       "    </tr>\n",
       "    <tr>\n",
       "      <th>...</th>\n",
       "      <td>...</td>\n",
       "      <td>...</td>\n",
       "      <td>...</td>\n",
       "      <td>...</td>\n",
       "      <td>...</td>\n",
       "      <td>...</td>\n",
       "      <td>...</td>\n",
       "    </tr>\n",
       "    <tr>\n",
       "      <th>40585</th>\n",
       "      <td>40585</td>\n",
       "      <td>XP_034013580.1</td>\n",
       "      <td>MKLNWLLGILPIVAANFDDWSKADLTQFLEDRNVTVQKGDDLVQLA...</td>\n",
       "      <td>[667, 798]</td>\n",
       "      <td>kdakksgesfaslasksgawyadafysvasesgesaasqalqtgqk...</td>\n",
       "      <td>0.000553</td>\n",
       "      <td>group_106</td>\n",
       "    </tr>\n",
       "    <tr>\n",
       "      <th>40586</th>\n",
       "      <td>40586</td>\n",
       "      <td>GFR06050.1</td>\n",
       "      <td>MSDVYMDDLLTGADDLESGRKLQEQLVSLLRGAGMELHKWSASNPL...</td>\n",
       "      <td>[578, 680]</td>\n",
       "      <td>eqrsiseeyekirdyfkdlkiklrekftrfgqwvkgkyergleksk...</td>\n",
       "      <td>0.000696</td>\n",
       "      <td>group_9</td>\n",
       "    </tr>\n",
       "    <tr>\n",
       "      <th>40587</th>\n",
       "      <td>40587</td>\n",
       "      <td>KAG2190414.1</td>\n",
       "      <td>MSSSILRASIRRNATIANKRFYSAPPPPPYAPNNQGGGNGGLFLGL...</td>\n",
       "      <td>[65, 170]</td>\n",
       "      <td>gtltkqgevvdqkiqegkqavrdkadeakakyeqskseagqavdqk...</td>\n",
       "      <td>0.000676</td>\n",
       "      <td>unassigned</td>\n",
       "    </tr>\n",
       "    <tr>\n",
       "      <th>40588</th>\n",
       "      <td>40588</td>\n",
       "      <td>MBY0528383.1</td>\n",
       "      <td>MRVYCSLLASLLTCATIASQPPPLVFNGGTNSLAPRRILAAEKQET...</td>\n",
       "      <td>[734, 833]</td>\n",
       "      <td>isaltndknrmvrknavdslgffpwdakaivpllvallsdkdsdla...</td>\n",
       "      <td>0.000714</td>\n",
       "      <td>group_1_1</td>\n",
       "    </tr>\n",
       "    <tr>\n",
       "      <th>40589</th>\n",
       "      <td>40589</td>\n",
       "      <td>MBR5231210.1</td>\n",
       "      <td>MAELKVFSVISSISSMLREGRAVPLSGLVMVNKQRMEQLLDELESS...</td>\n",
       "      <td>[55, 154]</td>\n",
       "      <td>kllsrerellqriddqrievetkaateartmvdeankaaqktrlta...</td>\n",
       "      <td>0.000726</td>\n",
       "      <td>unassigned</td>\n",
       "    </tr>\n",
       "  </tbody>\n",
       "</table>\n",
       "<p>40590 rows × 7 columns</p>\n",
       "</div>"
      ],
      "text/plain": [
       "       Unnamed: 0              id  \\\n",
       "0               0    MCD6041253.1   \n",
       "1               1    MCD7737945.1   \n",
       "2               2      MYF28459.1   \n",
       "3               3  WP_168920948.1   \n",
       "4               4  WP_026306873.1   \n",
       "...           ...             ...   \n",
       "40585       40585  XP_034013580.1   \n",
       "40586       40586      GFR06050.1   \n",
       "40587       40587    KAG2190414.1   \n",
       "40588       40588    MBY0528383.1   \n",
       "40589       40589    MBR5231210.1   \n",
       "\n",
       "                                                     seq  stretch_ix  \\\n",
       "0      Mrlvyvavaailcsfsttslagaektakragkfvektatragkfve...     [1, 71]   \n",
       "1      MQGRVFFREAAALILAAALSMAGLPASAAANSGIEAAALRTeeete...   [41, 238]   \n",
       "2      Merlqtdllkeihalrgemhaefasvrqemhagfasirqemhaeta...     [1, 73]   \n",
       "3      MSDVFLTASYADREKVKTLGARWNPAEKRWYVPSGRDLSPFAAWLP...  [437, 540]   \n",
       "4      MLLRRIARPLLSAAFIAEGIDILQNPGPLADRLSPALDFTRRRSQH...  [172, 342]   \n",
       "...                                                  ...         ...   \n",
       "40585  MKLNWLLGILPIVAANFDDWSKADLTQFLEDRNVTVQKGDDLVQLA...  [667, 798]   \n",
       "40586  MSDVYMDDLLTGADDLESGRKLQEQLVSLLRGAGMELHKWSASNPL...  [578, 680]   \n",
       "40587  MSSSILRASIRRNATIANKRFYSAPPPPPYAPNNQGGGNGGLFLGL...   [65, 170]   \n",
       "40588  MRVYCSLLASLLTCATIASQPPPLVFNGGTNSLAPRRILAAEKQET...  [734, 833]   \n",
       "40589  MAELKVFSVISSISSMLREGRAVPLSGLVMVNKQRMEQLLDELESS...   [55, 154]   \n",
       "\n",
       "                                             stretch_seq    avg_cc    group_id  \n",
       "0      rlvyvavaailcsfsttslagaektakragkfvektatragkfver...  0.001041  unassigned  \n",
       "1      eeetepstkeavqetavetdtgekpesgedgqeesaesteeeqeed...  0.000364  unassigned  \n",
       "2      erlqtdllkeihalrgemhaefasvrqemhagfasirqemhaetas...  0.001002  unassigned  \n",
       "3      aqslvveikhaasqqlllarhvvparmaevtaegrqalrtakaqsq...  0.000689    group_42  \n",
       "4      slgwrgrraardakdhaealaataaaiaatarergtnlvdtarert...  0.000424    group_38  \n",
       "...                                                  ...       ...         ...  \n",
       "40585  kdakksgesfaslasksgawyadafysvasesgesaasqalqtgqk...  0.000553   group_106  \n",
       "40586  eqrsiseeyekirdyfkdlkiklrekftrfgqwvkgkyergleksk...  0.000696     group_9  \n",
       "40587  gtltkqgevvdqkiqegkqavrdkadeakakyeqskseagqavdqk...  0.000676  unassigned  \n",
       "40588  isaltndknrmvrknavdslgffpwdakaivpllvallsdkdsdla...  0.000714   group_1_1  \n",
       "40589  kllsrerellqriddqrievetkaateartmvdeankaaqktrlta...  0.000726  unassigned  \n",
       "\n",
       "[40590 rows x 7 columns]"
      ]
     },
     "execution_count": 3,
     "metadata": {},
     "output_type": "execute_result"
    }
   ],
   "source": [
    "df = pd.read_csv('/home/enno/uni/SS23/thesis/data/hendecads/stretches_w_groups.csv')\n",
    "df['stretch_ix'] = df['stretch_ix'].apply(lambda x: list(map(int, x.strip('[]').split(','))))\n",
    "\n",
    "df"
   ]
  },
  {
   "cell_type": "code",
   "execution_count": 38,
   "metadata": {},
   "outputs": [],
   "source": [
    "aa_dict = {'r': '+',\n",
    "           'h': '+',\n",
    "           'k': '+',\n",
    "           'd': '-',\n",
    "           'e': '-',\n",
    "           's': 'polar',\n",
    "           't': 'polar',\n",
    "           'n': 'polar',\n",
    "           'q': 'polar',\n",
    "           'c': 'special',\n",
    "           'u': 'special',\n",
    "           'g': 'special',\n",
    "           'p': 'special',\n",
    "           'a': 'hydrophobic',\n",
    "           'v': 'hydrophobic',\n",
    "           'i': 'hydrophobic',\n",
    "           'l': 'hydrophobic',\n",
    "           'm': 'hydrophobic',\n",
    "           'f': 'hydrophobic',\n",
    "           'y': 'hydrophobic',\n",
    "           'w': 'hydrophobic',\n",
    "           'x': 'padding'}\n",
    "\n",
    "aa_num_dict = {'r': 0,\n",
    "               'h': 0,\n",
    "               'k': 0,\n",
    "               'd': 1,\n",
    "               'e': 1,\n",
    "               's': 2,\n",
    "               't': 2,\n",
    "               'n': 2,\n",
    "               'q': 2,\n",
    "               'c': 3,\n",
    "               'u': 3,\n",
    "               'g': 3,\n",
    "               'p': 3,\n",
    "               'a': 4,\n",
    "               'v': 4,\n",
    "               'i': 4,\n",
    "               'l': 4,\n",
    "               'm': 4,\n",
    "               'f': 4,\n",
    "               'y': 4,\n",
    "               'w': 4,\n",
    "               'x': 5}\n",
    "\n",
    "color_dict = {'+': '#00A012',           # green  \n",
    "              '-': '#D81B60',           # red\n",
    "              'polar': '#FFC107',       # yellow\n",
    "              'hydrophobic': '#1E88E5', # blue    \n",
    "              'special': '#ADADAD',     # grey\n",
    "              'padding': '#FFFFFF'}     # white \n",
    "\n",
    "color_num_dict = {0: '#00A012',           # green\n",
    "                  1: '#D81B60',           # red\n",
    "                  2: '#FFC107',           # yellow\n",
    "                  3: '#1E88E5',           # blue\n",
    "                  4: '#ADADAD',           # grey\n",
    "                  5: '#FFFFFF'}           # white"
   ]
  },
  {
   "cell_type": "code",
   "execution_count": 156,
   "metadata": {},
   "outputs": [],
   "source": [
    "# Letter code and color code for expected hendecad repeat\n",
    "repeat = ['A', '*', '*', 'D', 'E', '*', '*', 'H', '*', '*', '*']\n",
    "color_repeat = [color_dict['hydrophobic'], color_dict['special'], color_dict['special'], color_dict['hydrophobic'], color_dict['hydrophobic'], color_dict['special'], color_dict['special'], color_dict['hydrophobic'], color_dict['special'], color_dict['special'], color_dict['special']]"
   ]
  },
  {
   "cell_type": "code",
   "execution_count": 157,
   "metadata": {},
   "outputs": [],
   "source": [
    "def plot_seq_pc(seq, n_shift=0):\n",
    "    # @param shif: allows you to shift the sequence to the right by a certain amount cutting of the first n amino acids\n",
    "    seq = seq[n_shift:]\n",
    "\n",
    "    # Apply expected hendecad repeat to whole sequence\n",
    "    positions = [repeat[i%11] for i in range(len(seq))]\n",
    "    colors = [color_dict[aa_dict[aa]] for aa in seq]\n",
    "\n",
    "    fig, (ax1, ax2) = plt.subplots(2, 1, figsize=(10, 2))\n",
    "\n",
    "    ax1.bar(np.arange(len(seq)), np.ones(len(seq)), color=colors)\n",
    "    ax1.set_yticks([])\n",
    "    ax1.set_xticks(np.arange(len(seq)))\n",
    "    ax1.set_xticklabels(positions)\n",
    "\n",
    "    expected_colors = [color_repeat[i%11] for i in range(len(seq))]\n",
    "\n",
    "    ax2.bar(np.arange(len(seq)), np.ones(len(seq)), color=expected_colors)\n",
    "    ax2.set_yticks([])\n",
    "    ax2.set_xticks([])\n",
    "\n",
    "    for i in range(0, len(seq), 11):\n",
    "        ax1.axvline(i-0.5, color='black', linestyle='--')\n",
    "        ax2.axvline(i-0.5, color='black', linestyle='--')\n",
    "\n",
    "    # Add legend\n",
    "    legend_elements = [Patch(facecolor=color_dict[aa], edgecolor='black', label=aa) for aa in color_dict.keys()]\n",
    "    plt.legend(handles=legend_elements, loc='center right', bbox_to_anchor=(1.2, 1.1))\n",
    "    \n",
    "    plt.subplots_adjust(hspace=0.5)\n",
    "    plt.show()\n"
   ]
  },
  {
   "cell_type": "code",
   "execution_count": 158,
   "metadata": {},
   "outputs": [
    {
     "data": {
      "image/png": "[encoded data removed]",
      "text/plain": [
       "<Figure size 1000x200 with 2 Axes>"
      ]
     },
     "metadata": {},
     "output_type": "display_data"
    }
   ],
   "source": [
    "plot_seq_pc(df['stretch_seq'].iloc[2], n_shift=0)"
   ]
  },
  {
   "cell_type": "code",
   "execution_count": 159,
   "metadata": {},
   "outputs": [],
   "source": [
    "\n",
    "    # fig = plt.figure(constrained_layout=True)\n",
    "    \n",
    "    # subfigs = fig.subfigures(3, 4, wspace=0.2, hspace=0.2)\n",
    "    \n",
    "    # for outer_ix, subfig in enumerate(subfigs.flat):\n",
    "    #     axs = subfig.subplots(q+1, 1)\n",
    "        \n",
    "    #     if outer_ix == 12:\n",
    "    #         break\n",
    "        \n",
    "    #     for inner_ix, ax in enumerate(axs.flat):\n",
    "    #         start = inner_ix * 11 + outer_ix\n",
    "    #         end = start + 11\n",
    "            \n",
    "            \n",
    "            \n",
    "    #         ax.set_yticks([])\n",
    "    #         ax.set_xticks([])\n",
    "\n",
    "    #         ax.bar(np.arange(11), np.ones(11), color=colors[start:end])\n",
    "        \n",
    "    \n",
    "    # plt.show()\n"
   ]
  },
  {
   "cell_type": "code",
   "execution_count": 196,
   "metadata": {},
   "outputs": [],
   "source": [
    "def plot_seq_pc(seq_id, seq, n_shift=0, save=False):\n",
    "    seq = seq[n_shift:]\n",
    "    \n",
    "    n = len(seq)\n",
    "    q = n // 11\n",
    "    r = n % 11\n",
    "\n",
    "    positions = [repeat[i%11] for i in range(len(seq))]\n",
    "    colors = [color_dict[aa_dict[aa]] for aa in seq]\n",
    "    \n",
    "    # pad last hendecad with padding color\n",
    "    if n % 11 != 0:\n",
    "        positions += ['x'] * (11 - r)\n",
    "        colors += [color_dict['padding']] * (11 - r)\n",
    "    \n",
    "    fig, axes = plt.subplots(q+1, 1, figsize=(6, q/3))\n",
    "\n",
    "    first = True\n",
    "    for ax in axes:\n",
    "        \n",
    "        if first:\n",
    "            ax.set_title(seq_id) \n",
    "            first = False\n",
    "        \n",
    "        ax.bar(np.arange(11), np.ones(11), color=colors[:11], edgecolor='black')\n",
    "        ax.set_yticks([])\n",
    "        ax.set_xticks([])\n",
    "        \n",
    "        ax.spines['top'].set_visible(False)\n",
    "        ax.spines['right'].set_visible(False)\n",
    "        ax.spines['left'].set_visible(False)\n",
    "        \n",
    "        colors = colors[11:]\n",
    "        positions = positions[11:]\n",
    "\n",
    "    ax.set_xticks(np.arange(11))\n",
    "    ax.set_xticklabels(repeat)\n",
    "\n",
    "    legend_elements = [Patch(facecolor=color_dict[aa], edgecolor='black', label=aa) for aa in color_dict.keys()]\n",
    "    plt.legend(handles=legend_elements, loc='right', bbox_to_anchor=(1.33, q-2))\n",
    "    \n",
    "    if save:\n",
    "        plt.savefig(f'/home/enno/uni/SS23/thesis/seq_analysis/plots/{seq_id}.png', bbox_inches='tight')\n",
    "        plt.clf()\n",
    "    else:\n",
    "        plt.show()"
   ]
  },
  {
   "cell_type": "code",
   "execution_count": 205,
   "metadata": {},
   "outputs": [
    {
     "data": {
      "text/plain": [
       "<Figure size 600x1366.67 with 0 Axes>"
      ]
     },
     "metadata": {},
     "output_type": "display_data"
    },
    {
     "data": {
      "text/plain": [
       "<Figure size 600x3233.33 with 0 Axes>"
      ]
     },
     "metadata": {},
     "output_type": "display_data"
    },
    {
     "data": {
      "text/plain": [
       "<Figure size 600x366.667 with 0 Axes>"
      ]
     },
     "metadata": {},
     "output_type": "display_data"
    },
    {
     "data": {
      "text/plain": [
       "<Figure size 600x300 with 0 Axes>"
      ]
     },
     "metadata": {},
     "output_type": "display_data"
    },
    {
     "data": {
      "text/plain": [
       "<Figure size 600x766.667 with 0 Axes>"
      ]
     },
     "metadata": {},
     "output_type": "display_data"
    },
    {
     "data": {
      "text/plain": [
       "<Figure size 600x600 with 0 Axes>"
      ]
     },
     "metadata": {},
     "output_type": "display_data"
    }
   ],
   "source": [
    "current_group = 'group_4'\n",
    "n_samples = 6\n",
    "\n",
    "tmp_df = df[df['group_id'] == current_group].sample(n_samples)[['id', 'stretch_seq']]\n",
    "\n",
    "for i, row in tmp_df.iterrows():\n",
    "    plot_seq_pc(current_group + '_' + row['id'], row['stretch_seq'], save=True)"
   ]
  },
  {
   "cell_type": "code",
   "execution_count": 71,
   "metadata": {},
   "outputs": [
    {
     "data": {
      "text/plain": [
       "['#00A012', '#00A012', '#1E88E5', '#1E88E5']"
      ]
     },
     "execution_count": 71,
     "metadata": {},
     "output_type": "execute_result"
    }
   ],
   "source": [
    "seq = df['stretch_seq'].iloc[0]\n",
    "colors = [color_dict[aa_dict[aa]] for aa in seq]\n",
    "colors[66:77]"
   ]
  },
  {
   "cell_type": "code",
   "execution_count": null,
   "metadata": {},
   "outputs": [],
   "source": [
    "# fig, axes = plt.subplots(q+1, 1, figsize=(10, 2))\n",
    "\n",
    "    # for ax in axes:\n",
    "    #     ax.bar(np.arange(11), np.ones(11), color=colors[:11])\n",
    "    #     ax.set_yticks([])\n",
    "    #     ax.set_xticks([])\n",
    "        \n",
    "    #     colors = colors[11:]\n",
    "    #     positions = positions[11:]\n",
    "\n",
    "    # Add legend\n",
    "    # legend_elements = [Patch(facecolor=color_dict[aa], edgecolor='black', label=aa) for aa in color_dict.keys()]\n",
    "    # plt.legend(handles=legend_elements, loc='center right', bbox_to_anchor=(1.2, 1.1))\n",
    "    \n",
    "    # plt.subplots_adjust(hspace=0.5)\n",
    "    # plt.show()\n"
   ]
  },
  {
   "cell_type": "code",
   "execution_count": 2,
   "metadata": {},
   "outputs": [
    {
     "data": {
      "text/plain": [
       "'2.0.3'"
      ]
     },
     "execution_count": 2,
     "metadata": {},
     "output_type": "execute_result"
    }
   ],
   "source": [
    "import pandas as pd\n",
    "pd.__version__"
   ]
  },
  {
   "cell_type": "code",
   "execution_count": null,
   "metadata": {},
   "outputs": [],
   "source": [
    "# Step 1: Create a sequence of amino acids\n",
    "sequence = 'rhkdenstqcupavilmfywx' * 5  # example sequence\n",
    "\n",
    "# Step 2: Convert the sequence into a matrix with 11 columns\n",
    "matrix = [aa_num_dict[aa] for aa in sequence]\n",
    "matrix = np.array(matrix).reshape(-1, 11)\n",
    "\n",
    "# Step 3: Map the numbers to colors\n",
    "color_matrix = np.vectorize(color_num_dict.get)(matrix)\n",
    "\n",
    "# Step 4: Plot the heatmap\n",
    "plt.figure(figsize=(10, 10))\n",
    "sns.heatmap(matrix, annot=True, cmap=sns.color_palette(color_matrix.flatten()))\n",
    "plt.show()"
   ]
  }
 ],
 "metadata": {
  "kernelspec": {
   "display_name": "deepcoil",
   "language": "python",
   "name": "python3"
  },
  "language_info": {
   "codemirror_mode": {
    "name": "ipython",
    "version": 3
   },
   "file_extension": ".py",
   "mimetype": "text/x-python",
   "name": "python",
   "nbconvert_exporter": "python",
   "pygments_lexer": "ipython3",
   "version": "3.8.18"
  }
 },
 "nbformat": 4,
 "nbformat_minor": 2
}
