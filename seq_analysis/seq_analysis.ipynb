{
 "cells": [
  {
   "cell_type": "code",
   "execution_count": 1,
   "metadata": {},
   "outputs": [],
   "source": [
    "import numpy as np\n",
    "import pandas as pd \n",
    "\n",
    "import re\n",
    "\n",
    "import matplotlib.pyplot as plt\n",
    "from matplotlib.patches import Patch\n",
    "import seaborn as sns\n",
    "import plotly.graph_objects as go\n"
   ]
  },
  {
   "cell_type": "code",
   "execution_count": 2,
   "metadata": {},
   "outputs": [
    {
     "data": {
      "text/html": [
       "<div>\n",
       "<style scoped>\n",
       "    .dataframe tbody tr th:only-of-type {\n",
       "        vertical-align: middle;\n",
       "    }\n",
       "\n",
       "    .dataframe tbody tr th {\n",
       "        vertical-align: top;\n",
       "    }\n",
       "\n",
       "    .dataframe thead th {\n",
       "        text-align: right;\n",
       "    }\n",
       "</style>\n",
       "<table border=\"1\" class=\"dataframe\">\n",
       "  <thead>\n",
       "    <tr style=\"text-align: right;\">\n",
       "      <th></th>\n",
       "      <th>Unnamed: 0</th>\n",
       "      <th>id</th>\n",
       "      <th>seq</th>\n",
       "      <th>stretch_ix</th>\n",
       "      <th>stretch_seq</th>\n",
       "      <th>avg_cc</th>\n",
       "      <th>group_id</th>\n",
       "    </tr>\n",
       "  </thead>\n",
       "  <tbody>\n",
       "    <tr>\n",
       "      <th>0</th>\n",
       "      <td>0</td>\n",
       "      <td>MCD6041253.1</td>\n",
       "      <td>Mrlvyvavaailcsfsttslagaektakragkfvektatragkfve...</td>\n",
       "      <td>[1, 71]</td>\n",
       "      <td>rlvyvavaailcsfsttslagaektakragkfvektatragkfver...</td>\n",
       "      <td>0.001041</td>\n",
       "      <td>unassigned</td>\n",
       "    </tr>\n",
       "    <tr>\n",
       "      <th>1</th>\n",
       "      <td>1</td>\n",
       "      <td>MCD7737945.1</td>\n",
       "      <td>MQGRVFFREAAALILAAALSMAGLPASAAANSGIEAAALRTeeete...</td>\n",
       "      <td>[41, 238]</td>\n",
       "      <td>eeetepstkeavqetavetdtgekpesgedgqeesaesteeeqeed...</td>\n",
       "      <td>0.000364</td>\n",
       "      <td>unassigned</td>\n",
       "    </tr>\n",
       "    <tr>\n",
       "      <th>2</th>\n",
       "      <td>2</td>\n",
       "      <td>MYF28459.1</td>\n",
       "      <td>Merlqtdllkeihalrgemhaefasvrqemhagfasirqemhaeta...</td>\n",
       "      <td>[1, 73]</td>\n",
       "      <td>erlqtdllkeihalrgemhaefasvrqemhagfasirqemhaetas...</td>\n",
       "      <td>0.001002</td>\n",
       "      <td>unassigned</td>\n",
       "    </tr>\n",
       "    <tr>\n",
       "      <th>3</th>\n",
       "      <td>3</td>\n",
       "      <td>WP_168920948.1</td>\n",
       "      <td>MSDVFLTASYADREKVKTLGARWNPAEKRWYVPSGRDLSPFAAWLP...</td>\n",
       "      <td>[437, 540]</td>\n",
       "      <td>aqslvveikhaasqqlllarhvvparmaevtaegrqalrtakaqsq...</td>\n",
       "      <td>0.000689</td>\n",
       "      <td>group_42</td>\n",
       "    </tr>\n",
       "    <tr>\n",
       "      <th>4</th>\n",
       "      <td>4</td>\n",
       "      <td>WP_026306873.1</td>\n",
       "      <td>MLLRRIARPLLSAAFIAEGIDILQNPGPLADRLSPALDFTRRRSQH...</td>\n",
       "      <td>[172, 342]</td>\n",
       "      <td>slgwrgrraardakdhaealaataaaiaatarergtnlvdtarert...</td>\n",
       "      <td>0.000424</td>\n",
       "      <td>group_38</td>\n",
       "    </tr>\n",
       "  </tbody>\n",
       "</table>\n",
       "</div>"
      ],
      "text/plain": [
       "   Unnamed: 0              id  \\\n",
       "0           0    MCD6041253.1   \n",
       "1           1    MCD7737945.1   \n",
       "2           2      MYF28459.1   \n",
       "3           3  WP_168920948.1   \n",
       "4           4  WP_026306873.1   \n",
       "\n",
       "                                                 seq  stretch_ix  \\\n",
       "0  Mrlvyvavaailcsfsttslagaektakragkfvektatragkfve...     [1, 71]   \n",
       "1  MQGRVFFREAAALILAAALSMAGLPASAAANSGIEAAALRTeeete...   [41, 238]   \n",
       "2  Merlqtdllkeihalrgemhaefasvrqemhagfasirqemhaeta...     [1, 73]   \n",
       "3  MSDVFLTASYADREKVKTLGARWNPAEKRWYVPSGRDLSPFAAWLP...  [437, 540]   \n",
       "4  MLLRRIARPLLSAAFIAEGIDILQNPGPLADRLSPALDFTRRRSQH...  [172, 342]   \n",
       "\n",
       "                                         stretch_seq    avg_cc    group_id  \n",
       "0  rlvyvavaailcsfsttslagaektakragkfvektatragkfver...  0.001041  unassigned  \n",
       "1  eeetepstkeavqetavetdtgekpesgedgqeesaesteeeqeed...  0.000364  unassigned  \n",
       "2  erlqtdllkeihalrgemhaefasvrqemhagfasirqemhaetas...  0.001002  unassigned  \n",
       "3  aqslvveikhaasqqlllarhvvparmaevtaegrqalrtakaqsq...  0.000689    group_42  \n",
       "4  slgwrgrraardakdhaealaataaaiaatarergtnlvdtarert...  0.000424    group_38  "
      ]
     },
     "execution_count": 2,
     "metadata": {},
     "output_type": "execute_result"
    }
   ],
   "source": [
    "df = pd.read_csv('/home/enno/uni/SS23/thesis/data/hendecads/stretches_w_groups.csv')\n",
    "df['stretch_ix'] = df['stretch_ix'].apply(lambda x: list(map(int, x.strip('[]').split(','))))\n",
    "\n",
    "df.head()"
   ]
  },
  {
   "cell_type": "code",
   "execution_count": 32,
   "metadata": {},
   "outputs": [
    {
     "data": {
      "text/html": [
       "<div>\n",
       "<style scoped>\n",
       "    .dataframe tbody tr th:only-of-type {\n",
       "        vertical-align: middle;\n",
       "    }\n",
       "\n",
       "    .dataframe tbody tr th {\n",
       "        vertical-align: top;\n",
       "    }\n",
       "\n",
       "    .dataframe thead th {\n",
       "        text-align: right;\n",
       "    }\n",
       "</style>\n",
       "<table border=\"1\" class=\"dataframe\">\n",
       "  <thead>\n",
       "    <tr style=\"text-align: right;\">\n",
       "      <th></th>\n",
       "      <th>Unnamed: 0</th>\n",
       "      <th>id</th>\n",
       "      <th>seq</th>\n",
       "      <th>stretch_ix</th>\n",
       "      <th>stretch_seq</th>\n",
       "      <th>avg_cc</th>\n",
       "      <th>group_id</th>\n",
       "      <th>1R</th>\n",
       "      <th>2R</th>\n",
       "      <th>3R</th>\n",
       "      <th>4R</th>\n",
       "      <th>5R</th>\n",
       "      <th>6R</th>\n",
       "      <th>7R</th>\n",
       "      <th>8R</th>\n",
       "      <th>9R</th>\n",
       "      <th>10R</th>\n",
       "      <th>group_ix</th>\n",
       "    </tr>\n",
       "  </thead>\n",
       "  <tbody>\n",
       "    <tr>\n",
       "      <th>0</th>\n",
       "      <td>0</td>\n",
       "      <td>MCD6041253.1</td>\n",
       "      <td>Mrlvyvavaailcsfsttslagaektakragkfvektatragkfve...</td>\n",
       "      <td>[1, 71]</td>\n",
       "      <td>rlvyvavaailcsfsttslagaektakragkfvektatragkfver...</td>\n",
       "      <td>0.001041</td>\n",
       "      <td>unassigned</td>\n",
       "      <td>0.833333</td>\n",
       "      <td>0.666667</td>\n",
       "      <td>0.500000</td>\n",
       "      <td>1.000000</td>\n",
       "      <td>0.000000</td>\n",
       "      <td>0.0</td>\n",
       "      <td>0.0</td>\n",
       "      <td>0.0</td>\n",
       "      <td>0.0</td>\n",
       "      <td>0.0</td>\n",
       "      <td>0</td>\n",
       "    </tr>\n",
       "    <tr>\n",
       "      <th>1</th>\n",
       "      <td>1</td>\n",
       "      <td>MCD7737945.1</td>\n",
       "      <td>MQGRVFFREAAALILAAALSMAGLPASAAANSGIEAAALRTeeete...</td>\n",
       "      <td>[41, 238]</td>\n",
       "      <td>eeetepstkeavqetavetdtgekpesgedgqeesaesteeeqeed...</td>\n",
       "      <td>0.000364</td>\n",
       "      <td>unassigned</td>\n",
       "      <td>0.058824</td>\n",
       "      <td>0.000000</td>\n",
       "      <td>0.000000</td>\n",
       "      <td>0.000000</td>\n",
       "      <td>0.000000</td>\n",
       "      <td>0.0</td>\n",
       "      <td>0.0</td>\n",
       "      <td>0.0</td>\n",
       "      <td>0.0</td>\n",
       "      <td>0.0</td>\n",
       "      <td>0</td>\n",
       "    </tr>\n",
       "    <tr>\n",
       "      <th>2</th>\n",
       "      <td>2</td>\n",
       "      <td>MYF28459.1</td>\n",
       "      <td>Merlqtdllkeihalrgemhaefasvrqemhagfasirqemhaeta...</td>\n",
       "      <td>[1, 73]</td>\n",
       "      <td>erlqtdllkeihalrgemhaefasvrqemhagfasirqemhaetas...</td>\n",
       "      <td>0.001002</td>\n",
       "      <td>unassigned</td>\n",
       "      <td>0.833333</td>\n",
       "      <td>0.666667</td>\n",
       "      <td>0.500000</td>\n",
       "      <td>1.000000</td>\n",
       "      <td>1.000000</td>\n",
       "      <td>0.0</td>\n",
       "      <td>0.0</td>\n",
       "      <td>0.0</td>\n",
       "      <td>0.0</td>\n",
       "      <td>0.0</td>\n",
       "      <td>0</td>\n",
       "    </tr>\n",
       "    <tr>\n",
       "      <th>3</th>\n",
       "      <td>3</td>\n",
       "      <td>WP_168920948.1</td>\n",
       "      <td>MSDVFLTASYADREKVKTLGARWNPAEKRWYVPSGRDLSPFAAWLP...</td>\n",
       "      <td>[437, 540]</td>\n",
       "      <td>aqslvveikhaasqqlllarhvvparmaevtaegrqalrtakaqsq...</td>\n",
       "      <td>0.000689</td>\n",
       "      <td>group_42</td>\n",
       "      <td>0.666667</td>\n",
       "      <td>0.500000</td>\n",
       "      <td>0.333333</td>\n",
       "      <td>0.000000</td>\n",
       "      <td>0.000000</td>\n",
       "      <td>0.0</td>\n",
       "      <td>0.0</td>\n",
       "      <td>0.0</td>\n",
       "      <td>0.0</td>\n",
       "      <td>0.0</td>\n",
       "      <td>1</td>\n",
       "    </tr>\n",
       "    <tr>\n",
       "      <th>4</th>\n",
       "      <td>4</td>\n",
       "      <td>WP_026306873.1</td>\n",
       "      <td>MLLRRIARPLLSAAFIAEGIDILQNPGPLADRLSPALDFTRRRSQH...</td>\n",
       "      <td>[172, 342]</td>\n",
       "      <td>slgwrgrraardakdhaealaataaaiaatarergtnlvdtarert...</td>\n",
       "      <td>0.000424</td>\n",
       "      <td>group_38</td>\n",
       "      <td>0.800000</td>\n",
       "      <td>0.714286</td>\n",
       "      <td>0.800000</td>\n",
       "      <td>0.333333</td>\n",
       "      <td>0.333333</td>\n",
       "      <td>0.5</td>\n",
       "      <td>0.0</td>\n",
       "      <td>0.0</td>\n",
       "      <td>0.0</td>\n",
       "      <td>0.0</td>\n",
       "      <td>2</td>\n",
       "    </tr>\n",
       "    <tr>\n",
       "      <th>...</th>\n",
       "      <td>...</td>\n",
       "      <td>...</td>\n",
       "      <td>...</td>\n",
       "      <td>...</td>\n",
       "      <td>...</td>\n",
       "      <td>...</td>\n",
       "      <td>...</td>\n",
       "      <td>...</td>\n",
       "      <td>...</td>\n",
       "      <td>...</td>\n",
       "      <td>...</td>\n",
       "      <td>...</td>\n",
       "      <td>...</td>\n",
       "      <td>...</td>\n",
       "      <td>...</td>\n",
       "      <td>...</td>\n",
       "      <td>...</td>\n",
       "      <td>...</td>\n",
       "    </tr>\n",
       "    <tr>\n",
       "      <th>40585</th>\n",
       "      <td>40585</td>\n",
       "      <td>XP_034013580.1</td>\n",
       "      <td>MKLNWLLGILPIVAANFDDWSKADLTQFLEDRNVTVQKGDDLVQLA...</td>\n",
       "      <td>[667, 798]</td>\n",
       "      <td>kdakksgesfaslasksgawyadafysvasesgesaasqalqtgqk...</td>\n",
       "      <td>0.000553</td>\n",
       "      <td>group_106</td>\n",
       "      <td>0.545455</td>\n",
       "      <td>0.200000</td>\n",
       "      <td>0.333333</td>\n",
       "      <td>0.000000</td>\n",
       "      <td>0.000000</td>\n",
       "      <td>0.0</td>\n",
       "      <td>0.0</td>\n",
       "      <td>0.0</td>\n",
       "      <td>0.0</td>\n",
       "      <td>0.0</td>\n",
       "      <td>71</td>\n",
       "    </tr>\n",
       "    <tr>\n",
       "      <th>40586</th>\n",
       "      <td>40586</td>\n",
       "      <td>GFR06050.1</td>\n",
       "      <td>MSDVYMDDLLTGADDLESGRKLQEQLVSLLRGAGMELHKWSASNPL...</td>\n",
       "      <td>[578, 680]</td>\n",
       "      <td>eqrsiseeyekirdyfkdlkiklrekftrfgqwvkgkyergleksk...</td>\n",
       "      <td>0.000696</td>\n",
       "      <td>group_9</td>\n",
       "      <td>0.333333</td>\n",
       "      <td>0.000000</td>\n",
       "      <td>0.000000</td>\n",
       "      <td>0.000000</td>\n",
       "      <td>0.000000</td>\n",
       "      <td>0.0</td>\n",
       "      <td>0.0</td>\n",
       "      <td>0.0</td>\n",
       "      <td>0.0</td>\n",
       "      <td>0.0</td>\n",
       "      <td>59</td>\n",
       "    </tr>\n",
       "    <tr>\n",
       "      <th>40587</th>\n",
       "      <td>40587</td>\n",
       "      <td>KAG2190414.1</td>\n",
       "      <td>MSSSILRASIRRNATIANKRFYSAPPPPPYAPNNQGGGNGGLFLGL...</td>\n",
       "      <td>[65, 170]</td>\n",
       "      <td>gtltkqgevvdqkiqegkqavrdkadeakakyeqskseagqavdqk...</td>\n",
       "      <td>0.000676</td>\n",
       "      <td>unassigned</td>\n",
       "      <td>0.666667</td>\n",
       "      <td>0.500000</td>\n",
       "      <td>0.000000</td>\n",
       "      <td>0.000000</td>\n",
       "      <td>0.000000</td>\n",
       "      <td>0.0</td>\n",
       "      <td>0.0</td>\n",
       "      <td>0.0</td>\n",
       "      <td>0.0</td>\n",
       "      <td>0.0</td>\n",
       "      <td>0</td>\n",
       "    </tr>\n",
       "    <tr>\n",
       "      <th>40588</th>\n",
       "      <td>40588</td>\n",
       "      <td>MBY0528383.1</td>\n",
       "      <td>MRVYCSLLASLLTCATIASQPPPLVFNGGTNSLAPRRILAAEKQET...</td>\n",
       "      <td>[734, 833]</td>\n",
       "      <td>isaltndknrmvrknavdslgffpwdakaivpllvallsdkdsdla...</td>\n",
       "      <td>0.000714</td>\n",
       "      <td>group_1_1</td>\n",
       "      <td>0.777778</td>\n",
       "      <td>0.750000</td>\n",
       "      <td>0.666667</td>\n",
       "      <td>0.500000</td>\n",
       "      <td>1.000000</td>\n",
       "      <td>1.0</td>\n",
       "      <td>0.0</td>\n",
       "      <td>0.0</td>\n",
       "      <td>0.0</td>\n",
       "      <td>0.0</td>\n",
       "      <td>5</td>\n",
       "    </tr>\n",
       "    <tr>\n",
       "      <th>40589</th>\n",
       "      <td>40589</td>\n",
       "      <td>MBR5231210.1</td>\n",
       "      <td>MAELKVFSVISSISSMLREGRAVPLSGLVMVNKQRMEQLLDELESS...</td>\n",
       "      <td>[55, 154]</td>\n",
       "      <td>kllsrerellqriddqrievetkaateartmvdeankaaqktrlta...</td>\n",
       "      <td>0.000726</td>\n",
       "      <td>unassigned</td>\n",
       "      <td>0.888889</td>\n",
       "      <td>1.000000</td>\n",
       "      <td>0.666667</td>\n",
       "      <td>0.500000</td>\n",
       "      <td>1.000000</td>\n",
       "      <td>1.0</td>\n",
       "      <td>0.0</td>\n",
       "      <td>0.0</td>\n",
       "      <td>0.0</td>\n",
       "      <td>0.0</td>\n",
       "      <td>0</td>\n",
       "    </tr>\n",
       "  </tbody>\n",
       "</table>\n",
       "<p>40590 rows × 18 columns</p>\n",
       "</div>"
      ],
      "text/plain": [
       "       Unnamed: 0              id  \\\n",
       "0               0    MCD6041253.1   \n",
       "1               1    MCD7737945.1   \n",
       "2               2      MYF28459.1   \n",
       "3               3  WP_168920948.1   \n",
       "4               4  WP_026306873.1   \n",
       "...           ...             ...   \n",
       "40585       40585  XP_034013580.1   \n",
       "40586       40586      GFR06050.1   \n",
       "40587       40587    KAG2190414.1   \n",
       "40588       40588    MBY0528383.1   \n",
       "40589       40589    MBR5231210.1   \n",
       "\n",
       "                                                     seq  stretch_ix  \\\n",
       "0      Mrlvyvavaailcsfsttslagaektakragkfvektatragkfve...     [1, 71]   \n",
       "1      MQGRVFFREAAALILAAALSMAGLPASAAANSGIEAAALRTeeete...   [41, 238]   \n",
       "2      Merlqtdllkeihalrgemhaefasvrqemhagfasirqemhaeta...     [1, 73]   \n",
       "3      MSDVFLTASYADREKVKTLGARWNPAEKRWYVPSGRDLSPFAAWLP...  [437, 540]   \n",
       "4      MLLRRIARPLLSAAFIAEGIDILQNPGPLADRLSPALDFTRRRSQH...  [172, 342]   \n",
       "...                                                  ...         ...   \n",
       "40585  MKLNWLLGILPIVAANFDDWSKADLTQFLEDRNVTVQKGDDLVQLA...  [667, 798]   \n",
       "40586  MSDVYMDDLLTGADDLESGRKLQEQLVSLLRGAGMELHKWSASNPL...  [578, 680]   \n",
       "40587  MSSSILRASIRRNATIANKRFYSAPPPPPYAPNNQGGGNGGLFLGL...   [65, 170]   \n",
       "40588  MRVYCSLLASLLTCATIASQPPPLVFNGGTNSLAPRRILAAEKQET...  [734, 833]   \n",
       "40589  MAELKVFSVISSISSMLREGRAVPLSGLVMVNKQRMEQLLDELESS...   [55, 154]   \n",
       "\n",
       "                                             stretch_seq    avg_cc  \\\n",
       "0      rlvyvavaailcsfsttslagaektakragkfvektatragkfver...  0.001041   \n",
       "1      eeetepstkeavqetavetdtgekpesgedgqeesaesteeeqeed...  0.000364   \n",
       "2      erlqtdllkeihalrgemhaefasvrqemhagfasirqemhaetas...  0.001002   \n",
       "3      aqslvveikhaasqqlllarhvvparmaevtaegrqalrtakaqsq...  0.000689   \n",
       "4      slgwrgrraardakdhaealaataaaiaatarergtnlvdtarert...  0.000424   \n",
       "...                                                  ...       ...   \n",
       "40585  kdakksgesfaslasksgawyadafysvasesgesaasqalqtgqk...  0.000553   \n",
       "40586  eqrsiseeyekirdyfkdlkiklrekftrfgqwvkgkyergleksk...  0.000696   \n",
       "40587  gtltkqgevvdqkiqegkqavrdkadeakakyeqskseagqavdqk...  0.000676   \n",
       "40588  isaltndknrmvrknavdslgffpwdakaivpllvallsdkdsdla...  0.000714   \n",
       "40589  kllsrerellqriddqrievetkaateartmvdeankaaqktrlta...  0.000726   \n",
       "\n",
       "         group_id        1R        2R        3R        4R        5R   6R   7R  \\\n",
       "0      unassigned  0.833333  0.666667  0.500000  1.000000  0.000000  0.0  0.0   \n",
       "1      unassigned  0.058824  0.000000  0.000000  0.000000  0.000000  0.0  0.0   \n",
       "2      unassigned  0.833333  0.666667  0.500000  1.000000  1.000000  0.0  0.0   \n",
       "3        group_42  0.666667  0.500000  0.333333  0.000000  0.000000  0.0  0.0   \n",
       "4        group_38  0.800000  0.714286  0.800000  0.333333  0.333333  0.5  0.0   \n",
       "...           ...       ...       ...       ...       ...       ...  ...  ...   \n",
       "40585   group_106  0.545455  0.200000  0.333333  0.000000  0.000000  0.0  0.0   \n",
       "40586     group_9  0.333333  0.000000  0.000000  0.000000  0.000000  0.0  0.0   \n",
       "40587  unassigned  0.666667  0.500000  0.000000  0.000000  0.000000  0.0  0.0   \n",
       "40588   group_1_1  0.777778  0.750000  0.666667  0.500000  1.000000  1.0  0.0   \n",
       "40589  unassigned  0.888889  1.000000  0.666667  0.500000  1.000000  1.0  0.0   \n",
       "\n",
       "        8R   9R  10R  group_ix  \n",
       "0      0.0  0.0  0.0         0  \n",
       "1      0.0  0.0  0.0         0  \n",
       "2      0.0  0.0  0.0         0  \n",
       "3      0.0  0.0  0.0         1  \n",
       "4      0.0  0.0  0.0         2  \n",
       "...    ...  ...  ...       ...  \n",
       "40585  0.0  0.0  0.0        71  \n",
       "40586  0.0  0.0  0.0        59  \n",
       "40587  0.0  0.0  0.0         0  \n",
       "40588  0.0  0.0  0.0         5  \n",
       "40589  0.0  0.0  0.0         0  \n",
       "\n",
       "[40590 rows x 18 columns]"
      ]
     },
     "execution_count": 32,
     "metadata": {},
     "output_type": "execute_result"
    }
   ],
   "source": [
    "groups = df['group_id'].unique()\n",
    "group_dict = {group: i for i, group in enumerate(groups)}\n",
    "\n",
    "df['group_ix'] = df['group_id'].apply(lambda x: group_dict[x])\n",
    "df"
   ]
  },
  {
   "cell_type": "markdown",
   "metadata": {},
   "source": [
    "## Dictionaries and Utils"
   ]
  },
  {
   "cell_type": "code",
   "execution_count": 3,
   "metadata": {},
   "outputs": [],
   "source": [
    "aa_dict = {'r': '+',\n",
    "           'h': '+',\n",
    "           'k': '+',\n",
    "           'd': '-',\n",
    "           'e': '-',\n",
    "           's': 'polar',\n",
    "           't': 'polar',\n",
    "           'n': 'polar',\n",
    "           'q': 'polar',\n",
    "           'c': 'special',\n",
    "           'u': 'special',\n",
    "           'g': 'special',\n",
    "           'p': 'special',\n",
    "           'a': 'hydrophobic',\n",
    "           'v': 'hydrophobic',\n",
    "           'i': 'hydrophobic',\n",
    "           'l': 'hydrophobic',\n",
    "           'm': 'hydrophobic',\n",
    "           'f': 'hydrophobic',\n",
    "           'y': 'hydrophobic',\n",
    "           'w': 'hydrophobic',\n",
    "           'x': 'padding'}\n",
    "\n",
    "aa_num_dict = {'r': 0,\n",
    "               'h': 0,\n",
    "               'k': 0,\n",
    "               'd': 1,\n",
    "               'e': 1,\n",
    "               's': 2,\n",
    "               't': 2,\n",
    "               'n': 2,\n",
    "               'q': 2,\n",
    "               'c': 3,\n",
    "               'u': 3,\n",
    "               'g': 3,\n",
    "               'p': 3,\n",
    "               'a': 4,\n",
    "               'v': 4,\n",
    "               'i': 4,\n",
    "               'l': 4,\n",
    "               'm': 4,\n",
    "               'f': 4,\n",
    "               'y': 4,\n",
    "               'w': 4,\n",
    "               'x': 5}\n",
    "\n",
    "color_dict = {'+': '#00A012',           # green  \n",
    "              '-': '#D81B60',           # red\n",
    "              'polar': '#FFC107',       # yellow\n",
    "              'hydrophobic': '#1E88E5', # blue    \n",
    "              'special': '#ADADAD',     # grey\n",
    "              'padding': '#FFFFFF'}     # white \n",
    "\n",
    "color_num_dict = {0: '#00A012',           # green\n",
    "                  1: '#D81B60',           # red\n",
    "                  2: '#FFC107',           # yellow\n",
    "                  3: '#1E88E5',           # blue\n",
    "                  4: '#ADADAD',           # grey\n",
    "                  5: '#FFFFFF'}           # white"
   ]
  },
  {
   "cell_type": "code",
   "execution_count": 4,
   "metadata": {},
   "outputs": [],
   "source": [
    "# Letter code and color code for expected hendecad repeat\n",
    "repeat = ['A', '*', '*', 'D', 'E', '*', '*', 'H', '*', '*', '*']\n",
    "color_repeat = [color_dict['hydrophobic'], color_dict['special'], color_dict['special'], color_dict['hydrophobic'], color_dict['hydrophobic'], color_dict['special'], color_dict['special'], color_dict['hydrophobic'], color_dict['special'], color_dict['special'], color_dict['special']]"
   ]
  },
  {
   "cell_type": "markdown",
   "metadata": {},
   "source": [
    "## Visual"
   ]
  },
  {
   "cell_type": "code",
   "execution_count": 85,
   "metadata": {},
   "outputs": [],
   "source": [
    "def plot_eleven_repeat(seq_id, seq, n_shift=0, save=False):\n",
    "    seq = seq[n_shift:]\n",
    "    \n",
    "    n = len(seq)\n",
    "    q = n // 11\n",
    "    r = n % 11\n",
    "\n",
    "    positions = [repeat[i%11] for i in range(len(seq))]\n",
    "    colors = [color_dict[aa_dict[aa]] for aa in seq]\n",
    "    \n",
    "    # pad last hendecad with padding color\n",
    "    if n % 11 != 0:\n",
    "        positions += ['x'] * (11 - r)\n",
    "        colors += [color_dict['padding']] * (11 - r)\n",
    "    \n",
    "    fig, axes = plt.subplots(q+1, 1, figsize=(6, q/3))\n",
    "\n",
    "    first = True\n",
    "    for ax in axes:\n",
    "        \n",
    "        if first:\n",
    "            ax.set_title(seq_id) \n",
    "            first = False\n",
    "        \n",
    "        ax.bar(np.arange(11), np.ones(11), color=colors[:11], edgecolor='black')\n",
    "        ax.set_yticks([])\n",
    "        ax.set_xticks([])\n",
    "        \n",
    "        ax.spines['top'].set_visible(False)\n",
    "        ax.spines['right'].set_visible(False)\n",
    "        ax.spines['left'].set_visible(False)\n",
    "        \n",
    "        colors = colors[11:]\n",
    "        positions = positions[11:]\n",
    "\n",
    "    ax.set_xticks(np.arange(11))\n",
    "    ax.set_xticklabels(repeat)\n",
    "\n",
    "    legend_elements = [Patch(facecolor=color_dict[aa], edgecolor='black', label=aa) for aa in color_dict.keys()]\n",
    "    plt.legend(handles=legend_elements, loc='right', bbox_to_anchor=(1.33, q-2))\n",
    "    \n",
    "    if save:\n",
    "        plt.savefig(f'/home/enno/uni/SS23/thesis/seq_analysis/plots/{seq_id}.png', bbox_inches='tight')\n",
    "        plt.clf()\n",
    "    else:\n",
    "        plt.show()"
   ]
  },
  {
   "cell_type": "code",
   "execution_count": 98,
   "metadata": {},
   "outputs": [
    {
     "data": {
      "image/png": "[encoded data removed]",
      "text/plain": [
       "<Figure size 600x600 with 19 Axes>"
      ]
     },
     "metadata": {},
     "output_type": "display_data"
    }
   ],
   "source": [
    "current_group = 'group_1_0'\n",
    "n_samples = 1\n",
    "\n",
    "tmp_df = df[df['group_id'] == current_group].sample(n_samples)[['id', 'stretch_seq']]\n",
    "\n",
    "for i, row in tmp_df.iterrows():\n",
    "    plot_eleven_repeat(current_group + '_' + row['id'], row['stretch_seq'])  # , save=True)"
   ]
  },
  {
   "cell_type": "markdown",
   "metadata": {},
   "source": [
    "## RegEx"
   ]
  },
  {
   "cell_type": "code",
   "execution_count": 99,
   "metadata": {},
   "outputs": [],
   "source": [
    "def find_repeat(seq, pattern, len_pattern):\n",
    "    # max_s1 is the maximum number of repeats in one reading frame\n",
    "    # ! searches patterns in all reading frames\n",
    "\n",
    "    max_s1 = len(seq) // len_pattern\n",
    "    return len(re.findall(pattern, seq)), max_s1"
   ]
  },
  {
   "cell_type": "code",
   "execution_count": null,
   "metadata": {},
   "outputs": [],
   "source": [
    "# 1  2  3  4  5  6  7  8  9 10 11\n",
    "# a  b  c  d  e  f  g  h  i  j  k \n",
    "\n",
    "# pattern = r'[avilm].{6}[avilm].{3}' # detects a------h---\n",
    "\n",
    "# loop to find increasing number of consecutive hendecad repeats\n",
    "for n in range(1, 11):\n",
    "    \n",
    "    pattern = r'[avilm].{2}[avilm].{3}[avilm].{3}' * n # detects a--d---h---\n",
    "    len_pattern = 11 * n\n",
    "\n",
    "    res = []\n",
    "\n",
    "    for i in range(len(df)):\n",
    "        x, y = find_repeat(df.loc[i, 'stretch_seq'], pattern, len_pattern)\n",
    "        \n",
    "        if y == 0:\n",
    "            res.append(0)\n",
    "        else:    \n",
    "            res.append(x/y)\n",
    "\n",
    "    df[f'{n}R'] = res"
   ]
  },
  {
   "cell_type": "markdown",
   "metadata": {},
   "source": [
    "### Histograms"
   ]
  },
  {
   "cell_type": "code",
   "execution_count": 51,
   "metadata": {},
   "outputs": [
    {
     "data": {
      "image/png": "[encoded data removed]",
      "text/plain": [
       "<Figure size 1200x800 with 6 Axes>"
      ]
     },
     "metadata": {},
     "output_type": "display_data"
    }
   ],
   "source": [
    "fig, axes = plt.subplots(2, 3, figsize=(12, 8))\n",
    "\n",
    "R = ['1', '2', '3', '4', '5', '10']\n",
    "\n",
    "for i, ax in zip(R, axes.flat):\n",
    "    ax.hist(df[f'{i}R'], bins=20, color='skyblue', edgecolor='black')\n",
    "    ax.set_title(f'{i}R')\n",
    "    ax.set_xlabel('Proportion of repeats')\n",
    "    ax.set_ylabel('Count')\n",
    "\n",
    "plt.tight_layout()\n",
    "plt.show()\n"
   ]
  },
  {
   "cell_type": "code",
   "execution_count": 10,
   "metadata": {},
   "outputs": [
    {
     "data": {
      "text/html": [
       "<div>\n",
       "<style scoped>\n",
       "    .dataframe tbody tr th:only-of-type {\n",
       "        vertical-align: middle;\n",
       "    }\n",
       "\n",
       "    .dataframe tbody tr th {\n",
       "        vertical-align: top;\n",
       "    }\n",
       "\n",
       "    .dataframe thead th {\n",
       "        text-align: right;\n",
       "    }\n",
       "</style>\n",
       "<table border=\"1\" class=\"dataframe\">\n",
       "  <thead>\n",
       "    <tr style=\"text-align: right;\">\n",
       "      <th></th>\n",
       "      <th>Unnamed: 0</th>\n",
       "      <th>id</th>\n",
       "      <th>seq</th>\n",
       "      <th>stretch_ix</th>\n",
       "      <th>stretch_seq</th>\n",
       "      <th>avg_cc</th>\n",
       "      <th>group_id</th>\n",
       "      <th>1R</th>\n",
       "      <th>2R</th>\n",
       "      <th>3R</th>\n",
       "      <th>4R</th>\n",
       "      <th>5R</th>\n",
       "      <th>6R</th>\n",
       "      <th>7R</th>\n",
       "      <th>8R</th>\n",
       "      <th>9R</th>\n",
       "      <th>10R</th>\n",
       "    </tr>\n",
       "  </thead>\n",
       "  <tbody>\n",
       "    <tr>\n",
       "      <th>0</th>\n",
       "      <td>0</td>\n",
       "      <td>MCD6041253.1</td>\n",
       "      <td>Mrlvyvavaailcsfsttslagaektakragkfvektatragkfve...</td>\n",
       "      <td>[1, 71]</td>\n",
       "      <td>rlvyvavaailcsfsttslagaektakragkfvektatragkfver...</td>\n",
       "      <td>0.001041</td>\n",
       "      <td>unassigned</td>\n",
       "      <td>0.833333</td>\n",
       "      <td>0.666667</td>\n",
       "      <td>0.500000</td>\n",
       "      <td>1.000000</td>\n",
       "      <td>0.000000</td>\n",
       "      <td>0.0</td>\n",
       "      <td>0.0</td>\n",
       "      <td>0.0</td>\n",
       "      <td>0.0</td>\n",
       "      <td>0.0</td>\n",
       "    </tr>\n",
       "    <tr>\n",
       "      <th>1</th>\n",
       "      <td>1</td>\n",
       "      <td>MCD7737945.1</td>\n",
       "      <td>MQGRVFFREAAALILAAALSMAGLPASAAANSGIEAAALRTeeete...</td>\n",
       "      <td>[41, 238]</td>\n",
       "      <td>eeetepstkeavqetavetdtgekpesgedgqeesaesteeeqeed...</td>\n",
       "      <td>0.000364</td>\n",
       "      <td>unassigned</td>\n",
       "      <td>0.058824</td>\n",
       "      <td>0.000000</td>\n",
       "      <td>0.000000</td>\n",
       "      <td>0.000000</td>\n",
       "      <td>0.000000</td>\n",
       "      <td>0.0</td>\n",
       "      <td>0.0</td>\n",
       "      <td>0.0</td>\n",
       "      <td>0.0</td>\n",
       "      <td>0.0</td>\n",
       "    </tr>\n",
       "    <tr>\n",
       "      <th>2</th>\n",
       "      <td>2</td>\n",
       "      <td>MYF28459.1</td>\n",
       "      <td>Merlqtdllkeihalrgemhaefasvrqemhagfasirqemhaeta...</td>\n",
       "      <td>[1, 73]</td>\n",
       "      <td>erlqtdllkeihalrgemhaefasvrqemhagfasirqemhaetas...</td>\n",
       "      <td>0.001002</td>\n",
       "      <td>unassigned</td>\n",
       "      <td>0.833333</td>\n",
       "      <td>0.666667</td>\n",
       "      <td>0.500000</td>\n",
       "      <td>1.000000</td>\n",
       "      <td>1.000000</td>\n",
       "      <td>0.0</td>\n",
       "      <td>0.0</td>\n",
       "      <td>0.0</td>\n",
       "      <td>0.0</td>\n",
       "      <td>0.0</td>\n",
       "    </tr>\n",
       "    <tr>\n",
       "      <th>3</th>\n",
       "      <td>3</td>\n",
       "      <td>WP_168920948.1</td>\n",
       "      <td>MSDVFLTASYADREKVKTLGARWNPAEKRWYVPSGRDLSPFAAWLP...</td>\n",
       "      <td>[437, 540]</td>\n",
       "      <td>aqslvveikhaasqqlllarhvvparmaevtaegrqalrtakaqsq...</td>\n",
       "      <td>0.000689</td>\n",
       "      <td>group_42</td>\n",
       "      <td>0.666667</td>\n",
       "      <td>0.500000</td>\n",
       "      <td>0.333333</td>\n",
       "      <td>0.000000</td>\n",
       "      <td>0.000000</td>\n",
       "      <td>0.0</td>\n",
       "      <td>0.0</td>\n",
       "      <td>0.0</td>\n",
       "      <td>0.0</td>\n",
       "      <td>0.0</td>\n",
       "    </tr>\n",
       "    <tr>\n",
       "      <th>4</th>\n",
       "      <td>4</td>\n",
       "      <td>WP_026306873.1</td>\n",
       "      <td>MLLRRIARPLLSAAFIAEGIDILQNPGPLADRLSPALDFTRRRSQH...</td>\n",
       "      <td>[172, 342]</td>\n",
       "      <td>slgwrgrraardakdhaealaataaaiaatarergtnlvdtarert...</td>\n",
       "      <td>0.000424</td>\n",
       "      <td>group_38</td>\n",
       "      <td>0.800000</td>\n",
       "      <td>0.714286</td>\n",
       "      <td>0.800000</td>\n",
       "      <td>0.333333</td>\n",
       "      <td>0.333333</td>\n",
       "      <td>0.5</td>\n",
       "      <td>0.0</td>\n",
       "      <td>0.0</td>\n",
       "      <td>0.0</td>\n",
       "      <td>0.0</td>\n",
       "    </tr>\n",
       "    <tr>\n",
       "      <th>...</th>\n",
       "      <td>...</td>\n",
       "      <td>...</td>\n",
       "      <td>...</td>\n",
       "      <td>...</td>\n",
       "      <td>...</td>\n",
       "      <td>...</td>\n",
       "      <td>...</td>\n",
       "      <td>...</td>\n",
       "      <td>...</td>\n",
       "      <td>...</td>\n",
       "      <td>...</td>\n",
       "      <td>...</td>\n",
       "      <td>...</td>\n",
       "      <td>...</td>\n",
       "      <td>...</td>\n",
       "      <td>...</td>\n",
       "      <td>...</td>\n",
       "    </tr>\n",
       "    <tr>\n",
       "      <th>40585</th>\n",
       "      <td>40585</td>\n",
       "      <td>XP_034013580.1</td>\n",
       "      <td>MKLNWLLGILPIVAANFDDWSKADLTQFLEDRNVTVQKGDDLVQLA...</td>\n",
       "      <td>[667, 798]</td>\n",
       "      <td>kdakksgesfaslasksgawyadafysvasesgesaasqalqtgqk...</td>\n",
       "      <td>0.000553</td>\n",
       "      <td>group_106</td>\n",
       "      <td>0.545455</td>\n",
       "      <td>0.200000</td>\n",
       "      <td>0.333333</td>\n",
       "      <td>0.000000</td>\n",
       "      <td>0.000000</td>\n",
       "      <td>0.0</td>\n",
       "      <td>0.0</td>\n",
       "      <td>0.0</td>\n",
       "      <td>0.0</td>\n",
       "      <td>0.0</td>\n",
       "    </tr>\n",
       "    <tr>\n",
       "      <th>40586</th>\n",
       "      <td>40586</td>\n",
       "      <td>GFR06050.1</td>\n",
       "      <td>MSDVYMDDLLTGADDLESGRKLQEQLVSLLRGAGMELHKWSASNPL...</td>\n",
       "      <td>[578, 680]</td>\n",
       "      <td>eqrsiseeyekirdyfkdlkiklrekftrfgqwvkgkyergleksk...</td>\n",
       "      <td>0.000696</td>\n",
       "      <td>group_9</td>\n",
       "      <td>0.333333</td>\n",
       "      <td>0.000000</td>\n",
       "      <td>0.000000</td>\n",
       "      <td>0.000000</td>\n",
       "      <td>0.000000</td>\n",
       "      <td>0.0</td>\n",
       "      <td>0.0</td>\n",
       "      <td>0.0</td>\n",
       "      <td>0.0</td>\n",
       "      <td>0.0</td>\n",
       "    </tr>\n",
       "    <tr>\n",
       "      <th>40587</th>\n",
       "      <td>40587</td>\n",
       "      <td>KAG2190414.1</td>\n",
       "      <td>MSSSILRASIRRNATIANKRFYSAPPPPPYAPNNQGGGNGGLFLGL...</td>\n",
       "      <td>[65, 170]</td>\n",
       "      <td>gtltkqgevvdqkiqegkqavrdkadeakakyeqskseagqavdqk...</td>\n",
       "      <td>0.000676</td>\n",
       "      <td>unassigned</td>\n",
       "      <td>0.666667</td>\n",
       "      <td>0.500000</td>\n",
       "      <td>0.000000</td>\n",
       "      <td>0.000000</td>\n",
       "      <td>0.000000</td>\n",
       "      <td>0.0</td>\n",
       "      <td>0.0</td>\n",
       "      <td>0.0</td>\n",
       "      <td>0.0</td>\n",
       "      <td>0.0</td>\n",
       "    </tr>\n",
       "    <tr>\n",
       "      <th>40588</th>\n",
       "      <td>40588</td>\n",
       "      <td>MBY0528383.1</td>\n",
       "      <td>MRVYCSLLASLLTCATIASQPPPLVFNGGTNSLAPRRILAAEKQET...</td>\n",
       "      <td>[734, 833]</td>\n",
       "      <td>isaltndknrmvrknavdslgffpwdakaivpllvallsdkdsdla...</td>\n",
       "      <td>0.000714</td>\n",
       "      <td>group_1_1</td>\n",
       "      <td>0.777778</td>\n",
       "      <td>0.750000</td>\n",
       "      <td>0.666667</td>\n",
       "      <td>0.500000</td>\n",
       "      <td>1.000000</td>\n",
       "      <td>1.0</td>\n",
       "      <td>0.0</td>\n",
       "      <td>0.0</td>\n",
       "      <td>0.0</td>\n",
       "      <td>0.0</td>\n",
       "    </tr>\n",
       "    <tr>\n",
       "      <th>40589</th>\n",
       "      <td>40589</td>\n",
       "      <td>MBR5231210.1</td>\n",
       "      <td>MAELKVFSVISSISSMLREGRAVPLSGLVMVNKQRMEQLLDELESS...</td>\n",
       "      <td>[55, 154]</td>\n",
       "      <td>kllsrerellqriddqrievetkaateartmvdeankaaqktrlta...</td>\n",
       "      <td>0.000726</td>\n",
       "      <td>unassigned</td>\n",
       "      <td>0.888889</td>\n",
       "      <td>1.000000</td>\n",
       "      <td>0.666667</td>\n",
       "      <td>0.500000</td>\n",
       "      <td>1.000000</td>\n",
       "      <td>1.0</td>\n",
       "      <td>0.0</td>\n",
       "      <td>0.0</td>\n",
       "      <td>0.0</td>\n",
       "      <td>0.0</td>\n",
       "    </tr>\n",
       "  </tbody>\n",
       "</table>\n",
       "<p>40590 rows × 17 columns</p>\n",
       "</div>"
      ],
      "text/plain": [
       "       Unnamed: 0              id  \\\n",
       "0               0    MCD6041253.1   \n",
       "1               1    MCD7737945.1   \n",
       "2               2      MYF28459.1   \n",
       "3               3  WP_168920948.1   \n",
       "4               4  WP_026306873.1   \n",
       "...           ...             ...   \n",
       "40585       40585  XP_034013580.1   \n",
       "40586       40586      GFR06050.1   \n",
       "40587       40587    KAG2190414.1   \n",
       "40588       40588    MBY0528383.1   \n",
       "40589       40589    MBR5231210.1   \n",
       "\n",
       "                                                     seq  stretch_ix  \\\n",
       "0      Mrlvyvavaailcsfsttslagaektakragkfvektatragkfve...     [1, 71]   \n",
       "1      MQGRVFFREAAALILAAALSMAGLPASAAANSGIEAAALRTeeete...   [41, 238]   \n",
       "2      Merlqtdllkeihalrgemhaefasvrqemhagfasirqemhaeta...     [1, 73]   \n",
       "3      MSDVFLTASYADREKVKTLGARWNPAEKRWYVPSGRDLSPFAAWLP...  [437, 540]   \n",
       "4      MLLRRIARPLLSAAFIAEGIDILQNPGPLADRLSPALDFTRRRSQH...  [172, 342]   \n",
       "...                                                  ...         ...   \n",
       "40585  MKLNWLLGILPIVAANFDDWSKADLTQFLEDRNVTVQKGDDLVQLA...  [667, 798]   \n",
       "40586  MSDVYMDDLLTGADDLESGRKLQEQLVSLLRGAGMELHKWSASNPL...  [578, 680]   \n",
       "40587  MSSSILRASIRRNATIANKRFYSAPPPPPYAPNNQGGGNGGLFLGL...   [65, 170]   \n",
       "40588  MRVYCSLLASLLTCATIASQPPPLVFNGGTNSLAPRRILAAEKQET...  [734, 833]   \n",
       "40589  MAELKVFSVISSISSMLREGRAVPLSGLVMVNKQRMEQLLDELESS...   [55, 154]   \n",
       "\n",
       "                                             stretch_seq    avg_cc  \\\n",
       "0      rlvyvavaailcsfsttslagaektakragkfvektatragkfver...  0.001041   \n",
       "1      eeetepstkeavqetavetdtgekpesgedgqeesaesteeeqeed...  0.000364   \n",
       "2      erlqtdllkeihalrgemhaefasvrqemhagfasirqemhaetas...  0.001002   \n",
       "3      aqslvveikhaasqqlllarhvvparmaevtaegrqalrtakaqsq...  0.000689   \n",
       "4      slgwrgrraardakdhaealaataaaiaatarergtnlvdtarert...  0.000424   \n",
       "...                                                  ...       ...   \n",
       "40585  kdakksgesfaslasksgawyadafysvasesgesaasqalqtgqk...  0.000553   \n",
       "40586  eqrsiseeyekirdyfkdlkiklrekftrfgqwvkgkyergleksk...  0.000696   \n",
       "40587  gtltkqgevvdqkiqegkqavrdkadeakakyeqskseagqavdqk...  0.000676   \n",
       "40588  isaltndknrmvrknavdslgffpwdakaivpllvallsdkdsdla...  0.000714   \n",
       "40589  kllsrerellqriddqrievetkaateartmvdeankaaqktrlta...  0.000726   \n",
       "\n",
       "         group_id        1R        2R        3R        4R        5R   6R   7R  \\\n",
       "0      unassigned  0.833333  0.666667  0.500000  1.000000  0.000000  0.0  0.0   \n",
       "1      unassigned  0.058824  0.000000  0.000000  0.000000  0.000000  0.0  0.0   \n",
       "2      unassigned  0.833333  0.666667  0.500000  1.000000  1.000000  0.0  0.0   \n",
       "3        group_42  0.666667  0.500000  0.333333  0.000000  0.000000  0.0  0.0   \n",
       "4        group_38  0.800000  0.714286  0.800000  0.333333  0.333333  0.5  0.0   \n",
       "...           ...       ...       ...       ...       ...       ...  ...  ...   \n",
       "40585   group_106  0.545455  0.200000  0.333333  0.000000  0.000000  0.0  0.0   \n",
       "40586     group_9  0.333333  0.000000  0.000000  0.000000  0.000000  0.0  0.0   \n",
       "40587  unassigned  0.666667  0.500000  0.000000  0.000000  0.000000  0.0  0.0   \n",
       "40588   group_1_1  0.777778  0.750000  0.666667  0.500000  1.000000  1.0  0.0   \n",
       "40589  unassigned  0.888889  1.000000  0.666667  0.500000  1.000000  1.0  0.0   \n",
       "\n",
       "        8R   9R  10R  \n",
       "0      0.0  0.0  0.0  \n",
       "1      0.0  0.0  0.0  \n",
       "2      0.0  0.0  0.0  \n",
       "3      0.0  0.0  0.0  \n",
       "4      0.0  0.0  0.0  \n",
       "...    ...  ...  ...  \n",
       "40585  0.0  0.0  0.0  \n",
       "40586  0.0  0.0  0.0  \n",
       "40587  0.0  0.0  0.0  \n",
       "40588  0.0  0.0  0.0  \n",
       "40589  0.0  0.0  0.0  \n",
       "\n",
       "[40590 rows x 17 columns]"
      ]
     },
     "execution_count": 10,
     "metadata": {},
     "output_type": "execute_result"
    }
   ],
   "source": [
    "df"
   ]
  },
  {
   "cell_type": "markdown",
   "metadata": {},
   "source": [
    "### Sankey"
   ]
  },
  {
   "cell_type": "code",
   "execution_count": 100,
   "metadata": {},
   "outputs": [],
   "source": [
    "R = [1, 2, 5, 10]\n",
    "\n",
    "values = []\n",
    "\n",
    "groups_r = []\n",
    "groups_not_r = []\n",
    "\n",
    "first = True\n",
    "\n",
    "for i in R:\n",
    "  \n",
    "    if first:\n",
    "        r = df[(df[f'{i}R'] > 0)]       # where there is at least one pattern match\n",
    "        not_r = df[(df[f'{i}R'] == 0)]  # where there is no pattern match\n",
    "\n",
    "        groups_r.append(r)\n",
    "\n",
    "        values.append(len(r))  \n",
    "        values.append(len(not_r))    \n",
    "        \n",
    "        first = False\n",
    "    else:\n",
    "        r = df[df[f'{i}R'] > 0]                                 # where there is at least one pattern match\n",
    "        not_r = df[(df[f'{i-1}R'] > 0) & (df[f'{i}R'] == 0)]    # where there is a pattern match in the previous iteration but not in the current\n",
    "\n",
    "        groups_r.append(r)\n",
    "\n",
    "        values.append(len(r))\n",
    "        values.append(len(not_r))"
   ]
  },
  {
   "cell_type": "code",
   "execution_count": 101,
   "metadata": {},
   "outputs": [
    {
     "data": {
      "application/vnd.plotly.v1+json": {
       "config": {
        "plotlyServerURL": "https://plot.ly"
       },
       "data": [
        {
         "link": {
          "source": [
           0,
           0,
           1,
           1,
           3,
           3,
           5
          ],
          "target": [
           1,
           2,
           3,
           4,
           5,
           6,
           7
          ],
          "value": [
           33846,
           6744,
           19149,
           14697,
           4845,
           2548,
           813,
           278
          ]
         },
         "node": {
          "color": [
           "#0f6349",
           "#0f6349",
           "#0f6349",
           "#0f6349",
           "#0f6349",
           "#0f6349",
           "#0f6349",
           "#0f6349"
          ],
          "label": [
           "All",
           "1R",
           "not 1R",
           "2R",
           "not 2R",
           "5R",
           "not 5R",
           "10R",
           "not 10R"
          ],
          "line": {
           "color": "black",
           "width": 0.5
          },
          "pad": 15,
          "thickness": 20
         },
         "type": "sankey"
        }
       ],
       "layout": {
        "template": {
         "data": {
          "bar": [
           {
            "error_x": {
             "color": "#2a3f5f"
            },
            "error_y": {
             "color": "#2a3f5f"
            },
            "marker": {
             "line": {
              "color": "#E5ECF6",
              "width": 0.5
             },
             "pattern": {
              "fillmode": "overlay",
              "size": 10,
              "solidity": 0.2
             }
            },
            "type": "bar"
           }
          ],
          "barpolar": [
           {
            "marker": {
             "line": {
              "color": "#E5ECF6",
              "width": 0.5
             },
             "pattern": {
              "fillmode": "overlay",
              "size": 10,
              "solidity": 0.2
             }
            },
            "type": "barpolar"
           }
          ],
          "carpet": [
           {
            "aaxis": {
             "endlinecolor": "#2a3f5f",
             "gridcolor": "white",
             "linecolor": "white",
             "minorgridcolor": "white",
             "startlinecolor": "#2a3f5f"
            },
            "baxis": {
             "endlinecolor": "#2a3f5f",
             "gridcolor": "white",
             "linecolor": "white",
             "minorgridcolor": "white",
             "startlinecolor": "#2a3f5f"
            },
            "type": "carpet"
           }
          ],
          "choropleth": [
           {
            "colorbar": {
             "outlinewidth": 0,
             "ticks": ""
            },
            "type": "choropleth"
           }
          ],
          "contour": [
           {
            "colorbar": {
             "outlinewidth": 0,
             "ticks": ""
            },
            "colorscale": [
             [
              0,
              "#0d0887"
             ],
             [
              0.1111111111111111,
              "#46039f"
             ],
             [
              0.2222222222222222,
              "#7201a8"
             ],
             [
              0.3333333333333333,
              "#9c179e"
             ],
             [
              0.4444444444444444,
              "#bd3786"
             ],
             [
              0.5555555555555556,
              "#d8576b"
             ],
             [
              0.6666666666666666,
              "#ed7953"
             ],
             [
              0.7777777777777778,
              "#fb9f3a"
             ],
             [
              0.8888888888888888,
              "#fdca26"
             ],
             [
              1,
              "#f0f921"
             ]
            ],
            "type": "contour"
           }
          ],
          "contourcarpet": [
           {
            "colorbar": {
             "outlinewidth": 0,
             "ticks": ""
            },
            "type": "contourcarpet"
           }
          ],
          "heatmap": [
           {
            "colorbar": {
             "outlinewidth": 0,
             "ticks": ""
            },
            "colorscale": [
             [
              0,
              "#0d0887"
             ],
             [
              0.1111111111111111,
              "#46039f"
             ],
             [
              0.2222222222222222,
              "#7201a8"
             ],
             [
              0.3333333333333333,
              "#9c179e"
             ],
             [
              0.4444444444444444,
              "#bd3786"
             ],
             [
              0.5555555555555556,
              "#d8576b"
             ],
             [
              0.6666666666666666,
              "#ed7953"
             ],
             [
              0.7777777777777778,
              "#fb9f3a"
             ],
             [
              0.8888888888888888,
              "#fdca26"
             ],
             [
              1,
              "#f0f921"
             ]
            ],
            "type": "heatmap"
           }
          ],
          "heatmapgl": [
           {
            "colorbar": {
             "outlinewidth": 0,
             "ticks": ""
            },
            "colorscale": [
             [
              0,
              "#0d0887"
             ],
             [
              0.1111111111111111,
              "#46039f"
             ],
             [
              0.2222222222222222,
              "#7201a8"
             ],
             [
              0.3333333333333333,
              "#9c179e"
             ],
             [
              0.4444444444444444,
              "#bd3786"
             ],
             [
              0.5555555555555556,
              "#d8576b"
             ],
             [
              0.6666666666666666,
              "#ed7953"
             ],
             [
              0.7777777777777778,
              "#fb9f3a"
             ],
             [
              0.8888888888888888,
              "#fdca26"
             ],
             [
              1,
              "#f0f921"
             ]
            ],
            "type": "heatmapgl"
           }
          ],
          "histogram": [
           {
            "marker": {
             "pattern": {
              "fillmode": "overlay",
              "size": 10,
              "solidity": 0.2
             }
            },
            "type": "histogram"
           }
          ],
          "histogram2d": [
           {
            "colorbar": {
             "outlinewidth": 0,
             "ticks": ""
            },
            "colorscale": [
             [
              0,
              "#0d0887"
             ],
             [
              0.1111111111111111,
              "#46039f"
             ],
             [
              0.2222222222222222,
              "#7201a8"
             ],
             [
              0.3333333333333333,
              "#9c179e"
             ],
             [
              0.4444444444444444,
              "#bd3786"
             ],
             [
              0.5555555555555556,
              "#d8576b"
             ],
             [
              0.6666666666666666,
              "#ed7953"
             ],
             [
              0.7777777777777778,
              "#fb9f3a"
             ],
             [
              0.8888888888888888,
              "#fdca26"
             ],
             [
              1,
              "#f0f921"
             ]
            ],
            "type": "histogram2d"
           }
          ],
          "histogram2dcontour": [
           {
            "colorbar": {
             "outlinewidth": 0,
             "ticks": ""
            },
            "colorscale": [
             [
              0,
              "#0d0887"
             ],
             [
              0.1111111111111111,
              "#46039f"
             ],
             [
              0.2222222222222222,
              "#7201a8"
             ],
             [
              0.3333333333333333,
              "#9c179e"
             ],
             [
              0.4444444444444444,
              "#bd3786"
             ],
             [
              0.5555555555555556,
              "#d8576b"
             ],
             [
              0.6666666666666666,
              "#ed7953"
             ],
             [
              0.7777777777777778,
              "#fb9f3a"
             ],
             [
              0.8888888888888888,
              "#fdca26"
             ],
             [
              1,
              "#f0f921"
             ]
            ],
            "type": "histogram2dcontour"
           }
          ],
          "mesh3d": [
           {
            "colorbar": {
             "outlinewidth": 0,
             "ticks": ""
            },
            "type": "mesh3d"
           }
          ],
          "parcoords": [
           {
            "line": {
             "colorbar": {
              "outlinewidth": 0,
              "ticks": ""
             }
            },
            "type": "parcoords"
           }
          ],
          "pie": [
           {
            "automargin": true,
            "type": "pie"
           }
          ],
          "scatter": [
           {
            "fillpattern": {
             "fillmode": "overlay",
             "size": 10,
             "solidity": 0.2
            },
            "type": "scatter"
           }
          ],
          "scatter3d": [
           {
            "line": {
             "colorbar": {
              "outlinewidth": 0,
              "ticks": ""
             }
            },
            "marker": {
             "colorbar": {
              "outlinewidth": 0,
              "ticks": ""
             }
            },
            "type": "scatter3d"
           }
          ],
          "scattercarpet": [
           {
            "marker": {
             "colorbar": {
              "outlinewidth": 0,
              "ticks": ""
             }
            },
            "type": "scattercarpet"
           }
          ],
          "scattergeo": [
           {
            "marker": {
             "colorbar": {
              "outlinewidth": 0,
              "ticks": ""
             }
            },
            "type": "scattergeo"
           }
          ],
          "scattergl": [
           {
            "marker": {
             "colorbar": {
              "outlinewidth": 0,
              "ticks": ""
             }
            },
            "type": "scattergl"
           }
          ],
          "scattermapbox": [
           {
            "marker": {
             "colorbar": {
              "outlinewidth": 0,
              "ticks": ""
             }
            },
            "type": "scattermapbox"
           }
          ],
          "scatterpolar": [
           {
            "marker": {
             "colorbar": {
              "outlinewidth": 0,
              "ticks": ""
             }
            },
            "type": "scatterpolar"
           }
          ],
          "scatterpolargl": [
           {
            "marker": {
             "colorbar": {
              "outlinewidth": 0,
              "ticks": ""
             }
            },
            "type": "scatterpolargl"
           }
          ],
          "scatterternary": [
           {
            "marker": {
             "colorbar": {
              "outlinewidth": 0,
              "ticks": ""
             }
            },
            "type": "scatterternary"
           }
          ],
          "surface": [
           {
            "colorbar": {
             "outlinewidth": 0,
             "ticks": ""
            },
            "colorscale": [
             [
              0,
              "#0d0887"
             ],
             [
              0.1111111111111111,
              "#46039f"
             ],
             [
              0.2222222222222222,
              "#7201a8"
             ],
             [
              0.3333333333333333,
              "#9c179e"
             ],
             [
              0.4444444444444444,
              "#bd3786"
             ],
             [
              0.5555555555555556,
              "#d8576b"
             ],
             [
              0.6666666666666666,
              "#ed7953"
             ],
             [
              0.7777777777777778,
              "#fb9f3a"
             ],
             [
              0.8888888888888888,
              "#fdca26"
             ],
             [
              1,
              "#f0f921"
             ]
            ],
            "type": "surface"
           }
          ],
          "table": [
           {
            "cells": {
             "fill": {
              "color": "#EBF0F8"
             },
             "line": {
              "color": "white"
             }
            },
            "header": {
             "fill": {
              "color": "#C8D4E3"
             },
             "line": {
              "color": "white"
             }
            },
            "type": "table"
           }
          ]
         },
         "layout": {
          "annotationdefaults": {
           "arrowcolor": "#2a3f5f",
           "arrowhead": 0,
           "arrowwidth": 1
          },
          "autotypenumbers": "strict",
          "coloraxis": {
           "colorbar": {
            "outlinewidth": 0,
            "ticks": ""
           }
          },
          "colorscale": {
           "diverging": [
            [
             0,
             "#8e0152"
            ],
            [
             0.1,
             "#c51b7d"
            ],
            [
             0.2,
             "#de77ae"
            ],
            [
             0.3,
             "#f1b6da"
            ],
            [
             0.4,
             "#fde0ef"
            ],
            [
             0.5,
             "#f7f7f7"
            ],
            [
             0.6,
             "#e6f5d0"
            ],
            [
             0.7,
             "#b8e186"
            ],
            [
             0.8,
             "#7fbc41"
            ],
            [
             0.9,
             "#4d9221"
            ],
            [
             1,
             "#276419"
            ]
           ],
           "sequential": [
            [
             0,
             "#0d0887"
            ],
            [
             0.1111111111111111,
             "#46039f"
            ],
            [
             0.2222222222222222,
             "#7201a8"
            ],
            [
             0.3333333333333333,
             "#9c179e"
            ],
            [
             0.4444444444444444,
             "#bd3786"
            ],
            [
             0.5555555555555556,
             "#d8576b"
            ],
            [
             0.6666666666666666,
             "#ed7953"
            ],
            [
             0.7777777777777778,
             "#fb9f3a"
            ],
            [
             0.8888888888888888,
             "#fdca26"
            ],
            [
             1,
             "#f0f921"
            ]
           ],
           "sequentialminus": [
            [
             0,
             "#0d0887"
            ],
            [
             0.1111111111111111,
             "#46039f"
            ],
            [
             0.2222222222222222,
             "#7201a8"
            ],
            [
             0.3333333333333333,
             "#9c179e"
            ],
            [
             0.4444444444444444,
             "#bd3786"
            ],
            [
             0.5555555555555556,
             "#d8576b"
            ],
            [
             0.6666666666666666,
             "#ed7953"
            ],
            [
             0.7777777777777778,
             "#fb9f3a"
            ],
            [
             0.8888888888888888,
             "#fdca26"
            ],
            [
             1,
             "#f0f921"
            ]
           ]
          },
          "colorway": [
           "#636efa",
           "#EF553B",
           "#00cc96",
           "#ab63fa",
           "#FFA15A",
           "#19d3f3",
           "#FF6692",
           "#B6E880",
           "#FF97FF",
           "#FECB52"
          ],
          "font": {
           "color": "#2a3f5f"
          },
          "geo": {
           "bgcolor": "white",
           "lakecolor": "white",
           "landcolor": "#E5ECF6",
           "showlakes": true,
           "showland": true,
           "subunitcolor": "white"
          },
          "hoverlabel": {
           "align": "left"
          },
          "hovermode": "closest",
          "mapbox": {
           "style": "light"
          },
          "paper_bgcolor": "white",
          "plot_bgcolor": "#E5ECF6",
          "polar": {
           "angularaxis": {
            "gridcolor": "white",
            "linecolor": "white",
            "ticks": ""
           },
           "bgcolor": "#E5ECF6",
           "radialaxis": {
            "gridcolor": "white",
            "linecolor": "white",
            "ticks": ""
           }
          },
          "scene": {
           "xaxis": {
            "backgroundcolor": "#E5ECF6",
            "gridcolor": "white",
            "gridwidth": 2,
            "linecolor": "white",
            "showbackground": true,
            "ticks": "",
            "zerolinecolor": "white"
           },
           "yaxis": {
            "backgroundcolor": "#E5ECF6",
            "gridcolor": "white",
            "gridwidth": 2,
            "linecolor": "white",
            "showbackground": true,
            "ticks": "",
            "zerolinecolor": "white"
           },
           "zaxis": {
            "backgroundcolor": "#E5ECF6",
            "gridcolor": "white",
            "gridwidth": 2,
            "linecolor": "white",
            "showbackground": true,
            "ticks": "",
            "zerolinecolor": "white"
           }
          },
          "shapedefaults": {
           "line": {
            "color": "#2a3f5f"
           }
          },
          "ternary": {
           "aaxis": {
            "gridcolor": "white",
            "linecolor": "white",
            "ticks": ""
           },
           "baxis": {
            "gridcolor": "white",
            "linecolor": "white",
            "ticks": ""
           },
           "bgcolor": "#E5ECF6",
           "caxis": {
            "gridcolor": "white",
            "linecolor": "white",
            "ticks": ""
           }
          },
          "title": {
           "x": 0.05
          },
          "xaxis": {
           "automargin": true,
           "gridcolor": "white",
           "linecolor": "white",
           "ticks": "",
           "title": {
            "standoff": 15
           },
           "zerolinecolor": "white",
           "zerolinewidth": 2
          },
          "yaxis": {
           "automargin": true,
           "gridcolor": "white",
           "linecolor": "white",
           "ticks": "",
           "title": {
            "standoff": 15
           },
           "zerolinecolor": "white",
           "zerolinewidth": 2
          }
         }
        }
       }
      }
     },
     "metadata": {},
     "output_type": "display_data"
    }
   ],
   "source": [
    "labels = [[f'{i}R', f'not {i}R']for i in R]\n",
    "labels = [item for sublist in labels for item in sublist]\n",
    "\n",
    "color = ['#0f6349'] * len(labels)\n",
    "\n",
    "fig = go.Figure(\n",
    "    data=[\n",
    "        go.Sankey(\n",
    "            node=dict(\n",
    "                pad=15,\n",
    "                thickness=20,\n",
    "                line=dict(color=\"black\", width=0.5),\n",
    "                label=[\"All\"] + labels,\n",
    "                color=color,\n",
    "            ),\n",
    "            link=dict(\n",
    "                source=[0, 0, 1, 1, 3, 3, 5],  # , 5, 7, 7, 9, 9, 11, 11, 13, 13, 15, 15, 17, 17],\n",
    "                target=[1, 2, 3, 4, 5, 6, 7],  # , 8, 9, 10, 11, 12, 13, 14, 15, 16, 17, 18, 19, 20],\n",
    "                value=values,\n",
    "            ),\n",
    "        )\n",
    "    ]\n",
    ")\n",
    "\n",
    "# i = 0\n",
    "# for l, v in zip(['All'] + labels, values):\n",
    "#     print(f'{i} : {l} : {v}')\n",
    "#     i += 1\n",
    "\n",
    "fig.show()"
   ]
  },
  {
   "cell_type": "markdown",
   "metadata": {},
   "source": [
    "### Pie Charts"
   ]
  },
  {
   "cell_type": "code",
   "execution_count": 103,
   "metadata": {},
   "outputs": [
    {
     "name": "stdout",
     "output_type": "stream",
     "text": [
      "group_ix\n",
      "0    20342\n",
      "3     5807\n",
      "8     1962\n",
      "5      572\n",
      "4      490\n",
      "Name: count, dtype: int64\n"
     ]
    },
    {
     "data": {
      "image/png": "[encoded data removed]",
      "text/plain": [
       "<Figure size 800x400 with 2 Axes>"
      ]
     },
     "metadata": {},
     "output_type": "display_data"
    },
    {
     "name": "stdout",
     "output_type": "stream",
     "text": [
      "group_ix\n",
      "0     10637\n",
      "3      4953\n",
      "5       455\n",
      "4       432\n",
      "20      230\n",
      "Name: count, dtype: int64\n"
     ]
    },
    {
     "data": {
      "image/png": "[encoded data removed]",
      "text/plain": [
       "<Figure size 800x400 with 2 Axes>"
      ]
     },
     "metadata": {},
     "output_type": "display_data"
    },
    {
     "name": "stdout",
     "output_type": "stream",
     "text": [
      "group_ix\n",
      "0     2675\n",
      "3     1607\n",
      "4       99\n",
      "5       52\n",
      "38      48\n",
      "Name: count, dtype: int64\n"
     ]
    },
    {
     "data": {
      "image/png": "[encoded data removed]",
      "text/plain": [
       "<Figure size 800x400 with 2 Axes>"
      ]
     },
     "metadata": {},
     "output_type": "display_data"
    },
    {
     "name": "stdout",
     "output_type": "stream",
     "text": [
      "group_ix\n",
      "0     391\n",
      "3     365\n",
      "4       9\n",
      "39      9\n",
      "38      7\n",
      "Name: count, dtype: int64\n"
     ]
    },
    {
     "data": {
      "image/png": "[encoded data removed]",
      "text/plain": [
       "<Figure size 800x400 with 2 Axes>"
      ]
     },
     "metadata": {},
     "output_type": "display_data"
    }
   ],
   "source": [
    "# display all pie charts from groups_r \n",
    "top_n = 5\n",
    "\n",
    "for group in groups_r:\n",
    "    fig, ax = plt.subplots(1, 2, figsize=(8, 4))\n",
    "\n",
    "    ax[0].hist(group['stretch_seq'].apply(lambda x: len(x)), bins=100, edgecolor='black')\n",
    "    ax[1].pie(group['group_ix'].value_counts()[:top_n], labels=group['group_ix'].value_counts().index[:top_n], \n",
    "            explode=[0.1] + [0 for _ in range(len(group['group_ix'].unique()) - 1)][:top_n-1])\n",
    "\n",
    "    print(group['group_ix'].value_counts()[:top_n])\n",
    "    plt.show()"
   ]
  },
  {
   "cell_type": "code",
   "execution_count": 49,
   "metadata": {},
   "outputs": [
    {
     "data": {
      "text/plain": [
       "{'unassigned': 0,\n",
       " 'group_42': 1,\n",
       " 'group_38': 2,\n",
       " 'group_0': 3,\n",
       " 'group_1_0': 4,\n",
       " 'group_1_1': 5,\n",
       " 'group_58': 6,\n",
       " 'group_2': 7,\n",
       " 'group_1_2': 8,\n",
       " 'group_102': 9,\n",
       " 'group_21': 10,\n",
       " 'group_31': 11,\n",
       " 'group_3': 12,\n",
       " 'group_84': 13,\n",
       " 'group_14': 14,\n",
       " 'group_5': 15,\n",
       " 'group_85': 16,\n",
       " 'group_25': 17,\n",
       " 'group_39': 18,\n",
       " 'group_19': 19,\n",
       " 'group_4': 20,\n",
       " 'group_59': 21,\n",
       " 'group_73': 22,\n",
       " 'group_15': 23,\n",
       " 'group_8': 24,\n",
       " 'group_86': 25,\n",
       " 'group_66': 26,\n",
       " 'group_34': 27,\n",
       " 'group_1_3': 28,\n",
       " 'group_113': 29,\n",
       " 'group_10': 30,\n",
       " 'group_30': 31,\n",
       " 'group_51': 32,\n",
       " 'group_114': 33,\n",
       " 'group_17': 34,\n",
       " 'group_27': 35,\n",
       " 'group_11': 36,\n",
       " 'group_23': 37,\n",
       " 'group_12': 38,\n",
       " 'group_6': 39,\n",
       " 'group_77': 40,\n",
       " 'group_7': 41,\n",
       " 'group_28': 42,\n",
       " 'group_94': 43,\n",
       " 'group_1_4': 44,\n",
       " 'group_78': 45,\n",
       " 'group_35': 46,\n",
       " 'group_55': 47,\n",
       " 'group_103': 48,\n",
       " 'group_67': 49,\n",
       " 'group_60': 50,\n",
       " 'group_68': 51,\n",
       " 'group_26': 52,\n",
       " 'group_43': 53,\n",
       " 'group_24': 54,\n",
       " 'group_74': 55,\n",
       " 'group_63': 56,\n",
       " 'group_87': 57,\n",
       " 'group_104': 58,\n",
       " 'group_9': 59,\n",
       " 'group_22': 60,\n",
       " 'group_32': 61,\n",
       " 'group_64': 62,\n",
       " 'group_45': 63,\n",
       " 'group_88': 64,\n",
       " 'group_52': 65,\n",
       " 'group_115': 66,\n",
       " 'group_18': 67,\n",
       " 'group_89': 68,\n",
       " 'group_105': 69,\n",
       " 'group_16': 70,\n",
       " 'group_106': 71,\n",
       " 'group_13': 72,\n",
       " 'group_20': 73,\n",
       " 'group_46': 74,\n",
       " 'group_95': 75,\n",
       " 'group_54': 76,\n",
       " 'group_36': 77,\n",
       " 'group_37': 78,\n",
       " 'group_61': 79,\n",
       " 'group_116': 80,\n",
       " 'group_29': 81,\n",
       " 'group_53': 82,\n",
       " 'group_33': 83,\n",
       " 'group_75': 84,\n",
       " 'group_69': 85,\n",
       " 'group_90': 86,\n",
       " 'group_44': 87,\n",
       " 'group_1_5': 88,\n",
       " 'group_117': 89,\n",
       " 'group_91': 90,\n",
       " 'group_107': 91,\n",
       " 'group_56': 92,\n",
       " 'group_79': 93,\n",
       " 'group_47': 94,\n",
       " 'group_118': 95,\n",
       " 'group_92': 96,\n",
       " 'group_96': 97,\n",
       " 'group_119': 98,\n",
       " 'group_40': 99,\n",
       " 'group_120': 100,\n",
       " 'group_41': 101,\n",
       " 'group_57': 102,\n",
       " 'group_70': 103,\n",
       " 'group_97': 104,\n",
       " 'group_121': 105,\n",
       " 'group_98': 106,\n",
       " 'group_48': 107,\n",
       " 'group_122': 108,\n",
       " 'group_80': 109,\n",
       " 'group_123': 110,\n",
       " 'group_81': 111,\n",
       " 'group_62': 112,\n",
       " 'group_82': 113,\n",
       " 'group_124': 114,\n",
       " 'group_125': 115,\n",
       " 'group_108': 116,\n",
       " 'group_65': 117,\n",
       " 'group_99': 118,\n",
       " 'group_126': 119,\n",
       " 'group_127': 120,\n",
       " 'group_109': 121,\n",
       " 'group_128': 122,\n",
       " 'group_110': 123,\n",
       " 'group_71': 124,\n",
       " 'group_111': 125,\n",
       " 'group_76': 126,\n",
       " 'group_100': 127,\n",
       " 'group_129': 128,\n",
       " 'group_130': 129,\n",
       " 'group_93': 130,\n",
       " 'group_49': 131,\n",
       " 'group_72': 132,\n",
       " 'group_101': 133,\n",
       " 'group_131': 134,\n",
       " 'group_83': 135,\n",
       " 'group_50': 136,\n",
       " 'group_112': 137}"
      ]
     },
     "execution_count": 49,
     "metadata": {},
     "output_type": "execute_result"
    }
   ],
   "source": [
    "group_dict"
   ]
  },
  {
   "cell_type": "code",
   "execution_count": 83,
   "metadata": {},
   "outputs": [
    {
     "data": {
      "text/plain": [
       "{'a': 0.13707003172668447,\n",
       " 'l': 0.12070479843696787,\n",
       " 'v': 0.0975891304737493,\n",
       " 'i': 0.09278173116564198,\n",
       " 'g': 0.06899568015200129,\n",
       " 's': 0.06712792844467548,\n",
       " 't': 0.0589399343956694,\n",
       " 'e': 0.051723458029360625,\n",
       " 'd': 0.043040742798759614,\n",
       " 'k': 0.04300130850167596,\n",
       " 'q': 0.03937693810607826,\n",
       " 'n': 0.035616340138737025,\n",
       " 'p': 0.035282941081575224,\n",
       " 'f': 0.025944182544946136,\n",
       " 'm': 0.02591191812005951,\n",
       " 'r': 0.02185377045654161,\n",
       " 'y': 0.010174048647582857,\n",
       " 'w': 0.009751026187958199,\n",
       " 'h': 0.008826112674541576,\n",
       " 'c': 0.006287977916793633,\n",
       " 'u': 0.0,\n",
       " 'x': 0.0}"
      ]
     },
     "execution_count": 83,
     "metadata": {},
     "output_type": "execute_result"
    }
   ],
   "source": [
    "# calculate the frequency of each amino acid in the hendecad repeat\n",
    "group_4 = groups_r[-1]['stretch_seq']\n",
    "\n",
    "aa_freq = {aa: 0 for aa in aa_dict.keys()}\n",
    "total = 0\n",
    "\n",
    "for seq in group_4:\n",
    "    for aa in seq:\n",
    "        aa_freq[aa] += 1\n",
    "        total += 1\n",
    "\n",
    "aa_freq = {aa: freq/total for aa, freq in aa_freq.items()}\n",
    "aa_freq = dict(sorted(aa_freq.items(), key=lambda x: x[1], reverse=True))\n",
    "\n",
    "aa_freq\n"
   ]
  },
  {
   "cell_type": "code",
   "execution_count": 119,
   "metadata": {},
   "outputs": [
    {
     "name": "stdout",
     "output_type": "stream",
     "text": [
      "KL divergence: 0.025551928598402544\n",
      "Chi-Squared p-value: 1.0\n"
     ]
    }
   ],
   "source": [
    "import numpy as np\n",
    "from scipy.stats import chisquare, entropy\n",
    "\n",
    "total = list(total_aa_freq.values())[:-2]\n",
    "observed = list(aa_freq.values())[:-2]\n",
    "\n",
    "kl_divergence = entropy(pk=observed, qk=total)\n",
    "\n",
    "chi2, p_value = chisquare(observed, total)\n",
    "\n",
    "print(f\"KL divergence: {kl_divergence}\")\n",
    "print(f\"Chi-Squared p-value: {p_value}\")"
   ]
  },
  {
   "cell_type": "markdown",
   "metadata": {},
   "source": [
    "### Sequence Properties"
   ]
  },
  {
   "cell_type": "code",
   "execution_count": 126,
   "metadata": {},
   "outputs": [
    {
     "name": "stdout",
     "output_type": "stream",
     "text": [
      "Empty DataFrame\n",
      "Columns: [(group,), (r,), (h,), (k,), (d,), (e,), (s,), (t,), (n,), (q,), (c,), (u,), (g,), (p,), (a,), (v,), (i,), (l,), (m,), (f,), (y,), (w,), (x,), (mean_length,), (std_length,)]\n",
      "Index: []\n",
      "\n",
      "[0 rows x 25 columns]\n"
     ]
    }
   ],
   "source": [
    "# compute amino acid frequency for all groups\n",
    "total_aa_freq = {aa: 0 for aa in aa_dict.keys()}\n",
    "total = 0\n",
    "\n",
    "property_df = pd.DataFrame(columns=[['group'] +  \n",
    "                                    list(aa_dict.keys()) +\n",
    "                                    ['mean_length', 'std_length']])\n",
    "\n",
    "print(property_df)\n",
    "\n",
    "groups = df['group_id'].unique()\n",
    "for group in groups:\n",
    "    group_df = df[df['group_id'] == group]\n",
    "    \n",
    "    aa_freq = {aa: 0 for aa in aa_dict.keys()}\n",
    "    total = 0\n",
    "\n",
    "    for seq in group_df['stretch_seq']:\n",
    "        for aa in seq:\n",
    "            aa_freq[aa] += 1\n",
    "            total += 1\n",
    "\n",
    "    aa_freq = {aa: freq/total for aa, freq in aa_freq.items()}\n",
    "    # aa_freq = dict(sorted(aa_freq.items(), key=lambda x: x[1], reverse=True))\n",
    "    \n",
    "    mean_length = group_df['stretch_seq'].apply(lambda x: len(x)).mean()\n",
    "    std_length = group_df['stretch_seq'].apply(lambda x: len(x)).std()\n",
    "    \n",
    "    total_aa_freq = {aa: total_aa_freq[aa] + aa_freq[aa] for aa in aa_dict.keys()}\n",
    "    \n",
    "    property_df.loc[len(property_df)] = {'group': group, **aa_freq, 'mean_length': mean_length, 'std_length': std_length}"
   ]
  },
  {
   "cell_type": "code",
   "execution_count": 127,
   "metadata": {},
   "outputs": [
    {
     "data": {
      "text/html": [
       "<div>\n",
       "<style scoped>\n",
       "    .dataframe tbody tr th:only-of-type {\n",
       "        vertical-align: middle;\n",
       "    }\n",
       "\n",
       "    .dataframe tbody tr th {\n",
       "        vertical-align: top;\n",
       "    }\n",
       "\n",
       "    .dataframe thead tr th {\n",
       "        text-align: left;\n",
       "    }\n",
       "</style>\n",
       "<table border=\"1\" class=\"dataframe\">\n",
       "  <thead>\n",
       "    <tr>\n",
       "      <th></th>\n",
       "      <th>group</th>\n",
       "      <th>r</th>\n",
       "      <th>h</th>\n",
       "      <th>k</th>\n",
       "      <th>d</th>\n",
       "      <th>e</th>\n",
       "      <th>s</th>\n",
       "      <th>t</th>\n",
       "      <th>n</th>\n",
       "      <th>q</th>\n",
       "      <th>...</th>\n",
       "      <th>v</th>\n",
       "      <th>i</th>\n",
       "      <th>l</th>\n",
       "      <th>m</th>\n",
       "      <th>f</th>\n",
       "      <th>y</th>\n",
       "      <th>w</th>\n",
       "      <th>x</th>\n",
       "      <th>mean_length</th>\n",
       "      <th>std_length</th>\n",
       "    </tr>\n",
       "  </thead>\n",
       "  <tbody>\n",
       "    <tr>\n",
       "      <th>0</th>\n",
       "      <td>NaN</td>\n",
       "      <td>NaN</td>\n",
       "      <td>NaN</td>\n",
       "      <td>NaN</td>\n",
       "      <td>NaN</td>\n",
       "      <td>NaN</td>\n",
       "      <td>NaN</td>\n",
       "      <td>NaN</td>\n",
       "      <td>NaN</td>\n",
       "      <td>NaN</td>\n",
       "      <td>...</td>\n",
       "      <td>NaN</td>\n",
       "      <td>NaN</td>\n",
       "      <td>NaN</td>\n",
       "      <td>NaN</td>\n",
       "      <td>NaN</td>\n",
       "      <td>NaN</td>\n",
       "      <td>NaN</td>\n",
       "      <td>NaN</td>\n",
       "      <td>NaN</td>\n",
       "      <td>NaN</td>\n",
       "    </tr>\n",
       "    <tr>\n",
       "      <th>1</th>\n",
       "      <td>NaN</td>\n",
       "      <td>NaN</td>\n",
       "      <td>NaN</td>\n",
       "      <td>NaN</td>\n",
       "      <td>NaN</td>\n",
       "      <td>NaN</td>\n",
       "      <td>NaN</td>\n",
       "      <td>NaN</td>\n",
       "      <td>NaN</td>\n",
       "      <td>NaN</td>\n",
       "      <td>...</td>\n",
       "      <td>NaN</td>\n",
       "      <td>NaN</td>\n",
       "      <td>NaN</td>\n",
       "      <td>NaN</td>\n",
       "      <td>NaN</td>\n",
       "      <td>NaN</td>\n",
       "      <td>NaN</td>\n",
       "      <td>NaN</td>\n",
       "      <td>NaN</td>\n",
       "      <td>NaN</td>\n",
       "    </tr>\n",
       "    <tr>\n",
       "      <th>2</th>\n",
       "      <td>NaN</td>\n",
       "      <td>NaN</td>\n",
       "      <td>NaN</td>\n",
       "      <td>NaN</td>\n",
       "      <td>NaN</td>\n",
       "      <td>NaN</td>\n",
       "      <td>NaN</td>\n",
       "      <td>NaN</td>\n",
       "      <td>NaN</td>\n",
       "      <td>NaN</td>\n",
       "      <td>...</td>\n",
       "      <td>NaN</td>\n",
       "      <td>NaN</td>\n",
       "      <td>NaN</td>\n",
       "      <td>NaN</td>\n",
       "      <td>NaN</td>\n",
       "      <td>NaN</td>\n",
       "      <td>NaN</td>\n",
       "      <td>NaN</td>\n",
       "      <td>NaN</td>\n",
       "      <td>NaN</td>\n",
       "    </tr>\n",
       "    <tr>\n",
       "      <th>3</th>\n",
       "      <td>NaN</td>\n",
       "      <td>NaN</td>\n",
       "      <td>NaN</td>\n",
       "      <td>NaN</td>\n",
       "      <td>NaN</td>\n",
       "      <td>NaN</td>\n",
       "      <td>NaN</td>\n",
       "      <td>NaN</td>\n",
       "      <td>NaN</td>\n",
       "      <td>NaN</td>\n",
       "      <td>...</td>\n",
       "      <td>NaN</td>\n",
       "      <td>NaN</td>\n",
       "      <td>NaN</td>\n",
       "      <td>NaN</td>\n",
       "      <td>NaN</td>\n",
       "      <td>NaN</td>\n",
       "      <td>NaN</td>\n",
       "      <td>NaN</td>\n",
       "      <td>NaN</td>\n",
       "      <td>NaN</td>\n",
       "    </tr>\n",
       "    <tr>\n",
       "      <th>4</th>\n",
       "      <td>NaN</td>\n",
       "      <td>NaN</td>\n",
       "      <td>NaN</td>\n",
       "      <td>NaN</td>\n",
       "      <td>NaN</td>\n",
       "      <td>NaN</td>\n",
       "      <td>NaN</td>\n",
       "      <td>NaN</td>\n",
       "      <td>NaN</td>\n",
       "      <td>NaN</td>\n",
       "      <td>...</td>\n",
       "      <td>NaN</td>\n",
       "      <td>NaN</td>\n",
       "      <td>NaN</td>\n",
       "      <td>NaN</td>\n",
       "      <td>NaN</td>\n",
       "      <td>NaN</td>\n",
       "      <td>NaN</td>\n",
       "      <td>NaN</td>\n",
       "      <td>NaN</td>\n",
       "      <td>NaN</td>\n",
       "    </tr>\n",
       "    <tr>\n",
       "      <th>...</th>\n",
       "      <td>...</td>\n",
       "      <td>...</td>\n",
       "      <td>...</td>\n",
       "      <td>...</td>\n",
       "      <td>...</td>\n",
       "      <td>...</td>\n",
       "      <td>...</td>\n",
       "      <td>...</td>\n",
       "      <td>...</td>\n",
       "      <td>...</td>\n",
       "      <td>...</td>\n",
       "      <td>...</td>\n",
       "      <td>...</td>\n",
       "      <td>...</td>\n",
       "      <td>...</td>\n",
       "      <td>...</td>\n",
       "      <td>...</td>\n",
       "      <td>...</td>\n",
       "      <td>...</td>\n",
       "      <td>...</td>\n",
       "      <td>...</td>\n",
       "    </tr>\n",
       "    <tr>\n",
       "      <th>133</th>\n",
       "      <td>NaN</td>\n",
       "      <td>NaN</td>\n",
       "      <td>NaN</td>\n",
       "      <td>NaN</td>\n",
       "      <td>NaN</td>\n",
       "      <td>NaN</td>\n",
       "      <td>NaN</td>\n",
       "      <td>NaN</td>\n",
       "      <td>NaN</td>\n",
       "      <td>NaN</td>\n",
       "      <td>...</td>\n",
       "      <td>NaN</td>\n",
       "      <td>NaN</td>\n",
       "      <td>NaN</td>\n",
       "      <td>NaN</td>\n",
       "      <td>NaN</td>\n",
       "      <td>NaN</td>\n",
       "      <td>NaN</td>\n",
       "      <td>NaN</td>\n",
       "      <td>NaN</td>\n",
       "      <td>NaN</td>\n",
       "    </tr>\n",
       "    <tr>\n",
       "      <th>134</th>\n",
       "      <td>NaN</td>\n",
       "      <td>NaN</td>\n",
       "      <td>NaN</td>\n",
       "      <td>NaN</td>\n",
       "      <td>NaN</td>\n",
       "      <td>NaN</td>\n",
       "      <td>NaN</td>\n",
       "      <td>NaN</td>\n",
       "      <td>NaN</td>\n",
       "      <td>NaN</td>\n",
       "      <td>...</td>\n",
       "      <td>NaN</td>\n",
       "      <td>NaN</td>\n",
       "      <td>NaN</td>\n",
       "      <td>NaN</td>\n",
       "      <td>NaN</td>\n",
       "      <td>NaN</td>\n",
       "      <td>NaN</td>\n",
       "      <td>NaN</td>\n",
       "      <td>NaN</td>\n",
       "      <td>NaN</td>\n",
       "    </tr>\n",
       "    <tr>\n",
       "      <th>135</th>\n",
       "      <td>NaN</td>\n",
       "      <td>NaN</td>\n",
       "      <td>NaN</td>\n",
       "      <td>NaN</td>\n",
       "      <td>NaN</td>\n",
       "      <td>NaN</td>\n",
       "      <td>NaN</td>\n",
       "      <td>NaN</td>\n",
       "      <td>NaN</td>\n",
       "      <td>NaN</td>\n",
       "      <td>...</td>\n",
       "      <td>NaN</td>\n",
       "      <td>NaN</td>\n",
       "      <td>NaN</td>\n",
       "      <td>NaN</td>\n",
       "      <td>NaN</td>\n",
       "      <td>NaN</td>\n",
       "      <td>NaN</td>\n",
       "      <td>NaN</td>\n",
       "      <td>NaN</td>\n",
       "      <td>NaN</td>\n",
       "    </tr>\n",
       "    <tr>\n",
       "      <th>136</th>\n",
       "      <td>NaN</td>\n",
       "      <td>NaN</td>\n",
       "      <td>NaN</td>\n",
       "      <td>NaN</td>\n",
       "      <td>NaN</td>\n",
       "      <td>NaN</td>\n",
       "      <td>NaN</td>\n",
       "      <td>NaN</td>\n",
       "      <td>NaN</td>\n",
       "      <td>NaN</td>\n",
       "      <td>...</td>\n",
       "      <td>NaN</td>\n",
       "      <td>NaN</td>\n",
       "      <td>NaN</td>\n",
       "      <td>NaN</td>\n",
       "      <td>NaN</td>\n",
       "      <td>NaN</td>\n",
       "      <td>NaN</td>\n",
       "      <td>NaN</td>\n",
       "      <td>NaN</td>\n",
       "      <td>NaN</td>\n",
       "    </tr>\n",
       "    <tr>\n",
       "      <th>137</th>\n",
       "      <td>NaN</td>\n",
       "      <td>NaN</td>\n",
       "      <td>NaN</td>\n",
       "      <td>NaN</td>\n",
       "      <td>NaN</td>\n",
       "      <td>NaN</td>\n",
       "      <td>NaN</td>\n",
       "      <td>NaN</td>\n",
       "      <td>NaN</td>\n",
       "      <td>NaN</td>\n",
       "      <td>...</td>\n",
       "      <td>NaN</td>\n",
       "      <td>NaN</td>\n",
       "      <td>NaN</td>\n",
       "      <td>NaN</td>\n",
       "      <td>NaN</td>\n",
       "      <td>NaN</td>\n",
       "      <td>NaN</td>\n",
       "      <td>NaN</td>\n",
       "      <td>NaN</td>\n",
       "      <td>NaN</td>\n",
       "    </tr>\n",
       "  </tbody>\n",
       "</table>\n",
       "<p>138 rows × 25 columns</p>\n",
       "</div>"
      ],
      "text/plain": [
       "    group   r   h   k   d   e   s   t   n   q  ...   v   i   l   m   f   y  \\\n",
       "0     NaN NaN NaN NaN NaN NaN NaN NaN NaN NaN  ... NaN NaN NaN NaN NaN NaN   \n",
       "1     NaN NaN NaN NaN NaN NaN NaN NaN NaN NaN  ... NaN NaN NaN NaN NaN NaN   \n",
       "2     NaN NaN NaN NaN NaN NaN NaN NaN NaN NaN  ... NaN NaN NaN NaN NaN NaN   \n",
       "3     NaN NaN NaN NaN NaN NaN NaN NaN NaN NaN  ... NaN NaN NaN NaN NaN NaN   \n",
       "4     NaN NaN NaN NaN NaN NaN NaN NaN NaN NaN  ... NaN NaN NaN NaN NaN NaN   \n",
       "..    ...  ..  ..  ..  ..  ..  ..  ..  ..  ..  ...  ..  ..  ..  ..  ..  ..   \n",
       "133   NaN NaN NaN NaN NaN NaN NaN NaN NaN NaN  ... NaN NaN NaN NaN NaN NaN   \n",
       "134   NaN NaN NaN NaN NaN NaN NaN NaN NaN NaN  ... NaN NaN NaN NaN NaN NaN   \n",
       "135   NaN NaN NaN NaN NaN NaN NaN NaN NaN NaN  ... NaN NaN NaN NaN NaN NaN   \n",
       "136   NaN NaN NaN NaN NaN NaN NaN NaN NaN NaN  ... NaN NaN NaN NaN NaN NaN   \n",
       "137   NaN NaN NaN NaN NaN NaN NaN NaN NaN NaN  ... NaN NaN NaN NaN NaN NaN   \n",
       "\n",
       "      w   x mean_length std_length  \n",
       "0   NaN NaN         NaN        NaN  \n",
       "1   NaN NaN         NaN        NaN  \n",
       "2   NaN NaN         NaN        NaN  \n",
       "3   NaN NaN         NaN        NaN  \n",
       "4   NaN NaN         NaN        NaN  \n",
       "..   ..  ..         ...        ...  \n",
       "133 NaN NaN         NaN        NaN  \n",
       "134 NaN NaN         NaN        NaN  \n",
       "135 NaN NaN         NaN        NaN  \n",
       "136 NaN NaN         NaN        NaN  \n",
       "137 NaN NaN         NaN        NaN  \n",
       "\n",
       "[138 rows x 25 columns]"
      ]
     },
     "execution_count": 127,
     "metadata": {},
     "output_type": "execute_result"
    }
   ],
   "source": [
    "property_df"
   ]
  }
 ],
 "metadata": {
  "kernelspec": {
   "display_name": "deepcoil",
   "language": "python",
   "name": "python3"
  },
  "language_info": {
   "codemirror_mode": {
    "name": "ipython",
    "version": 3
   },
   "file_extension": ".py",
   "mimetype": "text/x-python",
   "name": "python",
   "nbconvert_exporter": "python",
   "pygments_lexer": "ipython3",
   "version": "3.8.18"
  }
 },
 "nbformat": 4,
 "nbformat_minor": 2
}
