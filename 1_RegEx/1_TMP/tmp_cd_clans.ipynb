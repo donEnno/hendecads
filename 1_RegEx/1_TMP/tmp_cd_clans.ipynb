{
 "cells": [
  {
   "cell_type": "code",
   "execution_count": 176,
   "metadata": {},
   "outputs": [],
   "source": [
    "import re\n",
    "import os\n",
    "\n",
    "import numpy as np\n",
    "import pandas as pd \n",
    "import matplotlib.pyplot as plt\n",
    "import seaborn as sns"
   ]
  },
  {
   "cell_type": "markdown",
   "metadata": {},
   "source": [
    "### Setup"
   ]
  },
  {
   "cell_type": "code",
   "execution_count": 177,
   "metadata": {},
   "outputs": [],
   "source": [
    "lothar = '/home/enno/uni/SS24/thesis/1_RegEx/1_TMP'\n",
    "\n",
    "R = 10\n",
    "E = '1E'\n",
    "M = 2\n",
    "\n",
    "if os.getcwd() == lothar:\n",
    "    df = pd.read_csv('/home/enno/uni/SS24/thesis/1_RegEx/0_data/regEx.csv')\n",
    "    \n",
    "    clans_file = f'/home/enno/uni/SS24/thesis/1_RegEx/1_TMP/clans_out/{R}R_{M}MM_seq_{E}.clans'\n",
    "    clstr_file = f'/home/enno/uni/SS24/thesis/1_RegEx/1_TMP/cd_out/{R}R_{M}MM_seq.clstr'\n",
    "    \n",
    "    full_fasta_file = f'/home/enno/uni/SS24/thesis/1_RegEx/0_data/fasta/{R}R_{M}MM_seq.fasta'\n",
    "    cd_out_fasta_file = f'/home/enno/uni/SS24/thesis/1_RegEx/1_TMP/cd_out/{R}R_{M}MM_seq.fasta'\n",
    "else:\n",
    "    # TODO\n",
    "    pass"
   ]
  },
  {
   "cell_type": "code",
   "execution_count": 178,
   "metadata": {},
   "outputs": [
    {
     "name": "stdout",
     "output_type": "stream",
     "text": [
      "36455\n"
     ]
    },
    {
     "data": {
      "text/html": [
       "<div>\n",
       "<style scoped>\n",
       "    .dataframe tbody tr th:only-of-type {\n",
       "        vertical-align: middle;\n",
       "    }\n",
       "\n",
       "    .dataframe tbody tr th {\n",
       "        vertical-align: top;\n",
       "    }\n",
       "\n",
       "    .dataframe thead th {\n",
       "        text-align: right;\n",
       "    }\n",
       "</style>\n",
       "<table border=\"1\" class=\"dataframe\">\n",
       "  <thead>\n",
       "    <tr style=\"text-align: right;\">\n",
       "      <th></th>\n",
       "      <th>id</th>\n",
       "      <th>seq</th>\n",
       "      <th>stretch_ix</th>\n",
       "      <th>stretch_seq</th>\n",
       "      <th>c</th>\n",
       "      <th>npf_x</th>\n",
       "      <th>npf_y</th>\n",
       "      <th>1R_0MM_seq</th>\n",
       "      <th>1R_0MM_ix</th>\n",
       "      <th>1R_0MM_n</th>\n",
       "      <th>...</th>\n",
       "      <th>1R_2MM_n</th>\n",
       "      <th>3R_2MM_seq</th>\n",
       "      <th>3R_2MM_ix</th>\n",
       "      <th>3R_2MM_n</th>\n",
       "      <th>5R_2MM_seq</th>\n",
       "      <th>5R_2MM_ix</th>\n",
       "      <th>5R_2MM_n</th>\n",
       "      <th>10R_2MM_seq</th>\n",
       "      <th>10R_2MM_ix</th>\n",
       "      <th>10R_2MM_n</th>\n",
       "    </tr>\n",
       "  </thead>\n",
       "  <tbody>\n",
       "    <tr>\n",
       "      <th>0</th>\n",
       "      <td>MCD6041253.1</td>\n",
       "      <td>mrlvyvavaailcsfsttslagaektakragkfvektatragkfve...</td>\n",
       "      <td>[[1, 2, 3, 4, 5, 6, 7, 8, 9, 10, 11, 12, 13, 1...</td>\n",
       "      <td>['rlvyvavaailcsfsttslagaektakragkfvektatragkfv...</td>\n",
       "      <td>-1.0</td>\n",
       "      <td>-567.38850</td>\n",
       "      <td>34.030270</td>\n",
       "      <td>[['lvyvavaailc', 'vyvavaailcs', 'lagaektakra',...</td>\n",
       "      <td>[[[1, 12], [2, 13], [18, 29], [25, 36], [36, 4...</td>\n",
       "      <td>7</td>\n",
       "      <td>...</td>\n",
       "      <td>37</td>\n",
       "      <td>[['aailcsfsttslagaektakragkfvektatra', 'sttsla...</td>\n",
       "      <td>[[[7, 40], [14, 47], [18, 51], [25, 58], [36, ...</td>\n",
       "      <td>5</td>\n",
       "      <td>[['sttslagaektakragkfvektatragkfvertatkagkfver...</td>\n",
       "      <td>[[[14, 69]]]</td>\n",
       "      <td>1</td>\n",
       "      <td>[[]]</td>\n",
       "      <td>[[]]</td>\n",
       "      <td>0</td>\n",
       "    </tr>\n",
       "    <tr>\n",
       "      <th>1</th>\n",
       "      <td>MCD7737945.1</td>\n",
       "      <td>mqgrvffreaaalilaaalsmaglpasaaansgieaaalrteeete...</td>\n",
       "      <td>[[41, 42, 43, 44, 45, 46, 47, 48, 49, 50, 51, ...</td>\n",
       "      <td>['eeetepstkeavqetavetdtgekpesgedgqeesaesteeeqe...</td>\n",
       "      <td>-1.0</td>\n",
       "      <td>313.18863</td>\n",
       "      <td>-218.576080</td>\n",
       "      <td>[[]]</td>\n",
       "      <td>[[]]</td>\n",
       "      <td>0</td>\n",
       "      <td>...</td>\n",
       "      <td>58</td>\n",
       "      <td>[[]]</td>\n",
       "      <td>[[]]</td>\n",
       "      <td>0</td>\n",
       "      <td>[[]]</td>\n",
       "      <td>[[]]</td>\n",
       "      <td>0</td>\n",
       "      <td>[[]]</td>\n",
       "      <td>[[]]</td>\n",
       "      <td>0</td>\n",
       "    </tr>\n",
       "    <tr>\n",
       "      <th>2</th>\n",
       "      <td>MYF28459.1</td>\n",
       "      <td>merlqtdllkeihalrgemhaefasvrqemhagfasirqemhaeta...</td>\n",
       "      <td>[[1, 2, 3, 4, 5, 6, 7, 8, 9, 10, 11, 12, 13, 1...</td>\n",
       "      <td>['erlqtdllkeihalrgemhaefasvrqemhagfasirqemhaet...</td>\n",
       "      <td>-1.0</td>\n",
       "      <td>535.79120</td>\n",
       "      <td>-22.468689</td>\n",
       "      <td>[['ihalrgemhae', 'isgvrervarv', 'varvethlqrt']]</td>\n",
       "      <td>[[[10, 21], [50, 61], [57, 68]]]</td>\n",
       "      <td>3</td>\n",
       "      <td>...</td>\n",
       "      <td>47</td>\n",
       "      <td>[['ihalrgemhaefasvrqemhagfasirqemhae', 'mhagfa...</td>\n",
       "      <td>[[[10, 43], [28, 61]]]</td>\n",
       "      <td>2</td>\n",
       "      <td>[[]]</td>\n",
       "      <td>[[]]</td>\n",
       "      <td>0</td>\n",
       "      <td>[[]]</td>\n",
       "      <td>[[]]</td>\n",
       "      <td>0</td>\n",
       "    </tr>\n",
       "    <tr>\n",
       "      <th>3</th>\n",
       "      <td>WP_168920948.1</td>\n",
       "      <td>msdvfltasyadrekvktlgarwnpaekrwyvpsgrdlspfaawlp...</td>\n",
       "      <td>[[437, 438, 439, 440, 441, 442, 443, 444, 445,...</td>\n",
       "      <td>['aqslvveikhaasqqlllarhvvparmaevtaegrqalrtakaq...</td>\n",
       "      <td>41.0</td>\n",
       "      <td>-346.27220</td>\n",
       "      <td>104.598206</td>\n",
       "      <td>[['aqslvveikha', 'vveikhaasqq', 'lllarhvvpar',...</td>\n",
       "      <td>[[[0, 11], [4, 15], [15, 26], [24, 35], [48, 5...</td>\n",
       "      <td>6</td>\n",
       "      <td>...</td>\n",
       "      <td>82</td>\n",
       "      <td>[['aqslvveikhaasqqlllarhvvparmaevtae', 'lvveik...</td>\n",
       "      <td>[[[0, 33], [3, 36], [4, 37], [15, 48], [26, 59...</td>\n",
       "      <td>6</td>\n",
       "      <td>[['vveikhaasqqlllarhvvparmaevtaegrqalrtakaqsqa...</td>\n",
       "      <td>[[[4, 59]]]</td>\n",
       "      <td>1</td>\n",
       "      <td>[[]]</td>\n",
       "      <td>[[]]</td>\n",
       "      <td>0</td>\n",
       "    </tr>\n",
       "    <tr>\n",
       "      <th>4</th>\n",
       "      <td>WP_026306873.1</td>\n",
       "      <td>mllrriarpllsaafiaegidilqnpgpladrlspaldftrrrsqh...</td>\n",
       "      <td>[[172, 173, 174, 175, 176, 177, 178, 179, 180,...</td>\n",
       "      <td>['slgwrgrraardakdhaealaataaaiaatarergtnlvdtare...</td>\n",
       "      <td>37.0</td>\n",
       "      <td>164.44267</td>\n",
       "      <td>341.078280</td>\n",
       "      <td>[['ardakdhaeal', 'aealaataaai', 'alaataaaiaa',...</td>\n",
       "      <td>[[[9, 20], [16, 27], [18, 29], [20, 31], [21, ...</td>\n",
       "      <td>15</td>\n",
       "      <td>...</td>\n",
       "      <td>114</td>\n",
       "      <td>[['lgwrgrraardakdhaealaataaaiaatarer', 'grraar...</td>\n",
       "      <td>[[[1, 34], [5, 38], [9, 42], [12, 45], [16, 49...</td>\n",
       "      <td>15</td>\n",
       "      <td>[[]]</td>\n",
       "      <td>[[]]</td>\n",
       "      <td>0</td>\n",
       "      <td>[[]]</td>\n",
       "      <td>[[]]</td>\n",
       "      <td>0</td>\n",
       "    </tr>\n",
       "  </tbody>\n",
       "</table>\n",
       "<p>5 rows × 43 columns</p>\n",
       "</div>"
      ],
      "text/plain": [
       "               id                                                seq  \\\n",
       "0    MCD6041253.1  mrlvyvavaailcsfsttslagaektakragkfvektatragkfve...   \n",
       "1    MCD7737945.1  mqgrvffreaaalilaaalsmaglpasaaansgieaaalrteeete...   \n",
       "2      MYF28459.1  merlqtdllkeihalrgemhaefasvrqemhagfasirqemhaeta...   \n",
       "3  WP_168920948.1  msdvfltasyadrekvktlgarwnpaekrwyvpsgrdlspfaawlp...   \n",
       "4  WP_026306873.1  mllrriarpllsaafiaegidilqnpgpladrlspaldftrrrsqh...   \n",
       "\n",
       "                                          stretch_ix  \\\n",
       "0  [[1, 2, 3, 4, 5, 6, 7, 8, 9, 10, 11, 12, 13, 1...   \n",
       "1  [[41, 42, 43, 44, 45, 46, 47, 48, 49, 50, 51, ...   \n",
       "2  [[1, 2, 3, 4, 5, 6, 7, 8, 9, 10, 11, 12, 13, 1...   \n",
       "3  [[437, 438, 439, 440, 441, 442, 443, 444, 445,...   \n",
       "4  [[172, 173, 174, 175, 176, 177, 178, 179, 180,...   \n",
       "\n",
       "                                         stretch_seq     c      npf_x  \\\n",
       "0  ['rlvyvavaailcsfsttslagaektakragkfvektatragkfv...  -1.0 -567.38850   \n",
       "1  ['eeetepstkeavqetavetdtgekpesgedgqeesaesteeeqe...  -1.0  313.18863   \n",
       "2  ['erlqtdllkeihalrgemhaefasvrqemhagfasirqemhaet...  -1.0  535.79120   \n",
       "3  ['aqslvveikhaasqqlllarhvvparmaevtaegrqalrtakaq...  41.0 -346.27220   \n",
       "4  ['slgwrgrraardakdhaealaataaaiaatarergtnlvdtare...  37.0  164.44267   \n",
       "\n",
       "        npf_y                                         1R_0MM_seq  \\\n",
       "0   34.030270  [['lvyvavaailc', 'vyvavaailcs', 'lagaektakra',...   \n",
       "1 -218.576080                                               [[]]   \n",
       "2  -22.468689    [['ihalrgemhae', 'isgvrervarv', 'varvethlqrt']]   \n",
       "3  104.598206  [['aqslvveikha', 'vveikhaasqq', 'lllarhvvpar',...   \n",
       "4  341.078280  [['ardakdhaeal', 'aealaataaai', 'alaataaaiaa',...   \n",
       "\n",
       "                                           1R_0MM_ix  1R_0MM_n  ... 1R_2MM_n  \\\n",
       "0  [[[1, 12], [2, 13], [18, 29], [25, 36], [36, 4...         7  ...       37   \n",
       "1                                               [[]]         0  ...       58   \n",
       "2                   [[[10, 21], [50, 61], [57, 68]]]         3  ...       47   \n",
       "3  [[[0, 11], [4, 15], [15, 26], [24, 35], [48, 5...         6  ...       82   \n",
       "4  [[[9, 20], [16, 27], [18, 29], [20, 31], [21, ...        15  ...      114   \n",
       "\n",
       "                                          3R_2MM_seq  \\\n",
       "0  [['aailcsfsttslagaektakragkfvektatra', 'sttsla...   \n",
       "1                                               [[]]   \n",
       "2  [['ihalrgemhaefasvrqemhagfasirqemhae', 'mhagfa...   \n",
       "3  [['aqslvveikhaasqqlllarhvvparmaevtae', 'lvveik...   \n",
       "4  [['lgwrgrraardakdhaealaataaaiaatarer', 'grraar...   \n",
       "\n",
       "                                           3R_2MM_ix 3R_2MM_n  \\\n",
       "0  [[[7, 40], [14, 47], [18, 51], [25, 58], [36, ...        5   \n",
       "1                                               [[]]        0   \n",
       "2                             [[[10, 43], [28, 61]]]        2   \n",
       "3  [[[0, 33], [3, 36], [4, 37], [15, 48], [26, 59...        6   \n",
       "4  [[[1, 34], [5, 38], [9, 42], [12, 45], [16, 49...       15   \n",
       "\n",
       "                                          5R_2MM_seq     5R_2MM_ix 5R_2MM_n  \\\n",
       "0  [['sttslagaektakragkfvektatragkfvertatkagkfver...  [[[14, 69]]]        1   \n",
       "1                                               [[]]          [[]]        0   \n",
       "2                                               [[]]          [[]]        0   \n",
       "3  [['vveikhaasqqlllarhvvparmaevtaegrqalrtakaqsqa...   [[[4, 59]]]        1   \n",
       "4                                               [[]]          [[]]        0   \n",
       "\n",
       "  10R_2MM_seq  10R_2MM_ix 10R_2MM_n  \n",
       "0        [[]]        [[]]         0  \n",
       "1        [[]]        [[]]         0  \n",
       "2        [[]]        [[]]         0  \n",
       "3        [[]]        [[]]         0  \n",
       "4        [[]]        [[]]         0  \n",
       "\n",
       "[5 rows x 43 columns]"
      ]
     },
     "execution_count": 178,
     "metadata": {},
     "output_type": "execute_result"
    }
   ],
   "source": [
    "print(len(df))\n",
    "df.head()"
   ]
  },
  {
   "cell_type": "code",
   "execution_count": 179,
   "metadata": {},
   "outputs": [
    {
     "data": {
      "text/plain": [
       "2655"
      ]
     },
     "execution_count": 179,
     "metadata": {},
     "output_type": "execute_result"
    }
   ],
   "source": [
    "tmp_df = df[(df['5R_1MM_n'] > 0) & (df['c'] == 0)].reset_index(drop=True)\n",
    "len(tmp_df)"
   ]
  },
  {
   "cell_type": "markdown",
   "metadata": {},
   "source": [
    "#### Parse Cluster Indices from .clans"
   ]
  },
  {
   "cell_type": "code",
   "execution_count": 180,
   "metadata": {},
   "outputs": [],
   "source": [
    "def parse_numbers(filename):\n",
    "    # Extracts the cluster assignment for 5R hits from the .clans file\n",
    "\n",
    "    clusters = []\n",
    "    with open(filename, 'r') as file:\n",
    "       \n",
    "        for line in file:\n",
    "            \n",
    "            if re.match('numbers=', line):\n",
    "                \n",
    "                _, num_str = line.split('=')\n",
    "                numbers = [int(num.strip()) for num in num_str.split(';')[:-1]]\n",
    "\n",
    "                clusters.append(numbers)\n",
    "    \n",
    "    return clusters"
   ]
  },
  {
   "cell_type": "code",
   "execution_count": 181,
   "metadata": {},
   "outputs": [],
   "source": [
    "clans_numbers = parse_numbers(clans_file)"
   ]
  },
  {
   "cell_type": "markdown",
   "metadata": {},
   "source": [
    "#### Parse CD-HIT outfile to get Representatives"
   ]
  },
  {
   "cell_type": "code",
   "execution_count": 182,
   "metadata": {},
   "outputs": [],
   "source": [
    "def parse_cluster_file(filename):\n",
    "    with open(filename, 'r') as file:\n",
    "        lines = file.readlines()\n",
    "\n",
    "    clusters = {}\n",
    "    current_representative = None\n",
    "\n",
    "    for line in lines:\n",
    "        if line.startswith('>Cluster'):\n",
    "            # This line is the start of a new cluster, so the next line will contain the representative sequence\n",
    "            current_representative = None\n",
    "        else:\n",
    "            # This line contains a sequence\n",
    "            sequence = line.split(', ')[1].split('...')[0].strip()\n",
    "            if current_representative is None:\n",
    "                # This is the first sequence in the cluster, so it's the representative sequence\n",
    "                current_representative = sequence\n",
    "            clusters[sequence[1:]] = current_representative[1:]\n",
    "\n",
    "    return clusters"
   ]
  },
  {
   "cell_type": "code",
   "execution_count": 183,
   "metadata": {},
   "outputs": [],
   "source": [
    "rep_dict = parse_cluster_file(clstr_file)"
   ]
  },
  {
   "cell_type": "markdown",
   "metadata": {},
   "source": [
    "#### Create DataFrame for Representatives"
   ]
  },
  {
   "cell_type": "code",
   "execution_count": 184,
   "metadata": {},
   "outputs": [],
   "source": [
    "cd_out_hit_df = pd.DataFrame(columns=['id', 'stretch_x', 'seq_x', 'rep_id'])\n",
    "ix = 0\n",
    "\n",
    "with open(cd_out_fasta_file, 'r') as file:\n",
    "\n",
    "    lines = [line.strip() for line in file.readlines()]\n",
    "    headers = lines[::2]\n",
    "    seqs = lines[1::2]\n",
    "    \n",
    "    for header_str in headers:\n",
    "\n",
    "        header = header_str.split('_')\n",
    "        id, strx, sx = '_'.join(header[:-7])[1:], header[-3], header[-1]\n",
    "        \n",
    "        cd_out_hit_df.loc[ix] = [id, strx, sx, header_str[1:]]\n",
    "        ix += 1"
   ]
  },
  {
   "cell_type": "code",
   "execution_count": 185,
   "metadata": {},
   "outputs": [],
   "source": [
    "# Assign the cluster number to each sequence\n",
    "for c, numbers in enumerate(clans_numbers):\n",
    "    \n",
    "    cd_out_hit_df.loc[numbers, 'c'] = c\n",
    "\n",
    "cd_out_hit_df.loc[cd_out_hit_df['c'].isna(), ['c']] = -1  # unassigned = -1"
   ]
  },
  {
   "cell_type": "code",
   "execution_count": 186,
   "metadata": {},
   "outputs": [
    {
     "name": "stdout",
     "output_type": "stream",
     "text": [
      "3507\n"
     ]
    },
    {
     "data": {
      "text/html": [
       "<div>\n",
       "<style scoped>\n",
       "    .dataframe tbody tr th:only-of-type {\n",
       "        vertical-align: middle;\n",
       "    }\n",
       "\n",
       "    .dataframe tbody tr th {\n",
       "        vertical-align: top;\n",
       "    }\n",
       "\n",
       "    .dataframe thead th {\n",
       "        text-align: right;\n",
       "    }\n",
       "</style>\n",
       "<table border=\"1\" class=\"dataframe\">\n",
       "  <thead>\n",
       "    <tr style=\"text-align: right;\">\n",
       "      <th></th>\n",
       "      <th>id</th>\n",
       "      <th>stretch_x</th>\n",
       "      <th>seq_x</th>\n",
       "      <th>rep_id</th>\n",
       "      <th>c</th>\n",
       "    </tr>\n",
       "  </thead>\n",
       "  <tbody>\n",
       "    <tr>\n",
       "      <th>0</th>\n",
       "      <td>MBQ9252633.1</td>\n",
       "      <td>0</td>\n",
       "      <td>0</td>\n",
       "      <td>MBQ9252633.1_10R_2MM_seq_stretch_0_seq_0</td>\n",
       "      <td>0.0</td>\n",
       "    </tr>\n",
       "    <tr>\n",
       "      <th>1</th>\n",
       "      <td>MBQ9252633.1</td>\n",
       "      <td>0</td>\n",
       "      <td>4</td>\n",
       "      <td>MBQ9252633.1_10R_2MM_seq_stretch_0_seq_4</td>\n",
       "      <td>0.0</td>\n",
       "    </tr>\n",
       "    <tr>\n",
       "      <th>2</th>\n",
       "      <td>MBQ9252633.1</td>\n",
       "      <td>0</td>\n",
       "      <td>6</td>\n",
       "      <td>MBQ9252633.1_10R_2MM_seq_stretch_0_seq_6</td>\n",
       "      <td>0.0</td>\n",
       "    </tr>\n",
       "    <tr>\n",
       "      <th>3</th>\n",
       "      <td>MBQ9252633.1</td>\n",
       "      <td>0</td>\n",
       "      <td>11</td>\n",
       "      <td>MBQ9252633.1_10R_2MM_seq_stretch_0_seq_11</td>\n",
       "      <td>0.0</td>\n",
       "    </tr>\n",
       "    <tr>\n",
       "      <th>4</th>\n",
       "      <td>WP_075688569.1</td>\n",
       "      <td>0</td>\n",
       "      <td>0</td>\n",
       "      <td>WP_075688569.1_10R_2MM_seq_stretch_0_seq_0</td>\n",
       "      <td>2.0</td>\n",
       "    </tr>\n",
       "  </tbody>\n",
       "</table>\n",
       "</div>"
      ],
      "text/plain": [
       "               id stretch_x seq_x                                      rep_id  \\\n",
       "0    MBQ9252633.1         0     0    MBQ9252633.1_10R_2MM_seq_stretch_0_seq_0   \n",
       "1    MBQ9252633.1         0     4    MBQ9252633.1_10R_2MM_seq_stretch_0_seq_4   \n",
       "2    MBQ9252633.1         0     6    MBQ9252633.1_10R_2MM_seq_stretch_0_seq_6   \n",
       "3    MBQ9252633.1         0    11   MBQ9252633.1_10R_2MM_seq_stretch_0_seq_11   \n",
       "4  WP_075688569.1         0     0  WP_075688569.1_10R_2MM_seq_stretch_0_seq_0   \n",
       "\n",
       "     c  \n",
       "0  0.0  \n",
       "1  0.0  \n",
       "2  0.0  \n",
       "3  0.0  \n",
       "4  2.0  "
      ]
     },
     "execution_count": 186,
     "metadata": {},
     "output_type": "execute_result"
    }
   ],
   "source": [
    "print(len(cd_out_hit_df))\n",
    "cd_out_hit_df.head()"
   ]
  },
  {
   "cell_type": "code",
   "execution_count": 187,
   "metadata": {},
   "outputs": [],
   "source": [
    "# Add x and y coordinates from CLANS to the dataframe\n",
    "with open(clans_file, 'r') as file:\n",
    "    data = file.readlines()\n",
    "\n",
    "data = [line.strip() for line in data]\n",
    "\n",
    "first_pos = 1\n",
    "for line in data:\n",
    "    if line == '<pos>':\n",
    "        break\n",
    "    else:\n",
    "        first_pos += 1\n",
    "\n",
    "last_pos = first_pos + len(cd_out_hit_df)\n",
    "\n",
    "pos = [x.split() for x in data[first_pos:last_pos]]\n",
    "\n",
    "cd_out_hit_df['x'] = [float(x[1]) for x in pos]\n",
    "cd_out_hit_df['y'] = [float(x[2]) for x in pos]"
   ]
  },
  {
   "cell_type": "code",
   "execution_count": 188,
   "metadata": {},
   "outputs": [
    {
     "data": {
      "image/png": "[encoded data removed]",
      "text/plain": [
       "<Figure size 800x800 with 1 Axes>"
      ]
     },
     "metadata": {},
     "output_type": "display_data"
    }
   ],
   "source": [
    "fig, ax = plt.subplots(figsize=(8, 8))\n",
    "sns.scatterplot(data=cd_out_hit_df, x='x', y='y', hue='c', palette='tab10', s=3)\n",
    "plt.show()"
   ]
  },
  {
   "cell_type": "markdown",
   "metadata": {},
   "source": [
    "#### Create DataFrame for all RegEx Hits"
   ]
  },
  {
   "cell_type": "code",
   "execution_count": 189,
   "metadata": {},
   "outputs": [],
   "source": [
    "full_hit_df = pd.DataFrame(columns=['id', 'stretch_x', 'seq_x', 'header'])\n",
    "ix = 0\n",
    "\n",
    "with open(full_fasta_file, 'r') as file:\n",
    "\n",
    "    lines = [line.strip() for line in file.readlines()]\n",
    "    headers = lines[::2]\n",
    "    seqs = lines[1::2]\n",
    "    \n",
    "    for header_str in headers:\n",
    "\n",
    "        header = header_str.split('_')\n",
    "        id, strx, sx = '_'.join(header[:-7])[1:], header[-3], header[-1]\n",
    "        full_hit_df.loc[ix] = [id, strx, sx, header_str[1:]]\n",
    "        ix += 1"
   ]
  },
  {
   "cell_type": "code",
   "execution_count": 190,
   "metadata": {},
   "outputs": [],
   "source": [
    "# Assign each hit its representative hit\n",
    "full_hit_df['rep_id'] = full_hit_df['header'].apply(lambda x: rep_dict[x])"
   ]
  },
  {
   "cell_type": "code",
   "execution_count": 191,
   "metadata": {},
   "outputs": [
    {
     "data": {
      "text/plain": [
       "(16880, 3507)"
      ]
     },
     "execution_count": 191,
     "metadata": {},
     "output_type": "execute_result"
    }
   ],
   "source": [
    "len(np.unique(list(rep_dict.keys()))), len(np.unique(list(rep_dict.values())))"
   ]
  },
  {
   "cell_type": "code",
   "execution_count": 192,
   "metadata": {},
   "outputs": [
    {
     "name": "stdout",
     "output_type": "stream",
     "text": [
      "16880\n"
     ]
    },
    {
     "data": {
      "text/html": [
       "<div>\n",
       "<style scoped>\n",
       "    .dataframe tbody tr th:only-of-type {\n",
       "        vertical-align: middle;\n",
       "    }\n",
       "\n",
       "    .dataframe tbody tr th {\n",
       "        vertical-align: top;\n",
       "    }\n",
       "\n",
       "    .dataframe thead th {\n",
       "        text-align: right;\n",
       "    }\n",
       "</style>\n",
       "<table border=\"1\" class=\"dataframe\">\n",
       "  <thead>\n",
       "    <tr style=\"text-align: right;\">\n",
       "      <th></th>\n",
       "      <th>id</th>\n",
       "      <th>stretch_x</th>\n",
       "      <th>seq_x</th>\n",
       "      <th>header</th>\n",
       "      <th>rep_id</th>\n",
       "    </tr>\n",
       "  </thead>\n",
       "  <tbody>\n",
       "    <tr>\n",
       "      <th>0</th>\n",
       "      <td>MBQ9252633.1</td>\n",
       "      <td>0</td>\n",
       "      <td>0</td>\n",
       "      <td>MBQ9252633.1_10R_2MM_seq_stretch_0_seq_0</td>\n",
       "      <td>MBQ9252633.1_10R_2MM_seq_stretch_0_seq_0</td>\n",
       "    </tr>\n",
       "    <tr>\n",
       "      <th>1</th>\n",
       "      <td>MBQ9252633.1</td>\n",
       "      <td>0</td>\n",
       "      <td>1</td>\n",
       "      <td>MBQ9252633.1_10R_2MM_seq_stretch_0_seq_1</td>\n",
       "      <td>MBQ9252633.1_10R_2MM_seq_stretch_0_seq_0</td>\n",
       "    </tr>\n",
       "    <tr>\n",
       "      <th>2</th>\n",
       "      <td>MBQ9252633.1</td>\n",
       "      <td>0</td>\n",
       "      <td>2</td>\n",
       "      <td>MBQ9252633.1_10R_2MM_seq_stretch_0_seq_2</td>\n",
       "      <td>MBQ9252633.1_10R_2MM_seq_stretch_0_seq_0</td>\n",
       "    </tr>\n",
       "    <tr>\n",
       "      <th>3</th>\n",
       "      <td>MBQ9252633.1</td>\n",
       "      <td>0</td>\n",
       "      <td>3</td>\n",
       "      <td>MBQ9252633.1_10R_2MM_seq_stretch_0_seq_3</td>\n",
       "      <td>MBQ9252633.1_10R_2MM_seq_stretch_0_seq_0</td>\n",
       "    </tr>\n",
       "    <tr>\n",
       "      <th>4</th>\n",
       "      <td>MBQ9252633.1</td>\n",
       "      <td>0</td>\n",
       "      <td>4</td>\n",
       "      <td>MBQ9252633.1_10R_2MM_seq_stretch_0_seq_4</td>\n",
       "      <td>MBQ9252633.1_10R_2MM_seq_stretch_0_seq_4</td>\n",
       "    </tr>\n",
       "  </tbody>\n",
       "</table>\n",
       "</div>"
      ],
      "text/plain": [
       "             id stretch_x seq_x                                    header  \\\n",
       "0  MBQ9252633.1         0     0  MBQ9252633.1_10R_2MM_seq_stretch_0_seq_0   \n",
       "1  MBQ9252633.1         0     1  MBQ9252633.1_10R_2MM_seq_stretch_0_seq_1   \n",
       "2  MBQ9252633.1         0     2  MBQ9252633.1_10R_2MM_seq_stretch_0_seq_2   \n",
       "3  MBQ9252633.1         0     3  MBQ9252633.1_10R_2MM_seq_stretch_0_seq_3   \n",
       "4  MBQ9252633.1         0     4  MBQ9252633.1_10R_2MM_seq_stretch_0_seq_4   \n",
       "\n",
       "                                     rep_id  \n",
       "0  MBQ9252633.1_10R_2MM_seq_stretch_0_seq_0  \n",
       "1  MBQ9252633.1_10R_2MM_seq_stretch_0_seq_0  \n",
       "2  MBQ9252633.1_10R_2MM_seq_stretch_0_seq_0  \n",
       "3  MBQ9252633.1_10R_2MM_seq_stretch_0_seq_0  \n",
       "4  MBQ9252633.1_10R_2MM_seq_stretch_0_seq_4  "
      ]
     },
     "execution_count": 192,
     "metadata": {},
     "output_type": "execute_result"
    }
   ],
   "source": [
    "print(len(full_hit_df))\n",
    "full_hit_df.head()"
   ]
  },
  {
   "cell_type": "markdown",
   "metadata": {},
   "source": [
    "#### Merge Reprenstative and Full Hit DataFrame"
   ]
  },
  {
   "cell_type": "code",
   "execution_count": 193,
   "metadata": {},
   "outputs": [
    {
     "name": "stdout",
     "output_type": "stream",
     "text": [
      "16880\n"
     ]
    },
    {
     "data": {
      "text/html": [
       "<div>\n",
       "<style scoped>\n",
       "    .dataframe tbody tr th:only-of-type {\n",
       "        vertical-align: middle;\n",
       "    }\n",
       "\n",
       "    .dataframe tbody tr th {\n",
       "        vertical-align: top;\n",
       "    }\n",
       "\n",
       "    .dataframe thead th {\n",
       "        text-align: right;\n",
       "    }\n",
       "</style>\n",
       "<table border=\"1\" class=\"dataframe\">\n",
       "  <thead>\n",
       "    <tr style=\"text-align: right;\">\n",
       "      <th></th>\n",
       "      <th>id</th>\n",
       "      <th>stretch_x</th>\n",
       "      <th>seq_x</th>\n",
       "      <th>header</th>\n",
       "      <th>rep_id</th>\n",
       "      <th>c</th>\n",
       "    </tr>\n",
       "  </thead>\n",
       "  <tbody>\n",
       "    <tr>\n",
       "      <th>0</th>\n",
       "      <td>MBQ9252633.1</td>\n",
       "      <td>0</td>\n",
       "      <td>0</td>\n",
       "      <td>MBQ9252633.1_10R_2MM_seq_stretch_0_seq_0</td>\n",
       "      <td>MBQ9252633.1_10R_2MM_seq_stretch_0_seq_0</td>\n",
       "      <td>0.0</td>\n",
       "    </tr>\n",
       "    <tr>\n",
       "      <th>1</th>\n",
       "      <td>MBQ9252633.1</td>\n",
       "      <td>0</td>\n",
       "      <td>1</td>\n",
       "      <td>MBQ9252633.1_10R_2MM_seq_stretch_0_seq_1</td>\n",
       "      <td>MBQ9252633.1_10R_2MM_seq_stretch_0_seq_0</td>\n",
       "      <td>0.0</td>\n",
       "    </tr>\n",
       "    <tr>\n",
       "      <th>2</th>\n",
       "      <td>MBQ9252633.1</td>\n",
       "      <td>0</td>\n",
       "      <td>2</td>\n",
       "      <td>MBQ9252633.1_10R_2MM_seq_stretch_0_seq_2</td>\n",
       "      <td>MBQ9252633.1_10R_2MM_seq_stretch_0_seq_0</td>\n",
       "      <td>0.0</td>\n",
       "    </tr>\n",
       "    <tr>\n",
       "      <th>3</th>\n",
       "      <td>MBQ9252633.1</td>\n",
       "      <td>0</td>\n",
       "      <td>3</td>\n",
       "      <td>MBQ9252633.1_10R_2MM_seq_stretch_0_seq_3</td>\n",
       "      <td>MBQ9252633.1_10R_2MM_seq_stretch_0_seq_0</td>\n",
       "      <td>0.0</td>\n",
       "    </tr>\n",
       "    <tr>\n",
       "      <th>4</th>\n",
       "      <td>MBQ9252633.1</td>\n",
       "      <td>0</td>\n",
       "      <td>4</td>\n",
       "      <td>MBQ9252633.1_10R_2MM_seq_stretch_0_seq_4</td>\n",
       "      <td>MBQ9252633.1_10R_2MM_seq_stretch_0_seq_4</td>\n",
       "      <td>0.0</td>\n",
       "    </tr>\n",
       "  </tbody>\n",
       "</table>\n",
       "</div>"
      ],
      "text/plain": [
       "             id stretch_x seq_x                                    header  \\\n",
       "0  MBQ9252633.1         0     0  MBQ9252633.1_10R_2MM_seq_stretch_0_seq_0   \n",
       "1  MBQ9252633.1         0     1  MBQ9252633.1_10R_2MM_seq_stretch_0_seq_1   \n",
       "2  MBQ9252633.1         0     2  MBQ9252633.1_10R_2MM_seq_stretch_0_seq_2   \n",
       "3  MBQ9252633.1         0     3  MBQ9252633.1_10R_2MM_seq_stretch_0_seq_3   \n",
       "4  MBQ9252633.1         0     4  MBQ9252633.1_10R_2MM_seq_stretch_0_seq_4   \n",
       "\n",
       "                                     rep_id    c  \n",
       "0  MBQ9252633.1_10R_2MM_seq_stretch_0_seq_0  0.0  \n",
       "1  MBQ9252633.1_10R_2MM_seq_stretch_0_seq_0  0.0  \n",
       "2  MBQ9252633.1_10R_2MM_seq_stretch_0_seq_0  0.0  \n",
       "3  MBQ9252633.1_10R_2MM_seq_stretch_0_seq_0  0.0  \n",
       "4  MBQ9252633.1_10R_2MM_seq_stretch_0_seq_4  0.0  "
      ]
     },
     "execution_count": 193,
     "metadata": {},
     "output_type": "execute_result"
    }
   ],
   "source": [
    "merged_df = full_hit_df.merge(cd_out_hit_df[['rep_id', 'c']], on='rep_id', how='right')\n",
    "\n",
    "print(len(merged_df))\n",
    "merged_df.head(5)"
   ]
  },
  {
   "cell_type": "markdown",
   "metadata": {},
   "source": [
    "#### Derive Cluster Profile for Original Sequences"
   ]
  },
  {
   "cell_type": "code",
   "execution_count": 194,
   "metadata": {},
   "outputs": [],
   "source": [
    "cluster_cols = [f'C{ix}' for ix in range(len(clans_numbers))] + ['C-1']\n",
    "tmp_df[cluster_cols] = 0"
   ]
  },
  {
   "cell_type": "code",
   "execution_count": 195,
   "metadata": {},
   "outputs": [
    {
     "name": "stdout",
     "output_type": "stream",
     "text": [
      "Progress: 2655/2655\r"
     ]
    }
   ],
   "source": [
    "for ix in range(len(tmp_df)): \n",
    "    print(f'Progress: {ix+1}/{len(tmp_df)}', end='\\r')\n",
    "\n",
    "    current_seq = tmp_df.iloc[ix]\n",
    "    current_id = current_seq['id']\n",
    "\n",
    "    tmp_merged_df = merged_df[merged_df['id'] == current_id]\n",
    "\n",
    "    for cluster in tmp_merged_df['c']:\n",
    "        tmp_df.loc[ix, f'C{int(cluster)}'] += 1"
   ]
  },
  {
   "cell_type": "code",
   "execution_count": 196,
   "metadata": {},
   "outputs": [
    {
     "data": {
      "text/plain": [
       "[1122, 111, 7, 0]"
      ]
     },
     "execution_count": 196,
     "metadata": {},
     "output_type": "execute_result"
    }
   ],
   "source": [
    "heights = [0 for _ in range(len(clans_numbers) + 1)]\n",
    "\n",
    "for i in range(len(tmp_df)):\n",
    "    current_seq = tmp_df.iloc[i]\n",
    "\n",
    "    c = 0\n",
    "\n",
    "    for cx in [f'C{ix}' for ix in range(len(clans_numbers))]:\n",
    "        if current_seq[cx] > 0:\n",
    "            c += 1\n",
    "    \n",
    "    if current_seq['C-1'] > 0:\n",
    "        c += 1\n",
    "\n",
    "    if c == 0:\n",
    "        continue\n",
    "    else:\n",
    "        heights[c-1] += 1\n",
    "\n",
    "heights"
   ]
  },
  {
   "cell_type": "code",
   "execution_count": 197,
   "metadata": {},
   "outputs": [
    {
     "data": {
      "image/png": "[encoded data removed]",
      "text/plain": [
       "<Figure size 640x480 with 1 Axes>"
      ]
     },
     "metadata": {},
     "output_type": "display_data"
    }
   ],
   "source": [
    "sns.barplot(x=list(range(1, len(clans_numbers)+2)), y=heights, edgecolor='black', color='#648FFF')   \n",
    "\n",
    "plt.title(f'{R}R {M}MM - Distribution of Hits Across Clusters')\n",
    "plt.xlabel('Number of Clusters')\n",
    "plt.ylabel('Number of Hits')\n",
    "\n",
    "plt.savefig(f'/home/enno/uni/SS24/thesis/1_RegEx/1_TMP/plots/{R}R_{M}MM_{E}.png')\n",
    "plt.show()"
   ]
  },
  {
   "cell_type": "markdown",
   "metadata": {},
   "source": [
    "### CLANS"
   ]
  },
  {
   "cell_type": "code",
   "execution_count": 198,
   "metadata": {},
   "outputs": [],
   "source": [
    "# TODO Re-do below visualization for new data structure"
   ]
  },
  {
   "cell_type": "code",
   "execution_count": 199,
   "metadata": {},
   "outputs": [],
   "source": [
    "# fig, axes = plt.subplots(1, 2, figsize=(18, 8))\n",
    "\n",
    "# pal_5r = ['#1E88E5', '#FFC107', '#D81B60', '#9c9c9c']\n",
    "# pal_7r = ['#1E88E5', '#FFC107', '#D81B60', '#000000', '#9c9c9c']\n",
    "\n",
    "# sns.scatterplot(data=hit_df_5r, x='x', y='y', hue='cl', palette=pal_5r, s=10, ax=axes[0])\n",
    "# sns.scatterplot(data=sample_5r, x='x', y='y', hue='cl', palette=pal_5r[1:2], s=100, edgecolor='black', ax=axes[0])\n",
    "\n",
    "# sns.scatterplot(data=hit_df_7r, x='x', y='y', hue='cl', palette=pal_7r, s=10, ax=axes[1])\n",
    "# sns.scatterplot(data=sample_7r, x='x', y='y', hue='cl', palette=pal_7r[0:2] + pal_7r[-1:], s=100, edgecolor='black', ax=axes[1])\n",
    "\n",
    "# handles, labels = axes[0].get_legend_handles_labels()\n",
    "# axes[0].legend(handles=handles[:4], labels=labels[:4])\n",
    "# axes[0].set_title('5R')\n",
    "\n",
    "# handles, labels = axes[1].get_legend_handles_labels()\n",
    "# axes[1].legend(handles=handles[:5], labels=labels[:5])\n",
    "# axes[1].set_title('7R')\n",
    "\n",
    "# plt.show()"
   ]
  },
  {
   "cell_type": "code",
   "execution_count": 200,
   "metadata": {},
   "outputs": [],
   "source": [
    "# fig, axes = plt.subplots(1, 2, figsize=(18, 8))\n",
    "\n",
    "# pal_5r = ['#1E88E5', '#FFC107', '#D81B60', '#9c9c9c']\n",
    "# pal_7r = ['#1E88E5', '#FFC107', '#D81B60', '#000000', '#9c9c9c']\n",
    "\n",
    "# sns.scatterplot(data=df[df.reduced_group == 'TMP'], x='x', y='y', s=15, c='#9c9c9c', ax=axes[0])\n",
    "# sns.scatterplot(data=tmp_df_5r[tmp_df_5r['C'] != 'CX_norm'], x='x', y='y', edgecolor='black', ax=axes[0], s=15, hue='C')\n",
    "\n",
    "# sns.scatterplot(data=df[df.reduced_group == 'TMP'], x='x', y='y', s=15, c='#9c9c9c', ax=axes[1])\n",
    "# sns.scatterplot(data=tmp_df_7r[tmp_df_7r['C'] != 'CX_norm'], x='x', y='y', edgecolor='black', ax=axes[1], s=15, hue='C')\n",
    "\n",
    "# handles, labels = axes[0].get_legend_handles_labels()\n",
    "# axes[0].legend(handles=handles[:4], labels=labels[:4])\n",
    "# axes[0].set_title('5R')\n",
    "\n",
    "# handles, labels = axes[1].get_legend_handles_labels()\n",
    "# axes[1].legend(handles=handles[:5], labels=labels[:5])\n",
    "# axes[1].set_title('7R')\n",
    "\n",
    "# plt.show()"
   ]
  }
 ],
 "metadata": {
  "kernelspec": {
   "display_name": "seq_analysis",
   "language": "python",
   "name": "python3"
  },
  "language_info": {
   "codemirror_mode": {
    "name": "ipython",
    "version": 3
   },
   "file_extension": ".py",
   "mimetype": "text/x-python",
   "name": "python",
   "nbconvert_exporter": "python",
   "pygments_lexer": "ipython3",
   "version": "3.8.19"
  }
 },
 "nbformat": 4,
 "nbformat_minor": 2
}
