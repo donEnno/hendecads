{
 "cells": [
  {
   "cell_type": "code",
   "execution_count": 2,
   "metadata": {},
   "outputs": [],
   "source": [
    "import os\n",
    "\n",
    "import numpy as np\n",
    "import pandas as pd \n",
    "import matplotlib.pyplot as plt\n",
    "from Bio import SeqIO\n",
    "import regex as rx"
   ]
  },
  {
   "cell_type": "markdown",
   "metadata": {},
   "source": [
    "### Setup"
   ]
  },
  {
   "cell_type": "code",
   "execution_count": 3,
   "metadata": {},
   "outputs": [],
   "source": [
    "lothar = '/home/enno/uni/SS24/thesis/1_RegEx'"
   ]
  },
  {
   "cell_type": "code",
   "execution_count": 8,
   "metadata": {},
   "outputs": [],
   "source": [
    "if os.getcwd() != lothar:\n",
    "    input_file = '/ebio/abt1_share/prediction_hendecads/1_repo/1_RegEx/0_data/sequences.fasta'\n",
    "    clans_file = '/ebio/abt1_share/prediction_hendecads/1_repo/1_RegEx/0_data/new_hendecads_1E-14.clans'\n",
    "    df = pd.read_csv('/ebio/abt1_share/prediction_hendecads/1_repo/1_RegEx/0_data/regEx.csv')\n",
    "else:\n",
    "    input_file = '/home/enno/uni/SS24/thesis/1_RegEx/0_data/sequences.fasta'\n",
    "    clans_file = '/home/enno/uni/SS24/thesis/1_RegEx/0_data/new_hendecads_1E-14.clans'\n",
    "    df = pd.read_csv('/home/enno/uni/SS24/thesis/1_RegEx/0_data/regEx_5R.csv')\n",
    "    \n",
    "fasta_sequences = list(SeqIO.parse(open(input_file),'fasta'))\n",
    "n_seq = len(fasta_sequences)"
   ]
  },
  {
   "cell_type": "markdown",
   "metadata": {},
   "source": [
    "#### Reading Sequences + Repetetive Stretches"
   ]
  },
  {
   "cell_type": "code",
   "execution_count": 4,
   "metadata": {},
   "outputs": [
    {
     "name": "stdout",
     "output_type": "stream",
     "text": [
      "Processing sequence 36455/36455\r"
     ]
    }
   ],
   "source": [
    "# Read .fasta file, extract stretches and store them in a df\n",
    "\n",
    "df = pd.DataFrame(columns=['id', 'seq', 'stretch_ix', 'stretch_seq'])\n",
    "\n",
    "pattern = r'\\[\\[.*?\\]\\]'\n",
    "\n",
    "for seq_ix, seq in enumerate(list(SeqIO.parse(open(input_file), 'fasta'))):\n",
    "\n",
    "    print(f\"Processing sequence {seq_ix+1}/{n_seq}\", end='\\r')\n",
    "    \n",
    "    s = str(seq.seq).lower()\n",
    "    d = str(seq.description)\n",
    "    \n",
    "    stretches = eval(rx.findall(pattern, d.split('|||')[-1])[0])\n",
    "\n",
    "    tmp_six = []\n",
    "    tmp_seq = []\n",
    "\n",
    "    for sx, stretch in enumerate(stretches):\n",
    "                \n",
    "        cc_ix = [x for x in range(stretch[0], stretch[1]+1)]\n",
    "        stretch_seq = s[min(cc_ix):max(cc_ix)]\n",
    "\n",
    "        tmp_six.append(cc_ix)\n",
    "        tmp_seq.append(stretch_seq)\n",
    "    \n",
    "    df.loc[len(df), ] = [seq.id, s, tmp_six, tmp_seq]"
   ]
  },
  {
   "cell_type": "markdown",
   "metadata": {},
   "source": [
    "#### Reading Cluster Assignments from .clans"
   ]
  },
  {
   "cell_type": "code",
   "execution_count": 5,
   "metadata": {},
   "outputs": [],
   "source": [
    "def parse_numbers(filename):\n",
    "    # extracts the cluster assignments from the .clans file\n",
    "\n",
    "    clusters = []\n",
    "    with open(filename, 'r') as file:\n",
    "       \n",
    "        for line in file:\n",
    "            \n",
    "            if rx.match('numbers=', line):\n",
    "                \n",
    "                _, num_str = line.split('=')\n",
    "                numbers = [int(num.strip()) for num in num_str.split(';')[:-1]]\n",
    "\n",
    "                clusters.append(numbers)\n",
    "    \n",
    "    return clusters"
   ]
  },
  {
   "cell_type": "code",
   "execution_count": 6,
   "metadata": {},
   "outputs": [],
   "source": [
    "numbers = parse_numbers(clans_file)"
   ]
  },
  {
   "cell_type": "code",
   "execution_count": 7,
   "metadata": {},
   "outputs": [],
   "source": [
    "# assign clusters to sequences\n",
    "\n",
    "for ix, cluster in enumerate(numbers):\n",
    "        df.loc[cluster, 'c'] = ix\n",
    "\n",
    "df.loc[df['c'].isna(), 'c'] = -1"
   ]
  },
  {
   "cell_type": "markdown",
   "metadata": {},
   "source": [
    "#### Reading CLANS coordinates"
   ]
  },
  {
   "cell_type": "code",
   "execution_count": 11,
   "metadata": {},
   "outputs": [],
   "source": [
    "with open(clans_file, 'r') as file:\n",
    "    data = file.readlines()\n",
    "\n",
    "data = [line.strip() for line in data]\n",
    "\n",
    "# line positoins in new_hendecads_1E-14.clans\n",
    "first_pos = 73772\n",
    "last_pos = 73772 + len(df)\n",
    "\n",
    "pos = [x.split() for x in data[first_pos:last_pos]]\n",
    "\n",
    "x = [float(x[1]) for x in pos]\n",
    "y = [float(x[2]) for x in pos]\n",
    "\n",
    "df['npf_x'] = x\n",
    "df['npf_y'] = y"
   ]
  },
  {
   "cell_type": "code",
   "execution_count": 10,
   "metadata": {},
   "outputs": [],
   "source": [
    "df.to_csv('/home/enno/uni/SS24/thesis/1_RegEx/0_data/regEx.csv', index=False)"
   ]
  },
  {
   "cell_type": "markdown",
   "metadata": {},
   "source": [
    "### RegEx"
   ]
  },
  {
   "cell_type": "code",
   "execution_count": 12,
   "metadata": {},
   "outputs": [],
   "source": [
    "def find_match(seq, pattern, i, mm):\n",
    "    # suffix for fuzzy regex\n",
    "    mm_suffix = r'{e<=' + str(mm) + '}'\n",
    "    pattern = r'(' + pattern * i + r')' + mm_suffix\n",
    "\n",
    "    N = 11 * i  # length of pattern\n",
    "    i = 0       # running index\n",
    "\n",
    "    hits = []\n",
    "    hits_ix = []\n",
    "\n",
    "    while len(seq) >= N:  # while remaining sequence is longer than pattern\n",
    "\n",
    "        match = rx.search(pattern, seq[:N])\n",
    "\n",
    "        if match and len(match.group(0)) == N:  # if match is found and fuzzyness is substitution only, not indel\n",
    "            hits.append(match.group(0))\n",
    "            hits_ix.append([i, i+N])\n",
    "\n",
    "        seq = seq[1:]\n",
    "        i += 1\n",
    "\n",
    "    return hits, hits_ix"
   ]
  },
  {
   "cell_type": "code",
   "execution_count": 13,
   "metadata": {},
   "outputs": [],
   "source": [
    "              # a--d---h---a--d---h---\n",
    "query_string = 'av1av11av11av2av22av22'"
   ]
  },
  {
   "cell_type": "code",
   "execution_count": 14,
   "metadata": {},
   "outputs": [
    {
     "data": {
      "text/plain": [
       "(['av1av11av11', 'v1av11av11a', 'v11av11av2a', 'v11av2av22a', 'av2av22av22'],\n",
       " [[0, 11], [1, 12], [4, 15], [8, 19], [11, 22]])"
      ]
     },
     "execution_count": 14,
     "metadata": {},
     "output_type": "execute_result"
    }
   ],
   "source": [
    "pattern = r'[avilm]..[avilm]...[avilm]...'\n",
    "\n",
    "find_match(query_string, pattern, 1, 0)"
   ]
  },
  {
   "cell_type": "markdown",
   "metadata": {},
   "source": [
    "#### Apply to Data"
   ]
  },
  {
   "cell_type": "code",
   "execution_count": 17,
   "metadata": {},
   "outputs": [
    {
     "name": "stdout",
     "output_type": "stream",
     "text": [
      "5\n",
      "0\n",
      "1\n",
      "2\n",
      "3\n",
      "4\n"
     ]
    }
   ],
   "source": [
    "pattern = r'[avilm]..[avilm]...[avilm]...'\n",
    "\n",
    "def process_row(row, lx, mmx):\n",
    "    tmp_stretch = [find_match(stretch, pattern, lx, mmx) for stretch in row['stretch_seq']]\n",
    "    return tmp_stretch\n",
    "\n",
    "for lx in [5]:  # number of consecutive repeats\n",
    "    print(lx)\n",
    "    \n",
    "    for mmx in range(0, 5): # number of allowed mismatches\n",
    "        print(mmx)\n",
    "        df[f'{lx}R_{mmx}MM'] = df.apply(lambda x: process_row(x, lx, mmx), axis=1)\n",
    "\n",
    "df.to_csv('/home/enno/uni/SS24/thesis/1_RegEx/0_data/regEx_5R.csv', index=False)"
   ]
  },
  {
   "cell_type": "code",
   "execution_count": 18,
   "metadata": {},
   "outputs": [],
   "source": [
    "col0 = [f'{i}R_0MM' for i in [1, 3, 5, 10]]  # 0 mismatches\n",
    "col1 = [f'{i}R_1MM' for i in [1, 3, 5, 10]]  # 1 mismatches\n",
    "col2 = [f'{i}R_2MM' for i in [1, 3, 5, 10]]  # 2 mismatches\n",
    "\n",
    "fiver_col = [f'5R_{i}MM' for i in range(0, 5)]\n",
    "\n",
    "# separatae seqs from indices and count number of hits\n",
    "for col in fiver_col:\n",
    "    df[f'{col}_seq'] = df[col].apply(lambda x: [item[0] for item in x])\n",
    "    df[f'{col}_ix'] = df[col].apply(lambda x: [item[1] for item in x])\n",
    "    df[f'{col}_n'] = df[col].apply(lambda x: sum([1 for stretch in x for hit in stretch[0]]))"
   ]
  },
  {
   "cell_type": "code",
   "execution_count": 21,
   "metadata": {},
   "outputs": [
    {
     "data": {
      "text/plain": [
       "Index(['id', 'seq', 'stretch_ix', 'stretch_seq', 'c', 'npf_x', 'npf_y',\n",
       "       '5R_0MM', '5R_1MM', '5R_2MM', '5R_3MM', '5R_4MM', '5R_0MM_seq',\n",
       "       '5R_0MM_ix', '5R_0MM_n', '5R_1MM_seq', '5R_1MM_ix', '5R_1MM_n',\n",
       "       '5R_2MM_seq', '5R_2MM_ix', '5R_2MM_n', '5R_3MM_seq', '5R_3MM_ix',\n",
       "       '5R_3MM_n', '5R_4MM_seq', '5R_4MM_ix', '5R_4MM_n'],\n",
       "      dtype='object')"
      ]
     },
     "execution_count": 21,
     "metadata": {},
     "output_type": "execute_result"
    }
   ],
   "source": [
    "df.columns"
   ]
  },
  {
   "cell_type": "code",
   "execution_count": 22,
   "metadata": {},
   "outputs": [],
   "source": [
    "# drop col0, col1, col2 since they are now redundant\n",
    "df.drop(columns=fiver_col, inplace=True)  # col0 + col1 + col2\n",
    "\n",
    "df.to_csv('/home/enno/uni/SS24/thesis/1_RegEx/0_data/regEx_5R.csv', index=False)"
   ]
  },
  {
   "cell_type": "markdown",
   "metadata": {},
   "source": [
    "#### Visualize for TMPs"
   ]
  },
  {
   "cell_type": "code",
   "execution_count": 8,
   "metadata": {},
   "outputs": [
    {
     "data": {
      "image/png": "[encoded data removed]",
      "text/plain": [
       "<Figure size 800x600 with 1 Axes>"
      ]
     },
     "metadata": {},
     "output_type": "display_data"
    }
   ],
   "source": [
    "mm = ['4MM', '3MM', '2MM', '1MM', '0MM']\n",
    "rr = ['5R']  # '1R', '3R', '5R', '10R'\n",
    "\n",
    "palette = ['#648FFF', '#785EF0', '#DC267F']\n",
    "\n",
    "fig, ax = plt.subplots(figsize=(8, 6))\n",
    "plt.grid()\n",
    "\n",
    "for ix, mx in enumerate(mm):\n",
    "    \n",
    "    total_length = len(df[df['c'] == 0])\n",
    "    length_1R = len(df[(df['c'] == 0) & (df[f'1R_{mx}_n'] > 0)])\n",
    "    length_3R = len(df[(df['c'] == 0) & (df[f'3R_{mx}_n'] > 0)])\n",
    "    length_5R = len(df[(df['c'] == 0) & (df[f'5R_{mx}_n'] > 0)])\n",
    "    length_10R = len(df[(df['c'] == 0) & (df[f'10R_{mx}_n'] > 0)])\n",
    "\n",
    "    # Create the bar plot\n",
    "    labels = ['5R']  # ['Total', '1R', '3R', '5R', '10R']\n",
    "    lengths = [total_length, length_1R, length_3R, length_5R, length_10R]\n",
    "\n",
    "    plt.bar(labels, lengths, edgecolor='black', label=mx, color=palette[ix])\n",
    "\n",
    "ax.yaxis.grid(color='gray', linestyle='dashed')\n",
    "ax.xaxis.grid(False)\n",
    "ax.set_axisbelow(True)\n",
    "\n",
    "plt.legend()\n",
    "plt.xlabel('Consecutive Repeats')\n",
    "plt.ylabel('Number of Samples')\n",
    "plt.show()"
   ]
  },
  {
   "cell_type": "code",
   "execution_count": 11,
   "metadata": {},
   "outputs": [
    {
     "data": {
      "image/png": "[encoded data removed]",
      "text/plain": [
       "<Figure size 800x600 with 1 Axes>"
      ]
     },
     "metadata": {},
     "output_type": "display_data"
    }
   ],
   "source": [
    "mm = ['2MM', '1MM', '0MM']\n",
    "rr = ['5R']  # ['1R', '3R', '5R', '10R']\n",
    "\n",
    "palette = ['#648FFF', '#785EF0', '#DC267F']\n",
    "\n",
    "fig, ax = plt.subplots(figsize=(8, 6))\n",
    "plt.grid()\n",
    "\n",
    "for ix, mx in enumerate(mm):\n",
    "    \n",
    "    total_length = len(df[df['c'] == 0])\n",
    "    length_1R = len(df[(df['c'] == 0) & (df[f'1R_{mx}_n'] > 0)])\n",
    "    length_3R = len(df[(df['c'] == 0) & (df[f'3R_{mx}_n'] > 0)])\n",
    "    length_5R = len(df[(df['c'] == 0) & (df[f'5R_{mx}_n'] > 0)])\n",
    "    length_10R = len(df[(df['c'] == 0) & (df[f'10R_{mx}_n'] > 0)])\n",
    "\n",
    "    # Create the bar plot\n",
    "    labels = ['5R']  # ['Total', '1R', '3R', '5R', '10R']\n",
    "    lengths = [length_1R/total_length, length_3R/total_length, length_5R/total_length, length_10R/total_length]\n",
    "\n",
    "    plt.bar(labels, lengths, edgecolor='black', label=mx, color=palette[ix])\n",
    "\n",
    "ax.yaxis.grid(color='gray', linestyle='dashed')\n",
    "ax.xaxis.grid(False)\n",
    "ax.set_axisbelow(True)\n",
    "\n",
    "plt.legend()\n",
    "plt.title('Fraction of TMPs with at least one hit')\n",
    "plt.xlabel('Consecutive Repeats')\n",
    "plt.ylabel('Fraction of Sequences')\n",
    "plt.show()"
   ]
  },
  {
   "cell_type": "code",
   "execution_count": 9,
   "metadata": {},
   "outputs": [],
   "source": [
    "lengths = []\n",
    "for mx in range(0, 5):\n",
    "    length = len(df[(df['c'] == 0) & (df[f'5R_{mx}MM_n'] > 0)])\n",
    "    lengths.append(length)"
   ]
  },
  {
   "cell_type": "code",
   "execution_count": 32,
   "metadata": {},
   "outputs": [
    {
     "data": {
      "image/png": "[encoded data removed]",
      "text/plain": [
       "<Figure size 800x600 with 1 Axes>"
      ]
     },
     "metadata": {},
     "output_type": "display_data"
    }
   ],
   "source": [
    "fig, ax = plt.subplots(figsize=(8, 6))\n",
    "\n",
    "plt.bar(x=list(range(5)), height=np.array(lengths) / len(df[df['c'] == 0]), edgecolor='black', color='#785EF0')\n",
    "\n",
    "plt.xlabel('Number of allowed mismatches')\n",
    "plt.ylabel('Relative Frequency')\n",
    "\n",
    "ax.set_axisbelow(True)\n",
    "plt.grid(axis='y')\n",
    "plt.ylim(0, 1)\n",
    "\n",
    "n_tmp = len(df[df['c'] == 0])\n",
    "plt.text(-0.5, 0.95, f'N = {n_tmp}')\n",
    "plt.title('Fraction of TMPs with at least one hit')\n",
    "plt.show()"
   ]
  },
  {
   "cell_type": "markdown",
   "metadata": {},
   "source": [
    "#### Write Repeats and MM to .fasta"
   ]
  },
  {
   "cell_type": "code",
   "execution_count": 31,
   "metadata": {},
   "outputs": [
    {
     "name": "stdout",
     "output_type": "stream",
     "text": [
      ">XP_019958182.1_1R_0MM_seq_stretch_1_seq_0\n",
      ">XP_019958182.1_1R_0MM_seq_stretch_1_seq_1\n",
      ">XP_019958182.1_1R_0MM_seq_stretch_1_seq_2\n",
      ">XP_019958182.1_1R_0MM_seq_stretch_1_seq_3\n"
     ]
    }
   ],
   "source": [
    "test_seq = df.iloc[74]\n",
    "col = '1R_0MM_seq'\n",
    "\n",
    "for stretch_ix, stretch in enumerate(test_seq[col]):\n",
    "    for seq_ix, seq in enumerate(stretch):\n",
    "\n",
    "        print(f'>{test_seq[\"id\"]}_{col}_stretch_{stretch_ix}_seq_{seq_ix}')"
   ]
  },
  {
   "cell_type": "code",
   "execution_count": 30,
   "metadata": {},
   "outputs": [],
   "source": [
    "for mm in [0, 1, 2, 3, 4]:\n",
    "    for col in [f'5R_{mm}MM_seq']:  # [f'1R_{mm}MM_seq', f'3R_{mm}MM_seq', f'5R_{mm}MM_seq', f'10R_{mm}MM_seq']:\n",
    "        tmp_df = df[(df[col[:-4] + '_n'] > 0) & (df['c'] == 0)].reset_index(drop=True)\n",
    "\n",
    "        with open(f'/home/enno/uni/SS24/thesis/1_RegEx/0_data/fasta_5R/{col}.fasta', 'w') as file:\n",
    "\n",
    "            for seq_ix, seq in enumerate(tmp_df[col]):\n",
    "                for stretch_ix, stretch in enumerate(seq):\n",
    "                    for hit_ix, hit in enumerate(stretch):\n",
    "\n",
    "                        file.write(f'>{tmp_df.iloc[seq_ix][\"id\"]}_{col}_stretch_{stretch_ix}_seq_{hit_ix}\\n')\n",
    "                        file.write(f'{hit.upper()}\\n')"
   ]
  }
 ],
 "metadata": {
  "kernelspec": {
   "display_name": "seq_analysis",
   "language": "python",
   "name": "python3"
  },
  "language_info": {
   "codemirror_mode": {
    "name": "ipython",
    "version": 3
   },
   "file_extension": ".py",
   "mimetype": "text/x-python",
   "name": "python",
   "nbconvert_exporter": "python",
   "pygments_lexer": "ipython3",
   "version": "3.8.19"
  }
 },
 "nbformat": 4,
 "nbformat_minor": 2
}
