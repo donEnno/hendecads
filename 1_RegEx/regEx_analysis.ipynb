{
 "cells": [
  {
   "cell_type": "code",
   "execution_count": 1,
   "metadata": {},
   "outputs": [],
   "source": [
    "import os\n",
    "\n",
    "import numpy as np\n",
    "import pandas as pd \n",
    "import matplotlib.pyplot as plt\n",
    "import seaborn as sns\n",
    "from Bio import SeqIO\n",
    "import regex as rx"
   ]
  },
  {
   "cell_type": "markdown",
   "metadata": {},
   "source": [
    "### Setup"
   ]
  },
  {
   "cell_type": "code",
   "execution_count": 2,
   "metadata": {},
   "outputs": [],
   "source": [
    "lothar = '/home/enno/uni/SS24/thesis/1_RegEx'"
   ]
  },
  {
   "cell_type": "code",
   "execution_count": 3,
   "metadata": {},
   "outputs": [],
   "source": [
    "if os.getcwd() != lothar:\n",
    "    input_file = '/ebio/abt1_share/prediction_hendecads/1_repo/1_RegEx/0_data/sequences.fasta'\n",
    "    clans_file = '/ebio/abt1_share/prediction_hendecads/1_repo/1_RegEx/0_data/new_hendecads_1E-14.clans'\n",
    "    df = pd.read_csv('/ebio/abt1_share/prediction_hendecads/1_repo/1_RegEx/0_data/regEx.csv')\n",
    "else:\n",
    "    input_file = '/home/enno/uni/SS24/thesis/1_RegEx/0_data/sequences.fasta'\n",
    "    clans_file = '/home/enno/uni/SS24/thesis/1_RegEx/0_data/new_hendecads_1E-14.clans'\n",
    "    df = pd.read_csv('/home/enno/uni/SS24/thesis/1_RegEx/0_data/regEx.csv')\n",
    "    \n",
    "fasta_sequences = list(SeqIO.parse(open(input_file),'fasta'))\n",
    "n_seq = len(fasta_sequences)"
   ]
  },
  {
   "cell_type": "markdown",
   "metadata": {},
   "source": [
    "#### Reading Sequences + Repetetive Stretches"
   ]
  },
  {
   "cell_type": "code",
   "execution_count": 8,
   "metadata": {},
   "outputs": [
    {
     "name": "stdout",
     "output_type": "stream",
     "text": [
      "Processing sequence 36455/36455\r"
     ]
    }
   ],
   "source": [
    "# Read .fasta file, extract stretches and store them in a df\n",
    "\n",
    "df = pd.DataFrame(columns=['id', 'seq', 'stretch_ix', 'stretch_seq'])\n",
    "\n",
    "pattern = r'\\[\\[.*?\\]\\]'\n",
    "\n",
    "for seq_ix, seq in enumerate(list(SeqIO.parse(open(input_file), 'fasta'))):\n",
    "\n",
    "    print(f\"Processing sequence {seq_ix+1}/{n_seq}\", end='\\r')\n",
    "    \n",
    "    s = str(seq.seq).lower()\n",
    "    d = str(seq.description)\n",
    "    \n",
    "    stretches = eval(rx.findall(pattern, d.split('|||')[-1])[0])\n",
    "\n",
    "    tmp_six = []\n",
    "    tmp_seq = []\n",
    "\n",
    "    for sx, stretch in enumerate(stretches):\n",
    "                \n",
    "        cc_ix = [x for x in range(stretch[0], stretch[1]+1)]\n",
    "        stretch_seq = s[min(cc_ix):max(cc_ix)]\n",
    "\n",
    "        tmp_six.append(cc_ix)\n",
    "        tmp_seq.append(stretch_seq)\n",
    "    \n",
    "    df.loc[len(df), ] = [seq.id, s, tmp_six, tmp_seq]"
   ]
  },
  {
   "cell_type": "code",
   "execution_count": 9,
   "metadata": {},
   "outputs": [
    {
     "data": {
      "text/html": [
       "<div>\n",
       "<style scoped>\n",
       "    .dataframe tbody tr th:only-of-type {\n",
       "        vertical-align: middle;\n",
       "    }\n",
       "\n",
       "    .dataframe tbody tr th {\n",
       "        vertical-align: top;\n",
       "    }\n",
       "\n",
       "    .dataframe thead th {\n",
       "        text-align: right;\n",
       "    }\n",
       "</style>\n",
       "<table border=\"1\" class=\"dataframe\">\n",
       "  <thead>\n",
       "    <tr style=\"text-align: right;\">\n",
       "      <th></th>\n",
       "      <th>id</th>\n",
       "      <th>seq</th>\n",
       "      <th>stretch_ix</th>\n",
       "      <th>stretch_seq</th>\n",
       "    </tr>\n",
       "  </thead>\n",
       "  <tbody>\n",
       "    <tr>\n",
       "      <th>0</th>\n",
       "      <td>MCD6041253.1</td>\n",
       "      <td>mrlvyvavaailcsfsttslagaektakragkfvektatragkfve...</td>\n",
       "      <td>[[1, 2, 3, 4, 5, 6, 7, 8, 9, 10, 11, 12, 13, 1...</td>\n",
       "      <td>[rlvyvavaailcsfsttslagaektakragkfvektatragkfve...</td>\n",
       "    </tr>\n",
       "    <tr>\n",
       "      <th>1</th>\n",
       "      <td>MCD7737945.1</td>\n",
       "      <td>mqgrvffreaaalilaaalsmaglpasaaansgieaaalrteeete...</td>\n",
       "      <td>[[41, 42, 43, 44, 45, 46, 47, 48, 49, 50, 51, ...</td>\n",
       "      <td>[eeetepstkeavqetavetdtgekpesgedgqeesaesteeeqee...</td>\n",
       "    </tr>\n",
       "    <tr>\n",
       "      <th>2</th>\n",
       "      <td>MYF28459.1</td>\n",
       "      <td>merlqtdllkeihalrgemhaefasvrqemhagfasirqemhaeta...</td>\n",
       "      <td>[[1, 2, 3, 4, 5, 6, 7, 8, 9, 10, 11, 12, 13, 1...</td>\n",
       "      <td>[erlqtdllkeihalrgemhaefasvrqemhagfasirqemhaeta...</td>\n",
       "    </tr>\n",
       "    <tr>\n",
       "      <th>3</th>\n",
       "      <td>WP_168920948.1</td>\n",
       "      <td>msdvfltasyadrekvktlgarwnpaekrwyvpsgrdlspfaawlp...</td>\n",
       "      <td>[[437, 438, 439, 440, 441, 442, 443, 444, 445,...</td>\n",
       "      <td>[aqslvveikhaasqqlllarhvvparmaevtaegrqalrtakaqs...</td>\n",
       "    </tr>\n",
       "    <tr>\n",
       "      <th>4</th>\n",
       "      <td>WP_026306873.1</td>\n",
       "      <td>mllrriarpllsaafiaegidilqnpgpladrlspaldftrrrsqh...</td>\n",
       "      <td>[[172, 173, 174, 175, 176, 177, 178, 179, 180,...</td>\n",
       "      <td>[slgwrgrraardakdhaealaataaaiaatarergtnlvdtarer...</td>\n",
       "    </tr>\n",
       "  </tbody>\n",
       "</table>\n",
       "</div>"
      ],
      "text/plain": [
       "               id                                                seq  \\\n",
       "0    MCD6041253.1  mrlvyvavaailcsfsttslagaektakragkfvektatragkfve...   \n",
       "1    MCD7737945.1  mqgrvffreaaalilaaalsmaglpasaaansgieaaalrteeete...   \n",
       "2      MYF28459.1  merlqtdllkeihalrgemhaefasvrqemhagfasirqemhaeta...   \n",
       "3  WP_168920948.1  msdvfltasyadrekvktlgarwnpaekrwyvpsgrdlspfaawlp...   \n",
       "4  WP_026306873.1  mllrriarpllsaafiaegidilqnpgpladrlspaldftrrrsqh...   \n",
       "\n",
       "                                          stretch_ix  \\\n",
       "0  [[1, 2, 3, 4, 5, 6, 7, 8, 9, 10, 11, 12, 13, 1...   \n",
       "1  [[41, 42, 43, 44, 45, 46, 47, 48, 49, 50, 51, ...   \n",
       "2  [[1, 2, 3, 4, 5, 6, 7, 8, 9, 10, 11, 12, 13, 1...   \n",
       "3  [[437, 438, 439, 440, 441, 442, 443, 444, 445,...   \n",
       "4  [[172, 173, 174, 175, 176, 177, 178, 179, 180,...   \n",
       "\n",
       "                                         stretch_seq  \n",
       "0  [rlvyvavaailcsfsttslagaektakragkfvektatragkfve...  \n",
       "1  [eeetepstkeavqetavetdtgekpesgedgqeesaesteeeqee...  \n",
       "2  [erlqtdllkeihalrgemhaefasvrqemhagfasirqemhaeta...  \n",
       "3  [aqslvveikhaasqqlllarhvvparmaevtaegrqalrtakaqs...  \n",
       "4  [slgwrgrraardakdhaealaataaaiaatarergtnlvdtarer...  "
      ]
     },
     "execution_count": 9,
     "metadata": {},
     "output_type": "execute_result"
    }
   ],
   "source": [
    "df.head()"
   ]
  },
  {
   "cell_type": "markdown",
   "metadata": {},
   "source": [
    "#### Reading Cluster Assignments from .clans"
   ]
  },
  {
   "cell_type": "code",
   "execution_count": 6,
   "metadata": {},
   "outputs": [],
   "source": [
    "def parse_numbers(filename):\n",
    "    # extracts the cluster assignments from the .clans file\n",
    "\n",
    "    clusters = []\n",
    "    with open(filename, 'r') as file:\n",
    "       \n",
    "        for line in file:\n",
    "            \n",
    "            if rx.match('numbers=', line):\n",
    "                \n",
    "                _, num_str = line.split('=')\n",
    "                numbers = [int(num.strip()) for num in num_str.split(';')[:-1]]\n",
    "\n",
    "                clusters.append(numbers)\n",
    "    \n",
    "    return clusters"
   ]
  },
  {
   "cell_type": "code",
   "execution_count": 7,
   "metadata": {},
   "outputs": [],
   "source": [
    "numbers = parse_numbers(clans_file)"
   ]
  },
  {
   "cell_type": "code",
   "execution_count": 8,
   "metadata": {},
   "outputs": [],
   "source": [
    "# assign clusters to sequences\n",
    "\n",
    "for ix, cluster in enumerate(numbers):\n",
    "        df.loc[cluster, 'c'] = ix\n",
    "\n",
    "df.loc[df['c'].isna(), 'c'] = -1"
   ]
  },
  {
   "cell_type": "markdown",
   "metadata": {},
   "source": [
    "#### Reading CLANS coordinates"
   ]
  },
  {
   "cell_type": "code",
   "execution_count": 9,
   "metadata": {},
   "outputs": [],
   "source": [
    "with open(clans_file, 'r') as file:\n",
    "    data = file.readlines()\n",
    "\n",
    "data = [line.strip() for line in data]\n",
    "\n",
    "# line positoins in new_hendecads_1E-14.clans\n",
    "first_pos = 73772\n",
    "last_pos = 73772 + len(df)\n",
    "\n",
    "pos = [x.split() for x in data[first_pos:last_pos]]\n",
    "\n",
    "x = [float(x[1]) for x in pos]\n",
    "y = [float(x[2]) for x in pos]\n",
    "\n",
    "df['npf_x'] = x\n",
    "df['npf_y'] = y"
   ]
  },
  {
   "cell_type": "code",
   "execution_count": 10,
   "metadata": {},
   "outputs": [],
   "source": [
    "df.to_csv('/home/enno/uni/SS24/thesis/1_RegEx/0_data/regEx.csv', index=False)"
   ]
  },
  {
   "cell_type": "markdown",
   "metadata": {},
   "source": [
    "### RegEx"
   ]
  },
  {
   "cell_type": "code",
   "execution_count": 12,
   "metadata": {},
   "outputs": [],
   "source": [
    "def find_match(seq, pattern, i, mm):\n",
    "    # suffix for fuzzy regex\n",
    "    mm_suffix = r'{e<=' + str(mm) + '}'\n",
    "    pattern = r'(' + pattern * i + r')' + mm_suffix\n",
    "\n",
    "    N = 11 * i  # length of pattern\n",
    "    i = 0       # running index\n",
    "\n",
    "    hits = []\n",
    "    hits_ix = []\n",
    "\n",
    "    while len(seq) >= N:  # while remaining sequence is longer than pattern\n",
    "\n",
    "        match = rx.search(pattern, seq[:N])\n",
    "\n",
    "        if match and len(match.group(0)) == N:  # if match is found and fuzzyness is substitution only, not indel\n",
    "            hits.append(match.group(0))\n",
    "            hits_ix.append([i, i+N])\n",
    "\n",
    "        seq = seq[1:]\n",
    "        i += 1\n",
    "\n",
    "    return hits, hits_ix"
   ]
  },
  {
   "cell_type": "code",
   "execution_count": 13,
   "metadata": {},
   "outputs": [],
   "source": [
    "              # a--d---h---a--d---h---\n",
    "query_string = 'av1av11av11av2av22av22'"
   ]
  },
  {
   "cell_type": "code",
   "execution_count": 14,
   "metadata": {},
   "outputs": [
    {
     "data": {
      "text/plain": [
       "(['av1av11av11', 'v1av11av11a', 'v11av11av2a', 'v11av2av22a', 'av2av22av22'],\n",
       " [[0, 11], [1, 12], [4, 15], [8, 19], [11, 22]])"
      ]
     },
     "execution_count": 14,
     "metadata": {},
     "output_type": "execute_result"
    }
   ],
   "source": [
    "pattern = r'[avilm]..[avilm]...[avilm]...'\n",
    "\n",
    "find_match(query_string, pattern, 1, 0)"
   ]
  },
  {
   "cell_type": "markdown",
   "metadata": {},
   "source": [
    "#### Apply to Data"
   ]
  },
  {
   "cell_type": "code",
   "execution_count": 15,
   "metadata": {},
   "outputs": [
    {
     "name": "stdout",
     "output_type": "stream",
     "text": [
      "1\n"
     ]
    },
    {
     "name": "stderr",
     "output_type": "stream",
     "text": [
      "Exception ignored in: <bound method IPythonKernel._clean_thread_parent_frames of <ipykernel.ipkernel.IPythonKernel object at 0x7f593bfa7b50>>\n",
      "Traceback (most recent call last):\n",
      "  File \"/ebio/abt1_share/prediction_hendecads/conda/miniconda3/envs/seq_analysis/lib/python3.10/site-packages/ipykernel/ipkernel.py\", line 770, in _clean_thread_parent_frames\n",
      "    def _clean_thread_parent_frames(\n",
      "KeyboardInterrupt: \n",
      "Exception ignored in: <bound method IPythonKernel._clean_thread_parent_frames of <ipykernel.ipkernel.IPythonKernel object at 0x7f593bfa7b50>>\n",
      "Traceback (most recent call last):\n",
      "  File \"/ebio/abt1_share/prediction_hendecads/conda/miniconda3/envs/seq_analysis/lib/python3.10/site-packages/ipykernel/ipkernel.py\", line 770, in _clean_thread_parent_frames\n",
      "    def _clean_thread_parent_frames(\n",
      "KeyboardInterrupt: \n"
     ]
    }
   ],
   "source": [
    "pattern = r'[avilm]..[avilm]...[avilm]...'\n",
    "\n",
    "def process_row(row, lx, mmx):\n",
    "    tmp_stretch = [find_match(stretch, pattern, lx, mmx) for stretch in row['stretch_seq']]\n",
    "    return tmp_stretch\n",
    "\n",
    "for lx in [1, 3, 5, 10]:  # number of consecutive repeats\n",
    "    print(lx)\n",
    "    \n",
    "    for mmx in range(0, 3):\n",
    "        df[f'{lx}R_{mmx}MM'] = df.apply(lambda x: process_row(x, lx, mmx), axis=1)\n",
    "\n",
    "df.to_csv('/home/enno/uni/SS24/thesis/1_RegEx/0_data/regEx.csv', index=False)"
   ]
  },
  {
   "cell_type": "code",
   "execution_count": 20,
   "metadata": {},
   "outputs": [
    {
     "data": {
      "text/plain": [
       "[[[25, 58], [36, 69]]]"
      ]
     },
     "execution_count": 20,
     "metadata": {},
     "output_type": "execute_result"
    }
   ],
   "source": [
    "[x[1] for x in df[col0[1]][0]]"
   ]
  },
  {
   "cell_type": "code",
   "execution_count": null,
   "metadata": {},
   "outputs": [],
   "source": [
    "col0 = [f'{i}R_0MM' for i in [1, 3, 5, 10]]  # 0 mismatches\n",
    "col1 = [f'{i}R_1MM' for i in [1, 3, 5, 10]]  # 1 mismatches\n",
    "col2 = [f'{i}R_2MM' for i in [1, 3, 5, 10]]  # 2 mismatches\n",
    "\n",
    "# separatae seqs from indices and count number of hits\n",
    "for col in col0 + col1 + col2:\n",
    "    df[f'{col}_seq'] = df[col].apply(lambda x: [item[0] for item in x])\n",
    "    df[f'{col}_ix'] = df[col].apply(lambda x: [item[1] for item in x])\n",
    "    df[f'{col}_n'] = df[col].apply(lambda x: sum([1 for stretch in x for hit in stretch[0]]))"
   ]
  },
  {
   "cell_type": "code",
   "execution_count": 26,
   "metadata": {},
   "outputs": [
    {
     "data": {
      "text/html": [
       "<div>\n",
       "<style scoped>\n",
       "    .dataframe tbody tr th:only-of-type {\n",
       "        vertical-align: middle;\n",
       "    }\n",
       "\n",
       "    .dataframe tbody tr th {\n",
       "        vertical-align: top;\n",
       "    }\n",
       "\n",
       "    .dataframe thead th {\n",
       "        text-align: right;\n",
       "    }\n",
       "</style>\n",
       "<table border=\"1\" class=\"dataframe\">\n",
       "  <thead>\n",
       "    <tr style=\"text-align: right;\">\n",
       "      <th></th>\n",
       "      <th>id</th>\n",
       "      <th>5R_1MM_seq</th>\n",
       "    </tr>\n",
       "  </thead>\n",
       "  <tbody>\n",
       "    <tr>\n",
       "      <th>6</th>\n",
       "      <td>WP_104914417.1</td>\n",
       "      <td>[[asgafdnvsnwagglggriasglrngktevknaakgiansivsv...</td>\n",
       "    </tr>\n",
       "    <tr>\n",
       "      <th>65</th>\n",
       "      <td>MBQ9252633.1</td>\n",
       "      <td>[[gggllnnvlpvvqtafngvadfistaapiilpritelvssllpg...</td>\n",
       "    </tr>\n",
       "    <tr>\n",
       "      <th>71</th>\n",
       "      <td>WP_165218174.1</td>\n",
       "      <td>[[mgslargfapvvetvlrnlsraaerlgpvlsrvvesagpkmaha...</td>\n",
       "    </tr>\n",
       "    <tr>\n",
       "      <th>123</th>\n",
       "      <td>WP_075688569.1</td>\n",
       "      <td>[[ltpifqniwatlqpilvnignalsnafqnsgpaimealgtigtk...</td>\n",
       "    </tr>\n",
       "    <tr>\n",
       "      <th>124</th>\n",
       "      <td>MBO7309494.1</td>\n",
       "      <td>[[mdelfarigaaasemiaiiknnlprlaemggqllsnlvqgivng...</td>\n",
       "    </tr>\n",
       "    <tr>\n",
       "      <th>...</th>\n",
       "      <td>...</td>\n",
       "      <td>...</td>\n",
       "    </tr>\n",
       "    <tr>\n",
       "      <th>36378</th>\n",
       "      <td>DAR89557.1</td>\n",
       "      <td>[[vkfiseqlapaigdafksisegfsglmsdleplasaiagivggi...</td>\n",
       "    </tr>\n",
       "    <tr>\n",
       "      <th>36403</th>\n",
       "      <td>WP_185718426.1</td>\n",
       "      <td>[[tlgavgsllpmlgtlisvlanalapafailmpliteiigglvtg...</td>\n",
       "    </tr>\n",
       "    <tr>\n",
       "      <th>36406</th>\n",
       "      <td>MBE6005589.1</td>\n",
       "      <td>[[atlvsnllntigalapslvsagvqiitslvggvaqsapqlisga...</td>\n",
       "    </tr>\n",
       "    <tr>\n",
       "      <th>36433</th>\n",
       "      <td>WP_122014491.1</td>\n",
       "      <td>[[lasllpkiqpiidklvsdlpaiapklssalggflgnianllpdl...</td>\n",
       "    </tr>\n",
       "    <tr>\n",
       "      <th>36439</th>\n",
       "      <td>DAU86930.1</td>\n",
       "      <td>[[viqnwgaitewlggvweaiktklseiwnsiketasnvftaikdf...</td>\n",
       "    </tr>\n",
       "  </tbody>\n",
       "</table>\n",
       "<p>2655 rows × 2 columns</p>\n",
       "</div>"
      ],
      "text/plain": [
       "                   id                                         5R_1MM_seq\n",
       "6      WP_104914417.1  [[asgafdnvsnwagglggriasglrngktevknaakgiansivsv...\n",
       "65       MBQ9252633.1  [[gggllnnvlpvvqtafngvadfistaapiilpritelvssllpg...\n",
       "71     WP_165218174.1  [[mgslargfapvvetvlrnlsraaerlgpvlsrvvesagpkmaha...\n",
       "123    WP_075688569.1  [[ltpifqniwatlqpilvnignalsnafqnsgpaimealgtigtk...\n",
       "124      MBO7309494.1  [[mdelfarigaaasemiaiiknnlprlaemggqllsnlvqgivng...\n",
       "...               ...                                                ...\n",
       "36378      DAR89557.1  [[vkfiseqlapaigdafksisegfsglmsdleplasaiagivggi...\n",
       "36403  WP_185718426.1  [[tlgavgsllpmlgtlisvlanalapafailmpliteiigglvtg...\n",
       "36406    MBE6005589.1  [[atlvsnllntigalapslvsagvqiitslvggvaqsapqlisga...\n",
       "36433  WP_122014491.1  [[lasllpkiqpiidklvsdlpaiapklssalggflgnianllpdl...\n",
       "36439      DAU86930.1  [[viqnwgaitewlggvweaiktklseiwnsiketasnvftaikdf...\n",
       "\n",
       "[2655 rows x 2 columns]"
      ]
     },
     "execution_count": 26,
     "metadata": {},
     "output_type": "execute_result"
    }
   ],
   "source": [
    "df[(df['5R_1MM_n'] > 0) & (df['c'] == 0)][['id', '5R_1MM_seq']]"
   ]
  },
  {
   "cell_type": "code",
   "execution_count": 27,
   "metadata": {},
   "outputs": [],
   "source": [
    "# drop col0, col1, col2 since they are now redundant\n",
    "df.drop(columns=col0 + col1 + col2, inplace=True)\n",
    "\n",
    "df.to_csv('/home/enno/uni/SS24/thesis/1_RegEx/0_data/regEx.csv', index=False)"
   ]
  },
  {
   "cell_type": "markdown",
   "metadata": {},
   "source": [
    "#### Visualize for TMPs"
   ]
  },
  {
   "cell_type": "code",
   "execution_count": 5,
   "metadata": {},
   "outputs": [
    {
     "data": {
      "image/png": "[encoded data removed]",
      "text/plain": [
       "<Figure size 800x600 with 1 Axes>"
      ]
     },
     "metadata": {},
     "output_type": "display_data"
    }
   ],
   "source": [
    "mm = ['2MM', '1MM', '0MM']\n",
    "rr = ['1R', '3R', '5R', '10R']\n",
    "\n",
    "palette = ['#648FFF', '#785EF0', '#DC267F']\n",
    "\n",
    "fig, ax = plt.subplots(figsize=(8, 6))\n",
    "plt.grid()\n",
    "\n",
    "for ix, mx in enumerate(mm):\n",
    "    \n",
    "    total_length = len(df[df['c'] == 0])\n",
    "    length_1R = len(df[(df['c'] == 0) & (df[f'1R_{mx}_n'] > 0)])\n",
    "    length_3R = len(df[(df['c'] == 0) & (df[f'3R_{mx}_n'] > 0)])\n",
    "    length_5R = len(df[(df['c'] == 0) & (df[f'5R_{mx}_n'] > 0)])\n",
    "    length_10R = len(df[(df['c'] == 0) & (df[f'10R_{mx}_n'] > 0)])\n",
    "\n",
    "    # Create the bar plot\n",
    "    labels = ['Total', '1R', '3R', '5R', '10R']\n",
    "    lengths = [total_length, length_1R, length_3R, length_5R, length_10R]\n",
    "\n",
    "    plt.bar(labels, lengths, edgecolor='black', label=mx, color=palette[ix])\n",
    "\n",
    "ax.yaxis.grid(color='gray', linestyle='dashed')\n",
    "ax.xaxis.grid(False)\n",
    "ax.set_axisbelow(True)\n",
    "\n",
    "plt.legend()\n",
    "plt.xlabel('Consecutive Repeats')\n",
    "plt.ylabel('Number of Samples')\n",
    "plt.show()"
   ]
  },
  {
   "cell_type": "code",
   "execution_count": 6,
   "metadata": {},
   "outputs": [
    {
     "data": {
      "image/png": "[encoded data removed]",
      "text/plain": [
       "<Figure size 800x600 with 1 Axes>"
      ]
     },
     "metadata": {},
     "output_type": "display_data"
    }
   ],
   "source": [
    "mm = ['2MM', '1MM', '0MM']\n",
    "rr = ['1R', '3R', '5R', '10R']\n",
    "\n",
    "palette = ['#648FFF', '#785EF0', '#DC267F']\n",
    "\n",
    "fig, ax = plt.subplots(figsize=(8, 6))\n",
    "plt.grid()\n",
    "\n",
    "for ix, mx in enumerate(mm):\n",
    "    \n",
    "    total_length = len(df[df['c'] == 0])\n",
    "    length_1R = len(df[(df['c'] == 0) & (df[f'1R_{mx}_n'] > 0)])\n",
    "    length_3R = len(df[(df['c'] == 0) & (df[f'3R_{mx}_n'] > 0)])\n",
    "    length_5R = len(df[(df['c'] == 0) & (df[f'5R_{mx}_n'] > 0)])\n",
    "    length_10R = len(df[(df['c'] == 0) & (df[f'10R_{mx}_n'] > 0)])\n",
    "\n",
    "    # Create the bar plot\n",
    "    labels = ['Total', '1R', '3R', '5R', '10R']\n",
    "    lengths = [total_length/total_length, length_1R/total_length, length_3R/total_length, length_5R/total_length, length_10R/total_length]\n",
    "\n",
    "    plt.bar(labels, lengths, edgecolor='black', label=mx, color=palette[ix])\n",
    "\n",
    "ax.yaxis.grid(color='gray', linestyle='dashed')\n",
    "ax.xaxis.grid(False)\n",
    "ax.set_axisbelow(True)\n",
    "\n",
    "plt.legend()\n",
    "plt.xlabel('Consecutive Repeats')\n",
    "plt.ylabel('Fraction of Samples')\n",
    "plt.show()"
   ]
  },
  {
   "cell_type": "markdown",
   "metadata": {},
   "source": [
    "#### Write Repeats and MM to .fasta"
   ]
  },
  {
   "cell_type": "code",
   "execution_count": 31,
   "metadata": {},
   "outputs": [
    {
     "name": "stdout",
     "output_type": "stream",
     "text": [
      ">XP_019958182.1_1R_0MM_seq_stretch_1_seq_0\n",
      ">XP_019958182.1_1R_0MM_seq_stretch_1_seq_1\n",
      ">XP_019958182.1_1R_0MM_seq_stretch_1_seq_2\n",
      ">XP_019958182.1_1R_0MM_seq_stretch_1_seq_3\n"
     ]
    }
   ],
   "source": [
    "test_seq = df.iloc[74]\n",
    "col = '1R_0MM_seq'\n",
    "for stretch_ix, stretch in enumerate(test_seq[col]):\n",
    "    for seq_ix, seq in enumerate(stretch):\n",
    "        print(f'>{test_seq[\"id\"]}_{col}_stretch_{stretch_ix}_seq_{seq_ix}')"
   ]
  },
  {
   "cell_type": "code",
   "execution_count": 10,
   "metadata": {},
   "outputs": [],
   "source": [
    "for mm in [0, 1, 2]:\n",
    "    for col in [f'1R_{mm}MM_seq', f'3R_{mm}MM_seq', f'5R_{mm}MM_seq', f'10R_{mm}MM_seq']:\n",
    "        tmp_df = df[(df[col[:-4] + '_n'] > 0) & (df['c'] == 0)].reset_index(drop=True)\n",
    "\n",
    "        with open(f'/home/enno/uni/SS24/thesis/1_RegEx/0_data/fasta/{col}.fasta', 'w') as file:\n",
    "\n",
    "            for seq_ix, seq in enumerate(tmp_df[col]):\n",
    "                for stretch_ix, stretch in enumerate(eval(seq)):\n",
    "                    for hit_ix, hit in enumerate(stretch):\n",
    "\n",
    "                        file.write(f'>{tmp_df.iloc[seq_ix][\"id\"]}_{col}_stretch_{stretch_ix}_seq_{hit_ix}\\n')\n",
    "                        file.write(f'{hit.upper()}\\n')"
   ]
  }
 ],
 "metadata": {
  "kernelspec": {
   "display_name": "seq_analysis",
   "language": "python",
   "name": "python3"
  },
  "language_info": {
   "codemirror_mode": {
    "name": "ipython",
    "version": 3
   },
   "file_extension": ".py",
   "mimetype": "text/x-python",
   "name": "python",
   "nbconvert_exporter": "python",
   "pygments_lexer": "ipython3",
   "version": "3.10.14"
  }
 },
 "nbformat": 4,
 "nbformat_minor": 2
}
