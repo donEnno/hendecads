{
 "cells": [
  {
   "cell_type": "code",
   "execution_count": 1,
   "metadata": {},
   "outputs": [],
   "source": [
    "import numpy as np\n",
    "import pandas as pd \n",
    "import matplotlib.pyplot as plt\n",
    "\n",
    "from Bio import SeqIO\n",
    "import os\n",
    "import re\n",
    "import time"
   ]
  },
  {
   "cell_type": "code",
   "execution_count": 2,
   "id": "aa764891",
   "metadata": {},
   "outputs": [],
   "source": [
    "from deepcoil import DeepCoil\n",
    "from deepcoil.utils import plot_preds"
   ]
  },
  {
   "cell_type": "code",
   "execution_count": 3,
   "id": "3465f1af",
   "metadata": {},
   "outputs": [],
   "source": [
    "input_file = \"/ebio/abt1_share/prediction_hendecads/data/new_prot_fam_data/final_dataset.fasta\"\n",
    "\n",
    "fasta_sequences = list(SeqIO.parse(open(input_file),'fasta'))\n",
    "n_seq = len(fasta_sequences)"
   ]
  },
  {
   "cell_type": "code",
   "execution_count": 4,
   "id": "ad08f32e",
   "metadata": {},
   "outputs": [
    {
     "data": {
      "text/html": [
       "<div>\n",
       "<style scoped>\n",
       "    .dataframe tbody tr th:only-of-type {\n",
       "        vertical-align: middle;\n",
       "    }\n",
       "\n",
       "    .dataframe tbody tr th {\n",
       "        vertical-align: top;\n",
       "    }\n",
       "\n",
       "    .dataframe thead th {\n",
       "        text-align: right;\n",
       "    }\n",
       "</style>\n",
       "<table border=\"1\" class=\"dataframe\">\n",
       "  <thead>\n",
       "    <tr style=\"text-align: right;\">\n",
       "      <th></th>\n",
       "      <th>id</th>\n",
       "      <th>seq</th>\n",
       "      <th>stretch_ix</th>\n",
       "      <th>stretch_seq</th>\n",
       "    </tr>\n",
       "  </thead>\n",
       "  <tbody>\n",
       "    <tr>\n",
       "      <th>0</th>\n",
       "      <td>MCD6041253.1</td>\n",
       "      <td>Mrlvyvavaailcsfsttslagaektakragkfvektatragkfve...</td>\n",
       "      <td>[1, 71]</td>\n",
       "      <td>rlvyvavaailcsfsttslagaektakragkfvektatragkfver...</td>\n",
       "    </tr>\n",
       "    <tr>\n",
       "      <th>1</th>\n",
       "      <td>MCD7737945.1</td>\n",
       "      <td>MQGRVFFREAAALILAAALSMAGLPASAAANSGIEAAALRTeeete...</td>\n",
       "      <td>[41, 238]</td>\n",
       "      <td>eeetepstkeavqetavetdtgekpesgedgqeesaesteeeqeed...</td>\n",
       "    </tr>\n",
       "    <tr>\n",
       "      <th>2</th>\n",
       "      <td>MYF28459.1</td>\n",
       "      <td>Merlqtdllkeihalrgemhaefasvrqemhagfasirqemhaeta...</td>\n",
       "      <td>[1, 73]</td>\n",
       "      <td>erlqtdllkeihalrgemhaefasvrqemhagfasirqemhaetas...</td>\n",
       "    </tr>\n",
       "    <tr>\n",
       "      <th>3</th>\n",
       "      <td>WP_168920948.1</td>\n",
       "      <td>MSDVFLTASYADREKVKTLGARWNPAEKRWYVPSGRDLSPFAAWLP...</td>\n",
       "      <td>[437, 540]</td>\n",
       "      <td>aqslvveikhaasqqlllarhvvparmaevtaegrqalrtakaqsq...</td>\n",
       "    </tr>\n",
       "    <tr>\n",
       "      <th>4</th>\n",
       "      <td>WP_026306873.1</td>\n",
       "      <td>MLLRRIARPLLSAAFIAEGIDILQNPGPLADRLSPALDFTRRRSQH...</td>\n",
       "      <td>[172, 342]</td>\n",
       "      <td>slgwrgrraardakdhaealaataaaiaatarergtnlvdtarert...</td>\n",
       "    </tr>\n",
       "  </tbody>\n",
       "</table>\n",
       "</div>"
      ],
      "text/plain": [
       "               id                                                seq  \\\n",
       "0    MCD6041253.1  Mrlvyvavaailcsfsttslagaektakragkfvektatragkfve...   \n",
       "1    MCD7737945.1  MQGRVFFREAAALILAAALSMAGLPASAAANSGIEAAALRTeeete...   \n",
       "2      MYF28459.1  Merlqtdllkeihalrgemhaefasvrqemhagfasirqemhaeta...   \n",
       "3  WP_168920948.1  MSDVFLTASYADREKVKTLGARWNPAEKRWYVPSGRDLSPFAAWLP...   \n",
       "4  WP_026306873.1  MLLRRIARPLLSAAFIAEGIDILQNPGPLADRLSPALDFTRRRSQH...   \n",
       "\n",
       "   stretch_ix                                        stretch_seq  \n",
       "0     [1, 71]  rlvyvavaailcsfsttslagaektakragkfvektatragkfver...  \n",
       "1   [41, 238]  eeetepstkeavqetavetdtgekpesgedgqeesaesteeeqeed...  \n",
       "2     [1, 73]  erlqtdllkeihalrgemhaefasvrqemhagfasirqemhaetas...  \n",
       "3  [437, 540]  aqslvveikhaasqqlllarhvvparmaevtaegrqalrtakaqsq...  \n",
       "4  [172, 342]  slgwrgrraardakdhaealaataaaiaatarergtnlvdtarert...  "
      ]
     },
     "execution_count": 4,
     "metadata": {},
     "output_type": "execute_result"
    }
   ],
   "source": [
    "if os.path.exists('/ebio/abt1_share/prediction_hendecads/data/stretches.csv'):\n",
    "    df = pd.read_csv('/ebio/abt1_share/prediction_hendecads/data/stretches.csv')\n",
    "\n",
    "else:\n",
    "    df = pd.DataFrame(columns=['id', 'seq', 'stretch_ix', 'stretch_seq'])\n",
    "\n",
    "    pattern = r'\\[\\[.*?\\]\\]'  # pattern to extract stretches\n",
    "\n",
    "    for seq_ix, seq in enumerate(fasta_sequences):\n",
    "        \n",
    "        print(f\"Processing sequence {seq_ix+1}/{n_seq}\", end='\\r')\n",
    "\n",
    "        s = str(seq.seq)\n",
    "        d = str(seq.description)\n",
    "\n",
    "        stretches = eval(re.findall(pattern, d.split('|||')[-1])[0])\n",
    "\n",
    "        for st_ix, st in enumerate(stretches):\n",
    "            df = df.append({'id': seq.id, 'seq': s, 'stretch_ix': st, 'stretch_seq': s[st[0]:st[1]]}, ignore_index=True)\n",
    "\n",
    "df.head()"
   ]
  },
  {
   "cell_type": "code",
   "execution_count": 5,
   "id": "34bbbda2",
   "metadata": {},
   "outputs": [
    {
     "name": "stdout",
     "output_type": "stream",
     "text": [
      "Writing sequence 40590/40590\r"
     ]
    }
   ],
   "source": [
    "out_file = '/ebio/abt1_share/prediction_hendecads/tmp/stretches.fasta'\n",
    "\n",
    "with open(out_file, 'w') as f:\n",
    "    for i, row in df.iterrows():\n",
    "\n",
    "        print(f\"Writing sequence {i+1}/{len(df)}\", end='\\r')\n",
    "\n",
    "        f.write(f\">{row['id']}_{str(row['stretch_ix']).replace(' ', '')}\\n{row['stretch_seq']}\\n\")"
   ]
  },
  {
   "cell_type": "code",
   "execution_count": 24,
   "id": "b04830c0",
   "metadata": {},
   "outputs": [
    {
     "name": "stdout",
     "output_type": "stream",
     "text": [
      "Processing sequences 1-1000\r"
     ]
    },
    {
     "name": "stderr",
     "output_type": "stream",
     "text": [
      "/ebio/abt1_share/prediction_hendecads/conda/miniconda3/envs/deepcoil/lib/python3.8/site-packages/deepcoil/deepcoil.py:113: UserWarning: Non-standard residues detected in input data were corrected to X token.\n",
      "  warnings.warn('Non-standard residues detected in input data were corrected to X token.', UserWarning)\n"
     ]
    },
    {
     "name": "stdout",
     "output_type": "stream",
     "text": [
      "Processing sequences 25001-26000\r"
     ]
    }
   ],
   "source": [
    "dc = DeepCoil(use_gpu=False)\n",
    "inp = {str(entry.id): str(entry.seq) for entry in SeqIO.parse(out_file, \"fasta\")}\n",
    "\n",
    "for i in range(0, len(df), 1000):\n",
    "    print(f\"Processing sequences {i+1}-{min(i+1000, len(df))}\", end='\\r')\n",
    "\n",
    "    tmp_keys = list(inp.keys())[i:i+1000]\n",
    "    tmp_inp = {k: inp[k] for k in tmp_keys}\n",
    "\n",
    "    preds = dc.predict(tmp_inp)\n",
    "    averages = [np.mean(preds[key]['cc']) for key in preds.keys()]\n",
    "\n",
    "    df.loc[i:i+1000-1, 'avg_cc'] = averages\n",
    "\n",
    "    df.to_csv('/ebio/abt1_share/prediction_hendecads/data/stretches_w_values.csv', index=False)"
   ]
  },
  {
   "cell_type": "code",
   "execution_count": 23,
   "id": "abebddb3",
   "metadata": {},
   "outputs": [
    {
     "data": {
      "text/plain": [
       "1001"
      ]
     },
     "execution_count": 23,
     "metadata": {},
     "output_type": "execute_result"
    }
   ],
   "source": [
    "len(df.loc[i:i+1000, 'avg_cc'])"
   ]
  },
  {
   "cell_type": "code",
   "execution_count": null,
   "id": "367c678f",
   "metadata": {},
   "outputs": [],
   "source": [
    "df.avg_cc.hist(bins=25, edgecolor='black', grid=False)\n",
    "\n",
    "plt.xlabel('Avg. CC Probability')\n",
    "plt.show()"
   ]
  }
 ],
 "metadata": {
  "kernelspec": {
   "display_name": "Python 3",
   "language": "python",
   "name": "python3"
  },
  "language_info": {
   "codemirror_mode": {
    "name": "ipython",
    "version": 3
   },
   "file_extension": ".py",
   "mimetype": "text/x-python",
   "name": "python",
   "nbconvert_exporter": "python",
   "pygments_lexer": "ipython3",
   "version": "3.8.18"
  }
 },
 "nbformat": 4,
 "nbformat_minor": 5
}
