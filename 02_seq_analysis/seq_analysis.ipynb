{
 "cells": [
  {
   "cell_type": "code",
   "execution_count": 124,
   "metadata": {},
   "outputs": [],
   "source": [
    "import numpy as np\n",
    "import pandas as pd \n",
    "\n",
    "import re\n",
    "\n",
    "import matplotlib.pyplot as plt\n",
    "from matplotlib.patches import Patch\n",
    "import seaborn as sns\n",
    "import plotly.graph_objects as go\n"
   ]
  },
  {
   "cell_type": "code",
   "execution_count": 193,
   "metadata": {},
   "outputs": [
    {
     "data": {
      "text/html": [
       "<div>\n",
       "<style scoped>\n",
       "    .dataframe tbody tr th:only-of-type {\n",
       "        vertical-align: middle;\n",
       "    }\n",
       "\n",
       "    .dataframe tbody tr th {\n",
       "        vertical-align: top;\n",
       "    }\n",
       "\n",
       "    .dataframe thead th {\n",
       "        text-align: right;\n",
       "    }\n",
       "</style>\n",
       "<table border=\"1\" class=\"dataframe\">\n",
       "  <thead>\n",
       "    <tr style=\"text-align: right;\">\n",
       "      <th></th>\n",
       "      <th>id</th>\n",
       "      <th>seq</th>\n",
       "      <th>stretch_ix</th>\n",
       "      <th>stretch_seq</th>\n",
       "      <th>avg_cc</th>\n",
       "      <th>group_id</th>\n",
       "    </tr>\n",
       "  </thead>\n",
       "  <tbody>\n",
       "    <tr>\n",
       "      <th>0</th>\n",
       "      <td>MCD6041253.1</td>\n",
       "      <td>Mrlvyvavaailcsfsttslagaektakragkfvektatragkfve...</td>\n",
       "      <td>[1, 71]</td>\n",
       "      <td>rlvyvavaailcsfsttslagaektakragkfvektatragkfver...</td>\n",
       "      <td>0.001041</td>\n",
       "      <td>unassigned</td>\n",
       "    </tr>\n",
       "    <tr>\n",
       "      <th>1</th>\n",
       "      <td>MCD7737945.1</td>\n",
       "      <td>MQGRVFFREAAALILAAALSMAGLPASAAANSGIEAAALRTeeete...</td>\n",
       "      <td>[41, 238]</td>\n",
       "      <td>eeetepstkeavqetavetdtgekpesgedgqeesaesteeeqeed...</td>\n",
       "      <td>0.000364</td>\n",
       "      <td>unassigned</td>\n",
       "    </tr>\n",
       "    <tr>\n",
       "      <th>2</th>\n",
       "      <td>MYF28459.1</td>\n",
       "      <td>Merlqtdllkeihalrgemhaefasvrqemhagfasirqemhaeta...</td>\n",
       "      <td>[1, 73]</td>\n",
       "      <td>erlqtdllkeihalrgemhaefasvrqemhagfasirqemhaetas...</td>\n",
       "      <td>0.001002</td>\n",
       "      <td>unassigned</td>\n",
       "    </tr>\n",
       "    <tr>\n",
       "      <th>3</th>\n",
       "      <td>WP_168920948.1</td>\n",
       "      <td>MSDVFLTASYADREKVKTLGARWNPAEKRWYVPSGRDLSPFAAWLP...</td>\n",
       "      <td>[437, 540]</td>\n",
       "      <td>aqslvveikhaasqqlllarhvvparmaevtaegrqalrtakaqsq...</td>\n",
       "      <td>0.000689</td>\n",
       "      <td>group_42</td>\n",
       "    </tr>\n",
       "    <tr>\n",
       "      <th>4</th>\n",
       "      <td>WP_026306873.1</td>\n",
       "      <td>MLLRRIARPLLSAAFIAEGIDILQNPGPLADRLSPALDFTRRRSQH...</td>\n",
       "      <td>[172, 342]</td>\n",
       "      <td>slgwrgrraardakdhaealaataaaiaatarergtnlvdtarert...</td>\n",
       "      <td>0.000424</td>\n",
       "      <td>group_38</td>\n",
       "    </tr>\n",
       "  </tbody>\n",
       "</table>\n",
       "</div>"
      ],
      "text/plain": [
       "               id                                                seq  \\\n",
       "0    MCD6041253.1  Mrlvyvavaailcsfsttslagaektakragkfvektatragkfve...   \n",
       "1    MCD7737945.1  MQGRVFFREAAALILAAALSMAGLPASAAANSGIEAAALRTeeete...   \n",
       "2      MYF28459.1  Merlqtdllkeihalrgemhaefasvrqemhagfasirqemhaeta...   \n",
       "3  WP_168920948.1  MSDVFLTASYADREKVKTLGARWNPAEKRWYVPSGRDLSPFAAWLP...   \n",
       "4  WP_026306873.1  MLLRRIARPLLSAAFIAEGIDILQNPGPLADRLSPALDFTRRRSQH...   \n",
       "\n",
       "   stretch_ix                                        stretch_seq    avg_cc  \\\n",
       "0     [1, 71]  rlvyvavaailcsfsttslagaektakragkfvektatragkfver...  0.001041   \n",
       "1   [41, 238]  eeetepstkeavqetavetdtgekpesgedgqeesaesteeeqeed...  0.000364   \n",
       "2     [1, 73]  erlqtdllkeihalrgemhaefasvrqemhagfasirqemhaetas...  0.001002   \n",
       "3  [437, 540]  aqslvveikhaasqqlllarhvvparmaevtaegrqalrtakaqsq...  0.000689   \n",
       "4  [172, 342]  slgwrgrraardakdhaealaataaaiaatarergtnlvdtarert...  0.000424   \n",
       "\n",
       "     group_id  \n",
       "0  unassigned  \n",
       "1  unassigned  \n",
       "2  unassigned  \n",
       "3    group_42  \n",
       "4    group_38  "
      ]
     },
     "execution_count": 193,
     "metadata": {},
     "output_type": "execute_result"
    }
   ],
   "source": [
    "df = pd.read_csv('/home/enno/uni/SS24/thesis/01_data/hendecads/stretches_w_groups.csv').drop(columns=['Unnamed: 0'])\n",
    "df['stretch_ix'] = df['stretch_ix'].apply(lambda x: list(map(int, x.strip('[]').split(','))))\n",
    "\n",
    "df.head()"
   ]
  },
  {
   "cell_type": "code",
   "execution_count": 194,
   "metadata": {},
   "outputs": [
    {
     "data": {
      "text/html": [
       "<div>\n",
       "<style scoped>\n",
       "    .dataframe tbody tr th:only-of-type {\n",
       "        vertical-align: middle;\n",
       "    }\n",
       "\n",
       "    .dataframe tbody tr th {\n",
       "        vertical-align: top;\n",
       "    }\n",
       "\n",
       "    .dataframe thead th {\n",
       "        text-align: right;\n",
       "    }\n",
       "</style>\n",
       "<table border=\"1\" class=\"dataframe\">\n",
       "  <thead>\n",
       "    <tr style=\"text-align: right;\">\n",
       "      <th></th>\n",
       "      <th>id</th>\n",
       "      <th>seq</th>\n",
       "      <th>stretch_ix</th>\n",
       "      <th>stretch_seq</th>\n",
       "      <th>avg_cc</th>\n",
       "      <th>group_id</th>\n",
       "      <th>group_ix</th>\n",
       "    </tr>\n",
       "  </thead>\n",
       "  <tbody>\n",
       "    <tr>\n",
       "      <th>0</th>\n",
       "      <td>MCD6041253.1</td>\n",
       "      <td>Mrlvyvavaailcsfsttslagaektakragkfvektatragkfve...</td>\n",
       "      <td>[1, 71]</td>\n",
       "      <td>rlvyvavaailcsfsttslagaektakragkfvektatragkfver...</td>\n",
       "      <td>0.001041</td>\n",
       "      <td>unassigned</td>\n",
       "      <td>0</td>\n",
       "    </tr>\n",
       "    <tr>\n",
       "      <th>1</th>\n",
       "      <td>MCD7737945.1</td>\n",
       "      <td>MQGRVFFREAAALILAAALSMAGLPASAAANSGIEAAALRTeeete...</td>\n",
       "      <td>[41, 238]</td>\n",
       "      <td>eeetepstkeavqetavetdtgekpesgedgqeesaesteeeqeed...</td>\n",
       "      <td>0.000364</td>\n",
       "      <td>unassigned</td>\n",
       "      <td>0</td>\n",
       "    </tr>\n",
       "    <tr>\n",
       "      <th>2</th>\n",
       "      <td>MYF28459.1</td>\n",
       "      <td>Merlqtdllkeihalrgemhaefasvrqemhagfasirqemhaeta...</td>\n",
       "      <td>[1, 73]</td>\n",
       "      <td>erlqtdllkeihalrgemhaefasvrqemhagfasirqemhaetas...</td>\n",
       "      <td>0.001002</td>\n",
       "      <td>unassigned</td>\n",
       "      <td>0</td>\n",
       "    </tr>\n",
       "    <tr>\n",
       "      <th>3</th>\n",
       "      <td>WP_168920948.1</td>\n",
       "      <td>MSDVFLTASYADREKVKTLGARWNPAEKRWYVPSGRDLSPFAAWLP...</td>\n",
       "      <td>[437, 540]</td>\n",
       "      <td>aqslvveikhaasqqlllarhvvparmaevtaegrqalrtakaqsq...</td>\n",
       "      <td>0.000689</td>\n",
       "      <td>group_42</td>\n",
       "      <td>1</td>\n",
       "    </tr>\n",
       "    <tr>\n",
       "      <th>4</th>\n",
       "      <td>WP_026306873.1</td>\n",
       "      <td>MLLRRIARPLLSAAFIAEGIDILQNPGPLADRLSPALDFTRRRSQH...</td>\n",
       "      <td>[172, 342]</td>\n",
       "      <td>slgwrgrraardakdhaealaataaaiaatarergtnlvdtarert...</td>\n",
       "      <td>0.000424</td>\n",
       "      <td>group_38</td>\n",
       "      <td>2</td>\n",
       "    </tr>\n",
       "    <tr>\n",
       "      <th>...</th>\n",
       "      <td>...</td>\n",
       "      <td>...</td>\n",
       "      <td>...</td>\n",
       "      <td>...</td>\n",
       "      <td>...</td>\n",
       "      <td>...</td>\n",
       "      <td>...</td>\n",
       "    </tr>\n",
       "    <tr>\n",
       "      <th>40585</th>\n",
       "      <td>XP_034013580.1</td>\n",
       "      <td>MKLNWLLGILPIVAANFDDWSKADLTQFLEDRNVTVQKGDDLVQLA...</td>\n",
       "      <td>[667, 798]</td>\n",
       "      <td>kdakksgesfaslasksgawyadafysvasesgesaasqalqtgqk...</td>\n",
       "      <td>0.000553</td>\n",
       "      <td>group_106</td>\n",
       "      <td>71</td>\n",
       "    </tr>\n",
       "    <tr>\n",
       "      <th>40586</th>\n",
       "      <td>GFR06050.1</td>\n",
       "      <td>MSDVYMDDLLTGADDLESGRKLQEQLVSLLRGAGMELHKWSASNPL...</td>\n",
       "      <td>[578, 680]</td>\n",
       "      <td>eqrsiseeyekirdyfkdlkiklrekftrfgqwvkgkyergleksk...</td>\n",
       "      <td>0.000696</td>\n",
       "      <td>group_9</td>\n",
       "      <td>59</td>\n",
       "    </tr>\n",
       "    <tr>\n",
       "      <th>40587</th>\n",
       "      <td>KAG2190414.1</td>\n",
       "      <td>MSSSILRASIRRNATIANKRFYSAPPPPPYAPNNQGGGNGGLFLGL...</td>\n",
       "      <td>[65, 170]</td>\n",
       "      <td>gtltkqgevvdqkiqegkqavrdkadeakakyeqskseagqavdqk...</td>\n",
       "      <td>0.000676</td>\n",
       "      <td>unassigned</td>\n",
       "      <td>0</td>\n",
       "    </tr>\n",
       "    <tr>\n",
       "      <th>40588</th>\n",
       "      <td>MBY0528383.1</td>\n",
       "      <td>MRVYCSLLASLLTCATIASQPPPLVFNGGTNSLAPRRILAAEKQET...</td>\n",
       "      <td>[734, 833]</td>\n",
       "      <td>isaltndknrmvrknavdslgffpwdakaivpllvallsdkdsdla...</td>\n",
       "      <td>0.000714</td>\n",
       "      <td>group_1_1</td>\n",
       "      <td>5</td>\n",
       "    </tr>\n",
       "    <tr>\n",
       "      <th>40589</th>\n",
       "      <td>MBR5231210.1</td>\n",
       "      <td>MAELKVFSVISSISSMLREGRAVPLSGLVMVNKQRMEQLLDELESS...</td>\n",
       "      <td>[55, 154]</td>\n",
       "      <td>kllsrerellqriddqrievetkaateartmvdeankaaqktrlta...</td>\n",
       "      <td>0.000726</td>\n",
       "      <td>unassigned</td>\n",
       "      <td>0</td>\n",
       "    </tr>\n",
       "  </tbody>\n",
       "</table>\n",
       "<p>40590 rows × 7 columns</p>\n",
       "</div>"
      ],
      "text/plain": [
       "                   id                                                seq  \\\n",
       "0        MCD6041253.1  Mrlvyvavaailcsfsttslagaektakragkfvektatragkfve...   \n",
       "1        MCD7737945.1  MQGRVFFREAAALILAAALSMAGLPASAAANSGIEAAALRTeeete...   \n",
       "2          MYF28459.1  Merlqtdllkeihalrgemhaefasvrqemhagfasirqemhaeta...   \n",
       "3      WP_168920948.1  MSDVFLTASYADREKVKTLGARWNPAEKRWYVPSGRDLSPFAAWLP...   \n",
       "4      WP_026306873.1  MLLRRIARPLLSAAFIAEGIDILQNPGPLADRLSPALDFTRRRSQH...   \n",
       "...               ...                                                ...   \n",
       "40585  XP_034013580.1  MKLNWLLGILPIVAANFDDWSKADLTQFLEDRNVTVQKGDDLVQLA...   \n",
       "40586      GFR06050.1  MSDVYMDDLLTGADDLESGRKLQEQLVSLLRGAGMELHKWSASNPL...   \n",
       "40587    KAG2190414.1  MSSSILRASIRRNATIANKRFYSAPPPPPYAPNNQGGGNGGLFLGL...   \n",
       "40588    MBY0528383.1  MRVYCSLLASLLTCATIASQPPPLVFNGGTNSLAPRRILAAEKQET...   \n",
       "40589    MBR5231210.1  MAELKVFSVISSISSMLREGRAVPLSGLVMVNKQRMEQLLDELESS...   \n",
       "\n",
       "       stretch_ix                                        stretch_seq  \\\n",
       "0         [1, 71]  rlvyvavaailcsfsttslagaektakragkfvektatragkfver...   \n",
       "1       [41, 238]  eeetepstkeavqetavetdtgekpesgedgqeesaesteeeqeed...   \n",
       "2         [1, 73]  erlqtdllkeihalrgemhaefasvrqemhagfasirqemhaetas...   \n",
       "3      [437, 540]  aqslvveikhaasqqlllarhvvparmaevtaegrqalrtakaqsq...   \n",
       "4      [172, 342]  slgwrgrraardakdhaealaataaaiaatarergtnlvdtarert...   \n",
       "...           ...                                                ...   \n",
       "40585  [667, 798]  kdakksgesfaslasksgawyadafysvasesgesaasqalqtgqk...   \n",
       "40586  [578, 680]  eqrsiseeyekirdyfkdlkiklrekftrfgqwvkgkyergleksk...   \n",
       "40587   [65, 170]  gtltkqgevvdqkiqegkqavrdkadeakakyeqskseagqavdqk...   \n",
       "40588  [734, 833]  isaltndknrmvrknavdslgffpwdakaivpllvallsdkdsdla...   \n",
       "40589   [55, 154]  kllsrerellqriddqrievetkaateartmvdeankaaqktrlta...   \n",
       "\n",
       "         avg_cc    group_id  group_ix  \n",
       "0      0.001041  unassigned         0  \n",
       "1      0.000364  unassigned         0  \n",
       "2      0.001002  unassigned         0  \n",
       "3      0.000689    group_42         1  \n",
       "4      0.000424    group_38         2  \n",
       "...         ...         ...       ...  \n",
       "40585  0.000553   group_106        71  \n",
       "40586  0.000696     group_9        59  \n",
       "40587  0.000676  unassigned         0  \n",
       "40588  0.000714   group_1_1         5  \n",
       "40589  0.000726  unassigned         0  \n",
       "\n",
       "[40590 rows x 7 columns]"
      ]
     },
     "execution_count": 194,
     "metadata": {},
     "output_type": "execute_result"
    }
   ],
   "source": [
    "groups = df['group_id'].unique()\n",
    "group_dict = {group: i for i, group in enumerate(groups)}\n",
    "\n",
    "df['group_ix'] = df['group_id'].apply(lambda x: group_dict[x])\n",
    "df"
   ]
  },
  {
   "cell_type": "markdown",
   "metadata": {},
   "source": [
    "## Dictionaries and Utils"
   ]
  },
  {
   "cell_type": "code",
   "execution_count": 195,
   "metadata": {},
   "outputs": [],
   "source": [
    "aa_dict = {'r': '+',\n",
    "           'h': '+',\n",
    "           'k': '+',\n",
    "           'd': '-',\n",
    "           'e': '-',\n",
    "           's': 'polar',\n",
    "           't': 'polar',\n",
    "           'n': 'polar',\n",
    "           'q': 'polar',\n",
    "           'c': 'special',\n",
    "           'u': 'special',\n",
    "           'g': 'special',\n",
    "           'p': 'special',\n",
    "           'a': 'hydrophobic',\n",
    "           'v': 'hydrophobic',\n",
    "           'i': 'hydrophobic',\n",
    "           'l': 'hydrophobic',\n",
    "           'm': 'hydrophobic',\n",
    "           'f': 'hydrophobic',\n",
    "           'y': 'hydrophobic',\n",
    "           'w': 'hydrophobic',\n",
    "           'x': 'padding'}\n",
    "\n",
    "aa_num_dict = {'r': 0,\n",
    "               'h': 0,\n",
    "               'k': 0,\n",
    "               'd': 1,\n",
    "               'e': 1,\n",
    "               's': 2,\n",
    "               't': 2,\n",
    "               'n': 2,\n",
    "               'q': 2,\n",
    "               'c': 3,\n",
    "               'u': 3,\n",
    "               'g': 3,\n",
    "               'p': 3,\n",
    "               'a': 4,\n",
    "               'v': 4,\n",
    "               'i': 4,\n",
    "               'l': 4,\n",
    "               'm': 4,\n",
    "               'f': 4,\n",
    "               'y': 4,\n",
    "               'w': 4,\n",
    "               'x': 5}\n",
    "\n",
    "color_dict = {'+': '#00A012',           # green  \n",
    "              '-': '#D81B60',           # red\n",
    "              'polar': '#FFC107',       # yellow\n",
    "              'hydrophobic': '#1E88E5', # blue    \n",
    "              'special': '#ADADAD',     # grey\n",
    "              'padding': '#FFFFFF'}     # white \n",
    "\n",
    "color_num_dict = {0: '#00A012',           # green\n",
    "                  1: '#D81B60',           # red\n",
    "                  2: '#FFC107',           # yellow\n",
    "                  3: '#1E88E5',           # blue\n",
    "                  4: '#ADADAD',           # grey\n",
    "                  5: '#FFFFFF'}           # white"
   ]
  },
  {
   "cell_type": "code",
   "execution_count": 196,
   "metadata": {},
   "outputs": [],
   "source": [
    "# Letter code and color code for expected hendecad repeat\n",
    "repeat = ['A', '*', '*', 'D', 'E', '*', '*', 'H', '*', '*', '*']\n",
    "color_repeat = [color_dict['hydrophobic'], color_dict['special'], color_dict['special'], color_dict['hydrophobic'], color_dict['hydrophobic'], color_dict['special'], color_dict['special'], color_dict['hydrophobic'], color_dict['special'], color_dict['special'], color_dict['special']]"
   ]
  },
  {
   "cell_type": "markdown",
   "metadata": {},
   "source": [
    "## Visual"
   ]
  },
  {
   "cell_type": "code",
   "execution_count": 197,
   "metadata": {},
   "outputs": [],
   "source": [
    "def plot_eleven_repeat(seq_id, seq, n_shift=0, save=False):\n",
    "    seq = seq[n_shift:]\n",
    "    \n",
    "    n = len(seq)\n",
    "    q = n // 11\n",
    "    r = n % 11\n",
    "\n",
    "    positions = [repeat[i%11] for i in range(len(seq))]\n",
    "    colors = [color_dict[aa_dict[aa]] for aa in seq]\n",
    "    \n",
    "    # pad last hendecad with padding color\n",
    "    if n % 11 != 0:\n",
    "        positions += ['x'] * (11 - r)\n",
    "        colors += [color_dict['padding']] * (11 - r)\n",
    "    \n",
    "    fig, axes = plt.subplots(q+1, 1, figsize=(6, q/3))\n",
    "\n",
    "    first = True\n",
    "    for ax in axes:\n",
    "        \n",
    "        if first:\n",
    "            ax.set_title(seq_id) \n",
    "            first = False\n",
    "        \n",
    "        ax.bar(np.arange(11), np.ones(11), color=colors[:11], edgecolor='black')\n",
    "        ax.set_yticks([])\n",
    "        ax.set_xticks([])\n",
    "        \n",
    "        ax.spines['top'].set_visible(False)\n",
    "        ax.spines['right'].set_visible(False)\n",
    "        ax.spines['left'].set_visible(False)\n",
    "        \n",
    "        colors = colors[11:]\n",
    "        positions = positions[11:]\n",
    "\n",
    "    ax.set_xticks(np.arange(11))\n",
    "    ax.set_xticklabels(repeat)\n",
    "\n",
    "    legend_elements = [Patch(facecolor=color_dict[aa], edgecolor='black', label=aa) for aa in color_dict.keys()]\n",
    "    plt.legend(handles=legend_elements, loc='right', bbox_to_anchor=(1.33, q-2))\n",
    "    \n",
    "    if save:\n",
    "        plt.savefig(f'/home/enno/uni/SS23/thesis/seq_analysis/plots/{seq_id}.png', bbox_inches='tight')\n",
    "        plt.clf()\n",
    "    else:\n",
    "        plt.show()"
   ]
  },
  {
   "cell_type": "code",
   "execution_count": 198,
   "metadata": {},
   "outputs": [
    {
     "data": {
      "image/png": "[encoded data removed]",
      "text/plain": [
       "<Figure size 600x966.667 with 30 Axes>"
      ]
     },
     "metadata": {},
     "output_type": "display_data"
    }
   ],
   "source": [
    "TMP = 'DAG77249.1'\n",
    "MACH = 'WP_132310275.1'\n",
    "\n",
    "plot_eleven_repeat(TMP, df[df['id'] == TMP]['stretch_seq'].values[0], n_shift=1)"
   ]
  },
  {
   "cell_type": "code",
   "execution_count": 131,
   "metadata": {},
   "outputs": [
    {
     "data": {
      "image/png": "[encoded data removed]",
      "text/plain": [
       "<Figure size 600x3400 with 103 Axes>"
      ]
     },
     "metadata": {},
     "output_type": "display_data"
    }
   ],
   "source": [
    "plot_eleven_repeat(MACH, df[df['id'] == MACH]['stretch_seq'].values[0])"
   ]
  },
  {
   "cell_type": "markdown",
   "metadata": {},
   "source": [
    "## RegEx"
   ]
  },
  {
   "cell_type": "code",
   "execution_count": 379,
   "metadata": {},
   "outputs": [],
   "source": [
    "def find_repeats(seq, pattern, i):\n",
    "    # max_s1 is the maximum number of repeats in one reading frame\n",
    "    # ! searches patterns in all reading frames\n",
    "    \n",
    "    pattern = re.compile(pattern)\n",
    "    len_pattern = 11*i\n",
    "\n",
    "    matches = pattern.findall(seq)\n",
    "    matches_ix = [(m.start(1), m.end(1)) for m in pattern.finditer(seq)]\n",
    "    \n",
    "    max_n_repeats = sum([len(seq[l:]) // len_pattern for l in range(len_pattern)])\n",
    "    match_ratio = len(matches) / max_n_repeats if max_n_repeats != 0 else 0\n",
    "\n",
    "    return len(matches), matches_ix, match_ratio"
   ]
  },
  {
   "cell_type": "code",
   "execution_count": 380,
   "metadata": {},
   "outputs": [
    {
     "data": {
      "text/plain": [
       "(0, [], 0)"
      ]
     },
     "execution_count": 380,
     "metadata": {},
     "output_type": "execute_result"
    }
   ],
   "source": [
    "pattern = r'[avilm].{2}[avilm].{3}[avilm].{3}' * 3\n",
    "pattern = r'(?=(' + pattern + r'))'\n",
    "\n",
    "test = 'kaaaaaaaaaaaaaaaaaaaaaaaaaaaaaa'\n",
    "find_repeats(test, pattern, 3)"
   ]
  },
  {
   "cell_type": "code",
   "execution_count": 381,
   "metadata": {},
   "outputs": [
    {
     "data": {
      "text/plain": [
       "(0, [], 0.0)"
      ]
     },
     "execution_count": 381,
     "metadata": {},
     "output_type": "execute_result"
    }
   ],
   "source": [
    "test = 'nnnnnnnnnnnnnnnnnnnn'\n",
    "find_repeats(test, pattern, 1)"
   ]
  },
  {
   "cell_type": "code",
   "execution_count": 359,
   "metadata": {},
   "outputs": [
    {
     "data": {
      "text/plain": [
       "'(?=([avilm].{2}[avilm].{3}[avilm].{3}[avilm].{2}[avilm].{3}[avilm].{3}[avilm].{2}[avilm].{3}[avilm].{3}))'"
      ]
     },
     "execution_count": 359,
     "metadata": {},
     "output_type": "execute_result"
    }
   ],
   "source": [
    "pattern = r'[avilm].{2}[avilm].{3}[avilm].{3}' * 3\n",
    "\n",
    "pattern = r'(?=(' + pattern + r'))'\n",
    "pattern"
   ]
  },
  {
   "cell_type": "code",
   "execution_count": 383,
   "metadata": {},
   "outputs": [],
   "source": [
    "# 1  2  3  4  5  6  7  8  9 10 11\n",
    "# a  b  c  d  e  f  g  h  i  j  k \n",
    "\n",
    "# pattern = r'[avilm].{6}[avilm].{3}' # detects a------h---\n",
    "\n",
    "R = [1, 2, 3, 4, 5, 6, 7, 8, 9, 10, 25, 50, 75, 100, 150, 168]\n",
    "\n",
    "\n",
    "# loop to find increasing number of consecutive hendecad repeats\n",
    "for n in R:\n",
    "    \n",
    "    pattern = r'[avilm].{2}[avilm].{3}[avilm].{3}' * n # detects a--d---h---\n",
    "\n",
    "    pattern = r'(?=(' + pattern + r'))'\n",
    "\n",
    "\n",
    "    len_pattern = 11 * n\n",
    "\n",
    "    n_hits_out = []\n",
    "    hit_ratio_out = [] \n",
    "    hits_ix_out = []\n",
    "\n",
    "    for i in range(len(df)):\n",
    "        n_hits, hits_ix, hit_ratio = find_repeats(df.loc[i, 'stretch_seq'], pattern, n)\n",
    "        \n",
    "        n_hits_out.append(n_hits)\n",
    "        hits_ix_out.append(hits_ix)\n",
    "        hit_ratio_out.append(hit_ratio)\n",
    "\n",
    "    df[f'{n}R'] = n_hits_out\n",
    "    df[f'{n}R_ratio'] = hit_ratio_out \n",
    "    df[f'{n}R_ix'] = hits_ix_out"
   ]
  },
  {
   "cell_type": "code",
   "execution_count": 387,
   "metadata": {},
   "outputs": [],
   "source": [
    "df.to_csv('/home/enno/uni/SS24/thesis/01_data/hendecads/stretches_w_groups_w_repeats.csv')"
   ]
  },
  {
   "cell_type": "code",
   "execution_count": 174,
   "metadata": {},
   "outputs": [],
   "source": [
    "# ribo_seq = df[df['49R'] > 0].iloc[-1] # https://www.ebi.ac.uk/pdbe/entry/pdb/6xyw/biology"
   ]
  },
  {
   "cell_type": "markdown",
   "metadata": {},
   "source": [
    "### Histograms"
   ]
  },
  {
   "cell_type": "code",
   "execution_count": 406,
   "metadata": {},
   "outputs": [
    {
     "data": {
      "image/png": "[encoded data removed]",
      "text/plain": [
       "<Figure size 2400x1200 with 10 Axes>"
      ]
     },
     "metadata": {},
     "output_type": "display_data"
    }
   ],
   "source": [
    "# Plot all xR ratios\n",
    "fig, ax = plt.subplots(2, 5, figsize=(24, 12))\n",
    "\n",
    "ix = 0\n",
    "for i in range(2):\n",
    "    for j in range(5):\n",
    "        n = R[ix]\n",
    "        ix += 1\n",
    "\n",
    "        sns.histplot(df[df[f'{n}R_ratio'] > 0][f'{n}R_ratio'], bins=25, ax=ax[i, j])\n",
    "        ax[i, j].set_title(f'{n}R')"
   ]
  },
  {
   "cell_type": "code",
   "execution_count": 407,
   "metadata": {},
   "outputs": [
    {
     "data": {
      "text/html": [
       "<div>\n",
       "<style scoped>\n",
       "    .dataframe tbody tr th:only-of-type {\n",
       "        vertical-align: middle;\n",
       "    }\n",
       "\n",
       "    .dataframe tbody tr th {\n",
       "        vertical-align: top;\n",
       "    }\n",
       "\n",
       "    .dataframe thead th {\n",
       "        text-align: right;\n",
       "    }\n",
       "</style>\n",
       "<table border=\"1\" class=\"dataframe\">\n",
       "  <thead>\n",
       "    <tr style=\"text-align: right;\">\n",
       "      <th></th>\n",
       "      <th>id</th>\n",
       "      <th>seq</th>\n",
       "      <th>stretch_ix</th>\n",
       "      <th>stretch_seq</th>\n",
       "      <th>avg_cc</th>\n",
       "      <th>group_id</th>\n",
       "      <th>group_ix</th>\n",
       "      <th>1R</th>\n",
       "      <th>2R</th>\n",
       "      <th>3R</th>\n",
       "      <th>...</th>\n",
       "      <th>7R_ratio</th>\n",
       "      <th>8R_ratio</th>\n",
       "      <th>9R_ratio</th>\n",
       "      <th>10R_ratio</th>\n",
       "      <th>25R_ratio</th>\n",
       "      <th>50R_ratio</th>\n",
       "      <th>75R_ratio</th>\n",
       "      <th>100R_ratio</th>\n",
       "      <th>150R_ratio</th>\n",
       "      <th>168R_ratio</th>\n",
       "    </tr>\n",
       "  </thead>\n",
       "  <tbody>\n",
       "    <tr>\n",
       "      <th>0</th>\n",
       "      <td>MCD6041253.1</td>\n",
       "      <td>Mrlvyvavaailcsfsttslagaektakragkfvektatragkfve...</td>\n",
       "      <td>[1, 71]</td>\n",
       "      <td>rlvyvavaailcsfsttslagaektakragkfvektatragkfver...</td>\n",
       "      <td>0.001041</td>\n",
       "      <td>unassigned</td>\n",
       "      <td>0</td>\n",
       "      <td>7</td>\n",
       "      <td>3</td>\n",
       "      <td>2</td>\n",
       "      <td>...</td>\n",
       "      <td>0.0</td>\n",
       "      <td>0.0</td>\n",
       "      <td>0.0</td>\n",
       "      <td>0.0</td>\n",
       "      <td>0.0</td>\n",
       "      <td>0.0</td>\n",
       "      <td>0.0</td>\n",
       "      <td>0.0</td>\n",
       "      <td>0.0</td>\n",
       "      <td>0.0</td>\n",
       "    </tr>\n",
       "    <tr>\n",
       "      <th>1</th>\n",
       "      <td>MCD7737945.1</td>\n",
       "      <td>MQGRVFFREAAALILAAALSMAGLPASAAANSGIEAAALRTeeete...</td>\n",
       "      <td>[41, 238]</td>\n",
       "      <td>eeetepstkeavqetavetdtgekpesgedgqeesaesteeeqeed...</td>\n",
       "      <td>0.000364</td>\n",
       "      <td>unassigned</td>\n",
       "      <td>0</td>\n",
       "      <td>0</td>\n",
       "      <td>0</td>\n",
       "      <td>0</td>\n",
       "      <td>...</td>\n",
       "      <td>0.0</td>\n",
       "      <td>0.0</td>\n",
       "      <td>0.0</td>\n",
       "      <td>0.0</td>\n",
       "      <td>0.0</td>\n",
       "      <td>0.0</td>\n",
       "      <td>0.0</td>\n",
       "      <td>0.0</td>\n",
       "      <td>0.0</td>\n",
       "      <td>0.0</td>\n",
       "    </tr>\n",
       "    <tr>\n",
       "      <th>2</th>\n",
       "      <td>MYF28459.1</td>\n",
       "      <td>Merlqtdllkeihalrgemhaefasvrqemhagfasirqemhaeta...</td>\n",
       "      <td>[1, 73]</td>\n",
       "      <td>erlqtdllkeihalrgemhaefasvrqemhagfasirqemhaetas...</td>\n",
       "      <td>0.001002</td>\n",
       "      <td>unassigned</td>\n",
       "      <td>0</td>\n",
       "      <td>3</td>\n",
       "      <td>0</td>\n",
       "      <td>0</td>\n",
       "      <td>...</td>\n",
       "      <td>0.0</td>\n",
       "      <td>0.0</td>\n",
       "      <td>0.0</td>\n",
       "      <td>0.0</td>\n",
       "      <td>0.0</td>\n",
       "      <td>0.0</td>\n",
       "      <td>0.0</td>\n",
       "      <td>0.0</td>\n",
       "      <td>0.0</td>\n",
       "      <td>0.0</td>\n",
       "    </tr>\n",
       "    <tr>\n",
       "      <th>3</th>\n",
       "      <td>WP_168920948.1</td>\n",
       "      <td>MSDVFLTASYADREKVKTLGARWNPAEKRWYVPSGRDLSPFAAWLP...</td>\n",
       "      <td>[437, 540]</td>\n",
       "      <td>aqslvveikhaasqqlllarhvvparmaevtaegrqalrtakaqsq...</td>\n",
       "      <td>0.000689</td>\n",
       "      <td>group_42</td>\n",
       "      <td>1</td>\n",
       "      <td>6</td>\n",
       "      <td>1</td>\n",
       "      <td>0</td>\n",
       "      <td>...</td>\n",
       "      <td>0.0</td>\n",
       "      <td>0.0</td>\n",
       "      <td>0.0</td>\n",
       "      <td>0.0</td>\n",
       "      <td>0.0</td>\n",
       "      <td>0.0</td>\n",
       "      <td>0.0</td>\n",
       "      <td>0.0</td>\n",
       "      <td>0.0</td>\n",
       "      <td>0.0</td>\n",
       "    </tr>\n",
       "    <tr>\n",
       "      <th>4</th>\n",
       "      <td>WP_026306873.1</td>\n",
       "      <td>MLLRRIARPLLSAAFIAEGIDILQNPGPLADRLSPALDFTRRRSQH...</td>\n",
       "      <td>[172, 342]</td>\n",
       "      <td>slgwrgrraardakdhaealaataaaiaatarergtnlvdtarert...</td>\n",
       "      <td>0.000424</td>\n",
       "      <td>group_38</td>\n",
       "      <td>2</td>\n",
       "      <td>15</td>\n",
       "      <td>3</td>\n",
       "      <td>0</td>\n",
       "      <td>...</td>\n",
       "      <td>0.0</td>\n",
       "      <td>0.0</td>\n",
       "      <td>0.0</td>\n",
       "      <td>0.0</td>\n",
       "      <td>0.0</td>\n",
       "      <td>0.0</td>\n",
       "      <td>0.0</td>\n",
       "      <td>0.0</td>\n",
       "      <td>0.0</td>\n",
       "      <td>0.0</td>\n",
       "    </tr>\n",
       "    <tr>\n",
       "      <th>...</th>\n",
       "      <td>...</td>\n",
       "      <td>...</td>\n",
       "      <td>...</td>\n",
       "      <td>...</td>\n",
       "      <td>...</td>\n",
       "      <td>...</td>\n",
       "      <td>...</td>\n",
       "      <td>...</td>\n",
       "      <td>...</td>\n",
       "      <td>...</td>\n",
       "      <td>...</td>\n",
       "      <td>...</td>\n",
       "      <td>...</td>\n",
       "      <td>...</td>\n",
       "      <td>...</td>\n",
       "      <td>...</td>\n",
       "      <td>...</td>\n",
       "      <td>...</td>\n",
       "      <td>...</td>\n",
       "      <td>...</td>\n",
       "      <td>...</td>\n",
       "    </tr>\n",
       "    <tr>\n",
       "      <th>40585</th>\n",
       "      <td>XP_034013580.1</td>\n",
       "      <td>MKLNWLLGILPIVAANFDDWSKADLTQFLEDRNVTVQKGDDLVQLA...</td>\n",
       "      <td>[667, 798]</td>\n",
       "      <td>kdakksgesfaslasksgawyadafysvasesgesaasqalqtgqk...</td>\n",
       "      <td>0.000553</td>\n",
       "      <td>group_106</td>\n",
       "      <td>71</td>\n",
       "      <td>1</td>\n",
       "      <td>0</td>\n",
       "      <td>0</td>\n",
       "      <td>...</td>\n",
       "      <td>0.0</td>\n",
       "      <td>0.0</td>\n",
       "      <td>0.0</td>\n",
       "      <td>0.0</td>\n",
       "      <td>0.0</td>\n",
       "      <td>0.0</td>\n",
       "      <td>0.0</td>\n",
       "      <td>0.0</td>\n",
       "      <td>0.0</td>\n",
       "      <td>0.0</td>\n",
       "    </tr>\n",
       "    <tr>\n",
       "      <th>40586</th>\n",
       "      <td>GFR06050.1</td>\n",
       "      <td>MSDVYMDDLLTGADDLESGRKLQEQLVSLLRGAGMELHKWSASNPL...</td>\n",
       "      <td>[578, 680]</td>\n",
       "      <td>eqrsiseeyekirdyfkdlkiklrekftrfgqwvkgkyergleksk...</td>\n",
       "      <td>0.000696</td>\n",
       "      <td>group_9</td>\n",
       "      <td>59</td>\n",
       "      <td>2</td>\n",
       "      <td>0</td>\n",
       "      <td>0</td>\n",
       "      <td>...</td>\n",
       "      <td>0.0</td>\n",
       "      <td>0.0</td>\n",
       "      <td>0.0</td>\n",
       "      <td>0.0</td>\n",
       "      <td>0.0</td>\n",
       "      <td>0.0</td>\n",
       "      <td>0.0</td>\n",
       "      <td>0.0</td>\n",
       "      <td>0.0</td>\n",
       "      <td>0.0</td>\n",
       "    </tr>\n",
       "    <tr>\n",
       "      <th>40587</th>\n",
       "      <td>KAG2190414.1</td>\n",
       "      <td>MSSSILRASIRRNATIANKRFYSAPPPPPYAPNNQGGGNGGLFLGL...</td>\n",
       "      <td>[65, 170]</td>\n",
       "      <td>gtltkqgevvdqkiqegkqavrdkadeakakyeqskseagqavdqk...</td>\n",
       "      <td>0.000676</td>\n",
       "      <td>unassigned</td>\n",
       "      <td>0</td>\n",
       "      <td>0</td>\n",
       "      <td>0</td>\n",
       "      <td>0</td>\n",
       "      <td>...</td>\n",
       "      <td>0.0</td>\n",
       "      <td>0.0</td>\n",
       "      <td>0.0</td>\n",
       "      <td>0.0</td>\n",
       "      <td>0.0</td>\n",
       "      <td>0.0</td>\n",
       "      <td>0.0</td>\n",
       "      <td>0.0</td>\n",
       "      <td>0.0</td>\n",
       "      <td>0.0</td>\n",
       "    </tr>\n",
       "    <tr>\n",
       "      <th>40588</th>\n",
       "      <td>MBY0528383.1</td>\n",
       "      <td>MRVYCSLLASLLTCATIASQPPPLVFNGGTNSLAPRRILAAEKQET...</td>\n",
       "      <td>[734, 833]</td>\n",
       "      <td>isaltndknrmvrknavdslgffpwdakaivpllvallsdkdsdla...</td>\n",
       "      <td>0.000714</td>\n",
       "      <td>group_1_1</td>\n",
       "      <td>5</td>\n",
       "      <td>10</td>\n",
       "      <td>1</td>\n",
       "      <td>0</td>\n",
       "      <td>...</td>\n",
       "      <td>0.0</td>\n",
       "      <td>0.0</td>\n",
       "      <td>0.0</td>\n",
       "      <td>0.0</td>\n",
       "      <td>0.0</td>\n",
       "      <td>0.0</td>\n",
       "      <td>0.0</td>\n",
       "      <td>0.0</td>\n",
       "      <td>0.0</td>\n",
       "      <td>0.0</td>\n",
       "    </tr>\n",
       "    <tr>\n",
       "      <th>40589</th>\n",
       "      <td>MBR5231210.1</td>\n",
       "      <td>MAELKVFSVISSISSMLREGRAVPLSGLVMVNKQRMEQLLDELESS...</td>\n",
       "      <td>[55, 154]</td>\n",
       "      <td>kllsrerellqriddqrievetkaateartmvdeankaaqktrlta...</td>\n",
       "      <td>0.000726</td>\n",
       "      <td>unassigned</td>\n",
       "      <td>0</td>\n",
       "      <td>11</td>\n",
       "      <td>4</td>\n",
       "      <td>2</td>\n",
       "      <td>...</td>\n",
       "      <td>0.0</td>\n",
       "      <td>0.0</td>\n",
       "      <td>0.0</td>\n",
       "      <td>0.0</td>\n",
       "      <td>0.0</td>\n",
       "      <td>0.0</td>\n",
       "      <td>0.0</td>\n",
       "      <td>0.0</td>\n",
       "      <td>0.0</td>\n",
       "      <td>0.0</td>\n",
       "    </tr>\n",
       "  </tbody>\n",
       "</table>\n",
       "<p>40590 rows × 55 columns</p>\n",
       "</div>"
      ],
      "text/plain": [
       "                   id                                                seq  \\\n",
       "0        MCD6041253.1  Mrlvyvavaailcsfsttslagaektakragkfvektatragkfve...   \n",
       "1        MCD7737945.1  MQGRVFFREAAALILAAALSMAGLPASAAANSGIEAAALRTeeete...   \n",
       "2          MYF28459.1  Merlqtdllkeihalrgemhaefasvrqemhagfasirqemhaeta...   \n",
       "3      WP_168920948.1  MSDVFLTASYADREKVKTLGARWNPAEKRWYVPSGRDLSPFAAWLP...   \n",
       "4      WP_026306873.1  MLLRRIARPLLSAAFIAEGIDILQNPGPLADRLSPALDFTRRRSQH...   \n",
       "...               ...                                                ...   \n",
       "40585  XP_034013580.1  MKLNWLLGILPIVAANFDDWSKADLTQFLEDRNVTVQKGDDLVQLA...   \n",
       "40586      GFR06050.1  MSDVYMDDLLTGADDLESGRKLQEQLVSLLRGAGMELHKWSASNPL...   \n",
       "40587    KAG2190414.1  MSSSILRASIRRNATIANKRFYSAPPPPPYAPNNQGGGNGGLFLGL...   \n",
       "40588    MBY0528383.1  MRVYCSLLASLLTCATIASQPPPLVFNGGTNSLAPRRILAAEKQET...   \n",
       "40589    MBR5231210.1  MAELKVFSVISSISSMLREGRAVPLSGLVMVNKQRMEQLLDELESS...   \n",
       "\n",
       "       stretch_ix                                        stretch_seq  \\\n",
       "0         [1, 71]  rlvyvavaailcsfsttslagaektakragkfvektatragkfver...   \n",
       "1       [41, 238]  eeetepstkeavqetavetdtgekpesgedgqeesaesteeeqeed...   \n",
       "2         [1, 73]  erlqtdllkeihalrgemhaefasvrqemhagfasirqemhaetas...   \n",
       "3      [437, 540]  aqslvveikhaasqqlllarhvvparmaevtaegrqalrtakaqsq...   \n",
       "4      [172, 342]  slgwrgrraardakdhaealaataaaiaatarergtnlvdtarert...   \n",
       "...           ...                                                ...   \n",
       "40585  [667, 798]  kdakksgesfaslasksgawyadafysvasesgesaasqalqtgqk...   \n",
       "40586  [578, 680]  eqrsiseeyekirdyfkdlkiklrekftrfgqwvkgkyergleksk...   \n",
       "40587   [65, 170]  gtltkqgevvdqkiqegkqavrdkadeakakyeqskseagqavdqk...   \n",
       "40588  [734, 833]  isaltndknrmvrknavdslgffpwdakaivpllvallsdkdsdla...   \n",
       "40589   [55, 154]  kllsrerellqriddqrievetkaateartmvdeankaaqktrlta...   \n",
       "\n",
       "         avg_cc    group_id  group_ix  1R  2R  3R  ...  7R_ratio  8R_ratio  \\\n",
       "0      0.001041  unassigned         0   7   3   2  ...       0.0       0.0   \n",
       "1      0.000364  unassigned         0   0   0   0  ...       0.0       0.0   \n",
       "2      0.001002  unassigned         0   3   0   0  ...       0.0       0.0   \n",
       "3      0.000689    group_42         1   6   1   0  ...       0.0       0.0   \n",
       "4      0.000424    group_38         2  15   3   0  ...       0.0       0.0   \n",
       "...         ...         ...       ...  ..  ..  ..  ...       ...       ...   \n",
       "40585  0.000553   group_106        71   1   0   0  ...       0.0       0.0   \n",
       "40586  0.000696     group_9        59   2   0   0  ...       0.0       0.0   \n",
       "40587  0.000676  unassigned         0   0   0   0  ...       0.0       0.0   \n",
       "40588  0.000714   group_1_1         5  10   1   0  ...       0.0       0.0   \n",
       "40589  0.000726  unassigned         0  11   4   2  ...       0.0       0.0   \n",
       "\n",
       "       9R_ratio  10R_ratio  25R_ratio  50R_ratio  75R_ratio  100R_ratio  \\\n",
       "0           0.0        0.0        0.0        0.0        0.0         0.0   \n",
       "1           0.0        0.0        0.0        0.0        0.0         0.0   \n",
       "2           0.0        0.0        0.0        0.0        0.0         0.0   \n",
       "3           0.0        0.0        0.0        0.0        0.0         0.0   \n",
       "4           0.0        0.0        0.0        0.0        0.0         0.0   \n",
       "...         ...        ...        ...        ...        ...         ...   \n",
       "40585       0.0        0.0        0.0        0.0        0.0         0.0   \n",
       "40586       0.0        0.0        0.0        0.0        0.0         0.0   \n",
       "40587       0.0        0.0        0.0        0.0        0.0         0.0   \n",
       "40588       0.0        0.0        0.0        0.0        0.0         0.0   \n",
       "40589       0.0        0.0        0.0        0.0        0.0         0.0   \n",
       "\n",
       "       150R_ratio  168R_ratio  \n",
       "0             0.0         0.0  \n",
       "1             0.0         0.0  \n",
       "2             0.0         0.0  \n",
       "3             0.0         0.0  \n",
       "4             0.0         0.0  \n",
       "...           ...         ...  \n",
       "40585         0.0         0.0  \n",
       "40586         0.0         0.0  \n",
       "40587         0.0         0.0  \n",
       "40588         0.0         0.0  \n",
       "40589         0.0         0.0  \n",
       "\n",
       "[40590 rows x 55 columns]"
      ]
     },
     "execution_count": 407,
     "metadata": {},
     "output_type": "execute_result"
    }
   ],
   "source": [
    "df"
   ]
  },
  {
   "cell_type": "markdown",
   "metadata": {},
   "source": [
    "### Sankey"
   ]
  },
  {
   "cell_type": "code",
   "execution_count": 136,
   "metadata": {},
   "outputs": [],
   "source": [
    "R = [1, 2, 5, 10]\n",
    "\n",
    "values = []\n",
    "\n",
    "groups_r = []\n",
    "groups_not_r = []\n",
    "\n",
    "first = True\n",
    "\n",
    "for i in R:\n",
    "  \n",
    "    if first:\n",
    "        r = df[(df[f'{i}R'] > 0)]       # where there is at least one pattern match\n",
    "        not_r = df[(df[f'{i}R'] == 0)]  # where there is no pattern match\n",
    "\n",
    "        groups_r.append(r)\n",
    "\n",
    "        values.append(len(r))  \n",
    "        values.append(len(not_r))    \n",
    "        \n",
    "        first = False\n",
    "    else:\n",
    "        r = df[df[f'{i}R'] > 0]                                 # where there is at least one pattern match\n",
    "        not_r = df[(df[f'{i-1}R'] > 0) & (df[f'{i}R'] == 0)]    # where there is a pattern match in the previous iteration but not in the current\n",
    "\n",
    "        groups_r.append(r)\n",
    "\n",
    "        values.append(len(r))\n",
    "        values.append(len(not_r))"
   ]
  },
  {
   "cell_type": "code",
   "execution_count": 137,
   "metadata": {},
   "outputs": [
    {
     "data": {
      "application/vnd.plotly.v1+json": {
       "config": {
        "plotlyServerURL": "https://plot.ly"
       },
       "data": [
        {
         "link": {
          "source": [
           0,
           0,
           1,
           1,
           3,
           3,
           5
          ],
          "target": [
           1,
           2,
           3,
           4,
           5,
           6,
           7
          ],
          "value": [
           33846,
           6744,
           19149,
           14697,
           4845,
           2548,
           813,
           278
          ]
         },
         "node": {
          "color": [
           "#0f6349",
           "#0f6349",
           "#0f6349",
           "#0f6349",
           "#0f6349",
           "#0f6349",
           "#0f6349",
           "#0f6349"
          ],
          "label": [
           "All",
           "1R",
           "not 1R",
           "2R",
           "not 2R",
           "5R",
           "not 5R",
           "10R",
           "not 10R"
          ],
          "line": {
           "color": "black",
           "width": 0.5
          },
          "pad": 15,
          "thickness": 20
         },
         "type": "sankey"
        }
       ],
       "layout": {
        "template": {
         "data": {
          "bar": [
           {
            "error_x": {
             "color": "#2a3f5f"
            },
            "error_y": {
             "color": "#2a3f5f"
            },
            "marker": {
             "line": {
              "color": "#E5ECF6",
              "width": 0.5
             },
             "pattern": {
              "fillmode": "overlay",
              "size": 10,
              "solidity": 0.2
             }
            },
            "type": "bar"
           }
          ],
          "barpolar": [
           {
            "marker": {
             "line": {
              "color": "#E5ECF6",
              "width": 0.5
             },
             "pattern": {
              "fillmode": "overlay",
              "size": 10,
              "solidity": 0.2
             }
            },
            "type": "barpolar"
           }
          ],
          "carpet": [
           {
            "aaxis": {
             "endlinecolor": "#2a3f5f",
             "gridcolor": "white",
             "linecolor": "white",
             "minorgridcolor": "white",
             "startlinecolor": "#2a3f5f"
            },
            "baxis": {
             "endlinecolor": "#2a3f5f",
             "gridcolor": "white",
             "linecolor": "white",
             "minorgridcolor": "white",
             "startlinecolor": "#2a3f5f"
            },
            "type": "carpet"
           }
          ],
          "choropleth": [
           {
            "colorbar": {
             "outlinewidth": 0,
             "ticks": ""
            },
            "type": "choropleth"
           }
          ],
          "contour": [
           {
            "colorbar": {
             "outlinewidth": 0,
             "ticks": ""
            },
            "colorscale": [
             [
              0,
              "#0d0887"
             ],
             [
              0.1111111111111111,
              "#46039f"
             ],
             [
              0.2222222222222222,
              "#7201a8"
             ],
             [
              0.3333333333333333,
              "#9c179e"
             ],
             [
              0.4444444444444444,
              "#bd3786"
             ],
             [
              0.5555555555555556,
              "#d8576b"
             ],
             [
              0.6666666666666666,
              "#ed7953"
             ],
             [
              0.7777777777777778,
              "#fb9f3a"
             ],
             [
              0.8888888888888888,
              "#fdca26"
             ],
             [
              1,
              "#f0f921"
             ]
            ],
            "type": "contour"
           }
          ],
          "contourcarpet": [
           {
            "colorbar": {
             "outlinewidth": 0,
             "ticks": ""
            },
            "type": "contourcarpet"
           }
          ],
          "heatmap": [
           {
            "colorbar": {
             "outlinewidth": 0,
             "ticks": ""
            },
            "colorscale": [
             [
              0,
              "#0d0887"
             ],
             [
              0.1111111111111111,
              "#46039f"
             ],
             [
              0.2222222222222222,
              "#7201a8"
             ],
             [
              0.3333333333333333,
              "#9c179e"
             ],
             [
              0.4444444444444444,
              "#bd3786"
             ],
             [
              0.5555555555555556,
              "#d8576b"
             ],
             [
              0.6666666666666666,
              "#ed7953"
             ],
             [
              0.7777777777777778,
              "#fb9f3a"
             ],
             [
              0.8888888888888888,
              "#fdca26"
             ],
             [
              1,
              "#f0f921"
             ]
            ],
            "type": "heatmap"
           }
          ],
          "heatmapgl": [
           {
            "colorbar": {
             "outlinewidth": 0,
             "ticks": ""
            },
            "colorscale": [
             [
              0,
              "#0d0887"
             ],
             [
              0.1111111111111111,
              "#46039f"
             ],
             [
              0.2222222222222222,
              "#7201a8"
             ],
             [
              0.3333333333333333,
              "#9c179e"
             ],
             [
              0.4444444444444444,
              "#bd3786"
             ],
             [
              0.5555555555555556,
              "#d8576b"
             ],
             [
              0.6666666666666666,
              "#ed7953"
             ],
             [
              0.7777777777777778,
              "#fb9f3a"
             ],
             [
              0.8888888888888888,
              "#fdca26"
             ],
             [
              1,
              "#f0f921"
             ]
            ],
            "type": "heatmapgl"
           }
          ],
          "histogram": [
           {
            "marker": {
             "pattern": {
              "fillmode": "overlay",
              "size": 10,
              "solidity": 0.2
             }
            },
            "type": "histogram"
           }
          ],
          "histogram2d": [
           {
            "colorbar": {
             "outlinewidth": 0,
             "ticks": ""
            },
            "colorscale": [
             [
              0,
              "#0d0887"
             ],
             [
              0.1111111111111111,
              "#46039f"
             ],
             [
              0.2222222222222222,
              "#7201a8"
             ],
             [
              0.3333333333333333,
              "#9c179e"
             ],
             [
              0.4444444444444444,
              "#bd3786"
             ],
             [
              0.5555555555555556,
              "#d8576b"
             ],
             [
              0.6666666666666666,
              "#ed7953"
             ],
             [
              0.7777777777777778,
              "#fb9f3a"
             ],
             [
              0.8888888888888888,
              "#fdca26"
             ],
             [
              1,
              "#f0f921"
             ]
            ],
            "type": "histogram2d"
           }
          ],
          "histogram2dcontour": [
           {
            "colorbar": {
             "outlinewidth": 0,
             "ticks": ""
            },
            "colorscale": [
             [
              0,
              "#0d0887"
             ],
             [
              0.1111111111111111,
              "#46039f"
             ],
             [
              0.2222222222222222,
              "#7201a8"
             ],
             [
              0.3333333333333333,
              "#9c179e"
             ],
             [
              0.4444444444444444,
              "#bd3786"
             ],
             [
              0.5555555555555556,
              "#d8576b"
             ],
             [
              0.6666666666666666,
              "#ed7953"
             ],
             [
              0.7777777777777778,
              "#fb9f3a"
             ],
             [
              0.8888888888888888,
              "#fdca26"
             ],
             [
              1,
              "#f0f921"
             ]
            ],
            "type": "histogram2dcontour"
           }
          ],
          "mesh3d": [
           {
            "colorbar": {
             "outlinewidth": 0,
             "ticks": ""
            },
            "type": "mesh3d"
           }
          ],
          "parcoords": [
           {
            "line": {
             "colorbar": {
              "outlinewidth": 0,
              "ticks": ""
             }
            },
            "type": "parcoords"
           }
          ],
          "pie": [
           {
            "automargin": true,
            "type": "pie"
           }
          ],
          "scatter": [
           {
            "fillpattern": {
             "fillmode": "overlay",
             "size": 10,
             "solidity": 0.2
            },
            "type": "scatter"
           }
          ],
          "scatter3d": [
           {
            "line": {
             "colorbar": {
              "outlinewidth": 0,
              "ticks": ""
             }
            },
            "marker": {
             "colorbar": {
              "outlinewidth": 0,
              "ticks": ""
             }
            },
            "type": "scatter3d"
           }
          ],
          "scattercarpet": [
           {
            "marker": {
             "colorbar": {
              "outlinewidth": 0,
              "ticks": ""
             }
            },
            "type": "scattercarpet"
           }
          ],
          "scattergeo": [
           {
            "marker": {
             "colorbar": {
              "outlinewidth": 0,
              "ticks": ""
             }
            },
            "type": "scattergeo"
           }
          ],
          "scattergl": [
           {
            "marker": {
             "colorbar": {
              "outlinewidth": 0,
              "ticks": ""
             }
            },
            "type": "scattergl"
           }
          ],
          "scattermapbox": [
           {
            "marker": {
             "colorbar": {
              "outlinewidth": 0,
              "ticks": ""
             }
            },
            "type": "scattermapbox"
           }
          ],
          "scatterpolar": [
           {
            "marker": {
             "colorbar": {
              "outlinewidth": 0,
              "ticks": ""
             }
            },
            "type": "scatterpolar"
           }
          ],
          "scatterpolargl": [
           {
            "marker": {
             "colorbar": {
              "outlinewidth": 0,
              "ticks": ""
             }
            },
            "type": "scatterpolargl"
           }
          ],
          "scatterternary": [
           {
            "marker": {
             "colorbar": {
              "outlinewidth": 0,
              "ticks": ""
             }
            },
            "type": "scatterternary"
           }
          ],
          "surface": [
           {
            "colorbar": {
             "outlinewidth": 0,
             "ticks": ""
            },
            "colorscale": [
             [
              0,
              "#0d0887"
             ],
             [
              0.1111111111111111,
              "#46039f"
             ],
             [
              0.2222222222222222,
              "#7201a8"
             ],
             [
              0.3333333333333333,
              "#9c179e"
             ],
             [
              0.4444444444444444,
              "#bd3786"
             ],
             [
              0.5555555555555556,
              "#d8576b"
             ],
             [
              0.6666666666666666,
              "#ed7953"
             ],
             [
              0.7777777777777778,
              "#fb9f3a"
             ],
             [
              0.8888888888888888,
              "#fdca26"
             ],
             [
              1,
              "#f0f921"
             ]
            ],
            "type": "surface"
           }
          ],
          "table": [
           {
            "cells": {
             "fill": {
              "color": "#EBF0F8"
             },
             "line": {
              "color": "white"
             }
            },
            "header": {
             "fill": {
              "color": "#C8D4E3"
             },
             "line": {
              "color": "white"
             }
            },
            "type": "table"
           }
          ]
         },
         "layout": {
          "annotationdefaults": {
           "arrowcolor": "#2a3f5f",
           "arrowhead": 0,
           "arrowwidth": 1
          },
          "autotypenumbers": "strict",
          "coloraxis": {
           "colorbar": {
            "outlinewidth": 0,
            "ticks": ""
           }
          },
          "colorscale": {
           "diverging": [
            [
             0,
             "#8e0152"
            ],
            [
             0.1,
             "#c51b7d"
            ],
            [
             0.2,
             "#de77ae"
            ],
            [
             0.3,
             "#f1b6da"
            ],
            [
             0.4,
             "#fde0ef"
            ],
            [
             0.5,
             "#f7f7f7"
            ],
            [
             0.6,
             "#e6f5d0"
            ],
            [
             0.7,
             "#b8e186"
            ],
            [
             0.8,
             "#7fbc41"
            ],
            [
             0.9,
             "#4d9221"
            ],
            [
             1,
             "#276419"
            ]
           ],
           "sequential": [
            [
             0,
             "#0d0887"
            ],
            [
             0.1111111111111111,
             "#46039f"
            ],
            [
             0.2222222222222222,
             "#7201a8"
            ],
            [
             0.3333333333333333,
             "#9c179e"
            ],
            [
             0.4444444444444444,
             "#bd3786"
            ],
            [
             0.5555555555555556,
             "#d8576b"
            ],
            [
             0.6666666666666666,
             "#ed7953"
            ],
            [
             0.7777777777777778,
             "#fb9f3a"
            ],
            [
             0.8888888888888888,
             "#fdca26"
            ],
            [
             1,
             "#f0f921"
            ]
           ],
           "sequentialminus": [
            [
             0,
             "#0d0887"
            ],
            [
             0.1111111111111111,
             "#46039f"
            ],
            [
             0.2222222222222222,
             "#7201a8"
            ],
            [
             0.3333333333333333,
             "#9c179e"
            ],
            [
             0.4444444444444444,
             "#bd3786"
            ],
            [
             0.5555555555555556,
             "#d8576b"
            ],
            [
             0.6666666666666666,
             "#ed7953"
            ],
            [
             0.7777777777777778,
             "#fb9f3a"
            ],
            [
             0.8888888888888888,
             "#fdca26"
            ],
            [
             1,
             "#f0f921"
            ]
           ]
          },
          "colorway": [
           "#636efa",
           "#EF553B",
           "#00cc96",
           "#ab63fa",
           "#FFA15A",
           "#19d3f3",
           "#FF6692",
           "#B6E880",
           "#FF97FF",
           "#FECB52"
          ],
          "font": {
           "color": "#2a3f5f"
          },
          "geo": {
           "bgcolor": "white",
           "lakecolor": "white",
           "landcolor": "#E5ECF6",
           "showlakes": true,
           "showland": true,
           "subunitcolor": "white"
          },
          "hoverlabel": {
           "align": "left"
          },
          "hovermode": "closest",
          "mapbox": {
           "style": "light"
          },
          "paper_bgcolor": "white",
          "plot_bgcolor": "#E5ECF6",
          "polar": {
           "angularaxis": {
            "gridcolor": "white",
            "linecolor": "white",
            "ticks": ""
           },
           "bgcolor": "#E5ECF6",
           "radialaxis": {
            "gridcolor": "white",
            "linecolor": "white",
            "ticks": ""
           }
          },
          "scene": {
           "xaxis": {
            "backgroundcolor": "#E5ECF6",
            "gridcolor": "white",
            "gridwidth": 2,
            "linecolor": "white",
            "showbackground": true,
            "ticks": "",
            "zerolinecolor": "white"
           },
           "yaxis": {
            "backgroundcolor": "#E5ECF6",
            "gridcolor": "white",
            "gridwidth": 2,
            "linecolor": "white",
            "showbackground": true,
            "ticks": "",
            "zerolinecolor": "white"
           },
           "zaxis": {
            "backgroundcolor": "#E5ECF6",
            "gridcolor": "white",
            "gridwidth": 2,
            "linecolor": "white",
            "showbackground": true,
            "ticks": "",
            "zerolinecolor": "white"
           }
          },
          "shapedefaults": {
           "line": {
            "color": "#2a3f5f"
           }
          },
          "ternary": {
           "aaxis": {
            "gridcolor": "white",
            "linecolor": "white",
            "ticks": ""
           },
           "baxis": {
            "gridcolor": "white",
            "linecolor": "white",
            "ticks": ""
           },
           "bgcolor": "#E5ECF6",
           "caxis": {
            "gridcolor": "white",
            "linecolor": "white",
            "ticks": ""
           }
          },
          "title": {
           "x": 0.05
          },
          "xaxis": {
           "automargin": true,
           "gridcolor": "white",
           "linecolor": "white",
           "ticks": "",
           "title": {
            "standoff": 15
           },
           "zerolinecolor": "white",
           "zerolinewidth": 2
          },
          "yaxis": {
           "automargin": true,
           "gridcolor": "white",
           "linecolor": "white",
           "ticks": "",
           "title": {
            "standoff": 15
           },
           "zerolinecolor": "white",
           "zerolinewidth": 2
          }
         }
        }
       }
      }
     },
     "metadata": {},
     "output_type": "display_data"
    }
   ],
   "source": [
    "labels = [[f'{i}R', f'not {i}R']for i in R]\n",
    "labels = [item for sublist in labels for item in sublist]\n",
    "\n",
    "color = ['#0f6349'] * len(labels)\n",
    "\n",
    "fig = go.Figure(\n",
    "    data=[\n",
    "        go.Sankey(\n",
    "            node=dict(\n",
    "                pad=15,\n",
    "                thickness=20,\n",
    "                line=dict(color=\"black\", width=0.5),\n",
    "                label=[\"All\"] + labels,\n",
    "                color=color,\n",
    "            ),\n",
    "            link=dict(\n",
    "                source=[0, 0, 1, 1, 3, 3, 5],  # , 5, 7, 7, 9, 9, 11, 11, 13, 13, 15, 15, 17, 17],\n",
    "                target=[1, 2, 3, 4, 5, 6, 7],  # , 8, 9, 10, 11, 12, 13, 14, 15, 16, 17, 18, 19, 20],\n",
    "                value=values,\n",
    "            ),\n",
    "        )\n",
    "    ]\n",
    ")\n",
    "\n",
    "# i = 0\n",
    "# for l, v in zip(['All'] + labels, values):\n",
    "#     print(f'{i} : {l} : {v}')\n",
    "#     i += 1\n",
    "\n",
    "fig.show()"
   ]
  },
  {
   "cell_type": "markdown",
   "metadata": {},
   "source": [
    "### Pie Charts"
   ]
  },
  {
   "cell_type": "code",
   "execution_count": 138,
   "metadata": {},
   "outputs": [
    {
     "name": "stdout",
     "output_type": "stream",
     "text": [
      "group_ix\n",
      "0    20342\n",
      "3     5807\n",
      "8     1962\n",
      "5      572\n",
      "4      490\n",
      "Name: count, dtype: int64\n"
     ]
    },
    {
     "data": {
      "image/png": "[encoded data removed]",
      "text/plain": [
       "<Figure size 800x400 with 2 Axes>"
      ]
     },
     "metadata": {},
     "output_type": "display_data"
    },
    {
     "name": "stdout",
     "output_type": "stream",
     "text": [
      "group_ix\n",
      "0     10637\n",
      "3      4953\n",
      "5       455\n",
      "4       432\n",
      "20      230\n",
      "Name: count, dtype: int64\n"
     ]
    },
    {
     "data": {
      "image/png": "[encoded data removed]",
      "text/plain": [
       "<Figure size 800x400 with 2 Axes>"
      ]
     },
     "metadata": {},
     "output_type": "display_data"
    },
    {
     "name": "stdout",
     "output_type": "stream",
     "text": [
      "group_ix\n",
      "0     2675\n",
      "3     1607\n",
      "4       99\n",
      "5       52\n",
      "38      48\n",
      "Name: count, dtype: int64\n"
     ]
    },
    {
     "data": {
      "image/png": "[encoded data removed]",
      "text/plain": [
       "<Figure size 800x400 with 2 Axes>"
      ]
     },
     "metadata": {},
     "output_type": "display_data"
    },
    {
     "name": "stdout",
     "output_type": "stream",
     "text": [
      "group_ix\n",
      "0     391\n",
      "3     365\n",
      "4       9\n",
      "39      9\n",
      "38      7\n",
      "Name: count, dtype: int64\n"
     ]
    },
    {
     "data": {
      "image/png": "[encoded data removed]",
      "text/plain": [
       "<Figure size 800x400 with 2 Axes>"
      ]
     },
     "metadata": {},
     "output_type": "display_data"
    }
   ],
   "source": [
    "# display all pie charts from groups_r \n",
    "top_n = 5\n",
    "\n",
    "for group in groups_r:\n",
    "    fig, ax = plt.subplots(1, 2, figsize=(8, 4))\n",
    "\n",
    "    ax[0].hist(group['stretch_seq'].apply(lambda x: len(x)), bins=100, edgecolor='black')\n",
    "    ax[1].pie(group['group_ix'].value_counts()[:top_n], labels=group['group_ix'].value_counts().index[:top_n], \n",
    "            explode=[0.1] + [0 for _ in range(len(group['group_ix'].unique()) - 1)][:top_n-1])\n",
    "\n",
    "    print(group['group_ix'].value_counts()[:top_n])\n",
    "    plt.show()"
   ]
  },
  {
   "cell_type": "code",
   "execution_count": 139,
   "metadata": {},
   "outputs": [
    {
     "data": {
      "text/plain": [
       "{'unassigned': 0,\n",
       " 'group_42': 1,\n",
       " 'group_38': 2,\n",
       " 'group_0': 3,\n",
       " 'group_1_0': 4,\n",
       " 'group_1_1': 5,\n",
       " 'group_58': 6,\n",
       " 'group_2': 7,\n",
       " 'group_1_2': 8,\n",
       " 'group_102': 9,\n",
       " 'group_21': 10,\n",
       " 'group_31': 11,\n",
       " 'group_3': 12,\n",
       " 'group_84': 13,\n",
       " 'group_14': 14,\n",
       " 'group_5': 15,\n",
       " 'group_85': 16,\n",
       " 'group_25': 17,\n",
       " 'group_39': 18,\n",
       " 'group_19': 19,\n",
       " 'group_4': 20,\n",
       " 'group_59': 21,\n",
       " 'group_73': 22,\n",
       " 'group_15': 23,\n",
       " 'group_8': 24,\n",
       " 'group_86': 25,\n",
       " 'group_66': 26,\n",
       " 'group_34': 27,\n",
       " 'group_1_3': 28,\n",
       " 'group_113': 29,\n",
       " 'group_10': 30,\n",
       " 'group_30': 31,\n",
       " 'group_51': 32,\n",
       " 'group_114': 33,\n",
       " 'group_17': 34,\n",
       " 'group_27': 35,\n",
       " 'group_11': 36,\n",
       " 'group_23': 37,\n",
       " 'group_12': 38,\n",
       " 'group_6': 39,\n",
       " 'group_77': 40,\n",
       " 'group_7': 41,\n",
       " 'group_28': 42,\n",
       " 'group_94': 43,\n",
       " 'group_1_4': 44,\n",
       " 'group_78': 45,\n",
       " 'group_35': 46,\n",
       " 'group_55': 47,\n",
       " 'group_103': 48,\n",
       " 'group_67': 49,\n",
       " 'group_60': 50,\n",
       " 'group_68': 51,\n",
       " 'group_26': 52,\n",
       " 'group_43': 53,\n",
       " 'group_24': 54,\n",
       " 'group_74': 55,\n",
       " 'group_63': 56,\n",
       " 'group_87': 57,\n",
       " 'group_104': 58,\n",
       " 'group_9': 59,\n",
       " 'group_22': 60,\n",
       " 'group_32': 61,\n",
       " 'group_64': 62,\n",
       " 'group_45': 63,\n",
       " 'group_88': 64,\n",
       " 'group_52': 65,\n",
       " 'group_115': 66,\n",
       " 'group_18': 67,\n",
       " 'group_89': 68,\n",
       " 'group_105': 69,\n",
       " 'group_16': 70,\n",
       " 'group_106': 71,\n",
       " 'group_13': 72,\n",
       " 'group_20': 73,\n",
       " 'group_46': 74,\n",
       " 'group_95': 75,\n",
       " 'group_54': 76,\n",
       " 'group_36': 77,\n",
       " 'group_37': 78,\n",
       " 'group_61': 79,\n",
       " 'group_116': 80,\n",
       " 'group_29': 81,\n",
       " 'group_53': 82,\n",
       " 'group_33': 83,\n",
       " 'group_75': 84,\n",
       " 'group_69': 85,\n",
       " 'group_90': 86,\n",
       " 'group_44': 87,\n",
       " 'group_1_5': 88,\n",
       " 'group_117': 89,\n",
       " 'group_91': 90,\n",
       " 'group_107': 91,\n",
       " 'group_56': 92,\n",
       " 'group_79': 93,\n",
       " 'group_47': 94,\n",
       " 'group_118': 95,\n",
       " 'group_92': 96,\n",
       " 'group_96': 97,\n",
       " 'group_119': 98,\n",
       " 'group_40': 99,\n",
       " 'group_120': 100,\n",
       " 'group_41': 101,\n",
       " 'group_57': 102,\n",
       " 'group_70': 103,\n",
       " 'group_97': 104,\n",
       " 'group_121': 105,\n",
       " 'group_98': 106,\n",
       " 'group_48': 107,\n",
       " 'group_122': 108,\n",
       " 'group_80': 109,\n",
       " 'group_123': 110,\n",
       " 'group_81': 111,\n",
       " 'group_62': 112,\n",
       " 'group_82': 113,\n",
       " 'group_124': 114,\n",
       " 'group_125': 115,\n",
       " 'group_108': 116,\n",
       " 'group_65': 117,\n",
       " 'group_99': 118,\n",
       " 'group_126': 119,\n",
       " 'group_127': 120,\n",
       " 'group_109': 121,\n",
       " 'group_128': 122,\n",
       " 'group_110': 123,\n",
       " 'group_71': 124,\n",
       " 'group_111': 125,\n",
       " 'group_76': 126,\n",
       " 'group_100': 127,\n",
       " 'group_129': 128,\n",
       " 'group_130': 129,\n",
       " 'group_93': 130,\n",
       " 'group_49': 131,\n",
       " 'group_72': 132,\n",
       " 'group_101': 133,\n",
       " 'group_131': 134,\n",
       " 'group_83': 135,\n",
       " 'group_50': 136,\n",
       " 'group_112': 137}"
      ]
     },
     "execution_count": 139,
     "metadata": {},
     "output_type": "execute_result"
    }
   ],
   "source": [
    "group_dict"
   ]
  },
  {
   "cell_type": "code",
   "execution_count": 140,
   "metadata": {},
   "outputs": [
    {
     "data": {
      "text/plain": [
       "{'a': 0.13707003172668447,\n",
       " 'l': 0.12070479843696787,\n",
       " 'v': 0.0975891304737493,\n",
       " 'i': 0.09278173116564198,\n",
       " 'g': 0.06899568015200129,\n",
       " 's': 0.06712792844467548,\n",
       " 't': 0.0589399343956694,\n",
       " 'e': 0.051723458029360625,\n",
       " 'd': 0.043040742798759614,\n",
       " 'k': 0.04300130850167596,\n",
       " 'q': 0.03937693810607826,\n",
       " 'n': 0.035616340138737025,\n",
       " 'p': 0.035282941081575224,\n",
       " 'f': 0.025944182544946136,\n",
       " 'm': 0.02591191812005951,\n",
       " 'r': 0.02185377045654161,\n",
       " 'y': 0.010174048647582857,\n",
       " 'w': 0.009751026187958199,\n",
       " 'h': 0.008826112674541576,\n",
       " 'c': 0.006287977916793633,\n",
       " 'u': 0.0,\n",
       " 'x': 0.0}"
      ]
     },
     "execution_count": 140,
     "metadata": {},
     "output_type": "execute_result"
    }
   ],
   "source": [
    "# calculate the frequency of each amino acid in the hendecad repeat\n",
    "group_4 = groups_r[-1]['stretch_seq']\n",
    "\n",
    "aa_freq = {aa: 0 for aa in aa_dict.keys()}\n",
    "total = 0\n",
    "\n",
    "for seq in group_4:\n",
    "    for aa in seq:\n",
    "        aa_freq[aa] += 1\n",
    "        total += 1\n",
    "\n",
    "aa_freq = {aa: freq/total for aa, freq in aa_freq.items()}\n",
    "aa_freq = dict(sorted(aa_freq.items(), key=lambda x: x[1], reverse=True))\n",
    "\n",
    "aa_freq\n"
   ]
  },
  {
   "cell_type": "markdown",
   "metadata": {},
   "source": [
    "### Sequence Properties"
   ]
  },
  {
   "cell_type": "code",
   "execution_count": 141,
   "metadata": {},
   "outputs": [],
   "source": [
    "# compute amino acid frequency for all groups\n",
    "amino_acids = ['A', 'C', 'D', 'E', 'F', 'G', 'H', 'I', 'K', 'L', 'M', 'N', 'P', 'Q', 'R', 'S', 'T', 'V', 'W', 'Y']\n",
    "repeat_numbers = [f'{i}R' for i in range(1, 11)]\n",
    "\n",
    "total_aa_freq = {aa: 0 for aa in amino_acids}\n",
    "total = 0\n",
    "\n",
    "property_df = pd.DataFrame(columns=['group'] +  \n",
    "                                    amino_acids +\n",
    "                                    repeat_numbers +\n",
    "                                    ['mean_length', 'std_length'])\n",
    "\n",
    "groups = df['group_id'].unique()\n",
    "for group in groups:\n",
    "    group_df = df[df['group_id'] == group]\n",
    "    \n",
    "    aa_freq = {aa: 0 for aa in amino_acids}\n",
    "    total = 0\n",
    "\n",
    "    for seq in group_df['stretch_seq']:\n",
    "        for aa in seq:\n",
    "            aa_freq[aa.upper()] += 1\n",
    "            total += 1\n",
    "\n",
    "    aa_freq = {aa: freq/total for aa, freq in aa_freq.items()}\n",
    "    # aa_freq = dict(sorted(aa_freq.items(), key=lambda x: x[1], reverse=True))\n",
    "    \n",
    "    mean_length = group_df['stretch_seq'].apply(lambda x: len(x)).mean()\n",
    "    std_length = group_df['stretch_seq'].apply(lambda x: len(x)).std()\n",
    "\n",
    "    # get number of repeats\n",
    "    # TODO Doublecheck\n",
    "    r_freq = {f'{i}R': 0 for i in range(1, 11)}\n",
    "\n",
    "    for i in range(1, 11):\n",
    "        pattern = r'[avilm].{2}[avilm].{3}[avilm].{3}' * i\n",
    "        len_pattern = 11 * i\n",
    "\n",
    "        res = []\n",
    "\n",
    "        for j in range(len(group_df)):\n",
    "            x, hits_ix = find_repeats(group_df.iloc[j]['stretch_seq'], pattern, len_pattern)\n",
    "\n",
    "            if hits_ix == 0:\n",
    "                res.append(x)\n",
    "            else:    \n",
    "                res.append(x)\n",
    "\n",
    "        r_freq[f'{i}R'] = sum(res) / len(res)\n",
    "\n",
    "    \n",
    "    total_aa_freq = {aa: total_aa_freq[aa] + aa_freq[aa] for aa in amino_acids}\n",
    "    \n",
    "    property_df.loc[len(property_df)] = {'group': group, **aa_freq, **r_freq, 'mean_length': mean_length, 'std_length': std_length}"
   ]
  },
  {
   "cell_type": "code",
   "execution_count": 142,
   "metadata": {},
   "outputs": [
    {
     "data": {
      "text/html": [
       "<div>\n",
       "<style scoped>\n",
       "    .dataframe tbody tr th:only-of-type {\n",
       "        vertical-align: middle;\n",
       "    }\n",
       "\n",
       "    .dataframe tbody tr th {\n",
       "        vertical-align: top;\n",
       "    }\n",
       "\n",
       "    .dataframe thead th {\n",
       "        text-align: right;\n",
       "    }\n",
       "</style>\n",
       "<table border=\"1\" class=\"dataframe\">\n",
       "  <thead>\n",
       "    <tr style=\"text-align: right;\">\n",
       "      <th></th>\n",
       "      <th>group</th>\n",
       "      <th>A</th>\n",
       "      <th>C</th>\n",
       "      <th>D</th>\n",
       "      <th>E</th>\n",
       "      <th>F</th>\n",
       "      <th>G</th>\n",
       "      <th>H</th>\n",
       "      <th>I</th>\n",
       "      <th>K</th>\n",
       "      <th>...</th>\n",
       "      <th>3R</th>\n",
       "      <th>4R</th>\n",
       "      <th>5R</th>\n",
       "      <th>6R</th>\n",
       "      <th>7R</th>\n",
       "      <th>8R</th>\n",
       "      <th>9R</th>\n",
       "      <th>10R</th>\n",
       "      <th>mean_length</th>\n",
       "      <th>std_length</th>\n",
       "    </tr>\n",
       "  </thead>\n",
       "  <tbody>\n",
       "    <tr>\n",
       "      <th>0</th>\n",
       "      <td>unassigned</td>\n",
       "      <td>0.123723</td>\n",
       "      <td>0.008173</td>\n",
       "      <td>0.059755</td>\n",
       "      <td>0.092798</td>\n",
       "      <td>0.020785</td>\n",
       "      <td>0.066104</td>\n",
       "      <td>0.019502</td>\n",
       "      <td>0.032454</td>\n",
       "      <td>0.070289</td>\n",
       "      <td>...</td>\n",
       "      <td>0.455490</td>\n",
       "      <td>0.245947</td>\n",
       "      <td>0.146350</td>\n",
       "      <td>0.094233</td>\n",
       "      <td>0.060241</td>\n",
       "      <td>0.041464</td>\n",
       "      <td>0.029699</td>\n",
       "      <td>0.021690</td>\n",
       "      <td>153.270665</td>\n",
       "      <td>108.561357</td>\n",
       "    </tr>\n",
       "    <tr>\n",
       "      <th>1</th>\n",
       "      <td>group_42</td>\n",
       "      <td>0.121358</td>\n",
       "      <td>0.004806</td>\n",
       "      <td>0.042055</td>\n",
       "      <td>0.069691</td>\n",
       "      <td>0.014419</td>\n",
       "      <td>0.049564</td>\n",
       "      <td>0.026434</td>\n",
       "      <td>0.043557</td>\n",
       "      <td>0.029438</td>\n",
       "      <td>...</td>\n",
       "      <td>0.172414</td>\n",
       "      <td>0.068966</td>\n",
       "      <td>0.034483</td>\n",
       "      <td>0.000000</td>\n",
       "      <td>0.000000</td>\n",
       "      <td>0.000000</td>\n",
       "      <td>0.000000</td>\n",
       "      <td>0.000000</td>\n",
       "      <td>114.793103</td>\n",
       "      <td>24.520224</td>\n",
       "    </tr>\n",
       "    <tr>\n",
       "      <th>2</th>\n",
       "      <td>group_38</td>\n",
       "      <td>0.246801</td>\n",
       "      <td>0.000000</td>\n",
       "      <td>0.059519</td>\n",
       "      <td>0.085886</td>\n",
       "      <td>0.008918</td>\n",
       "      <td>0.077549</td>\n",
       "      <td>0.019387</td>\n",
       "      <td>0.013765</td>\n",
       "      <td>0.069213</td>\n",
       "      <td>...</td>\n",
       "      <td>0.781250</td>\n",
       "      <td>0.531250</td>\n",
       "      <td>0.281250</td>\n",
       "      <td>0.218750</td>\n",
       "      <td>0.187500</td>\n",
       "      <td>0.125000</td>\n",
       "      <td>0.031250</td>\n",
       "      <td>0.031250</td>\n",
       "      <td>161.187500</td>\n",
       "      <td>52.959776</td>\n",
       "    </tr>\n",
       "    <tr>\n",
       "      <th>3</th>\n",
       "      <td>group_0</td>\n",
       "      <td>0.105091</td>\n",
       "      <td>0.001750</td>\n",
       "      <td>0.040017</td>\n",
       "      <td>0.038803</td>\n",
       "      <td>0.047893</td>\n",
       "      <td>0.086149</td>\n",
       "      <td>0.004022</td>\n",
       "      <td>0.109629</td>\n",
       "      <td>0.055793</td>\n",
       "      <td>...</td>\n",
       "      <td>1.627243</td>\n",
       "      <td>0.745514</td>\n",
       "      <td>0.447445</td>\n",
       "      <td>0.281832</td>\n",
       "      <td>0.191762</td>\n",
       "      <td>0.130063</td>\n",
       "      <td>0.091608</td>\n",
       "      <td>0.070244</td>\n",
       "      <td>209.047855</td>\n",
       "      <td>112.751568</td>\n",
       "    </tr>\n",
       "    <tr>\n",
       "      <th>4</th>\n",
       "      <td>group_1_0</td>\n",
       "      <td>0.153089</td>\n",
       "      <td>0.001720</td>\n",
       "      <td>0.062651</td>\n",
       "      <td>0.059756</td>\n",
       "      <td>0.031894</td>\n",
       "      <td>0.082124</td>\n",
       "      <td>0.008660</td>\n",
       "      <td>0.060263</td>\n",
       "      <td>0.067587</td>\n",
       "      <td>...</td>\n",
       "      <td>0.967433</td>\n",
       "      <td>0.507663</td>\n",
       "      <td>0.241379</td>\n",
       "      <td>0.145594</td>\n",
       "      <td>0.082375</td>\n",
       "      <td>0.047893</td>\n",
       "      <td>0.032567</td>\n",
       "      <td>0.021073</td>\n",
       "      <td>154.844828</td>\n",
       "      <td>59.943871</td>\n",
       "    </tr>\n",
       "  </tbody>\n",
       "</table>\n",
       "<p>5 rows × 33 columns</p>\n",
       "</div>"
      ],
      "text/plain": [
       "        group         A         C         D         E         F         G  \\\n",
       "0  unassigned  0.123723  0.008173  0.059755  0.092798  0.020785  0.066104   \n",
       "1    group_42  0.121358  0.004806  0.042055  0.069691  0.014419  0.049564   \n",
       "2    group_38  0.246801  0.000000  0.059519  0.085886  0.008918  0.077549   \n",
       "3     group_0  0.105091  0.001750  0.040017  0.038803  0.047893  0.086149   \n",
       "4   group_1_0  0.153089  0.001720  0.062651  0.059756  0.031894  0.082124   \n",
       "\n",
       "          H         I         K  ...        3R        4R        5R        6R  \\\n",
       "0  0.019502  0.032454  0.070289  ...  0.455490  0.245947  0.146350  0.094233   \n",
       "1  0.026434  0.043557  0.029438  ...  0.172414  0.068966  0.034483  0.000000   \n",
       "2  0.019387  0.013765  0.069213  ...  0.781250  0.531250  0.281250  0.218750   \n",
       "3  0.004022  0.109629  0.055793  ...  1.627243  0.745514  0.447445  0.281832   \n",
       "4  0.008660  0.060263  0.067587  ...  0.967433  0.507663  0.241379  0.145594   \n",
       "\n",
       "         7R        8R        9R       10R  mean_length  std_length  \n",
       "0  0.060241  0.041464  0.029699  0.021690   153.270665  108.561357  \n",
       "1  0.000000  0.000000  0.000000  0.000000   114.793103   24.520224  \n",
       "2  0.187500  0.125000  0.031250  0.031250   161.187500   52.959776  \n",
       "3  0.191762  0.130063  0.091608  0.070244   209.047855  112.751568  \n",
       "4  0.082375  0.047893  0.032567  0.021073   154.844828   59.943871  \n",
       "\n",
       "[5 rows x 33 columns]"
      ]
     },
     "execution_count": 142,
     "metadata": {},
     "output_type": "execute_result"
    }
   ],
   "source": [
    "property_df.head()"
   ]
  },
  {
   "cell_type": "code",
   "execution_count": 143,
   "metadata": {},
   "outputs": [
    {
     "data": {
      "text/plain": [
       "<Axes: >"
      ]
     },
     "execution_count": 143,
     "metadata": {},
     "output_type": "execute_result"
    },
    {
     "data": {
      "image/png": "[encoded data removed]",
      "text/plain": [
       "<Figure size 1200x800 with 2 Axes>"
      ]
     },
     "metadata": {},
     "output_type": "display_data"
    }
   ],
   "source": [
    "plt.figure(figsize=(12, 8))\n",
    "sns.heatmap(property_df.drop(columns=['group']).corr())"
   ]
  },
  {
   "cell_type": "code",
   "execution_count": 144,
   "metadata": {},
   "outputs": [
    {
     "data": {
      "image/png": "[encoded data removed]",
      "text/plain": [
       "<Figure size 640x480 with 2 Axes>"
      ]
     },
     "metadata": {},
     "output_type": "display_data"
    }
   ],
   "source": [
    "sns.heatmap(property_df[amino_acids], cmap='coolwarm')\n",
    "\n",
    "plt.show()"
   ]
  },
  {
   "cell_type": "code",
   "execution_count": 145,
   "metadata": {},
   "outputs": [
    {
     "data": {
      "text/plain": [
       "<Axes: >"
      ]
     },
     "execution_count": 145,
     "metadata": {},
     "output_type": "execute_result"
    },
    {
     "data": {
      "image/png": "[encoded data removed]",
      "text/plain": [
       "<Figure size 640x480 with 2 Axes>"
      ]
     },
     "metadata": {},
     "output_type": "display_data"
    }
   ],
   "source": [
    "sns.heatmap(property_df[repeat_numbers], cmap='coolwarm')"
   ]
  },
  {
   "cell_type": "markdown",
   "metadata": {},
   "source": [
    "### Sequence Motifs for xR"
   ]
  },
  {
   "cell_type": "code",
   "execution_count": 448,
   "metadata": {},
   "outputs": [
    {
     "data": {
      "text/html": [
       "<div>\n",
       "<style scoped>\n",
       "    .dataframe tbody tr th:only-of-type {\n",
       "        vertical-align: middle;\n",
       "    }\n",
       "\n",
       "    .dataframe tbody tr th {\n",
       "        vertical-align: top;\n",
       "    }\n",
       "\n",
       "    .dataframe thead th {\n",
       "        text-align: right;\n",
       "    }\n",
       "</style>\n",
       "<table border=\"1\" class=\"dataframe\">\n",
       "  <thead>\n",
       "    <tr style=\"text-align: right;\">\n",
       "      <th></th>\n",
       "      <th>id</th>\n",
       "      <th>seq</th>\n",
       "      <th>stretch_ix</th>\n",
       "      <th>stretch_seq</th>\n",
       "      <th>avg_cc</th>\n",
       "      <th>group_id</th>\n",
       "      <th>group_ix</th>\n",
       "      <th>1R</th>\n",
       "      <th>2R</th>\n",
       "      <th>3R</th>\n",
       "      <th>...</th>\n",
       "      <th>7R_ratio</th>\n",
       "      <th>8R_ratio</th>\n",
       "      <th>9R_ratio</th>\n",
       "      <th>10R_ratio</th>\n",
       "      <th>25R_ratio</th>\n",
       "      <th>50R_ratio</th>\n",
       "      <th>75R_ratio</th>\n",
       "      <th>100R_ratio</th>\n",
       "      <th>150R_ratio</th>\n",
       "      <th>168R_ratio</th>\n",
       "    </tr>\n",
       "  </thead>\n",
       "  <tbody>\n",
       "    <tr>\n",
       "      <th>334</th>\n",
       "      <td>XP_045614209.1</td>\n",
       "      <td>MTVKITATQVVRELAEKVIGSGSIQQGQPGDKVAIQISKDWRMAVV...</td>\n",
       "      <td>[188, 856]</td>\n",
       "      <td>dideysceyddyrhqmnnrlrlqcyeywrdgynsrvtnaysfnvtn...</td>\n",
       "      <td>0.000136</td>\n",
       "      <td>unassigned</td>\n",
       "      <td>0</td>\n",
       "      <td>106</td>\n",
       "      <td>99</td>\n",
       "      <td>95</td>\n",
       "      <td>...</td>\n",
       "      <td>0.133446</td>\n",
       "      <td>0.129088</td>\n",
       "      <td>0.126316</td>\n",
       "      <td>0.123435</td>\n",
       "      <td>0.088832</td>\n",
       "      <td>0.058824</td>\n",
       "      <td>0.0</td>\n",
       "      <td>0.0</td>\n",
       "      <td>0.0</td>\n",
       "      <td>0.0</td>\n",
       "    </tr>\n",
       "    <tr>\n",
       "      <th>357</th>\n",
       "      <td>CAG9130562.1</td>\n",
       "      <td>MSVGAAAASAGAAAASAGAAAASVGVTAAGEAAASVGALAASMGVA...</td>\n",
       "      <td>[50, 454]</td>\n",
       "      <td>aasvgapaagaaatsvgaaaadeaaasagapaaagaaapvapaatg...</td>\n",
       "      <td>0.000179</td>\n",
       "      <td>unassigned</td>\n",
       "      <td>0</td>\n",
       "      <td>123</td>\n",
       "      <td>63</td>\n",
       "      <td>32</td>\n",
       "      <td>...</td>\n",
       "      <td>0.021341</td>\n",
       "      <td>0.018927</td>\n",
       "      <td>0.016340</td>\n",
       "      <td>0.013559</td>\n",
       "      <td>0.000000</td>\n",
       "      <td>0.000000</td>\n",
       "      <td>0.0</td>\n",
       "      <td>0.0</td>\n",
       "      <td>0.0</td>\n",
       "      <td>0.0</td>\n",
       "    </tr>\n",
       "    <tr>\n",
       "      <th>538</th>\n",
       "      <td>EPQ16675.1</td>\n",
       "      <td>Madrglaqvsllaiadigldqvnplamadtglaqvsllaianigld...</td>\n",
       "      <td>[103, 736]</td>\n",
       "      <td>aivnmglaqvsplamvnmgmaqvsllavantnlpltivnmalaqvs...</td>\n",
       "      <td>0.000146</td>\n",
       "      <td>unassigned</td>\n",
       "      <td>0</td>\n",
       "      <td>142</td>\n",
       "      <td>2</td>\n",
       "      <td>0</td>\n",
       "      <td>...</td>\n",
       "      <td>0.000000</td>\n",
       "      <td>0.000000</td>\n",
       "      <td>0.000000</td>\n",
       "      <td>0.000000</td>\n",
       "      <td>0.000000</td>\n",
       "      <td>0.000000</td>\n",
       "      <td>0.0</td>\n",
       "      <td>0.0</td>\n",
       "      <td>0.0</td>\n",
       "      <td>0.0</td>\n",
       "    </tr>\n",
       "    <tr>\n",
       "      <th>545</th>\n",
       "      <td>WP_094907754.1</td>\n",
       "      <td>MASAGDIVANLKLKVDNFNSGIENAGRKASEFGDNFQRTADSMKNV...</td>\n",
       "      <td>[521, 1076]</td>\n",
       "      <td>ynaiktavtsgdftplfeavknlipmilsilmggiprlimmgaqli...</td>\n",
       "      <td>0.000171</td>\n",
       "      <td>group_0</td>\n",
       "      <td>3</td>\n",
       "      <td>140</td>\n",
       "      <td>70</td>\n",
       "      <td>37</td>\n",
       "      <td>...</td>\n",
       "      <td>0.008351</td>\n",
       "      <td>0.004274</td>\n",
       "      <td>0.002188</td>\n",
       "      <td>0.000000</td>\n",
       "      <td>0.000000</td>\n",
       "      <td>0.000000</td>\n",
       "      <td>0.0</td>\n",
       "      <td>0.0</td>\n",
       "      <td>0.0</td>\n",
       "      <td>0.0</td>\n",
       "    </tr>\n",
       "    <tr>\n",
       "      <th>950</th>\n",
       "      <td>XP_017730169.1</td>\n",
       "      <td>MCPGPVVPTERAKalwaeegsgprslcldtlspsslsrlgpaaspw...</td>\n",
       "      <td>[23, 1367]</td>\n",
       "      <td>rslcldtlspsslsrlgpaaspwlhflsivkeimskvpphheeeln...</td>\n",
       "      <td>0.000075</td>\n",
       "      <td>unassigned</td>\n",
       "      <td>0</td>\n",
       "      <td>159</td>\n",
       "      <td>39</td>\n",
       "      <td>0</td>\n",
       "      <td>...</td>\n",
       "      <td>0.000000</td>\n",
       "      <td>0.000000</td>\n",
       "      <td>0.000000</td>\n",
       "      <td>0.000000</td>\n",
       "      <td>0.000000</td>\n",
       "      <td>0.000000</td>\n",
       "      <td>0.0</td>\n",
       "      <td>0.0</td>\n",
       "      <td>0.0</td>\n",
       "      <td>0.0</td>\n",
       "    </tr>\n",
       "    <tr>\n",
       "      <th>...</th>\n",
       "      <td>...</td>\n",
       "      <td>...</td>\n",
       "      <td>...</td>\n",
       "      <td>...</td>\n",
       "      <td>...</td>\n",
       "      <td>...</td>\n",
       "      <td>...</td>\n",
       "      <td>...</td>\n",
       "      <td>...</td>\n",
       "      <td>...</td>\n",
       "      <td>...</td>\n",
       "      <td>...</td>\n",
       "      <td>...</td>\n",
       "      <td>...</td>\n",
       "      <td>...</td>\n",
       "      <td>...</td>\n",
       "      <td>...</td>\n",
       "      <td>...</td>\n",
       "      <td>...</td>\n",
       "      <td>...</td>\n",
       "      <td>...</td>\n",
       "    </tr>\n",
       "    <tr>\n",
       "      <th>39664</th>\n",
       "      <td>XP_046548570.1</td>\n",
       "      <td>MYISIMDVSCRVRLHNRQGTLGIQQLSRSHVSLHSLCSSYIKFDLP...</td>\n",
       "      <td>[212, 981]</td>\n",
       "      <td>slisvgltaligrrdidrrsflddlkkiaegilkevevvapkvies...</td>\n",
       "      <td>0.000117</td>\n",
       "      <td>unassigned</td>\n",
       "      <td>0</td>\n",
       "      <td>112</td>\n",
       "      <td>42</td>\n",
       "      <td>4</td>\n",
       "      <td>...</td>\n",
       "      <td>0.000000</td>\n",
       "      <td>0.000000</td>\n",
       "      <td>0.000000</td>\n",
       "      <td>0.000000</td>\n",
       "      <td>0.000000</td>\n",
       "      <td>0.000000</td>\n",
       "      <td>0.0</td>\n",
       "      <td>0.0</td>\n",
       "      <td>0.0</td>\n",
       "      <td>0.0</td>\n",
       "    </tr>\n",
       "    <tr>\n",
       "      <th>39692</th>\n",
       "      <td>WP_142087108.1</td>\n",
       "      <td>MAESYSVEAVMTADNSSMVAAFQEASNAASDMQAAIDNADMSGIAE...</td>\n",
       "      <td>[482, 942]</td>\n",
       "      <td>tqtdiatdmisvfkgemefseaienmaemvfewaenlqemamlaie...</td>\n",
       "      <td>0.000154</td>\n",
       "      <td>group_0</td>\n",
       "      <td>3</td>\n",
       "      <td>120</td>\n",
       "      <td>61</td>\n",
       "      <td>43</td>\n",
       "      <td>...</td>\n",
       "      <td>0.039062</td>\n",
       "      <td>0.029491</td>\n",
       "      <td>0.019337</td>\n",
       "      <td>0.008547</td>\n",
       "      <td>0.000000</td>\n",
       "      <td>0.000000</td>\n",
       "      <td>0.0</td>\n",
       "      <td>0.0</td>\n",
       "      <td>0.0</td>\n",
       "      <td>0.0</td>\n",
       "    </tr>\n",
       "    <tr>\n",
       "      <th>40159</th>\n",
       "      <td>DAX80435.1</td>\n",
       "      <td>MAEEGLSLGTAWIDVVPSFKGLKKRIEEELGALGTSAVTEASESWG...</td>\n",
       "      <td>[533, 930]</td>\n",
       "      <td>asggelttqiqtvisdmilnvskygmelvsnapqliasgaeavktl...</td>\n",
       "      <td>0.000181</td>\n",
       "      <td>group_0</td>\n",
       "      <td>3</td>\n",
       "      <td>108</td>\n",
       "      <td>48</td>\n",
       "      <td>17</td>\n",
       "      <td>...</td>\n",
       "      <td>0.000000</td>\n",
       "      <td>0.000000</td>\n",
       "      <td>0.000000</td>\n",
       "      <td>0.000000</td>\n",
       "      <td>0.000000</td>\n",
       "      <td>0.000000</td>\n",
       "      <td>0.0</td>\n",
       "      <td>0.0</td>\n",
       "      <td>0.0</td>\n",
       "      <td>0.0</td>\n",
       "    </tr>\n",
       "    <tr>\n",
       "      <th>40194</th>\n",
       "      <td>WP_025727707.1</td>\n",
       "      <td>MEENLRDMIVSINFDTDTSPVNDMTKAMREFSSSTDSTAREIVKSA...</td>\n",
       "      <td>[902, 1306]</td>\n",
       "      <td>tgkviaqsivqlkpsfvqlgqafgelfsaiaqiiptllplfmqlfq...</td>\n",
       "      <td>0.000178</td>\n",
       "      <td>group_0</td>\n",
       "      <td>3</td>\n",
       "      <td>109</td>\n",
       "      <td>66</td>\n",
       "      <td>47</td>\n",
       "      <td>...</td>\n",
       "      <td>0.079268</td>\n",
       "      <td>0.072555</td>\n",
       "      <td>0.065359</td>\n",
       "      <td>0.057627</td>\n",
       "      <td>0.000000</td>\n",
       "      <td>0.000000</td>\n",
       "      <td>0.0</td>\n",
       "      <td>0.0</td>\n",
       "      <td>0.0</td>\n",
       "      <td>0.0</td>\n",
       "    </tr>\n",
       "    <tr>\n",
       "      <th>40240</th>\n",
       "      <td>WP_214810927.1</td>\n",
       "      <td>MALREDQIIVDIMASADPLREINRRIDDVIRQVREMERTVNRTGGN...</td>\n",
       "      <td>[509, 980]</td>\n",
       "      <td>lttlyqnnekfrnvvtkawnnisdvaqkvfgflakyltpifneivq...</td>\n",
       "      <td>0.000150</td>\n",
       "      <td>group_0</td>\n",
       "      <td>3</td>\n",
       "      <td>116</td>\n",
       "      <td>59</td>\n",
       "      <td>33</td>\n",
       "      <td>...</td>\n",
       "      <td>0.022785</td>\n",
       "      <td>0.020833</td>\n",
       "      <td>0.018767</td>\n",
       "      <td>0.016575</td>\n",
       "      <td>0.000000</td>\n",
       "      <td>0.000000</td>\n",
       "      <td>0.0</td>\n",
       "      <td>0.0</td>\n",
       "      <td>0.0</td>\n",
       "      <td>0.0</td>\n",
       "    </tr>\n",
       "  </tbody>\n",
       "</table>\n",
       "<p>213 rows × 55 columns</p>\n",
       "</div>"
      ],
      "text/plain": [
       "                   id                                                seq  \\\n",
       "334    XP_045614209.1  MTVKITATQVVRELAEKVIGSGSIQQGQPGDKVAIQISKDWRMAVV...   \n",
       "357      CAG9130562.1  MSVGAAAASAGAAAASAGAAAASVGVTAAGEAAASVGALAASMGVA...   \n",
       "538        EPQ16675.1  Madrglaqvsllaiadigldqvnplamadtglaqvsllaianigld...   \n",
       "545    WP_094907754.1  MASAGDIVANLKLKVDNFNSGIENAGRKASEFGDNFQRTADSMKNV...   \n",
       "950    XP_017730169.1  MCPGPVVPTERAKalwaeegsgprslcldtlspsslsrlgpaaspw...   \n",
       "...               ...                                                ...   \n",
       "39664  XP_046548570.1  MYISIMDVSCRVRLHNRQGTLGIQQLSRSHVSLHSLCSSYIKFDLP...   \n",
       "39692  WP_142087108.1  MAESYSVEAVMTADNSSMVAAFQEASNAASDMQAAIDNADMSGIAE...   \n",
       "40159      DAX80435.1  MAEEGLSLGTAWIDVVPSFKGLKKRIEEELGALGTSAVTEASESWG...   \n",
       "40194  WP_025727707.1  MEENLRDMIVSINFDTDTSPVNDMTKAMREFSSSTDSTAREIVKSA...   \n",
       "40240  WP_214810927.1  MALREDQIIVDIMASADPLREINRRIDDVIRQVREMERTVNRTGGN...   \n",
       "\n",
       "        stretch_ix                                        stretch_seq  \\\n",
       "334     [188, 856]  dideysceyddyrhqmnnrlrlqcyeywrdgynsrvtnaysfnvtn...   \n",
       "357      [50, 454]  aasvgapaagaaatsvgaaaadeaaasagapaaagaaapvapaatg...   \n",
       "538     [103, 736]  aivnmglaqvsplamvnmgmaqvsllavantnlpltivnmalaqvs...   \n",
       "545    [521, 1076]  ynaiktavtsgdftplfeavknlipmilsilmggiprlimmgaqli...   \n",
       "950     [23, 1367]  rslcldtlspsslsrlgpaaspwlhflsivkeimskvpphheeeln...   \n",
       "...            ...                                                ...   \n",
       "39664   [212, 981]  slisvgltaligrrdidrrsflddlkkiaegilkevevvapkvies...   \n",
       "39692   [482, 942]  tqtdiatdmisvfkgemefseaienmaemvfewaenlqemamlaie...   \n",
       "40159   [533, 930]  asggelttqiqtvisdmilnvskygmelvsnapqliasgaeavktl...   \n",
       "40194  [902, 1306]  tgkviaqsivqlkpsfvqlgqafgelfsaiaqiiptllplfmqlfq...   \n",
       "40240   [509, 980]  lttlyqnnekfrnvvtkawnnisdvaqkvfgflakyltpifneivq...   \n",
       "\n",
       "         avg_cc    group_id  group_ix   1R  2R  3R  ...  7R_ratio  8R_ratio  \\\n",
       "334    0.000136  unassigned         0  106  99  95  ...  0.133446  0.129088   \n",
       "357    0.000179  unassigned         0  123  63  32  ...  0.021341  0.018927   \n",
       "538    0.000146  unassigned         0  142   2   0  ...  0.000000  0.000000   \n",
       "545    0.000171     group_0         3  140  70  37  ...  0.008351  0.004274   \n",
       "950    0.000075  unassigned         0  159  39   0  ...  0.000000  0.000000   \n",
       "...         ...         ...       ...  ...  ..  ..  ...       ...       ...   \n",
       "39664  0.000117  unassigned         0  112  42   4  ...  0.000000  0.000000   \n",
       "39692  0.000154     group_0         3  120  61  43  ...  0.039062  0.029491   \n",
       "40159  0.000181     group_0         3  108  48  17  ...  0.000000  0.000000   \n",
       "40194  0.000178     group_0         3  109  66  47  ...  0.079268  0.072555   \n",
       "40240  0.000150     group_0         3  116  59  33  ...  0.022785  0.020833   \n",
       "\n",
       "       9R_ratio  10R_ratio  25R_ratio  50R_ratio  75R_ratio  100R_ratio  \\\n",
       "334    0.126316   0.123435   0.088832   0.058824        0.0         0.0   \n",
       "357    0.016340   0.013559   0.000000   0.000000        0.0         0.0   \n",
       "538    0.000000   0.000000   0.000000   0.000000        0.0         0.0   \n",
       "545    0.002188   0.000000   0.000000   0.000000        0.0         0.0   \n",
       "950    0.000000   0.000000   0.000000   0.000000        0.0         0.0   \n",
       "...         ...        ...        ...        ...        ...         ...   \n",
       "39664  0.000000   0.000000   0.000000   0.000000        0.0         0.0   \n",
       "39692  0.019337   0.008547   0.000000   0.000000        0.0         0.0   \n",
       "40159  0.000000   0.000000   0.000000   0.000000        0.0         0.0   \n",
       "40194  0.065359   0.057627   0.000000   0.000000        0.0         0.0   \n",
       "40240  0.018767   0.016575   0.000000   0.000000        0.0         0.0   \n",
       "\n",
       "       150R_ratio  168R_ratio  \n",
       "334           0.0         0.0  \n",
       "357           0.0         0.0  \n",
       "538           0.0         0.0  \n",
       "545           0.0         0.0  \n",
       "950           0.0         0.0  \n",
       "...           ...         ...  \n",
       "39664         0.0         0.0  \n",
       "39692         0.0         0.0  \n",
       "40159         0.0         0.0  \n",
       "40194         0.0         0.0  \n",
       "40240         0.0         0.0  \n",
       "\n",
       "[213 rows x 55 columns]"
      ]
     },
     "execution_count": 448,
     "metadata": {},
     "output_type": "execute_result"
    }
   ],
   "source": [
    "df[df['1R'] > 100]"
   ]
  },
  {
   "cell_type": "code",
   "execution_count": 536,
   "metadata": {},
   "outputs": [
    {
     "data": {
      "image/png": "[encoded data removed]",
      "text/plain": [
       "<Figure size 2400x200 with 1 Axes>"
      ]
     },
     "metadata": {},
     "output_type": "display_data"
    }
   ],
   "source": [
    "test = df.iloc[40194]\n",
    "i = 2\n",
    "\n",
    "len_test = len(test['stretch_seq'])\n",
    "\n",
    "tmp = np.zeros(len_test)\n",
    "\n",
    "fig, ax = plt.subplots(figsize=(24, 2))\n",
    "\n",
    "for ix in test[f'{i}R_ix']:\n",
    "    tmp[ix[0]:ix[1]] += 1\n",
    "\n",
    "norm_tmp = tmp / np.max(tmp)\n",
    "\n",
    "ax.bar(np.arange(len_test), tmp, color='#9e1616', width=1.0)\n",
    "ax.set_yticks(np.arange(max(tmp)+1))\n",
    "\n",
    "\n",
    "plt.show()\n"
   ]
  },
  {
   "cell_type": "code",
   "execution_count": 546,
   "metadata": {},
   "outputs": [
    {
     "data": {
      "text/plain": [
       "'V**I***I***V**II**VI**'"
      ]
     },
     "execution_count": 546,
     "metadata": {},
     "output_type": "execute_result"
    }
   ],
   "source": [
    "from Bio import motifs\n",
    "from Bio.Seq import Seq\n",
    "test = df.iloc[40194]\n",
    "i = 2\n",
    "\n",
    "len_test = len(test['stretch_seq'])\n",
    "\n",
    "tmp = np.zeros(len_test)\n",
    "\n",
    "repeat_seq = [Seq(test['stretch_seq'][ix[0]:ix[1]].upper()) for ix in test[f'{i}R_ix']]\n",
    "\n",
    "repeat_seq\n",
    "\n",
    "m = motifs.create(repeat_seq, alphabet=''.join(amino_acids))\n",
    "\n",
    "motif = ''\n",
    "\n",
    "M = []\n",
    "for k, v in m.counts.items():\n",
    "    M.append(v)\n",
    "\n",
    "M = np.array(M)\n",
    "M = M / M.sum(axis=0)\n",
    "\n",
    "for i in range(M.shape[1]):\n",
    "    max_aa_value = np.max(M[:, i])\n",
    "    max_aa_ix = np.argmax(M[:, i])\n",
    "    max_aa = list(m.counts.keys())[max_aa_ix]\n",
    "\n",
    "    if max_aa_value > 0.3:\n",
    "        motif += max_aa\n",
    "    else:\n",
    "        motif += '*'\n",
    "\n",
    "motif"
   ]
  },
  {
   "cell_type": "code",
   "execution_count": null,
   "metadata": {},
   "outputs": [],
   "source": []
  }
 ],
 "metadata": {
  "kernelspec": {
   "display_name": "deepcoil",
   "language": "python",
   "name": "python3"
  },
  "language_info": {
   "codemirror_mode": {
    "name": "ipython",
    "version": 3
   },
   "file_extension": ".py",
   "mimetype": "text/x-python",
   "name": "python",
   "nbconvert_exporter": "python",
   "pygments_lexer": "ipython3",
   "version": "3.8.18"
  }
 },
 "nbformat": 4,
 "nbformat_minor": 2
}
