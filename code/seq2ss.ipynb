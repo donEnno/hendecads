{
 "cells": [
  {
   "cell_type": "code",
<<<<<<< HEAD
   "execution_count": 3,
=======
   "execution_count": 2,
>>>>>>> b0c42c7f75231cbbf2771219ea51defab449d828
   "metadata": {},
   "outputs": [
    {
     "name": "stderr",
     "output_type": "stream",
     "text": [
<<<<<<< HEAD
      "2024-03-15 12:16:12.562698: I tensorflow/core/platform/cpu_feature_guard.cc:182] This TensorFlow binary is optimized to use available CPU instructions in performance-critical operations.\n",
      "To enable the following instructions: SSE4.1 SSE4.2 AVX AVX2 FMA, in other operations, rebuild TensorFlow with the appropriate compiler flags.\n"
=======
      "2024-03-14 13:26:03.235930: I tensorflow/tsl/cuda/cudart_stub.cc:28] Could not find cuda drivers on your machine, GPU will not be used.\n",
      "2024-03-14 13:26:03.299588: I tensorflow/tsl/cuda/cudart_stub.cc:28] Could not find cuda drivers on your machine, GPU will not be used.\n",
      "2024-03-14 13:26:03.300837: I tensorflow/core/platform/cpu_feature_guard.cc:182] This TensorFlow binary is optimized to use available CPU instructions in performance-critical operations.\n",
      "To enable the following instructions: AVX2 FMA, in other operations, rebuild TensorFlow with the appropriate compiler flags.\n",
      "2024-03-14 13:26:05.306120: W tensorflow/compiler/tf2tensorrt/utils/py_utils.cc:38] TF-TRT Warning: Could not find TensorRT\n"
>>>>>>> b0c42c7f75231cbbf2771219ea51defab449d828
     ]
    }
   ],
   "source": [
    "import tensorflow as tf\n",
    "\n",
    "from keras import backend  as K\n",
    "from keras.models import Model\n",
    "from keras import Input\n",
    "from keras.layers import LSTM, Embedding, Dense, TimeDistributed, Bidirectional\n",
    "from keras.preprocessing.text import Tokenizer\n",
    "from keras.utils import to_categorical, pad_sequences\n",
    "\n",
    "from sklearn.model_selection import train_test_split\n",
    "from Bio import SeqIO\n",
    "\n",
    "import re\n",
    "\n",
    "import matplotlib.pyplot as plt\n",
    "import seaborn as sns\n",
    "import pandas as pd\n",
    "import numpy as np"
   ]
  },
  {
<<<<<<< HEAD
   "cell_type": "markdown",
   "metadata": {},
   "source": [
    "### Kaggle Dataet"
   ]
  },
  {
   "cell_type": "code",
   "execution_count": 8,
   "metadata": {},
=======
   "cell_type": "code",
   "execution_count": 16,
   "metadata": {},
>>>>>>> b0c42c7f75231cbbf2771219ea51defab449d828
   "outputs": [
    {
     "data": {
      "text/plain": [
<<<<<<< HEAD
       "2101"
      ]
     },
     "execution_count": 8,
=======
       "5515"
      ]
     },
     "execution_count": 16,
>>>>>>> b0c42c7f75231cbbf2771219ea51defab449d828
     "metadata": {},
     "output_type": "execute_result"
    }
   ],
   "source": [
    "# Data from https://www.kaggle.com/datasets/alfrandom/protein-secondary-structure\n",
    "\n",
    "MAX_SEQ_LEN = 256\n",
    "\n",
<<<<<<< HEAD
    "df = pd.read_csv('/home/enno/uni/SS23/thesis/data/ss_data/seq.csv')\n",
=======
    "df = pd.read_csv('/ebio/abt1_share/prediction_hendecads/data/seq2ss_data/seq.csv')\n",
>>>>>>> b0c42c7f75231cbbf2771219ea51defab449d828
    "df = df[(df.seq.str.len() <= MAX_SEQ_LEN) & (~df.has_nonstd_aa)]\n",
    "\n",
    "len(df)"
   ]
  },
  {
   "cell_type": "code",
<<<<<<< HEAD
   "execution_count": 9,
=======
   "execution_count": 17,
>>>>>>> b0c42c7f75231cbbf2771219ea51defab449d828
   "metadata": {},
   "outputs": [
    {
     "data": {
      "text/plain": [
       "<Axes: >"
      ]
     },
<<<<<<< HEAD
     "execution_count": 9,
=======
     "execution_count": 17,
>>>>>>> b0c42c7f75231cbbf2771219ea51defab449d828
     "metadata": {},
     "output_type": "execute_result"
    },
    {
     "data": {
<<<<<<< HEAD
      "image/png": "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",
=======
      "image/png": "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",
>>>>>>> b0c42c7f75231cbbf2771219ea51defab449d828
      "text/plain": [
       "<Figure size 640x480 with 1 Axes>"
      ]
     },
     "metadata": {},
     "output_type": "display_data"
    }
   ],
   "source": [
    "df.seq.apply(lambda x: len(x)).hist(bins=64, edgecolor='black', grid=False)"
   ]
  },
  {
   "cell_type": "markdown",
   "metadata": {},
   "source": [
    "### Hendecad Data"
   ]
  },
  {
   "cell_type": "code",
<<<<<<< HEAD
   "execution_count": 16,
   "metadata": {},
   "outputs": [],
   "source": [
    "input_file = \"/home/enno/uni/SS23/thesis/data/hendecads/sequences.fasta\"\n",
    "fasta_sequences = SeqIO.parse(open(input_file), 'fasta')\n",
    "\n",
    "n_seq = len(list(fasta_sequences))"
   ]
  },
  {
   "cell_type": "code",
   "execution_count": 81,
   "metadata": {},
   "outputs": [
    {
     "name": "stdout",
     "output_type": "stream",
     "text": [
      "Processing sequence 36455/36455\r"
     ]
    },
    {
     "data": {
      "text/html": [
       "<div>\n",
       "<style scoped>\n",
       "    .dataframe tbody tr th:only-of-type {\n",
       "        vertical-align: middle;\n",
       "    }\n",
       "\n",
       "    .dataframe tbody tr th {\n",
       "        vertical-align: top;\n",
       "    }\n",
       "\n",
       "    .dataframe thead th {\n",
       "        text-align: right;\n",
       "    }\n",
       "</style>\n",
       "<table border=\"1\" class=\"dataframe\">\n",
       "  <thead>\n",
       "    <tr style=\"text-align: right;\">\n",
       "      <th></th>\n",
       "      <th>id</th>\n",
       "      <th>seq</th>\n",
       "      <th>stretch_ix</th>\n",
       "    </tr>\n",
       "  </thead>\n",
       "  <tbody>\n",
       "    <tr>\n",
       "      <th>0</th>\n",
       "      <td>MCD6041253.1</td>\n",
       "      <td>Mrlvyvavaailcsfsttslagaektakragkfvektatragkfve...</td>\n",
       "      <td>[1, 2, 3, 4, 5, 6, 7, 8, 9, 10, 11, 12, 13, 14...</td>\n",
       "    </tr>\n",
       "    <tr>\n",
       "      <th>1</th>\n",
       "      <td>MCD7737945.1</td>\n",
       "      <td>MQGRVFFREAAALILAAALSMAGLPASAAANSGIEAAALRTeeete...</td>\n",
       "      <td>[41, 42, 43, 44, 45, 46, 47, 48, 49, 50, 51, 5...</td>\n",
       "    </tr>\n",
       "    <tr>\n",
       "      <th>2</th>\n",
       "      <td>MYF28459.1</td>\n",
       "      <td>Merlqtdllkeihalrgemhaefasvrqemhagfasirqemhaeta...</td>\n",
       "      <td>[1, 2, 3, 4, 5, 6, 7, 8, 9, 10, 11, 12, 13, 14...</td>\n",
       "    </tr>\n",
       "    <tr>\n",
       "      <th>3</th>\n",
       "      <td>WP_168920948.1</td>\n",
       "      <td>MSDVFLTASYADREKVKTLGARWNPAEKRWYVPSGRDLSPFAAWLP...</td>\n",
       "      <td>[437, 438, 439, 440, 441, 442, 443, 444, 445, ...</td>\n",
       "    </tr>\n",
       "    <tr>\n",
       "      <th>4</th>\n",
       "      <td>WP_026306873.1</td>\n",
       "      <td>MLLRRIARPLLSAAFIAEGIDILQNPGPLADRLSPALDFTRRRSQH...</td>\n",
       "      <td>[172, 173, 174, 175, 176, 177, 178, 179, 180, ...</td>\n",
       "    </tr>\n",
       "  </tbody>\n",
       "</table>\n",
       "</div>"
      ],
      "text/plain": [
       "               id                                                seq  \\\n",
       "0    MCD6041253.1  Mrlvyvavaailcsfsttslagaektakragkfvektatragkfve...   \n",
       "1    MCD7737945.1  MQGRVFFREAAALILAAALSMAGLPASAAANSGIEAAALRTeeete...   \n",
       "2      MYF28459.1  Merlqtdllkeihalrgemhaefasvrqemhagfasirqemhaeta...   \n",
       "3  WP_168920948.1  MSDVFLTASYADREKVKTLGARWNPAEKRWYVPSGRDLSPFAAWLP...   \n",
       "4  WP_026306873.1  MLLRRIARPLLSAAFIAEGIDILQNPGPLADRLSPALDFTRRRSQH...   \n",
       "\n",
       "                                          stretch_ix  \n",
       "0  [1, 2, 3, 4, 5, 6, 7, 8, 9, 10, 11, 12, 13, 14...  \n",
       "1  [41, 42, 43, 44, 45, 46, 47, 48, 49, 50, 51, 5...  \n",
       "2  [1, 2, 3, 4, 5, 6, 7, 8, 9, 10, 11, 12, 13, 14...  \n",
       "3  [437, 438, 439, 440, 441, 442, 443, 444, 445, ...  \n",
       "4  [172, 173, 174, 175, 176, 177, 178, 179, 180, ...  "
      ]
     },
     "execution_count": 81,
     "metadata": {},
     "output_type": "execute_result"
    }
   ],
   "source": [
    "max_len = 1024\n",
    "\n",
    "df = pd.DataFrame(columns=['id', 'seq', 'stretch_ix'])\n",
    "\n",
    "pattern = r'\\[\\[.*?\\]\\]'\n",
    "\n",
    "for seq_ix, seq in enumerate(SeqIO.parse(open(input_file), 'fasta')):\n",
    "    print(f\"Processing sequence {seq_ix+1}/{n_seq}\", end='\\r')\n",
    "\n",
    "    if len(seq.seq) > max_len:\n",
    "        continue\n",
    "    \n",
    "    s = str(seq.seq)\n",
    "    d = str(seq.description)\n",
    "    \n",
    "    stretches = eval(re.findall(pattern, d.split('|||')[-1])[0])\n",
    "\n",
    "    cc_ix = [x for stretch in stretches for x in np.arange(stretch[0], stretch[1]+1)]\n",
    "    \n",
    "    df.loc[len(df)] = [seq.id, s, cc_ix]\n",
    "        \n",
    "\n",
    "df.head()\n"
   ]
  },
  {
   "cell_type": "code",
   "execution_count": 82,
   "metadata": {},
   "outputs": [],
   "source": [
    "df['seq_mask'] = df['seq'].apply(lambda seq: ''.join(['C' if s_i.islower() else 'X' for s_i in seq]))"
   ]
  },
  {
   "cell_type": "code",
   "execution_count": 83,
=======
   "execution_count": 18,
>>>>>>> b0c42c7f75231cbbf2771219ea51defab449d828
   "metadata": {},
   "outputs": [],
   "source": [
    "tokenizer_in = Tokenizer(char_level=True)\n",
    "tokenizer_in.fit_on_texts(df.seq)\n",
    "vocab_size_in = len(tokenizer_in.word_index) + 1 \n",
    "\n",
    "X = tokenizer_in.texts_to_sequences(df.seq)\n",
    "X = pad_sequences(X, maxlen=max_len, padding='post')"
   ]
  },
  {
   "cell_type": "code",
<<<<<<< HEAD
   "execution_count": 84,
=======
   "execution_count": 19,
>>>>>>> b0c42c7f75231cbbf2771219ea51defab449d828
   "metadata": {},
   "outputs": [
    {
     "data": {
      "text/plain": [
<<<<<<< HEAD
       "((29039, 1024), (29039, 1024, 3))"
      ]
     },
     "execution_count": 84,
=======
       "((5515, 256), (5515, 256, 4))"
      ]
     },
     "execution_count": 19,
>>>>>>> b0c42c7f75231cbbf2771219ea51defab449d828
     "metadata": {},
     "output_type": "execute_result"
    }
   ],
   "source": [
    "tokenizer_out = Tokenizer(char_level=True)\n",
    "tokenizer_out.fit_on_texts(df.seq_mask)\n",
    "vocab_size_out = len(tokenizer_out.word_index) + 1\n",
    "\n",
    "y = tokenizer_out.texts_to_sequences(df.seq_mask)\n",
    "y = pad_sequences(y, maxlen=max_len, padding='post')\n",
    "y = to_categorical(y)\n",
    "\n",
    "X.shape, y.shape"
   ]
  },
  {
   "cell_type": "code",
<<<<<<< HEAD
   "execution_count": 85,
=======
   "execution_count": 20,
>>>>>>> b0c42c7f75231cbbf2771219ea51defab449d828
   "metadata": {},
   "outputs": [],
   "source": [
    "X_train, X_, y_train, y_ = train_test_split(X, y, test_size=0.2, random_state=42, shuffle=True)\n",
    "X_val, X_test, y_val, y_test = train_test_split(X_, y_, test_size=0.5, random_state=42, shuffle=True)"
   ]
  },
  {
   "cell_type": "code",
<<<<<<< HEAD
   "execution_count": 86,
=======
   "execution_count": 21,
>>>>>>> b0c42c7f75231cbbf2771219ea51defab449d828
   "metadata": {},
   "outputs": [
    {
     "name": "stdout",
     "output_type": "stream",
     "text": [
<<<<<<< HEAD
      "21 3\n",
      "Model: \"model_2\"\n",
      "_________________________________________________________________\n",
      " Layer (type)                Output Shape              Param #   \n",
      "=================================================================\n",
      " input_4 (InputLayer)        [(None, 1024)]            0         \n",
      "                                                                 \n",
      " embedding_2 (Embedding)     (None, 1024, 128)         2688      \n",
      "                                                                 \n",
      " bidirectional_2 (Bidirecti  (None, 1024, 128)         98816     \n",
      " onal)                                                           \n",
      "                                                                 \n",
      " time_distributed_2 (TimeDi  (None, 1024, 3)           387       \n",
=======
      "21 4\n",
      "Model: \"model_1\"\n",
      "_________________________________________________________________\n",
      " Layer (type)                Output Shape              Param #   \n",
      "=================================================================\n",
      " input_2 (InputLayer)        [(None, 256)]             0         \n",
      "                                                                 \n",
      " embedding_1 (Embedding)     (None, 256, 128)          2688      \n",
      "                                                                 \n",
      " bidirectional_1 (Bidirecti  (None, 256, 128)          98816     \n",
      " onal)                                                           \n",
      "                                                                 \n",
      " time_distributed_1 (TimeDi  (None, 256, 4)            516       \n",
>>>>>>> b0c42c7f75231cbbf2771219ea51defab449d828
      " stributed)                                                      \n",
      "                                                                 \n",
      "=================================================================\n",
      "Total params: 101891 (398.01 KB)\n",
      "Trainable params: 101891 (398.01 KB)\n",
      "Non-trainable params: 0 (0.00 Byte)\n",
      "_________________________________________________________________\n"
     ]
    }
   ],
   "source": [
    "n_words = len(tokenizer_in.word_index) + 1\n",
    "n_tags = len(tokenizer_out.word_index) + 1\n",
    "print(n_words, n_tags)\n",
    "\n",
    "input = Input(shape=(max_len,))\n",
    "mbed = Embedding(input_dim=n_words, output_dim=128, input_length=max_len)(input)\n",
    "comp = Bidirectional(LSTM(units=64, return_sequences=True, recurrent_dropout=0.1))(mbed)\n",
    "final_comp = TimeDistributed(Dense(n_tags, activation=\"softmax\"))(comp)\n",
    "model = Model(input, final_comp)\n",
    "model.summary()"
   ]
  },
  {
   "cell_type": "code",
<<<<<<< HEAD
   "execution_count": 87,
=======
   "execution_count": 22,
>>>>>>> b0c42c7f75231cbbf2771219ea51defab449d828
   "metadata": {},
   "outputs": [
    {
     "name": "stdout",
     "output_type": "stream",
     "text": [
      "Epoch 1/10\n",
      "69/69 [==============================] - 30s 370ms/step - loss: 0.6747 - accuracy: 0.6770 - q3_acc: 0.4546 - val_loss: 0.5670 - val_accuracy: 0.7375 - val_q3_acc: 0.5377\n",
      "Epoch 2/10\n",
      "69/69 [==============================] - 25s 358ms/step - loss: 0.5348 - accuracy: 0.7538 - q3_acc: 0.5761 - val_loss: 0.4984 - val_accuracy: 0.7729 - val_q3_acc: 0.6000\n",
      "Epoch 3/10\n",
      "69/69 [==============================] - 18s 265ms/step - loss: 0.5023 - accuracy: 0.7707 - q3_acc: 0.6052 - val_loss: 0.4960 - val_accuracy: 0.7728 - val_q3_acc: 0.5998\n",
      "Epoch 4/10\n",
      "69/69 [==============================] - 16s 235ms/step - loss: 0.4929 - accuracy: 0.7759 - q3_acc: 0.6141 - val_loss: 0.4875 - val_accuracy: 0.7777 - val_q3_acc: 0.6084\n",
      "Epoch 5/10\n",
      "69/69 [==============================] - 16s 236ms/step - loss: 0.4862 - accuracy: 0.7800 - q3_acc: 0.6212 - val_loss: 0.4722 - val_accuracy: 0.7875 - val_q3_acc: 0.6258\n",
      "Epoch 6/10\n",
      "69/69 [==============================] - 16s 236ms/step - loss: 0.4793 - accuracy: 0.7845 - q3_acc: 0.6290 - val_loss: 0.4856 - val_accuracy: 0.7803 - val_q3_acc: 0.6131\n",
      "Epoch 7/10\n",
      "69/69 [==============================] - 16s 235ms/step - loss: 0.4741 - accuracy: 0.7874 - q3_acc: 0.6339 - val_loss: 0.4880 - val_accuracy: 0.7802 - val_q3_acc: 0.6128\n",
      "Epoch 8/10\n",
      "69/69 [==============================] - 16s 235ms/step - loss: 0.4707 - accuracy: 0.7893 - q3_acc: 0.6373 - val_loss: 0.4634 - val_accuracy: 0.7941 - val_q3_acc: 0.6373\n",
      "Epoch 9/10\n",
      "69/69 [==============================] - 16s 236ms/step - loss: 0.4678 - accuracy: 0.7913 - q3_acc: 0.6406 - val_loss: 0.4685 - val_accuracy: 0.7922 - val_q3_acc: 0.6340\n",
      "Epoch 10/10\n",
      "69/69 [==============================] - 16s 234ms/step - loss: 0.4640 - accuracy: 0.7936 - q3_acc: 0.6446 - val_loss: 0.4583 - val_accuracy: 0.7963 - val_q3_acc: 0.6412\n"
     ]
    },
    {
     "data": {
      "text/plain": [
       "<keras.src.callbacks.History at 0x7ff78a8c22e0>"
      ]
     },
     "execution_count": 22,
     "metadata": {},
     "output_type": "execute_result"
    }
   ],
   "source": [
    "def q3_acc(y_true, y_pred):\n",
    "    y = tf.argmax(y_true, axis=-1)\n",
    "    y_ = tf.argmax(y_pred, axis=-1)\n",
    "    mask = tf.greater(y, 0)\n",
    "    return K.cast(K.equal(tf.boolean_mask(y, mask), tf.boolean_mask(y_, mask)), K.floatx())"
   ]
  },
  {
   "cell_type": "code",
   "execution_count": 88,
   "metadata": {},
   "outputs": [
    {
     "name": "stdout",
     "output_type": "stream",
     "text": [
      "Epoch 1/5\n",
      "182/182 [==============================] - 337s 2s/step - loss: 0.3172 - accuracy: 0.7927 - q3_acc: 0.5170 - val_loss: 0.2867 - val_accuracy: 0.8151 - val_q3_acc: 0.5559\n",
      "Epoch 2/5\n",
      "125/182 [===================>..........] - ETA: 1:42 - loss: 0.2890 - accuracy: 0.8151 - q3_acc: 0.5627"
     ]
    }
   ],
   "source": [
    "model.compile(optimizer=\"rmsprop\", loss=\"categorical_crossentropy\", metrics=[\"accuracy\", q3_acc])\n",
    "\n",
    "model.fit(X_train, y_train, batch_size=64, epochs=10, validation_data=(X_test, y_test), verbose=1)"
   ]
  },
  {
   "cell_type": "code",
<<<<<<< HEAD
   "execution_count": 27,
=======
   "execution_count": 23,
>>>>>>> b0c42c7f75231cbbf2771219ea51defab449d828
   "metadata": {},
   "outputs": [
    {
     "name": "stdout",
     "output_type": "stream",
     "text": [
<<<<<<< HEAD
      "32/32 [==============================] - 1s 43ms/step - loss: 0.3017 - accuracy: 0.8693 - q3_acc: 0.7961\n"
=======
      "18/18 [==============================] - 1s 65ms/step - loss: 0.4486 - accuracy: 0.8014 - q3_acc: 0.6476\n"
>>>>>>> b0c42c7f75231cbbf2771219ea51defab449d828
     ]
    },
    {
     "data": {
      "text/plain": [
<<<<<<< HEAD
       "[0.30165258049964905, 0.8693004846572876, 0.7960553169250488]"
      ]
     },
     "execution_count": 27,
=======
       "[0.4485877454280853, 0.8013980388641357, 0.6475650072097778]"
      ]
     },
     "execution_count": 23,
>>>>>>> b0c42c7f75231cbbf2771219ea51defab449d828
     "metadata": {},
     "output_type": "execute_result"
    }
   ],
   "source": [
    "model.evaluate(X_val, y_val)"
   ]
  },
  {
   "cell_type": "code",
<<<<<<< HEAD
   "execution_count": 40,
=======
   "execution_count": 24,
>>>>>>> b0c42c7f75231cbbf2771219ea51defab449d828
   "metadata": {},
   "outputs": [
    {
     "data": {
      "text/plain": [
       "{'c': 1, 'x': 2}"
      ]
     },
<<<<<<< HEAD
     "execution_count": 40,
=======
     "execution_count": 24,
>>>>>>> b0c42c7f75231cbbf2771219ea51defab449d828
     "metadata": {},
     "output_type": "execute_result"
    }
   ],
   "source": [
    "tokenizer_out.word_index"
   ]
  },
  {
   "cell_type": "code",
<<<<<<< HEAD
   "execution_count": 45,
=======
   "execution_count": 25,
>>>>>>> b0c42c7f75231cbbf2771219ea51defab449d828
   "metadata": {},
   "outputs": [],
   "source": [
    "def plot_prediction(i):\n",
    "    p1 = np.argmax(model.predict(X_test[i:i+1]), axis=-1)[0]\n",
    "    y1 = np.argmax(y_test[i:i+1], axis=-1)[0]\n",
    "    \n",
    "    c = np.array([p1, y1])\n",
    "\n",
    "    _, ax = plt.subplots(figsize=(16, 1))\n",
    "\n",
    "    sns.heatmap(c, ax=ax, cmap='viridis', xticklabels=[], linewidths=.55, linecolor='black', cbar=False)\n",
    "    ax.set_yticklabels(['Predicted', 'True'], rotation=0)\n",
    "    \n",
    "    labels = ['P', 'C', 'X']\n",
    "    colors = ['#440154', '#21918c', '#fde725']\n",
    "    patches = [plt.Rectangle((0, 0), 1, 1, color=color) for color in colors]\n",
    "    ax.legend(patches, labels, loc='center left', bbox_to_anchor=(1, 0.5))\n",
    "    \n",
    "    plt.show()"
   ]
  },
  {
   "cell_type": "code",
<<<<<<< HEAD
   "execution_count": 46,
=======
   "execution_count": 26,
>>>>>>> b0c42c7f75231cbbf2771219ea51defab449d828
   "metadata": {},
   "outputs": [
    {
     "name": "stdout",
     "output_type": "stream",
     "text": [
<<<<<<< HEAD
      "1/1 [==============================] - 0s 68ms/step\n"
=======
      "1/1 [==============================] - 1s 720ms/step\n"
>>>>>>> b0c42c7f75231cbbf2771219ea51defab449d828
     ]
    },
    {
     "data": {
<<<<<<< HEAD
      "image/png": "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",
=======
      "image/png": "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",
>>>>>>> b0c42c7f75231cbbf2771219ea51defab449d828
      "text/plain": [
       "<Figure size 1600x100 with 1 Axes>"
      ]
     },
     "metadata": {},
     "output_type": "display_data"
    }
   ],
   "source": [
    "plot_prediction(0)"
   ]
  },
  {
   "cell_type": "code",
<<<<<<< HEAD
   "execution_count": 47,
=======
   "execution_count": 27,
>>>>>>> b0c42c7f75231cbbf2771219ea51defab449d828
   "metadata": {},
   "outputs": [
    {
     "name": "stdout",
     "output_type": "stream",
     "text": [
<<<<<<< HEAD
      "1/1 [==============================] - 0s 50ms/step\n"
=======
      "1/1 [==============================] - 0s 57ms/step\n"
>>>>>>> b0c42c7f75231cbbf2771219ea51defab449d828
     ]
    },
    {
     "data": {
<<<<<<< HEAD
      "image/png": "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",
      "text/plain": [
       "<Figure size 1600x100 with 1 Axes>"
      ]
     },
     "metadata": {},
     "output_type": "display_data"
    }
   ],
   "source": [
    "plot_prediction(1)"
   ]
  },
  {
   "cell_type": "code",
   "execution_count": 52,
   "metadata": {},
   "outputs": [
    {
     "name": "stdout",
     "output_type": "stream",
     "text": [
      "1/1 [==============================] - 0s 46ms/step\n"
     ]
    },
    {
     "data": {
      "image/png": "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",
=======
      "image/png": "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",
>>>>>>> b0c42c7f75231cbbf2771219ea51defab449d828
      "text/plain": [
       "<Figure size 1600x100 with 1 Axes>"
      ]
     },
     "metadata": {},
     "output_type": "display_data"
    }
   ],
   "source": [
    "plot_prediction(2)"
   ]
  },
  {
   "cell_type": "code",
<<<<<<< HEAD
   "execution_count": 76,
=======
   "execution_count": 28,
>>>>>>> b0c42c7f75231cbbf2771219ea51defab449d828
   "metadata": {},
   "outputs": [
    {
     "name": "stdout",
     "output_type": "stream",
     "text": [
<<<<<<< HEAD
      "1/1 [==============================] - 0s 58ms/step\n"
=======
      "1/1 [==============================] - 0s 63ms/step\n"
>>>>>>> b0c42c7f75231cbbf2771219ea51defab449d828
     ]
    },
    {
     "data": {
<<<<<<< HEAD
      "image/png": "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",
=======
      "image/png": "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",
>>>>>>> b0c42c7f75231cbbf2771219ea51defab449d828
      "text/plain": [
       "<Figure size 800x600 with 1 Axes>"
      ]
     },
     "metadata": {},
     "output_type": "display_data"
    }
   ],
   "source": [
<<<<<<< HEAD
=======
    "plot_prediction(3)"
   ]
  },
  {
   "cell_type": "code",
   "execution_count": 29,
   "metadata": {},
   "outputs": [
    {
     "name": "stdout",
     "output_type": "stream",
     "text": [
      "1/1 [==============================] - 0s 57ms/step\n"
     ]
    },
    {
     "data": {
      "image/png": "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",
      "text/plain": [
       "<Figure size 1600x100 with 1 Axes>"
      ]
     },
     "metadata": {},
     "output_type": "display_data"
    }
   ],
   "source": [
    "plot_prediction(4)"
   ]
  },
  {
   "cell_type": "code",
   "execution_count": 32,
   "metadata": {},
   "outputs": [],
   "source": [
>>>>>>> b0c42c7f75231cbbf2771219ea51defab449d828
    "def plot_confusion_matrix(i):\n",
    "    p1 = np.argmax(model.predict(X_test[i:i+1]), axis=-1)[0]\n",
    "    y1 = np.argmax(y_test[i:i+1], axis=-1)[0]\n",
    "    \n",
    "    p1 = p1[y1 > 0]\n",
    "    y1 = y1[y1 > 0]\n",
    "\n",
    "    c = np.zeros((2, 2), dtype=int)\n",
    "    for i in range(1, 3):\n",
    "        for j in range(1, 3):\n",
    "            c[i-1, j-1] = int(np.sum((p1 == i) & (y1 == j)))\n",
    "        \n",
    "    _, ax = plt.subplots(figsize=(8, 6))\n",
    "    sns.heatmap(c, annot=True, fmt='d', linewidths=1, linecolor='black', cbar=False)\n",
    "\n",
<<<<<<< HEAD
    "    ax.set_xticklabels(['C', 'X'])\n",
    "    ax.set_yticklabels(['C', 'X'], rotation=0)\n",
=======
    "    ax.set_xticklabels(['C', 'H', 'E'])\n",
    "    ax.set_yticklabels(['C', 'H', 'E'], rotation=0)\n",
    "    \n",
    "    for i in range(3):\n",
    "        for j in range(3):\n",
    "            ax.text(j + 0.5, i + 0.5, str(int(c[i, j])), ha='center', va='center', color='white')\n",
>>>>>>> b0c42c7f75231cbbf2771219ea51defab449d828
    "\n",
    "    plt.show()\n",
    "    \n",
    "plot_confusion_matrix(2)\n"
   ]
  },
  {
   "cell_type": "code",
<<<<<<< HEAD
   "execution_count": 80,
=======
   "execution_count": 33,
>>>>>>> b0c42c7f75231cbbf2771219ea51defab449d828
   "metadata": {},
   "outputs": [
    {
     "name": "stdout",
     "output_type": "stream",
     "text": [
<<<<<<< HEAD
      "1/1 [==============================] - 0s 47ms/step\n"
=======
      "1/1 [==============================] - 0s 62ms/step\n"
>>>>>>> b0c42c7f75231cbbf2771219ea51defab449d828
     ]
    },
    {
     "data": {
<<<<<<< HEAD
      "image/png": "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",
      "text/plain": [
       "<Figure size 1600x100 with 1 Axes>"
      ]
     },
     "metadata": {},
     "output_type": "display_data"
    }
   ],
   "source": [
    "plot_prediction(66)"
   ]
  },
  {
   "cell_type": "code",
   "execution_count": 78,
   "metadata": {},
   "outputs": [
    {
     "name": "stdout",
     "output_type": "stream",
     "text": [
      "1/1 [==============================] - 0s 49ms/step\n"
     ]
    },
    {
     "data": {
      "image/png": "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",
=======
      "image/png": "iVBORw0KGgoAAAANSUhEUgAAApQAAAH5CAYAAAA/Ta4lAAAAOXRFWHRTb2Z0d2FyZQBNYXRwbG90bGliIHZlcnNpb24zLjcuNSwgaHR0cHM6Ly9tYXRwbG90bGliLm9yZy/xnp5ZAAAACXBIWXMAAA9hAAAPYQGoP6dpAAAcsklEQVR4nO3dfZjVBZ338e+ZAUaYYWaceBCVSETxliBXS0XMZPcOcFPMu1zbvb1XsrJNbss0a6HS1BSNnlZC0nWz2kLd0pXELsowXbNVUyRFQUUdHofnJwEdZObcf2w7e88lucx8ld+MvV7Xda7rnN854+/zz+l695tzhlK5XC4HAAB0UkXRAwAA6N4EJQAAKYISAIAUQQkAQIqgBAAgRVACAJAiKAEASBGUAACk9CjqxKVSqahTAwCwF/b2379xhRIAgJTCrlD+p13rny96AnQbvfof2nb/A4P/ssAl0H3cveLnbfcvHHJWgUuge/n2stv2+rWuUAIAkCIoAQBIEZQAAKQISgAAUgQlAAApghIAgBRBCQBAiqAEACBFUAIAkCIoAQBIEZQAAKQISgAAUgQlAAApghIAgBRBCQBAiqAEACBFUAIAkCIoAQBIEZQAAKQISgAAUgQlAAApghIAgBRBCQBAiqAEACBFUAIAkCIoAQBIEZQAAKQISgAAUgQlAAApghIAgBRBCQBAiqAEACBFUAIAkCIoAQBIEZQAAKQISgAAUgQlAAApghIAgBRBCQBAiqAEACBFUAIAkCIoAQBIEZQAAKQISgAAUgQlAAApghIAgBRBCQBAiqAEACBFUAIAkCIoAQBIEZQAAKQISgAAUgQlAAApghIAgBRBCQBAiqAEACBFUAIAkCIoAQBIEZQAAKQISgAAUgQlAAApghIAgBRBCQBAiqAEACBFUAIAkCIoAQBIEZQAAKQISgAAUgQlAAApnQrKNWvWxAUXXBBDhw6NqqqqGDx4cJx22mkxf/78N3ofb5LHlqyInv2Gtrut2dmj7fnV6zbFUys2x/bK/aN5vwGxaNnG2LT1pQIXQ9dw6jmnxj8/9qP42Yt3xdzld8fffv6cP/ra6381K+Yuvzum3vjFfbgQup4TzxkfV/zuu/GN52fHtxpvjQ98/iPtnh94+MEx9b5vxzeenx3ffPGWuHLBjXHYmHcWtJbO6HBQNjY2xjHHHBP33ntvTJ8+PZ588smYN29ejB07NiZPnvxmbORN0tjYGGuXLmy77bd7S0RE7HylOXrWDYooR2xc8UyseWFRlCoqY1tL72htbS12NBSsuq4mVr+4Ou644fbXfd2kv58UAwcPjNaWln20DLqu3rXVsb5xTfz6xrv2+PyFd1wZNQ21ccsls+KGSdNi+8Zt8ckfTInqhr77eCmd1eO/f0l7559/fpRKpXjkkUeiurq67fiIESPi3HPPfUPH8eZqbW2Jhvra1xxvXLU+3vnuw6N3y5ao6bN/RERs3/Fy1A0eFosefTD+x9CD9vVU6DJuu+7WuO26WyMi4sPnn7nH1wx757A445P/K64+76qYeoOrk3DPjDvinhl3RETEX3zq9HbPDX/vqNivpnf808enx6JfPRYREdMf+HxMX/qjmDj17Ljlc7P2+V46rkNXKDdt2hTz5s2LyZMnt4vJ/1RfX/9G7WIfGDTowNha7hvrd+0XT7y4PtZt3BIREa3lcpTL5ejV47/+/0avnj2itbU1du5yhRJeT0VFRVw5+6vx8C8fiofvebjoOdDl9epTFRERr2x/ue1Ya2trRLkch7x7eFGz6KAOBeXSpUujXC7HEUcc0aGTNDc3x7Zt29rdKNZ+PSOefvzh2Nz0QqxfsTRq+tZFZd2BsWPnK3HQgP3jlZdfjkWN6+Ll5ubY+UpzPLVsffTo0SMqe/Qsejp0aZf94CtRLpfj6k9eXfQU6BYW3//7aNndEn/zzfNj/4P6R68+veITN38hKioro3ftay9e0TV16Ffe5XK5UyeZNm1aXH755Z36Wd4cIw4d3O7xSzt2Rq/q6nh66eL4syOGxNNPPx6DhxwaNYMGRWtra1Q0bYvn//B/KIA9e98ZJ8efnfhnceGpnyl6CnQbu1/ZFbMvvj7OuvaTcemDM6JcLseOzS/FSxu3RilKRc9jL3UoKA877LAolUqxZMmSDp1kypQpcdFFF7U7VldX16H/Bm+uvtV9YtmapmgtVUZExJGHHhwRzbGxcVFUVlbEuw7pH9tKdbG+aWWxQ6ELG3PKmChVlOIffn5d27FSqRSjx4+OOS/8LE4fOrHAddB1LZjzYCyY82DUDWqIXr2rYv0LTXHNU9+PjSvWFT2NvdShoGxoaIjx48fHzJkz49Of/vRrPke5ZcuWPX6OsqqqKqqqqlJDeXPtfLk5+g84MDasXdXueH1tTURELHlxVYw45h0xcH+/foA/5uarvhf3/rT9n0+besPUePb3z8Xsb/24oFXQfWxt2hQREYeNeWf06lMVC+Y8WPAi9laHv+U9c+bMGDNmTBx77LFxxRVXxKhRo2L37t1xzz33xKxZs2Lx4sVvxk7eYI89uzJqepWivqY6tu14OVp79Y2Dalpj6IFvi4iIx59ZFn1794o++1XFus3b4/ARR8XvHnowjj7cN7z501bfrz7eefzItseDDxscJ5763li/al088/gz0bSsqd3ry+WITes2xYL7F+zrqdBl1PSrjWHHH9n2eOCwg+KoU4+PTas2xPLHl8bEL54dW5o2xqpFjTH8pFHx5383Mbau3RzzZ80pcDUd0eGgHDp0aCxYsCCuuuqquPjii6OpqSn69+8fxxxzTMya5av93UWvXvvFAUMOidq6uui1ZUusXN4Y25qejwMHNERERGtUxoAhR0RtbW1Url0Tixc9HkcPf3vBq6F4J018X5z3lfPaHo8ePzpGjx8dqxtXx3knfaLAZdB1HT1xTJxx6X/9IwAjx70nRo57T6xvXBNXn3xhNBzcP9537ilRqqiI1pbWaFzwXNw4yRfbupNSuaBvWZRK//FB213rny/i9NAt9ep/aNv9Dwz+ywKXQPdx94qft92/cMhZBS6B7uXby27b6y/j+re8AQBIEZQAAKQISgAAUgQlAAApghIAgBRBCQBAiqAEACBFUAIAkCIoAQBIEZQAAKQISgAAUgQlAAApghIAgBRBCQBAiqAEACBFUAIAkCIoAQBIEZQAAKQISgAAUgQlAAApghIAgBRBCQBAiqAEACBFUAIAkCIoAQBIEZQAAKQISgAAUgQlAAApghIAgBRBCQBAiqAEACBFUAIAkCIoAQBIEZQAAKQISgAAUgQlAAApghIAgBRBCQBAiqAEACBFUAIAkCIoAQBIEZQAAKQISgAAUgQlAAApghIAgBRBCQBAiqAEACBFUAIAkCIoAQBIEZQAAKQISgAAUgQlAAApghIAgBRBCQBAiqAEACBFUAIAkCIoAQBIEZQAAKQISgAAUgQlAAApghIAgBRBCQBAiqAEACBFUAIAkCIoAQBIEZQAAKQISgAAUgQlAAApghIAgBRBCQBASqlcLpcLOXGpVMRpAQDYS3ubia5QAgCQIigBAEjpUfSAowaeUPQE6DYWrv1t2/0Lh5xV4BLoPr697La2+x8d8qECl0D3cvOy2/f6ta5QAgCQIigBAEgRlAAApAhKAABSBCUAACmCEgCAFEEJAECKoAQAIEVQAgCQIigBAEgRlAAApAhKAABSBCUAACmCEgCAFEEJAECKoAQAIEVQAgCQIigBAEgRlAAApAhKAABSBCUAACmCEgCAFEEJAECKoAQAIEVQAgCQIigBAEgRlAAApAhKAABSBCUAACmCEgCAFEEJAECKoAQAIEVQAgCQIigBAEgRlAAApAhKAABSBCUAACmCEgCAFEEJAECKoAQAIEVQAgCQIigBAEgRlAAApAhKAABSBCUAACmCEgCAFEEJAECKoAQAIEVQAgCQIigBAEgRlAAApAhKAABSBCUAACmCEgCAFEEJAECKoAQAIEVQAgCQIigBAEgRlAAApAhKAABSBCUAACmCEgCAFEEJAECKoAQAIEVQAgCQIigBAEgRlAAApAhKAABSBCUAACk9OvLiSZMmxZYtW+LOO+9sd/y+++6LsWPHxubNm6O+vv4NnMeb5SPnfig+/tlJUd9QF5WVlfFP1/0wvnP1De1ec9OdM+Oo94yKiopSbNuyLb5w3qXx8AOPFrQYuoYTzxkf4/7vGVHdUBsVlRXxq+vvjLu/dmvb8wMPPzg+duPn4m2DB0SpohQ7Nr8UP7zgunjuwUUFrobi/cU5E+LU//vh6PuH987d198Rt39tdtvz32v86R5/7vfzH4t/+Ni0fTWTTnKF8k9U37q+sfyFFfHD62fv8fkZP/56HH3cu+L7M/45Lvn4l+LVXbvjO7O/ETW11ft4KXQtvWurY33jmvj1jXft8fkL77gyahpq45ZLZsUNk6bF9o3b4pM/mBLVDX338VLoWvrU1sTaxqaYd+OcPT7/5QkXtbs9cNv8KJfLMe+GO/ftUDpFUP6J+sdvfT/OPf38uO6q7+7x+dEnHxf/ds9v4zvX3Bjz774vzp7wsajsURmfuuTj+3gpdC33zLgjZpz5lZh77S2veW74e0fFfjW9Y/ZFM+PROx6IZ+5/IqaP/3yUKkoxcerZBayFruOuGT+Na878cvz02h/v8flVS5a3u40ce3Ts3Lojnnlk8T5eSmcISl7j6OOPisrKirj7p79oO7a2aX1sf2l7HDP6qOKGQRfXq09VRES8sv3ltmOtra0R5XIc8u7hRc2CbufAwwdHXf/6eGjOA0VPYS916DOUERFz586NmpqadsdaWlpe92eam5ujubm5o6eiIIcMe3tERCxbuqzd8R0v7Yza/euKmATdwuL7fx8tu1vib755fsw48/LYsXlrnDPzs1FRWRm9fVwE9tqZf392RDni9q+/9jcBdE0dvkI5duzYWLhwYbvbTTfd9Lo/M23atKirq2t3A3ir2f3Krph98fVR3VAblz44I6556gfx9ncdGi9t3BpRLhc9D7qNESeOipXPLItXXtpZ9BT2UoevUFZXV8ewYcPaHVu5cuXr/syUKVPioosuandMVHZdLy5dHhERQ4YNiWefXtp2vLpvn1i9vKmoWdAtLJjzYCyY82DUDWqIXr2rYv0LTXHNU9+PjSvWFT0NuoWx/2dC9OjVM+6asedvfdM1dTgoO6Oqqiqqqqr2xal4Ayx4aGG0tLTGBz40Lu752fyIiOh/QL+o6VsTj/37wmLHQTextWlTREQcNuad0atPVSyY82DBi6B7GPexD0Tzzlfi0Z8/VPQUOmCfBCVdT0O//eOYE45uezz0sHfE+yf+RaxZtSaefOyp+Pf7Ho6T3j8mzv/CJ2LJE8/E319zcbTsbolZ01//4w3wVlfTrzaGHX9k2+OBww6Ko049Pjat2hDLH18aE794dmxp2hirFjXG8JNGxZ//3cTYunZzzJ+15z+VAn8qavvVxfDjR7Q9HjTs4HjPqSfExlXr44XHn4uIiPqB+8eAIQfEwz/7TVEz6SRB+Sdqwhnvj0uu/Ezb47GnnBRjTzkplr+4Mk4ffVZc8L8/FzfdOTM+9um/jdIf/rD5BWdfEtu37ShwNRTv6Ilj4oxLz2l7PHLce2LkuPfE+sY1cfXJF0bDwf3jfeeeEqWKimhtaY3GBc/FjZOuLnAxdA3HTjwx/ubSj7Y9PnrcsXH0uGNjbWNTTDn5goiI+PAX/uPPa/3kmh8VspHOK5XLxXxSvFQqRUTEUQNPKOL00C0tXPvbtvsXDjmrwCXQfXx72W1t9z865EMFLoHu5eZlt8feZqK/QwkAQIqgBAAgRVACAJAiKAEASBGUAACkCEoAAFIEJQAAKYISAIAUQQkAQIqgBAAgRVACAJAiKAEASBGUAACkCEoAAFIEJQAAKYISAIAUQQkAQIqgBAAgRVACAJAiKAEASBGUAACkCEoAAFIEJQAAKYISAIAUQQkAQIqgBAAgRVACAJAiKAEASBGUAACkCEoAAFIEJQAAKYISAIAUQQkAQIqgBAAgRVACAJAiKAEASBGUAACkCEoAAFIEJQAAKYISAIAUQQkAQIqgBAAgRVACAJAiKAEASBGUAACkCEoAAFIEJQAAKYISAIAUQQkAQIqgBAAgRVACAJAiKAEASBGUAACkCEoAAFIEJQAAKYISAIAUQQkAQIqgBAAgRVACAJAiKAEASBGUAACkCEoAAFIEJQAAKYISAIAUQQkAQIqgBAAgRVACAJAiKAEASBGUAACkCEoAAFJK5XK5XMiJS6UiTgsAwF7a20x0hRIAgBRBCQBASo+iB/SrPbzoCdBtbNj2bNv9yp4HFrgEuo+WV1e33f/NwA8VuAS6lxPX3r7Xr3WFEgCAFEEJAECKoAQAIEVQAgCQIigBAEgRlAAApAhKAABSBCUAACmCEgCAFEEJAECKoAQAIEVQAgCQIigBAEgRlAAApAhKAABSBCUAACmCEgCAFEEJAECKoAQAIEVQAgCQIigBAEgRlAAApAhKAABSBCUAACmCEgCAFEEJAECKoAQAIEVQAgCQIigBAEgRlAAApAhKAABSBCUAACmCEgCAFEEJAECKoAQAIEVQAgCQIigBAEgRlAAApAhKAABSBCUAACmCEgCAFEEJAECKoAQAIEVQAgCQIigBAEgRlAAApAhKAABSBCUAACmCEgCAFEEJAECKoAQAIEVQAgCQIigBAEgRlAAApAhKAABSBCUAACmCEgCAFEEJAECKoAQAIEVQAgCQIigBAEgRlAAApAhKAABSBCUAACmCEgCAFEEJAECKoAQAIEVQAgCQIigBAEjpVFBOmjQpSqXSa24TJkx4o/exD41615Hx6O/nx9rNi2PdliWxYu0TceZHTi96FnRpP/rhzHhp6/PxavPKeLV5ZWze+Ex8cepnip4FXcrhsz4ToxtnxwlNP4kTmn4Sxy395zj4sx9ue76itk8c9etvxAmr/+P5dz9+Q/QePrjAxXRUj87+4IQJE+Lmm29ud6yqqio9iGIMfvtB8Yt7fxLLl62Mz0yeGo2NK+LY446O1auaip4GXdrzzzfGtV/7Tvz7Q49GRakivvSlz8ZXLrsknnhycdx11y+LngddwssvromV190R2373TERFKd5+8V/F2z9/Vux4ujE2/+LRGHXXV6PPoQdF4+U/jF0btsSh154Xo+ZeFQ8f9rdFT2cvdTooq6qq4oADDngjt1CgG7/3zdi58+U47ujxbcce+u2jBS6C7uGyy6e3e3zPr+6PXa+siA9OnCAo4Q9WfO22do+fvP+JOGH1T+JtpxwXO554MfocPjhWf/euWH3DXRERsXvzSzFi9pdiwF//eay75d4iJtNBPkNJRESMHHVkNL6wPH7/9P2xdvPiWL5mYXznu9cWPQu6lR49esS3vnlFlEqluOPOnxc9B7qmHpVxyJUfjShFbLz7oeg38YQolUqx+qb/es9suXdhlHe3RMO4dxc4lI7o9BXKuXPnRk1NTbtjU6dOjalTp77mtc3NzdHc3NzZU7EP9OrVM0a+68j43SOPx1e+fG38z3Enx1995PTY1dwcF33m0qLnQZf2wQ+eEj+57R/bHl9+xTfi7rt/VeAi6HoaTjkujvje59oer5h+W2y+57Gov/qoKJfLsWvVhnavb21+NXoNqN/HK+msTgfl2LFjY9asWe2ONTQ07PG106ZNi8svv7yzp2If2b59R3xg3F9HRMS/3v7zOHLE4XHGh08VlPDf+OUv749xE86KQQcMiE99alJc+uWL4vGFT4pK+P9suX9hPHXm5dFz4P4x6KMTYvDn/iq2P/li0bN4g3T6V97V1dUxbNiwdrc/FpRTpkyJrVu3trvRtbS0tMTaNevaHXv2meejd+/9CloE3cfOnTvj179+MGbf8q/x3pNOjy1btsY1V3+p6FnQpbTubI6tv1kUG25/IJ489Yuxe+uOeMeXz47mZeuiVCpFr4P6tXt9RVXP2LVuSzFj6bB98hnKqqqqqK2tbXeja1m9ek0MGNi/3bFhww6JnTtfLmgRdF+lUil69uz0L4DgT0OpFKWePWLDz34b5XI5DvzYKW1P1Y89Kko9KmPTL305tLvo9P/iNTc3x5o1a9r/x3r0iH79+v2Rn6Aru/bqGfGdWdfEv/zrP8WMb/9j/OWp74+R7zoybr5pdtHToEt74N/mxK233hmPL1wUAwb0i4sv+ruor6+Lr02fWfQ06DJGzr0q1t/xQOxY9GL0fFt9HDR5YvSoq46VM+6MXU0bY+ezK+LA806NXWs3xa4N2+LQa8+L3dtf9g3vbqTTQTlv3rwYNGhQu2PDhw+PJUuWpEex7/3LLXfGO94xOC648BNx8tgxsWvXq/Evt86JL3zuiqKnQZf2tob94xtf/0pUVlZGuVyOLVu2xtQvXh3Tv3590dOgy+i5f98YesVHIyorIsrl2L11RzR+9cexeuadERHxxGlfilFzrox3XDYpohSxa+3mePojXy10Mx1TKpfL5UJOXCpFRES/2sOLOD10Sxu2Pdt2v7LngQUuge6j5dXVbfd/M/BDBS6B7uXEtbfH3maiv0MJAECKoAQAIEVQAgCQIigBAEgRlAAApAhKAABSBCUAACmCEgCAFEEJAECKoAQAIEVQAgCQIigBAEgRlAAApAhKAABSBCUAACmCEgCAFEEJAECKoAQAIEVQAgCQIigBAEgRlAAApAhKAABSBCUAACmCEgCAFEEJAECKoAQAIEVQAgCQIigBAEgRlAAApAhKAABSBCUAACmCEgCAFEEJAECKoAQAIEVQAgCQIigBAEgRlAAApAhKAABSBCUAACmCEgCAFEEJAECKoAQAIEVQAgCQIigBAEgRlAAApAhKAABSBCUAACmCEgCAFEEJAECKoAQAIEVQAgCQIigBAEgRlAAApAhKAABSBCUAACmCEgCAFEEJAECKoAQAIEVQAgCQIigBAEgRlAAApAhKAABSBCUAACmCEgCAFEEJAECKoAQAIEVQAgCQIigBAEgRlAAApAhKAABSSuVyuVzIiUulIk4LAMBe2ttM7PEm7/ijCupY/hvNzc0xbdq0mDJlSlRVVRU9B7oN7x3oHO+dt4bCrlDSNW3bti3q6upi69atUVtbW/Qc6Da8d6BzvHfeGnyGEgCAFEEJAECKoAQAIEVQ0k5VVVVcdtllPhgNHeS9A53jvfPW4Es5AACkuEIJAECKoAQAIEVQAgCQIigBAEgRlAAApAhK2qxZsyYuuOCCGDp0aFRVVcXgwYPjtNNOi/nz5xc9DbqkSZMmxQc/+MHXHL/vvvuiVCrFli1b9vkm6C4mTZoUpVLpNbcJEyYUPY1O6FH0ALqGxsbGGDNmTNTX18f06dNj5MiR8eqrr8YvfvGLmDx5cixZsqToiQC8xUyYMCFuvvnmdsf8PcruSVASERHnn39+lEqleOSRR6K6urrt+IgRI+Lcc88tcBkAb1VVVVVxwAEHFD2DN4BfeRObNm2KefPmxeTJk9vF5H+qr6/f96MAgG7DFUpi6dKlUS6X44gjjih6CnQ7c+fOjZqamnbHWlpaCloD3cue3j9Tp06NqVOnFrSIzhKUhH99Ezpv7NixMWvWrHbHHn744Tj77LMLWgTdx57ePw0NDQWtIUNQEocddliUSiVfvIFOqK6ujmHDhrU7tnLlyoLWQPeyp/cP3ZPPUBINDQ0xfvz4mDlzZuzYseM1z/vTJwDA6xGURETEzJkzo6WlJY499ti4/fbb47nnnovFixfHddddF6NHjy56HgBvQc3NzbFmzZp2tw0bNhQ9i07wK28iImLo0KGxYMGCuOqqq+Liiy+Opqam6N+/fxxzzDGv+XwLALwR5s2bF4MGDWp3bPjw4T6C1Q2Vyr6RAQBAgl95AwCQIigBAEgRlAAApAhKAABSBCUAACmCEgCAFEEJAECKoAQAIEVQAgCQIigBAEgRlAAApPw/PuxBrbsQspAAAAAASUVORK5CYII=",
>>>>>>> b0c42c7f75231cbbf2771219ea51defab449d828
      "text/plain": [
       "<Figure size 800x600 with 1 Axes>"
      ]
     },
     "metadata": {},
     "output_type": "display_data"
    }
   ],
   "source": [
    "plot_confusion_matrix(66)"
   ]
  },
  {
   "cell_type": "code",
   "execution_count": 79,
   "metadata": {},
   "outputs": [
    {
     "data": {
      "text/plain": [
       "'FENLTELYLGENEIEDLSPLRGMKQLKSLVLSGNRISDLGPLEDLDRLEYLNLNDNLISDISPLKRLVNLRRLILSANRITDISPLQDMDALTDLNLSDNMVRDIGVLEKLTELEEVNLRHNPLEDDSVLSDLDANVTY'"
      ]
     },
     "execution_count": 79,
     "metadata": {},
     "output_type": "execute_result"
    }
   ],
   "source": [
    "# Remove all whitespaces and make every letter capital\n",
    "seq = ' '.join(tokenizer_in.sequences_to_texts(X_test[66:67])[0]).replace(' ', '').upper()\n",
    "seq"
   ]
  },
  {
   "cell_type": "code",
   "execution_count": null,
   "metadata": {},
   "outputs": [],
   "source": []
  }
 ],
 "metadata": {
  "kernelspec": {
   "display_name": "basenv",
   "language": "python",
   "name": "python3"
  },
  "language_info": {
   "codemirror_mode": {
    "name": "ipython",
    "version": 3
   },
   "file_extension": ".py",
   "mimetype": "text/x-python",
   "name": "python",
   "nbconvert_exporter": "python",
   "pygments_lexer": "ipython3",
   "version": "3.10.13"
  }
 },
 "nbformat": 4,
 "nbformat_minor": 2
}
