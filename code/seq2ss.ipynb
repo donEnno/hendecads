{
 "cells": [
  {
   "cell_type": "code",
   "execution_count": 3,
   "metadata": {},
   "outputs": [
    {
     "name": "stderr",
     "output_type": "stream",
     "text": [
      "2024-03-15 12:16:12.562698: I tensorflow/core/platform/cpu_feature_guard.cc:182] This TensorFlow binary is optimized to use available CPU instructions in performance-critical operations.\n",
      "To enable the following instructions: SSE4.1 SSE4.2 AVX AVX2 FMA, in other operations, rebuild TensorFlow with the appropriate compiler flags.\n"
     ]
    }
   ],
   "source": [
    "import tensorflow as tf\n",
    "\n",
    "from keras import backend  as K\n",
    "from keras.models import Model\n",
    "from keras import Input\n",
    "from keras.layers import LSTM, Embedding, Dense, TimeDistributed, Bidirectional\n",
    "from keras.preprocessing.text import Tokenizer\n",
    "from keras.utils import to_categorical, pad_sequences\n",
    "\n",
    "from sklearn.model_selection import train_test_split\n",
    "from Bio import SeqIO\n",
    "\n",
    "import re\n",
    "\n",
    "import matplotlib.pyplot as plt\n",
    "import seaborn as sns\n",
    "import pandas as pd\n",
    "import numpy as np"
   ]
  },
  {
   "cell_type": "markdown",
   "metadata": {},
   "source": [
    "### Kaggle Dataet"
   ]
  },
  {
   "cell_type": "code",
   "execution_count": 150,
   "metadata": {},
   "outputs": [
    {
     "data": {
      "text/plain": [
       "8974"
      ]
     },
     "execution_count": 150,
     "metadata": {},
     "output_type": "execute_result"
    }
   ],
   "source": [
    "# Data from https://www.kaggle.com/datasets/alfrandom/protein-secondary-structure\n",
    "\n",
    "MAX_SEQ_LEN = 1024\n",
    "\n",
    "df = pd.read_csv('/home/enno/uni/SS23/thesis/data/ss_data/seq.csv')\n",
    "df = df[(df.seq.str.len() <= MAX_SEQ_LEN) & (~df.has_nonstd_aa)]\n",
    "\n",
    "len(df)"
   ]
  },
  {
   "cell_type": "code",
   "execution_count": 151,
   "metadata": {},
   "outputs": [
    {
     "data": {
      "text/plain": [
       "<Axes: >"
      ]
     },
     "execution_count": 151,
     "metadata": {},
     "output_type": "execute_result"
    },
    {
     "data": {
      "image/png": "[encoded data removed]",
      "text/plain": [
       "<Figure size 640x480 with 1 Axes>"
      ]
     },
     "metadata": {},
     "output_type": "display_data"
    }
   ],
   "source": [
    "df.seq.apply(lambda x: len(x)).hist(bins=64, edgecolor='black', grid=False)"
   ]
  },
  {
   "cell_type": "markdown",
   "metadata": {},
   "source": [
    "### Hendecad Data"
   ]
  },
  {
   "cell_type": "code",
   "execution_count": 16,
   "metadata": {},
   "outputs": [],
   "source": [
    "input_file = \"/home/enno/uni/SS23/thesis/data/hendecads/sequences.fasta\"\n",
    "fasta_sequences = SeqIO.parse(open(input_file), 'fasta')\n",
    "\n",
    "n_seq = len(list(fasta_sequences))"
   ]
  },
  {
   "cell_type": "code",
   "execution_count": 81,
   "metadata": {},
   "outputs": [
    {
     "name": "stdout",
     "output_type": "stream",
     "text": [
      "Processing sequence 36455/36455\r"
     ]
    },
    {
     "data": {
      "text/html": [
       "<div>\n",
       "<style scoped>\n",
       "    .dataframe tbody tr th:only-of-type {\n",
       "        vertical-align: middle;\n",
       "    }\n",
       "\n",
       "    .dataframe tbody tr th {\n",
       "        vertical-align: top;\n",
       "    }\n",
       "\n",
       "    .dataframe thead th {\n",
       "        text-align: right;\n",
       "    }\n",
       "</style>\n",
       "<table border=\"1\" class=\"dataframe\">\n",
       "  <thead>\n",
       "    <tr style=\"text-align: right;\">\n",
       "      <th></th>\n",
       "      <th>id</th>\n",
       "      <th>seq</th>\n",
       "      <th>stretch_ix</th>\n",
       "    </tr>\n",
       "  </thead>\n",
       "  <tbody>\n",
       "    <tr>\n",
       "      <th>0</th>\n",
       "      <td>MCD6041253.1</td>\n",
       "      <td>Mrlvyvavaailcsfsttslagaektakragkfvektatragkfve...</td>\n",
       "      <td>[1, 2, 3, 4, 5, 6, 7, 8, 9, 10, 11, 12, 13, 14...</td>\n",
       "    </tr>\n",
       "    <tr>\n",
       "      <th>1</th>\n",
       "      <td>MCD7737945.1</td>\n",
       "      <td>MQGRVFFREAAALILAAALSMAGLPASAAANSGIEAAALRTeeete...</td>\n",
       "      <td>[41, 42, 43, 44, 45, 46, 47, 48, 49, 50, 51, 5...</td>\n",
       "    </tr>\n",
       "    <tr>\n",
       "      <th>2</th>\n",
       "      <td>MYF28459.1</td>\n",
       "      <td>Merlqtdllkeihalrgemhaefasvrqemhagfasirqemhaeta...</td>\n",
       "      <td>[1, 2, 3, 4, 5, 6, 7, 8, 9, 10, 11, 12, 13, 14...</td>\n",
       "    </tr>\n",
       "    <tr>\n",
       "      <th>3</th>\n",
       "      <td>WP_168920948.1</td>\n",
       "      <td>MSDVFLTASYADREKVKTLGARWNPAEKRWYVPSGRDLSPFAAWLP...</td>\n",
       "      <td>[437, 438, 439, 440, 441, 442, 443, 444, 445, ...</td>\n",
       "    </tr>\n",
       "    <tr>\n",
       "      <th>4</th>\n",
       "      <td>WP_026306873.1</td>\n",
       "      <td>MLLRRIARPLLSAAFIAEGIDILQNPGPLADRLSPALDFTRRRSQH...</td>\n",
       "      <td>[172, 173, 174, 175, 176, 177, 178, 179, 180, ...</td>\n",
       "    </tr>\n",
       "  </tbody>\n",
       "</table>\n",
       "</div>"
      ],
      "text/plain": [
       "               id                                                seq  \\\n",
       "0    MCD6041253.1  Mrlvyvavaailcsfsttslagaektakragkfvektatragkfve...   \n",
       "1    MCD7737945.1  MQGRVFFREAAALILAAALSMAGLPASAAANSGIEAAALRTeeete...   \n",
       "2      MYF28459.1  Merlqtdllkeihalrgemhaefasvrqemhagfasirqemhaeta...   \n",
       "3  WP_168920948.1  MSDVFLTASYADREKVKTLGARWNPAEKRWYVPSGRDLSPFAAWLP...   \n",
       "4  WP_026306873.1  MLLRRIARPLLSAAFIAEGIDILQNPGPLADRLSPALDFTRRRSQH...   \n",
       "\n",
       "                                          stretch_ix  \n",
       "0  [1, 2, 3, 4, 5, 6, 7, 8, 9, 10, 11, 12, 13, 14...  \n",
       "1  [41, 42, 43, 44, 45, 46, 47, 48, 49, 50, 51, 5...  \n",
       "2  [1, 2, 3, 4, 5, 6, 7, 8, 9, 10, 11, 12, 13, 14...  \n",
       "3  [437, 438, 439, 440, 441, 442, 443, 444, 445, ...  \n",
       "4  [172, 173, 174, 175, 176, 177, 178, 179, 180, ...  "
      ]
     },
     "execution_count": 81,
     "metadata": {},
     "output_type": "execute_result"
    }
   ],
   "source": [
    "max_len = 1024\n",
    "\n",
    "df = pd.DataFrame(columns=['id', 'seq', 'stretch_ix'])\n",
    "\n",
    "pattern = r'\\[\\[.*?\\]\\]'\n",
    "\n",
    "for seq_ix, seq in enumerate(SeqIO.parse(open(input_file), 'fasta')):\n",
    "    print(f\"Processing sequence {seq_ix+1}/{n_seq}\", end='\\r')\n",
    "\n",
    "    if len(seq.seq) > max_len:\n",
    "        continue\n",
    "    \n",
    "    s = str(seq.seq)\n",
    "    d = str(seq.description)\n",
    "    \n",
    "    stretches = eval(re.findall(pattern, d.split('|||')[-1])[0])\n",
    "\n",
    "    cc_ix = [x for stretch in stretches for x in np.arange(stretch[0], stretch[1]+1)]\n",
    "    \n",
    "    df.loc[len(df)] = [seq.id, s, cc_ix]\n",
    "        \n",
    "\n",
    "df.head()\n"
   ]
  },
  {
   "cell_type": "code",
   "execution_count": 82,
   "metadata": {},
   "outputs": [],
   "source": [
    "df['seq_mask'] = df['seq'].apply(lambda seq: ''.join(['C' if s_i.islower() else 'X' for s_i in seq]))"
   ]
  },
  {
   "cell_type": "code",
   "execution_count": 83,
   "metadata": {},
   "outputs": [],
   "source": [
    "tokenizer_in = Tokenizer(char_level=True)\n",
    "tokenizer_in.fit_on_texts(df.seq)\n",
    "vocab_size_in = len(tokenizer_in.word_index) + 1 \n",
    "\n",
    "X = tokenizer_in.texts_to_sequences(df.seq)\n",
    "X = pad_sequences(X, maxlen=max_len, padding='post')"
   ]
  },
  {
   "cell_type": "code",
   "execution_count": 84,
   "metadata": {},
   "outputs": [
    {
     "data": {
      "text/plain": [
       "((29039, 1024), (29039, 1024, 3))"
      ]
     },
     "execution_count": 84,
     "metadata": {},
     "output_type": "execute_result"
    }
   ],
   "source": [
    "tokenizer_out = Tokenizer(char_level=True)\n",
    "tokenizer_out.fit_on_texts(df.seq_mask)\n",
    "vocab_size_out = len(tokenizer_out.word_index) + 1\n",
    "\n",
    "y = tokenizer_out.texts_to_sequences(df.seq_mask)\n",
    "y = pad_sequences(y, maxlen=max_len, padding='post')\n",
    "y = to_categorical(y)\n",
    "\n",
    "X.shape, y.shape"
   ]
  },
  {
   "cell_type": "code",
   "execution_count": 85,
   "metadata": {},
   "outputs": [],
   "source": [
    "X_train, X_, y_train, y_ = train_test_split(X, y, test_size=0.2, random_state=42, shuffle=True)\n",
    "X_val, X_test, y_val, y_test = train_test_split(X_, y_, test_size=0.5, random_state=42, shuffle=True)"
   ]
  },
  {
   "cell_type": "code",
   "execution_count": 86,
   "metadata": {},
   "outputs": [
    {
     "name": "stdout",
     "output_type": "stream",
     "text": [
      "21 3\n",
      "Model: \"model_2\"\n",
      "_________________________________________________________________\n",
      " Layer (type)                Output Shape              Param #   \n",
      "=================================================================\n",
      " input_4 (InputLayer)        [(None, 1024)]            0         \n",
      "                                                                 \n",
      " embedding_2 (Embedding)     (None, 1024, 128)         2688      \n",
      "                                                                 \n",
      " bidirectional_2 (Bidirecti  (None, 1024, 128)         98816     \n",
      " onal)                                                           \n",
      "                                                                 \n",
      " time_distributed_2 (TimeDi  (None, 1024, 3)           387       \n",
      " stributed)                                                      \n",
      "                                                                 \n",
      "=================================================================\n",
      "Total params: 101891 (398.01 KB)\n",
      "Trainable params: 101891 (398.01 KB)\n",
      "Non-trainable params: 0 (0.00 Byte)\n",
      "_________________________________________________________________\n"
     ]
    }
   ],
   "source": [
    "n_words = len(tokenizer_in.word_index) + 1\n",
    "n_tags = len(tokenizer_out.word_index) + 1\n",
    "print(n_words, n_tags)\n",
    "\n",
    "input = Input(shape=(max_len,))\n",
    "mbed = Embedding(input_dim=n_words, output_dim=128, input_length=max_len)(input)\n",
    "comp = Bidirectional(LSTM(units=64, return_sequences=True, recurrent_dropout=0.1))(mbed)\n",
    "final_comp = TimeDistributed(Dense(n_tags, activation=\"softmax\"))(comp)\n",
    "model = Model(input, final_comp)\n",
    "model.summary()"
   ]
  },
  {
   "cell_type": "code",
   "execution_count": 87,
   "metadata": {},
   "outputs": [],
   "source": [
    "def q3_acc(y_true, y_pred):\n",
    "    y = tf.argmax(y_true, axis=-1)\n",
    "    y_ = tf.argmax(y_pred, axis=-1)\n",
    "    mask = tf.greater(y, 0)\n",
    "    return K.cast(K.equal(tf.boolean_mask(y, mask), tf.boolean_mask(y_, mask)), K.floatx())"
   ]
  },
  {
   "cell_type": "code",
   "execution_count": 88,
   "metadata": {},
   "outputs": [
    {
     "name": "stdout",
     "output_type": "stream",
     "text": [
      "Epoch 1/5\n",
      "182/182 [==============================] - 337s 2s/step - loss: 0.3172 - accuracy: 0.7927 - q3_acc: 0.5170 - val_loss: 0.2867 - val_accuracy: 0.8151 - val_q3_acc: 0.5559\n",
      "Epoch 2/5\n",
      "182/182 [==============================] - 346s 2s/step - loss: 0.2885 - accuracy: 0.8165 - q3_acc: 0.5662 - val_loss: 0.2783 - val_accuracy: 0.8241 - val_q3_acc: 0.5776\n",
      "Epoch 3/5\n",
      "182/182 [==============================] - 357s 2s/step - loss: 0.2811 - accuracy: 0.8294 - q3_acc: 0.5967 - val_loss: 0.2679 - val_accuracy: 0.8451 - val_q3_acc: 0.6278\n",
      "Epoch 4/5\n",
      "182/182 [==============================] - 341s 2s/step - loss: 0.2713 - accuracy: 0.8461 - q3_acc: 0.6362 - val_loss: 0.2670 - val_accuracy: 0.8501 - val_q3_acc: 0.6399\n",
      "Epoch 5/5\n",
      "182/182 [==============================] - 345s 2s/step - loss: 0.2637 - accuracy: 0.8558 - q3_acc: 0.6590 - val_loss: 0.2512 - val_accuracy: 0.8654 - val_q3_acc: 0.6766\n"
     ]
    },
    {
     "data": {
      "text/plain": [
       "<keras.src.callbacks.History at 0x7fce02a5e290>"
      ]
     },
     "execution_count": 88,
     "metadata": {},
     "output_type": "execute_result"
    }
   ],
   "source": [
    "model.compile(optimizer=\"rmsprop\", loss=\"categorical_crossentropy\", metrics=[\"accuracy\", q3_acc])\n",
    "\n",
    "model.fit(X_train, y_train, batch_size=128, epochs=5, validation_data=(X_test, y_test), verbose=1)"
   ]
  },
  {
   "cell_type": "code",
   "execution_count": 90,
   "metadata": {},
   "outputs": [
    {
     "name": "stdout",
     "output_type": "stream",
     "text": [
      "91/91 [==============================] - 14s 148ms/step - loss: 0.2583 - accuracy: 0.8619 - q3_acc: 0.6737\n"
     ]
    },
    {
     "data": {
      "text/plain": [
       "[0.25830698013305664, 0.8618853688240051, 0.6737471222877502]"
      ]
     },
     "execution_count": 90,
     "metadata": {},
     "output_type": "execute_result"
    }
   ],
   "source": [
    "model.evaluate(X_val, y_val)\n"
   ]
  },
  {
   "cell_type": "code",
   "execution_count": 117,
   "metadata": {},
   "outputs": [],
   "source": [
    "def plot_prediction(i):\n",
    "    p1 = np.argmax(model.predict(X_test[i:i+1]), axis=-1)[0]\n",
    "    y1 = np.argmax(y_test[i:i+1], axis=-1)[0]\n",
    "    \n",
    "    c = np.array([p1, y1])\n",
    "\n",
    "    _, ax = plt.subplots(figsize=(16, 1))\n",
    "\n",
    "    sns.heatmap(c, ax=ax, cmap='viridis', xticklabels=[], cbar=False)\n",
    "    ax.set_yticklabels(['Predicted', 'True'], rotation=0)\n",
    "    \n",
    "    labels = ['P', 'C', 'X']\n",
    "    colors = ['#440154', '#21918c', '#fde725']\n",
    "    patches = [plt.Rectangle((0, 0), 1, 1, color=color) for color in colors]\n",
    "    ax.legend(patches, labels, loc='center left', bbox_to_anchor=(1, 0.5))\n",
    "    \n",
    "    plt.show()"
   ]
  },
  {
   "cell_type": "code",
   "execution_count": 134,
   "metadata": {},
   "outputs": [],
   "source": [
    "def plot_confusion_matrix(i):\n",
    "    p1 = np.argmax(model.predict(X_test[i:i+1]), axis=-1)[0]\n",
    "    y1 = np.argmax(y_test[i:i+1], axis=-1)[0]\n",
    "    \n",
    "    p1 = p1[y1 > 0]\n",
    "    y1 = y1[y1 > 0]\n",
    "\n",
    "    c = np.zeros((2, 2), dtype=int)\n",
    "    for i in range(1, 3):\n",
    "        for j in range(1, 3):\n",
    "            c[i-1, j-1] = int(np.sum((p1 == i) & (y1 == j)))\n",
    "        \n",
    "    _, ax = plt.subplots(figsize=(4, 4))\n",
    "    sns.heatmap(c, annot=True, fmt='d', linewidths=0.55, linecolor='black', cbar=False)\n",
    "    \n",
    "    ax.set_ylabel('Predicted')\n",
    "    ax.set_xlabel('True')\n",
    "\n",
    "    ax.set_xticklabels(['C', 'X'])\n",
    "    ax.set_yticklabels(['C', 'X'], rotation=0)\n",
    "\n",
    "    plt.show()"
   ]
  },
  {
   "cell_type": "code",
   "execution_count": 145,
   "metadata": {},
   "outputs": [
    {
     "name": "stdout",
     "output_type": "stream",
     "text": [
      "XXXXXXXXXXXXXXXXXXXXXXXXXXXXXXXXXXXXCCCCCCCCCCCCCCCCCCCCCCCCCCCCCCCCCCCCCCCCCCCCCCCCCCCCCCCCCCCCCCCCCCCCCCCCCCCCCCCCCCCCCCCCCCCCCCCCCCCCCCCCCCCCCCX\n",
      "2222222222222222222211111111111111111111111111111111111111111111111111111111111111111111111111111111111111111111111111111111111111111111111111111111111111111111111111111111111111111111111111111111111111111111112222222222222222222222222222222222222222222222\n",
      "[2 2 1 1 1 2 2 2 2 2 2 2 2 2 2 2 2 2 1 1 1 1 1 1 1 1 1 1 1 1 1 1 1 1 1 1 1\n",
      " 1 1 1 1 1 1 1 1 1 1 1 1 1 1 1 1 1 1 1 1 1 1 1 1 1 1 1 1 1 1 1 1 1 1 1 1 1\n",
      " 1 1 1 1 1 1 1 1 1 1 1 1 1 1 1 1 1 1 1 1 1 1 1 1 1 1 1 1 1 1 1 1 1 1 1 1 1\n",
      " 1 1 1 1 1 1 1 1 1 1 1 1 1 1 1 1 1 1 1 1 1 1 1 1 1 1 1 1 1 1 1 1 1 1 1 1 1\n",
      " 1 1 1 1 1 1 1 1 1 1 1 1 1 1 1 1 1 1 1 1 1 1 1 1 1 1 1 1 1 1 1 1 1 1 1 1 1\n",
      " 1 1 1 1 1 1 1 1 1 1 1 1 1 1 1 1 1 1 1 1 1 1 1 1 1 1 1 1 1 1 1 1 1 1 1 1 1\n",
      " 1 1 1 1 1 1 1 1 1 1 1 1 1 1 1 1 1 1 1 1 1 1 1 1 1 1 1 1 1 1 1 1 1 1]\n"
     ]
    }
   ],
   "source": [
    "pcoils = '                                    CCCCCCCCCCCCCCCCCCCCCCCCCCCCCCCCCCCCCCCCCCCCCCCCCCCCCCCCCCCCCCCCCCCCCCCCCCCCCCCCCCCCCCCCCCCCCCCCCCCCCCCCCCCCCC '.replace(' ', 'X')\n",
    "print(pcoils)\n",
    "print(''.join(y1.astype(str)))\n",
    "print(p1)"
   ]
  },
  {
   "cell_type": "code",
   "execution_count": 135,
   "metadata": {},
   "outputs": [
    {
     "name": "stdout",
     "output_type": "stream",
     "text": [
      "1/1 [==============================] - 0s 138ms/step\n"
     ]
    },
    {
     "data": {
      "image/png": "[encoded data removed]",
      "text/plain": [
       "<Figure size 1600x100 with 1 Axes>"
      ]
     },
     "metadata": {},
     "output_type": "display_data"
    },
    {
     "name": "stdout",
     "output_type": "stream",
     "text": [
      "1/1 [==============================] - 0s 91ms/step\n"
     ]
    },
    {
     "data": {
      "image/png": "[encoded data removed]",
      "text/plain": [
       "<Figure size 400x400 with 1 Axes>"
      ]
     },
     "metadata": {},
     "output_type": "display_data"
    }
   ],
   "source": [
    "    plot_prediction(0)\n",
    "    plot_confusion_matrix(0)"
   ]
  },
  {
   "cell_type": "markdown",
   "metadata": {},
   "source": [
    "### DSSP"
   ]
  },
  {
   "cell_type": "code",
   "execution_count": 126,
   "metadata": {},
   "outputs": [
    {
     "ename": "AttributeError",
     "evalue": "'str' object has no attribute 'get_amino_acids_percent'",
     "output_type": "error",
     "traceback": [
      "\u001b[0;31m---------------------------------------------------------------------------\u001b[0m",
      "\u001b[0;31mAttributeError\u001b[0m                            Traceback (most recent call last)",
      "Cell \u001b[0;32mIn[126], line 4\u001b[0m\n\u001b[1;32m      1\u001b[0m \u001b[38;5;28;01mfrom\u001b[39;00m \u001b[38;5;21;01mBio\u001b[39;00m \u001b[38;5;28;01mimport\u001b[39;00m SeqIO\n\u001b[1;32m      2\u001b[0m \u001b[38;5;28;01mfrom\u001b[39;00m \u001b[38;5;21;01mBio\u001b[39;00m\u001b[38;5;21;01m.\u001b[39;00m\u001b[38;5;21;01mSeqUtils\u001b[39;00m\u001b[38;5;21;01m.\u001b[39;00m\u001b[38;5;21;01mProtParam\u001b[39;00m \u001b[38;5;28;01mimport\u001b[39;00m ProteinAnalysis\n\u001b[0;32m----> 4\u001b[0m \u001b[43mProteinAnalysis\u001b[49m\u001b[38;5;241;43m.\u001b[39;49m\u001b[43msecondary_structure_fraction\u001b[49m\u001b[43m(\u001b[49m\u001b[38;5;124;43m'\u001b[39;49m\u001b[38;5;124;43mACDEFGHIKLMNPQRSTVWY\u001b[39;49m\u001b[38;5;124;43m'\u001b[39;49m\u001b[43m)\u001b[49m\n",
      "File \u001b[0;32m~/anaconda3/envs/basenv/lib/python3.10/site-packages/Bio/SeqUtils/ProtParam.py:332\u001b[0m, in \u001b[0;36mProteinAnalysis.secondary_structure_fraction\u001b[0;34m(self)\u001b[0m\n\u001b[1;32m    316\u001b[0m \u001b[38;5;28;01mdef\u001b[39;00m \u001b[38;5;21msecondary_structure_fraction\u001b[39m(\u001b[38;5;28mself\u001b[39m):\n\u001b[1;32m    317\u001b[0m \u001b[38;5;250m    \u001b[39m\u001b[38;5;124;03m\"\"\"Calculate fraction of helix, turn and sheet.\u001b[39;00m\n\u001b[1;32m    318\u001b[0m \n\u001b[1;32m    319\u001b[0m \u001b[38;5;124;03m    Returns a list of the fraction of amino acids which tend\u001b[39;00m\n\u001b[0;32m   (...)\u001b[0m\n\u001b[1;32m    330\u001b[0m \u001b[38;5;124;03m    Returns a tuple of three floats (Helix, Turn, Sheet).\u001b[39;00m\n\u001b[1;32m    331\u001b[0m \u001b[38;5;124;03m    \"\"\"\u001b[39;00m\n\u001b[0;32m--> 332\u001b[0m     aa_percentages \u001b[38;5;241m=\u001b[39m \u001b[38;5;28;43mself\u001b[39;49m\u001b[38;5;241;43m.\u001b[39;49m\u001b[43mget_amino_acids_percent\u001b[49m()\n\u001b[1;32m    334\u001b[0m     helix \u001b[38;5;241m=\u001b[39m \u001b[38;5;28msum\u001b[39m(aa_percentages[r] \u001b[38;5;28;01mfor\u001b[39;00m r \u001b[38;5;129;01min\u001b[39;00m \u001b[38;5;124m\"\u001b[39m\u001b[38;5;124mEMALK\u001b[39m\u001b[38;5;124m\"\u001b[39m)\n\u001b[1;32m    335\u001b[0m     turn \u001b[38;5;241m=\u001b[39m \u001b[38;5;28msum\u001b[39m(aa_percentages[r] \u001b[38;5;28;01mfor\u001b[39;00m r \u001b[38;5;129;01min\u001b[39;00m \u001b[38;5;124m\"\u001b[39m\u001b[38;5;124mNPGSD\u001b[39m\u001b[38;5;124m\"\u001b[39m)\n",
      "\u001b[0;31mAttributeError\u001b[0m: 'str' object has no attribute 'get_amino_acids_percent'"
     ]
    }
   ],
   "source": [
    "# Assuming you have an amino acid sequence stored in the variable 'sequence'\n",
    "\n",
    "# Import the necessary libraries\n",
    "from Bio.SeqUtils.ProtParam import ProteinAnalysis\n",
    "import requests\n",
    "\n",
    "# Create a ProteinAnalysis object from the sequence\n",
    "protein = ProteinAnalysis(sequence)\n",
    "\n",
    "# Get the predicted secondary structure using a readily available predictor\n",
    "url = \"http://example.com/predictor\"  # Replace with the URL of the predictor\n",
    "payload = {\"sequence\": sequence}\n",
    "response = requests.post(url, data=payload)\n",
    "predicted_structure = response.json()[\"secondary_structure\"]\n",
    "\n",
    "# Print the predicted secondary structure\n",
    "print(predicted_structure)"
   ]
  },
  {
   "cell_type": "code",
   "execution_count": null,
   "metadata": {},
   "outputs": [],
   "source": []
  }
 ],
 "metadata": {
  "kernelspec": {
   "display_name": "basenv",
   "language": "python",
   "name": "python3"
  },
  "language_info": {
   "codemirror_mode": {
    "name": "ipython",
    "version": 3
   },
   "file_extension": ".py",
   "mimetype": "text/x-python",
   "name": "python",
   "nbconvert_exporter": "python",
   "pygments_lexer": "ipython3",
   "version": "3.10.13"
  }
 },
 "nbformat": 4,
 "nbformat_minor": 2
}
