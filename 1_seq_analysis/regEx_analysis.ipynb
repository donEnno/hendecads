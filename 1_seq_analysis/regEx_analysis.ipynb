{
 "cells": [
  {
   "cell_type": "code",
   "execution_count": 14,
   "metadata": {},
   "outputs": [],
   "source": [
    "import os\n",
    "\n",
    "import numpy as np\n",
    "import pandas as pd \n",
    "import matplotlib.pyplot as plt\n",
    "import seaborn as sns\n",
    "from Bio import SeqIO\n",
    "import regex as rx"
   ]
  },
  {
   "cell_type": "markdown",
   "metadata": {},
   "source": [
    "### Setup"
   ]
  },
  {
   "cell_type": "code",
   "execution_count": 15,
   "metadata": {},
   "outputs": [],
   "source": [
    "lothar = '/home/enno/uni/SS24/thesis/1_seq_analysis'"
   ]
  },
  {
   "cell_type": "code",
   "execution_count": 16,
   "metadata": {},
   "outputs": [],
   "source": [
    "if os.getcwd() != lothar:\n",
    "    input_file = '/ebio/abt1_share/prediction_hendecads/0_data/npf_data/final_dataset.fasta'  # \"/home/enno/uni/SS23/thesis/data/hendecads/sequences.fasta\"\n",
    "else:\n",
    "    input_file = '/home/enno/uni/SS24/thesis/data/hendecads/sequences.fasta'\n",
    "    clans_file = '/home/enno/uni/SS24/thesis/data/hendecads/new_hendecads_1E-14.clans'\n",
    "    df = pd.read_csv('/home/enno/uni/SS24/thesis/1_seq_analysis/regEx.csv', )\n",
    "    \n",
    "fasta_sequences = list(SeqIO.parse(open(input_file),'fasta'))\n",
    "n_seq = len(fasta_sequences)"
   ]
  },
  {
   "cell_type": "code",
   "execution_count": 4,
   "metadata": {},
   "outputs": [
    {
     "name": "stdout",
     "output_type": "stream",
     "text": [
      "Processing sequence 36455/36455\r"
     ]
    }
   ],
   "source": [
    "# Read .fasta file, extract stretches and store them in a df\n",
    "\n",
    "df = pd.DataFrame(columns=['id', 'seq', 'stretch_ix', 'stretch_seq'])\n",
    "\n",
    "pattern = r'\\[\\[.*?\\]\\]'\n",
    "\n",
    "for seq_ix, seq in enumerate(list(SeqIO.parse(open(input_file), 'fasta'))):\n",
    "\n",
    "    print(f\"Processing sequence {seq_ix+1}/{n_seq}\", end='\\r')\n",
    "    \n",
    "    s = str(seq.seq).lower()\n",
    "    d = str(seq.description)\n",
    "    \n",
    "    stretches = eval(rx.findall(pattern, d.split('|||')[-1])[0])\n",
    "\n",
    "    tmp_six = []\n",
    "    tmp_seq = []\n",
    "\n",
    "    for sx, stretch in enumerate(stretches):\n",
    "                \n",
    "        cc_ix = [x for x in range(stretch[0], stretch[1]+1)]\n",
    "        stretch_seq = s[min(cc_ix):max(cc_ix)]\n",
    "\n",
    "        tmp_six.append(cc_ix)\n",
    "        tmp_seq.append(stretch_seq)\n",
    "    \n",
    "    df.loc[len(df), ] = [seq.id, s, tmp_six, tmp_seq]"
   ]
  },
  {
   "cell_type": "code",
   "execution_count": 236,
   "metadata": {},
   "outputs": [
    {
     "data": {
      "text/html": [
       "<div>\n",
       "<style scoped>\n",
       "    .dataframe tbody tr th:only-of-type {\n",
       "        vertical-align: middle;\n",
       "    }\n",
       "\n",
       "    .dataframe tbody tr th {\n",
       "        vertical-align: top;\n",
       "    }\n",
       "\n",
       "    .dataframe thead th {\n",
       "        text-align: right;\n",
       "    }\n",
       "</style>\n",
       "<table border=\"1\" class=\"dataframe\">\n",
       "  <thead>\n",
       "    <tr style=\"text-align: right;\">\n",
       "      <th></th>\n",
       "      <th>id</th>\n",
       "      <th>seq</th>\n",
       "      <th>stretch_ix</th>\n",
       "      <th>stretch_seq</th>\n",
       "    </tr>\n",
       "  </thead>\n",
       "  <tbody>\n",
       "    <tr>\n",
       "      <th>0</th>\n",
       "      <td>MCD6041253.1</td>\n",
       "      <td>mrlvyvavaailcsfsttslagaektakragkfvektatragkfve...</td>\n",
       "      <td>[[1, 2, 3, 4, 5, 6, 7, 8, 9, 10, 11, 12, 13, 1...</td>\n",
       "      <td>[rlvyvavaailcsfsttslagaektakragkfvektatragkfve...</td>\n",
       "    </tr>\n",
       "    <tr>\n",
       "      <th>1</th>\n",
       "      <td>MCD7737945.1</td>\n",
       "      <td>mqgrvffreaaalilaaalsmaglpasaaansgieaaalrteeete...</td>\n",
       "      <td>[[41, 42, 43, 44, 45, 46, 47, 48, 49, 50, 51, ...</td>\n",
       "      <td>[eeetepstkeavqetavetdtgekpesgedgqeesaesteeeqee...</td>\n",
       "    </tr>\n",
       "    <tr>\n",
       "      <th>2</th>\n",
       "      <td>MYF28459.1</td>\n",
       "      <td>merlqtdllkeihalrgemhaefasvrqemhagfasirqemhaeta...</td>\n",
       "      <td>[[1, 2, 3, 4, 5, 6, 7, 8, 9, 10, 11, 12, 13, 1...</td>\n",
       "      <td>[erlqtdllkeihalrgemhaefasvrqemhagfasirqemhaeta...</td>\n",
       "    </tr>\n",
       "    <tr>\n",
       "      <th>3</th>\n",
       "      <td>WP_168920948.1</td>\n",
       "      <td>msdvfltasyadrekvktlgarwnpaekrwyvpsgrdlspfaawlp...</td>\n",
       "      <td>[[437, 438, 439, 440, 441, 442, 443, 444, 445,...</td>\n",
       "      <td>[aqslvveikhaasqqlllarhvvparmaevtaegrqalrtakaqs...</td>\n",
       "    </tr>\n",
       "    <tr>\n",
       "      <th>4</th>\n",
       "      <td>WP_026306873.1</td>\n",
       "      <td>mllrriarpllsaafiaegidilqnpgpladrlspaldftrrrsqh...</td>\n",
       "      <td>[[172, 173, 174, 175, 176, 177, 178, 179, 180,...</td>\n",
       "      <td>[slgwrgrraardakdhaealaataaaiaatarergtnlvdtarer...</td>\n",
       "    </tr>\n",
       "  </tbody>\n",
       "</table>\n",
       "</div>"
      ],
      "text/plain": [
       "               id                                                seq  \\\n",
       "0    MCD6041253.1  mrlvyvavaailcsfsttslagaektakragkfvektatragkfve...   \n",
       "1    MCD7737945.1  mqgrvffreaaalilaaalsmaglpasaaansgieaaalrteeete...   \n",
       "2      MYF28459.1  merlqtdllkeihalrgemhaefasvrqemhagfasirqemhaeta...   \n",
       "3  WP_168920948.1  msdvfltasyadrekvktlgarwnpaekrwyvpsgrdlspfaawlp...   \n",
       "4  WP_026306873.1  mllrriarpllsaafiaegidilqnpgpladrlspaldftrrrsqh...   \n",
       "\n",
       "                                          stretch_ix  \\\n",
       "0  [[1, 2, 3, 4, 5, 6, 7, 8, 9, 10, 11, 12, 13, 1...   \n",
       "1  [[41, 42, 43, 44, 45, 46, 47, 48, 49, 50, 51, ...   \n",
       "2  [[1, 2, 3, 4, 5, 6, 7, 8, 9, 10, 11, 12, 13, 1...   \n",
       "3  [[437, 438, 439, 440, 441, 442, 443, 444, 445,...   \n",
       "4  [[172, 173, 174, 175, 176, 177, 178, 179, 180,...   \n",
       "\n",
       "                                         stretch_seq  \n",
       "0  [rlvyvavaailcsfsttslagaektakragkfvektatragkfve...  \n",
       "1  [eeetepstkeavqetavetdtgekpesgedgqeesaesteeeqee...  \n",
       "2  [erlqtdllkeihalrgemhaefasvrqemhagfasirqemhaeta...  \n",
       "3  [aqslvveikhaasqqlllarhvvparmaevtaegrqalrtakaqs...  \n",
       "4  [slgwrgrraardakdhaealaataaaiaatarergtnlvdtarer...  "
      ]
     },
     "execution_count": 236,
     "metadata": {},
     "output_type": "execute_result"
    }
   ],
   "source": [
    "df.head()"
   ]
  },
  {
   "cell_type": "code",
   "execution_count": 5,
   "metadata": {},
   "outputs": [],
   "source": [
    "def parse_numbers(filename):\n",
    "    # extracts the cluster assignments from the .clans file\n",
    "\n",
    "    clusters = []\n",
    "    with open(filename, 'r') as file:\n",
    "       \n",
    "        for line in file:\n",
    "            \n",
    "            if rx.match('numbers=', line):\n",
    "                \n",
    "                _, num_str = line.split('=')\n",
    "                numbers = [int(num.strip()) for num in num_str.split(';')[:-1]]\n",
    "\n",
    "                clusters.append(numbers)\n",
    "    \n",
    "    return clusters"
   ]
  },
  {
   "cell_type": "code",
   "execution_count": 6,
   "metadata": {},
   "outputs": [],
   "source": [
    "numbers = parse_numbers(clans_file)"
   ]
  },
  {
   "cell_type": "code",
   "execution_count": 7,
   "metadata": {},
   "outputs": [],
   "source": [
    "# assign clusters to sequences\n",
    "\n",
    "for ix, cluster in enumerate(numbers):\n",
    "        df.loc[cluster, 'c'] = ix\n",
    "\n",
    "df.loc[df['c'].isna(), 'c'] = -1"
   ]
  },
  {
   "cell_type": "markdown",
   "metadata": {},
   "source": [
    "### RegEx"
   ]
  },
  {
   "cell_type": "code",
   "execution_count": 8,
   "metadata": {},
   "outputs": [],
   "source": [
    "def find_match(seq, pattern, i, mm):\n",
    "    # suffix for fuzzy regex\n",
    "    mm_suffix = r'{e<=' + str(mm) + '}'\n",
    "    pattern = r'(' + pattern * i + r')' + mm_suffix\n",
    "\n",
    "    N = 11 * i  # length of pattern\n",
    "    i = 0       # running index\n",
    "\n",
    "    hits = []\n",
    "    hits_ix = []\n",
    "\n",
    "    while len(seq) >= N:  # while remaining sequence is longer than pattern\n",
    "\n",
    "        match = rx.search(pattern, seq[:N])\n",
    "\n",
    "        if match and len(match.group(0)) == N:  # if match is found and fuzzyness is substitution only, not indel\n",
    "            hits.append(match.group(0))\n",
    "            hits_ix.append([i, i+N])\n",
    "\n",
    "        seq = seq[1:]\n",
    "        i += 1\n",
    "\n",
    "    return hits, hits_ix"
   ]
  },
  {
   "cell_type": "code",
   "execution_count": 43,
   "metadata": {},
   "outputs": [
    {
     "data": {
      "text/plain": [
       "'rlvyvavaailcsfsttslagaektakragkfvektatragkfvertatkagkfvertadkaakgakkll'"
      ]
     },
     "execution_count": 43,
     "metadata": {},
     "output_type": "execute_result"
    }
   ],
   "source": [
    "              # a--d---h---a--d---h---\n",
    "# query_string = 'av1av11av11av2av22av22'\n",
    "query_string = df.loc[0, 'stretch_seq'][0]\n",
    "query_string"
   ]
  },
  {
   "cell_type": "code",
   "execution_count": 45,
   "metadata": {},
   "outputs": [
    {
     "data": {
      "text/plain": [
       "(['lvyvavaailc',\n",
       "  'vyvavaailcs',\n",
       "  'lagaektakra',\n",
       "  'akragkfvekt',\n",
       "  'atragkfvert',\n",
       "  'atkagkfvert',\n",
       "  'adkaakgakkl'],\n",
       " [[1, 12], [2, 13], [18, 29], [25, 36], [36, 47], [47, 58], [58, 69]])"
      ]
     },
     "execution_count": 45,
     "metadata": {},
     "output_type": "execute_result"
    }
   ],
   "source": [
    "find_match(query_string, pattern, 1, 0)"
   ]
  },
  {
   "cell_type": "code",
   "execution_count": 22,
   "metadata": {},
   "outputs": [
    {
     "name": "stdout",
     "output_type": "stream",
     "text": [
      "1\n",
      "3\n",
      "5\n",
      "10\n"
     ]
    }
   ],
   "source": [
    "pattern = r'[avilm]..[avilm]...[avilm]...'\n",
    "\n",
    "def process_row(row, lx, mmx):\n",
    "    tmp_stretch = [find_match(stretch, pattern, lx, mmx) for stretch in row['stretch_seq']]\n",
    "    return tmp_stretch\n",
    "\n",
    "for lx in [1, 3, 5, 10]:\n",
    "    print(lx)\n",
    "    for mmx in range(0, 3):\n",
    "        df[f'{lx}R_{mmx}MM'] = df.apply(lambda x: process_row(x, lx, mmx), axis=1)\n",
    "\n",
    "df.to_csv('/home/enno/uni/SS24/thesis/1_seq_analysis/regEx.csv', index=False)"
   ]
  },
  {
   "cell_type": "code",
   "execution_count": 17,
   "metadata": {},
   "outputs": [],
   "source": [
    "col0 = ['1R_0MM', '3R_0MM', '5R_0MM', '10R_0MM']\n",
    "col1 = ['1R_1MM', '3R_1MM', '5R_1MM', '10R_1MM']\n",
    "col2 = ['1R_2MM', '3R_2MM', '5R_2MM', '10R_2MM']"
   ]
  },
  {
   "cell_type": "code",
   "execution_count": 48,
   "metadata": {},
   "outputs": [
    {
     "data": {
      "text/plain": [
       "[['mmqqeqnmspq',\n",
       "  'eqnmspqmspq',\n",
       "  'mspqeqmmsqq',\n",
       "  'eqmmsqqmmsp',\n",
       "  'mmspqeqmmqm',\n",
       "  'mspqeqmmqmm',\n",
       "  'qeqmmqmmspq',\n",
       "  'mmqmmspqeqm',\n",
       "  'mqmmspqeqmm',\n",
       "  'mmspqeqmmsq',\n",
       "  'mspqeqmmsqq',\n",
       "  'eqmmsqqmmlp',\n",
       "  'mmsqqmmlpqq',\n",
       "  'mmlpqqqvasq',\n",
       "  'mlpqqqvasql',\n",
       "  'qqqvasqlisp',\n",
       "  'qqvasqlispq',\n",
       "  'asqlispqmis',\n",
       "  'sqlispqmisd',\n",
       "  'pqmisdpmmmp',\n",
       "  'misdpmmmpqq',\n",
       "  'liptptamiik',\n",
       "  'iptptamiikq',\n",
       "  'tamiikqasms',\n",
       "  'amiikqasmsp',\n",
       "  'miikqasmspr',\n",
       "  'ikqasmsprpa',\n",
       "  'asmsprparhm',\n",
       "  'prparhmlpsp'],\n",
       " ['ltphltkalnn',\n",
       "  'tphltkalnnp',\n",
       "  'ltkalnnpalk',\n",
       "  'tkalnnpalkg',\n",
       "  'nnpalkgasyt',\n",
       "  'lkgasytlpdg',\n",
       "  'lpdgtiivdpr',\n",
       "  'spnlmaalqnp',\n",
       "  'lmaalqnpylk',\n",
       "  'maalqnpylkg',\n",
       "  'aalqnpylkgl',\n",
       "  'lkglsytlpdg',\n",
       "  'lpdgtiiidpr',\n",
       "  'iidprkpvapd',\n",
       "  'idprkpvapdl',\n",
       "  'rkpvapdlska',\n",
       "  'vapdlskalln',\n",
       "  'apdlskallne',\n",
       "  'lskallnenlr',\n",
       "  'kallnenlrna',\n",
       "  'lnenlrnasyq',\n",
       "  'lrnasyqlrdg',\n",
       "  'lrdgslvipgq']]"
      ]
     },
     "execution_count": 48,
     "metadata": {},
     "output_type": "execute_result"
    }
   ],
   "source": [
    "[x[0] for x in eval(df['1R_1MM'][74\n",
    "                                 ])]"
   ]
  },
  {
   "cell_type": "code",
   "execution_count": 19,
   "metadata": {},
   "outputs": [
    {
     "data": {
      "text/html": [
       "<div>\n",
       "<style scoped>\n",
       "    .dataframe tbody tr th:only-of-type {\n",
       "        vertical-align: middle;\n",
       "    }\n",
       "\n",
       "    .dataframe tbody tr th {\n",
       "        vertical-align: top;\n",
       "    }\n",
       "\n",
       "    .dataframe thead th {\n",
       "        text-align: right;\n",
       "    }\n",
       "</style>\n",
       "<table border=\"1\" class=\"dataframe\">\n",
       "  <thead>\n",
       "    <tr style=\"text-align: right;\">\n",
       "      <th></th>\n",
       "      <th>1R_2MM</th>\n",
       "      <th>3R_2MM</th>\n",
       "      <th>5R_2MM</th>\n",
       "      <th>10R_2MM</th>\n",
       "    </tr>\n",
       "  </thead>\n",
       "  <tbody>\n",
       "    <tr>\n",
       "      <th>0</th>\n",
       "      <td>[(['rlvyvavaail', 'lvyvavaailc', 'vyvavaailcs'...</td>\n",
       "      <td>[(['aailcsfsttslagaektakragkfvektatra', 'sttsl...</td>\n",
       "      <td>[(['sttslagaektakragkfvektatragkfvertatkagkfve...</td>\n",
       "      <td>[([], [])]</td>\n",
       "    </tr>\n",
       "    <tr>\n",
       "      <th>1</th>\n",
       "      <td>[(['tepstkeavqe', 'epstkeavqet', 'tkeavqetave'...</td>\n",
       "      <td>[([], [])]</td>\n",
       "      <td>[([], [])]</td>\n",
       "      <td>[([], [])]</td>\n",
       "    </tr>\n",
       "    <tr>\n",
       "      <th>2</th>\n",
       "      <td>[(['erlqtdllkei', 'lqtdllkeiha', 'qtdllkeihal'...</td>\n",
       "      <td>[(['ihalrgemhaefasvrqemhagfasirqemhae', 'mhagf...</td>\n",
       "      <td>[([], [])]</td>\n",
       "      <td>[([], [])]</td>\n",
       "    </tr>\n",
       "    <tr>\n",
       "      <th>3</th>\n",
       "      <td>[(['aqslvveikha', 'qslvveikhaa', 'slvveikhaas'...</td>\n",
       "      <td>[(['aqslvveikhaasqqlllarhvvparmaevtae', 'lvvei...</td>\n",
       "      <td>[(['vveikhaasqqlllarhvvparmaevtaegrqalrtakaqsq...</td>\n",
       "      <td>[([], [])]</td>\n",
       "    </tr>\n",
       "    <tr>\n",
       "      <th>4</th>\n",
       "      <td>[(['lgwrgrraard', 'gwrgrraarda', 'grraardakdh'...</td>\n",
       "      <td>[(['lgwrgrraardakdhaealaataaaiaatarer', 'grraa...</td>\n",
       "      <td>[([], [])]</td>\n",
       "      <td>[([], [])]</td>\n",
       "    </tr>\n",
       "    <tr>\n",
       "      <th>...</th>\n",
       "      <td>...</td>\n",
       "      <td>...</td>\n",
       "      <td>...</td>\n",
       "      <td>...</td>\n",
       "    </tr>\n",
       "    <tr>\n",
       "      <th>36450</th>\n",
       "      <td>[(['akksgesfasl', 'kksgesfasla', 'sgesfaslask'...</td>\n",
       "      <td>[([], [])]</td>\n",
       "      <td>[([], [])]</td>\n",
       "      <td>[([], [])]</td>\n",
       "    </tr>\n",
       "    <tr>\n",
       "      <th>36451</th>\n",
       "      <td>[(['qrsiseeyeki', 'iseeyekirdy', 'yekirdyfkdl'...</td>\n",
       "      <td>[([], [])]</td>\n",
       "      <td>[([], [])]</td>\n",
       "      <td>[([], [])]</td>\n",
       "    </tr>\n",
       "    <tr>\n",
       "      <th>36452</th>\n",
       "      <td>[(['tltkqgevvdq', 'ltkqgevvdqk', 'qgevvdqkiqe'...</td>\n",
       "      <td>[([], [])]</td>\n",
       "      <td>[([], [])]</td>\n",
       "      <td>[([], [])]</td>\n",
       "    </tr>\n",
       "    <tr>\n",
       "      <th>36453</th>\n",
       "      <td>[(['isaltndknrm', 'altndknrmvr', 'ltndknrmvrk'...</td>\n",
       "      <td>[(['nrmvrknavdslgffpwdakaivpllvallsdk', 'lgffp...</td>\n",
       "      <td>[(['lgffpwdakaivpllvallsdkdsdlaataigslgrigngas...</td>\n",
       "      <td>[([], [])]</td>\n",
       "    </tr>\n",
       "    <tr>\n",
       "      <th>36454</th>\n",
       "      <td>[(['llsrerellqr', 'lsrerellqri', 'erellqriddq'...</td>\n",
       "      <td>[(['erellqriddqrievetkaateartmvdeanka', 'lqrid...</td>\n",
       "      <td>[(['etkaateartmvdeankaaqktrltaqkeaeeavanaraqae...</td>\n",
       "      <td>[([], [])]</td>\n",
       "    </tr>\n",
       "  </tbody>\n",
       "</table>\n",
       "<p>36455 rows × 4 columns</p>\n",
       "</div>"
      ],
      "text/plain": [
       "                                                  1R_2MM  \\\n",
       "0      [(['rlvyvavaail', 'lvyvavaailc', 'vyvavaailcs'...   \n",
       "1      [(['tepstkeavqe', 'epstkeavqet', 'tkeavqetave'...   \n",
       "2      [(['erlqtdllkei', 'lqtdllkeiha', 'qtdllkeihal'...   \n",
       "3      [(['aqslvveikha', 'qslvveikhaa', 'slvveikhaas'...   \n",
       "4      [(['lgwrgrraard', 'gwrgrraarda', 'grraardakdh'...   \n",
       "...                                                  ...   \n",
       "36450  [(['akksgesfasl', 'kksgesfasla', 'sgesfaslask'...   \n",
       "36451  [(['qrsiseeyeki', 'iseeyekirdy', 'yekirdyfkdl'...   \n",
       "36452  [(['tltkqgevvdq', 'ltkqgevvdqk', 'qgevvdqkiqe'...   \n",
       "36453  [(['isaltndknrm', 'altndknrmvr', 'ltndknrmvrk'...   \n",
       "36454  [(['llsrerellqr', 'lsrerellqri', 'erellqriddq'...   \n",
       "\n",
       "                                                  3R_2MM  \\\n",
       "0      [(['aailcsfsttslagaektakragkfvektatra', 'sttsl...   \n",
       "1                                             [([], [])]   \n",
       "2      [(['ihalrgemhaefasvrqemhagfasirqemhae', 'mhagf...   \n",
       "3      [(['aqslvveikhaasqqlllarhvvparmaevtae', 'lvvei...   \n",
       "4      [(['lgwrgrraardakdhaealaataaaiaatarer', 'grraa...   \n",
       "...                                                  ...   \n",
       "36450                                         [([], [])]   \n",
       "36451                                         [([], [])]   \n",
       "36452                                         [([], [])]   \n",
       "36453  [(['nrmvrknavdslgffpwdakaivpllvallsdk', 'lgffp...   \n",
       "36454  [(['erellqriddqrievetkaateartmvdeanka', 'lqrid...   \n",
       "\n",
       "                                                  5R_2MM     10R_2MM  \n",
       "0      [(['sttslagaektakragkfvektatragkfvertatkagkfve...  [([], [])]  \n",
       "1                                             [([], [])]  [([], [])]  \n",
       "2                                             [([], [])]  [([], [])]  \n",
       "3      [(['vveikhaasqqlllarhvvparmaevtaegrqalrtakaqsq...  [([], [])]  \n",
       "4                                             [([], [])]  [([], [])]  \n",
       "...                                                  ...         ...  \n",
       "36450                                         [([], [])]  [([], [])]  \n",
       "36451                                         [([], [])]  [([], [])]  \n",
       "36452                                         [([], [])]  [([], [])]  \n",
       "36453  [(['lgffpwdakaivpllvallsdkdsdlaataigslgrigngas...  [([], [])]  \n",
       "36454  [(['etkaateartmvdeankaaqktrltaqkeaeeavanaraqae...  [([], [])]  \n",
       "\n",
       "[36455 rows x 4 columns]"
      ]
     },
     "execution_count": 19,
     "metadata": {},
     "output_type": "execute_result"
    }
   ],
   "source": [
    "df[col2]"
   ]
  },
  {
   "cell_type": "code",
   "execution_count": 22,
   "metadata": {},
   "outputs": [
    {
     "data": {
      "text/plain": [
       "str"
      ]
     },
     "execution_count": 22,
     "metadata": {},
     "output_type": "execute_result"
    }
   ],
   "source": [
    "type(df['1R_2MM'][0])"
   ]
  }
 ],
 "metadata": {
  "kernelspec": {
   "display_name": "seq_analysis",
   "language": "python",
   "name": "python3"
  },
  "language_info": {
   "codemirror_mode": {
    "name": "ipython",
    "version": 3
   },
   "file_extension": ".py",
   "mimetype": "text/x-python",
   "name": "python",
   "nbconvert_exporter": "python",
   "pygments_lexer": "ipython3",
   "version": "3.8.19"
  }
 },
 "nbformat": 4,
 "nbformat_minor": 2
}
